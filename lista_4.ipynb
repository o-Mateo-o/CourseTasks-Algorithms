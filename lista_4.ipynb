{
 "cells": [
  {
   "cell_type": "markdown",
   "metadata": {},
   "source": [
    "**Lista 4** - Algorytmy i Struktury Danych 2021, PWr - W13\n",
    "\n",
    "*Autor:* Mateusz Machaj, 262288\n",
    "\n",
    "*Data:* 02.12.2021 r."
   ]
  },
  {
   "cell_type": "code",
   "execution_count": 1,
   "metadata": {},
   "outputs": [],
   "source": [
    "import time\n",
    "import matplotlib.pyplot as plt\n",
    "import random\n",
    "import math\n",
    "from typing import Any\n",
    "from typing import Union\n",
    "from __future__ import annotations\n"
   ]
  },
  {
   "cell_type": "markdown",
   "metadata": {},
   "source": [
    "# Zadanie 1"
   ]
  },
  {
   "cell_type": "markdown",
   "metadata": {},
   "source": [
    "Zaimplementowane zostały w sposób przedstawiony na wykładzie i ulepszony w obsługę błędów dwie kolejki. Są one takie, że:"
   ]
  },
  {
   "cell_type": "markdown",
   "metadata": {},
   "source": [
    "### a) koniec kolejki znajduje się na końcu listy"
   ]
  },
  {
   "cell_type": "code",
   "execution_count": 2,
   "metadata": {},
   "outputs": [],
   "source": [
    "class QueueEnd:\n",
    "    \"\"\"Queue implemented basing on the python list.\n",
    "    The end of the queue is on the end of the list.\n",
    "    \"\"\"\n",
    "\n",
    "    def __init__(self):\n",
    "        \"\"\"Create a queue.\n",
    "        \"\"\"\n",
    "        self.items = []\n",
    "\n",
    "    def isEmpty(self) -> bool:\n",
    "        \"\"\"Check if the queue contains any elements.\n",
    "\n",
    "        Returns:\n",
    "            bool: Information about emptiness.\n",
    "        \"\"\"\n",
    "        return self.items == []\n",
    "\n",
    "    def enqueue(self, item: Any):\n",
    "        \"\"\"Add an item on the end of the queue.\n",
    "\n",
    "        Args:\n",
    "            item (Any): Te item to be added.\n",
    "        \"\"\"\n",
    "        self.items.append(item)\n",
    "\n",
    "    def dequeue(self) -> Any:\n",
    "        \"\"\"Remove the first item from the queue.\n",
    "\n",
    "        Raises:\n",
    "            IndexError: Items cannot be removed from the empty queue.\n",
    "\n",
    "        Returns:\n",
    "            Any: The removed first item.\n",
    "        \"\"\"\n",
    "        if self.isEmpty():\n",
    "            raise IndexError(\"Queue is already empty.\")\n",
    "        return self.items.pop(0)\n",
    "\n",
    "    def size(self) -> int:\n",
    "        \"\"\"Measure the length of the queue.\n",
    "\n",
    "        Returns:\n",
    "            int: Length of the queue.\n",
    "        \"\"\"\n",
    "        return len(self.items)\n"
   ]
  },
  {
   "cell_type": "markdown",
   "metadata": {},
   "source": [
    "### b) koniec kolejki znajduje się na początku listy"
   ]
  },
  {
   "cell_type": "code",
   "execution_count": 46,
   "metadata": {},
   "outputs": [],
   "source": [
    "class QueueStart:\n",
    "    \"\"\"Queue implemented basing on the python list.\n",
    "    The end of the queue is on the begining of the list.\n",
    "    \"\"\"\n",
    "\n",
    "    def __init__(self):\n",
    "        \"\"\"Create a queue.\n",
    "        \"\"\"\n",
    "        self.items = []\n",
    "\n",
    "    def isEmpty(self) -> bool:\n",
    "        \"\"\"Check if the queue contains any elements.\n",
    "\n",
    "        Returns:\n",
    "            bool: Information about emptiness.\n",
    "        \"\"\"\n",
    "        return self.items == []\n",
    "\n",
    "    def enqueue(self, item: Any):\n",
    "        \"\"\"Add an item on the end of the queue.\n",
    "\n",
    "        Args:\n",
    "            item (Any): Te item to be added.\n",
    "        \"\"\"\n",
    "        self.items.insert(0, item)\n",
    "\n",
    "    def dequeue(self) -> Any:\n",
    "        \"\"\"Remove the first item from the queue.\n",
    "\n",
    "        Raises:\n",
    "            IndexError: Items cannot be removed from the empty queue.\n",
    "\n",
    "        Returns:\n",
    "            Any: The removed first item.\n",
    "        \"\"\"\n",
    "        if self.isEmpty():\n",
    "            raise IndexError(\"Queue is already empty.\")\n",
    "        return self.items.pop()\n",
    "\n",
    "    def size(self) -> int:\n",
    "        \"\"\"Measure the length of the queue.\n",
    "\n",
    "        Returns:\n",
    "            int: Length of the queue.\n",
    "        \"\"\"\n",
    "        return len(self.items)\n"
   ]
  },
  {
   "cell_type": "markdown",
   "metadata": {},
   "source": [
    "# Zadanie 2"
   ]
  },
  {
   "cell_type": "markdown",
   "metadata": {},
   "source": [
    "Obie implementacje różnią się jedynie dwoma metodami: `enqueue` oraz `dequeue`.\n",
    "\n",
    "Porównam działanie tych dwóch metod przez pomiar czasu dla wieloktrotnych powtórzeń."
   ]
  },
  {
   "cell_type": "markdown",
   "metadata": {},
   "source": [
    "* Zaczynam od konstrukcji funkcji mierzących czas $n$-krotnego powtórzenia dla zadanych metod:"
   ]
  },
  {
   "cell_type": "code",
   "execution_count": 47,
   "metadata": {},
   "outputs": [],
   "source": [
    "def time_check_enq(obj: Union[QueueStart, QueueEnd], repet: int) -> float:\n",
    "    \"\"\"Measure the time of `n` `enqueue` method calls.\n",
    "\n",
    "    Args:\n",
    "        obj (Union[QueueStart, QueueEnd]): Queue class.\n",
    "        repet (int): Times to repeat.\n",
    "\n",
    "    Returns:\n",
    "        float: Time of the operation.\n",
    "    \"\"\"\n",
    "    time_a = time.time()\n",
    "    for i in range(0, repet):\n",
    "        obj.enqueue(i)\n",
    "    time_b = time.time()\n",
    "    time_diff = time_b - time_a\n",
    "    return time_diff\n",
    "\n",
    "\n",
    "def time_check_deq(obj: Union[QueueStart, QueueEnd], repet: int) -> float:\n",
    "    \"\"\"Measure the time of `n` `dequeue` method calls.\n",
    "\n",
    "    Args:\n",
    "        obj (Union[QueueStart, QueueEnd]): Queue class.\n",
    "        repet (int): Times to repeat.\n",
    "\n",
    "    Returns:\n",
    "        float: Time of the operation.\n",
    "    \"\"\"\n",
    "    time_a = time.time()\n",
    "    for _ in range(0, repet):\n",
    "        obj.dequeue()\n",
    "    time_b = time.time()\n",
    "    time_diff = time_b - time_a\n",
    "    return time_diff\n"
   ]
  },
  {
   "cell_type": "markdown",
   "metadata": {},
   "source": [
    "* Tworzę następnie instancje obu klas i wybieram racjonalne ilości powtórzeń w iteratorze `range`.\n",
    "* Listy `enq_a`, `deq_a`, `enq_b`, `deq_b` mierzą czasy dla odpowiednich metod i klas oraz zapisują te czasy dla różnych ilości powtórzeń.\n",
    "* Dla każdej ilości powtórzeń wykonuję w pętli pomiary czasu za pomocą skonstruowanych funkcji.\n",
    "* Wizualizuję zebrane dane."
   ]
  },
  {
   "cell_type": "code",
   "execution_count": 48,
   "metadata": {},
   "outputs": [
    {
     "data": {
      "image/png": "[encoded data removed]",
      "text/plain": [
       "<Figure size 432x288 with 1 Axes>"
      ]
     },
     "metadata": {
      "needs_background": "light"
     },
     "output_type": "display_data"
    },
    {
     "data": {
      "image/png": "[encoded data removed]",
      "text/plain": [
       "<Figure size 432x288 with 1 Axes>"
      ]
     },
     "metadata": {
      "needs_background": "light"
     },
     "output_type": "display_data"
    }
   ],
   "source": [
    "a = QueueEnd()\n",
    "b = QueueStart()\n",
    "rng = range(1000, 20000, 2000)\n",
    "\n",
    "enq_a = []\n",
    "deq_a = []\n",
    "enq_b = []\n",
    "deq_b = []\n",
    "\n",
    "for N in rng:\n",
    "    enq_a.append(time_check_enq(a, N))\n",
    "    enq_b.append(time_check_enq(b, N))\n",
    "    deq_a.append(time_check_enq(a, N))\n",
    "    deq_b.append(time_check_enq(b, N))\n",
    "\n",
    "plt.plot(rng, enq_a, 'o')\n",
    "plt.plot(rng, enq_b, 'o')\n",
    "plt.xlabel(\"Operations\")\n",
    "plt.ylabel(\"Time\")\n",
    "plt.title(\"Enqueue method\")\n",
    "plt.gca().legend(('\"End\" Queue', '\"Start\" Queue'))\n",
    "plt.show()\n",
    "\n",
    "plt.plot(rng, enq_a, 'o')\n",
    "plt.plot(rng, enq_b, 'o')\n",
    "plt.xlabel(\"Operations\")\n",
    "plt.ylabel(\"Time\")\n",
    "plt.title(\"Dequeue method\")\n",
    "plt.gca().legend(('\"End\" Queue', '\"Start\" Queue'))\n",
    "plt.show()\n"
   ]
  },
  {
   "cell_type": "markdown",
   "metadata": {},
   "source": [
    "Wyraźnie widać, że dla obu metod kolejka `QueueStart` osiąga znacznie gorsze wyniki.\n",
    "Zatem w przypadku wyboru z takich dwóch implemetacji **korzystać jest lepiej z kolejki o końcu na końcu listy**."
   ]
  },
  {
   "cell_type": "markdown",
   "metadata": {},
   "source": [
    "# Zadanie 3"
   ]
  },
  {
   "cell_type": "markdown",
   "metadata": {},
   "source": [
    "### Opis problemu i hipoteza:"
   ]
  },
  {
   "cell_type": "markdown",
   "metadata": {},
   "source": [
    "Zasymuluję sytuację z supermarketu gdzie mamy $k$ kas i każdej godziny przychodzi średnio $n$ klientów. Wiemy też, że czas obsługi będzie mieścił się w przedziale $I = [a,b]$. Założymy, iż ilość kupowanych przez nich produktów (czas obsługi) jest rozdystrybuowany według rozkladu normalnego.\n",
    "\n",
    "Chcemy dowiedzieć się, **czy lepiej, aby klienci podchodzili do kas w osobnych kolejkach, czy może szybciej zostaną obsłużeni, jeśli będzie tylko jedna kolejka**.\n",
    "\n",
    "(Jeżeli okaże się, że klienci zbyt bardzo/zbyt mało się gromadzą z powodu małej wydajności, po godzinie liczba aktywnych kas się zmieni, rozpatrujemy jednak przypadek jednaj godziny, co jest generalnie sensowne dla postawionego problemu.)"
   ]
  },
  {
   "cell_type": "markdown",
   "metadata": {},
   "source": [
    "### Przyjmowane wartości:"
   ]
  },
  {
   "cell_type": "markdown",
   "metadata": {},
   "source": [
    "* Liczba kas: $k=6$.\n",
    "\n",
    "* Liczba klientów na godzinę: $n=40$.\n",
    "\n",
    "* Czas obsługi: _od 1 do 10 minut_ $I=[a, b]=[60, 600]$ (czas liczymy w sekundach)."
   ]
  },
  {
   "cell_type": "markdown",
   "metadata": {},
   "source": [
    "### Opis modelu i szkic rozwiązania:"
   ]
  },
  {
   "cell_type": "markdown",
   "metadata": {},
   "source": [
    "<u>_Wariant **A**:_</u>\n",
    "* Każdy przychodzący klient trafia wspólnej do kolejki.\n",
    "* Gdy jakaś kasa się zwalnia, zostaje do niej przydzielony pierwszy czekający klient.\n",
    "\n",
    "<u>_Wariant **B**:_</u>\n",
    "* Każdy przychodzący klient wybiera kolejke do tej kasy, która jest najbardziej atrakcyjna.\n",
    "* Decyzja odbywa się na zasadzie wyboru kasy o największym **współczynniku atrakcyjności** $\\zeta$:\n",
    "\n",
    "$$\\zeta = \\frac{1}{1+\\sum_{i=1}^m{q_i}},$$\n",
    "\n",
    "dla $m$ będącym liczbą klientów w kolejce przy danej kasie, gdzie $q_i$ to ogólny wskaźnik ilości zakupów dla $i$-tego klienta i jest on przydzielany dla uproszczenia kategoriami - $q_i \\in \\{1, 2, 3, 4\\}$ (jeżeli klient istnieje). Ten przydział odbywa się na zasadzie porówniania do całkowitego przedziału czasu $I = [a,b]$, tak że mając czas obsługi $i$-tego klienta $\\tau$ (oceniony z góry na podstawie jego ilości zakupów), bierzemy \n",
    "\n",
    "$$q_i = \\lceil\\frac{4(\\tau-a)}{b-a}\\rceil.$$\n",
    "\n",
    "Oczywiście musimy mieć $\\tau \\in I$, ale to już narzucone.\n",
    "\n",
    "Dlatego $\\zeta = 1$ dla braku klientów i maleje im więcej ich jest oraz im więcej mają zakupów, ale oczywiście $\\zeta>0$.\n",
    "\n",
    "<u>_Ogólne działania wspólne w obu wariantach:_</u>\n",
    "* Każdemu klientowi w momencie inicjalizacji zostaje przydzielony czas według rozkładu normalnego (ogon obcinamy dla uproszczenia, ale nie jest istotny). Parametry rozkładu normalnego dla czasu obsługi to zatem: $\\mu=\\frac{a+b}{2},\\, \\sigma=\\frac{b-\\mu}{3}$ (aby wpasować najbardziej prawdopodobne wartości do przedziału $I$).\n",
    "* Symulujemy upływające sekundy zwiększając wartość licznika czasu po każdym prześciu pętli zdarzeń.\n",
    "* W każdej sekundzie losujemy liczbę $r,\\, r\\in \\{1, 2, \\ldots, p\\}$ z rozkładu normalnego, tak że $p = \\frac{3600}{n}$ i inicjalizujemy klienta wtedy gdy $r=p$. Łatwo zauważyć, że wtedy mamy zachowaną liczbę średnio $n$ klientów na godzinę ale dodajemy pewnej losowości.\n",
    "* Jeśli klient zostanie obsłużony, usuwamy go z układu i obsługiwany jest kolejny w kolejce.\n",
    "* Sprawdzam dla obu wariantów, ile każdy wychodzący klient musiał czekać aż do obsłużenia i porównuję sumy tych czasów."
   ]
  },
  {
   "cell_type": "markdown",
   "metadata": {},
   "source": [
    "### Implementacja:"
   ]
  },
  {
   "cell_type": "markdown",
   "metadata": {},
   "source": [
    "Na początku piszę funkcje pomocnicze związane z losowością, działające tak jak opisano powyżej."
   ]
  },
  {
   "cell_type": "code",
   "execution_count": 49,
   "metadata": {},
   "outputs": [],
   "source": [
    "def new_customer_emerg(customers_per_h: float) -> bool:\n",
    "    \"\"\"Evaluate if new customer should emerge.\n",
    "    Use a method uniform random choice from a set of natural numbers.\n",
    "\n",
    "    Args:\n",
    "        customers_per_h (float): People that come per hour (by average).\n",
    "\n",
    "    Returns:\n",
    "        bool: Information if new client appears.\n",
    "    \"\"\"\n",
    "    p = 3600 // customers_per_h\n",
    "    draw = random.randint(1, p)\n",
    "    if draw == p:\n",
    "        return True\n",
    "    return False\n",
    "\n",
    "\n",
    "def rand_serv_time(min_serv_time: float, max_serv_time: float) -> float:\n",
    "    \"\"\"Give the random time reqired for service.\n",
    "    Use a normal distribution fitted for the given conditions.\n",
    "    -3sigma to 3 sigma is only respected.\n",
    "\n",
    "    Args:\n",
    "        min_serv_time (float): Minimal time to wait in checkout.\n",
    "        max_serv_time (float): Maximal time to wait in checkout.\n",
    "\n",
    "    Returns:\n",
    "        float: Expected time reqired for service.\n",
    "    \"\"\"\n",
    "    mu = (min_serv_time + max_serv_time) / 2\n",
    "    sigma = (max_serv_time - mu) / 3\n",
    "    draw = random.normalvariate(mu, sigma)\n",
    "    draw = max(min_serv_time, draw)\n",
    "    draw = min(max_serv_time, draw)\n",
    "    return draw"
   ]
  },
  {
   "cell_type": "markdown",
   "metadata": {},
   "source": [
    "Zegar jest klasą liczącą sekundy i pomagającą w ocenie czasu oczekiwania klientów."
   ]
  },
  {
   "cell_type": "code",
   "execution_count": 50,
   "metadata": {},
   "outputs": [],
   "source": [
    "class Clock:\n",
    "    \"\"\"Time counting class.\n",
    "    \"\"\"\n",
    "    def __init__(self):\n",
    "        \"\"\"Create a clock.\n",
    "        \"\"\"\n",
    "        self.time = 0\n",
    "\n",
    "    def tick(self):\n",
    "        \"\"\"Increment the time.\n",
    "        \"\"\"\n",
    "        self.time += 1"
   ]
  },
  {
   "cell_type": "markdown",
   "metadata": {},
   "source": [
    "Klienci mają cechują się ilością zakupów (szacowanym czasem obsługi + kategorią $q_i$) oraz czasem dołączenia do kolejki."
   ]
  },
  {
   "cell_type": "code",
   "execution_count": 51,
   "metadata": {},
   "outputs": [],
   "source": [
    "class Customer:\n",
    "    \"\"\"Customer representation.\n",
    "    \"\"\"\n",
    "    def __init__(self, time: int, min_serv_time: float, max_serv_time: float):\n",
    "        \"\"\"Create a customer with given features.\n",
    "\n",
    "        Args:\n",
    "            time (int): Current time from clock.\n",
    "            min_serv_time (float): Minimal time to wait in checkout.\n",
    "            max_serv_time (float): Maximal time to wait in checkout.\n",
    "        \"\"\"\n",
    "        self.timestamp = time\n",
    "        self.serv_time = rand_serv_time(min_serv_time, max_serv_time)\n",
    "        interval = max_serv_time - min_serv_time\n",
    "        self.category = math.ceil(4 * (self.serv_time - min_serv_time) / interval)"
   ]
  },
  {
   "cell_type": "markdown",
   "metadata": {},
   "source": [
    "Bramki przed kasami umożliwają na zebranie od klienta danych na temat jego czasu oczekiwania w kolejce. System jest uruchamiany przy kasie, za każdym razem, gdy przychodzi nowy klient."
   ]
  },
  {
   "cell_type": "code",
   "execution_count": 52,
   "metadata": {},
   "outputs": [],
   "source": [
    "class Gates:\n",
    "    \"\"\"Gates collecting customers waiting time.\n",
    "    \"\"\"\n",
    "    def __init__(self, clock: Clock):\n",
    "        \"\"\"Create the gates with a times regiter.\n",
    "\n",
    "        Args:\n",
    "            clock (Clock): Clock object to read the time from.\n",
    "        \"\"\"\n",
    "        self.clock = clock\n",
    "        self.waiting_times = []\n",
    "\n",
    "    def coll_feedback(self, customer_timestamp: int):\n",
    "        \"\"\"Collect customers waiting time to the register.\n",
    "\n",
    "        Args:\n",
    "            customer_timestamp (int): Time when a customer joined his queue.\n",
    "        \"\"\"\n",
    "        waiting_time = self.clock.time - customer_timestamp\n",
    "        self.waiting_times.append(waiting_time)"
   ]
  },
  {
   "cell_type": "markdown",
   "metadata": {},
   "source": [
    "Każda kasa jest traktowana jako osobny obiekt i może wykonywać różne akcje. Pozwala dodać do siebie klienta i sama odlicza czas do jego obsłużenia, potem przekierowuje do wyjścia. Umożliwia też na sprawdzenie czy jest aktualnie zajęta, kto jest klientem, oraz jakiej jest on kategorii."
   ]
  },
  {
   "cell_type": "code",
   "execution_count": 53,
   "metadata": {},
   "outputs": [],
   "source": [
    "class Checkout:\n",
    "    \"\"\"Single checkout.\n",
    "    \"\"\"\n",
    "\n",
    "    def __init__(self, gates: Gates):\n",
    "        \"\"\"Create a checkout with no customers.\n",
    "\n",
    "        Args:\n",
    "            gates (Gates): Gate object, collecting the waiting time of customers.\n",
    "        \"\"\"\n",
    "        self.gates = gates\n",
    "        self.curr_customer = None\n",
    "        self.remaining_time = 0\n",
    "        self.available = True\n",
    "\n",
    "    def add_customer(self, customer: Customer):\n",
    "        \"\"\"Assign a customer to the checkout.\n",
    "        Also, collect his data using gates and turn on the 'timer' indicating his service time.\n",
    "\n",
    "        Args:\n",
    "            customer (Customer): Given customer to assign.\n",
    "        \"\"\"\n",
    "        self.available = False\n",
    "        self.curr_customer = customer\n",
    "        self.remaining_time = self.curr_customer.serv_time\n",
    "        self.gates.coll_feedback(self.curr_customer.timestamp)\n",
    "\n",
    "    def customer_cat(self) -> int:\n",
    "        \"\"\"Check current customers category.\n",
    "\n",
    "        Returns:\n",
    "            int: Customers category or 0 if there is no customer.\n",
    "        \"\"\"\n",
    "        if self.curr_customer != None:\n",
    "            return self.curr_customer.category\n",
    "        else:\n",
    "            return 0\n",
    "\n",
    "    def tick(self):\n",
    "        \"\"\"Change the time counter state and if just finished the work, reset the availibility paramreters.\n",
    "        \"\"\"\n",
    "        if self.curr_customer != None:\n",
    "            if self.remaining_time > 0:\n",
    "                self.remaining_time -= 1\n",
    "            else:\n",
    "                self.available = True\n",
    "                self.curr_customer = None\n"
   ]
  },
  {
   "cell_type": "markdown",
   "metadata": {},
   "source": [
    "Dla większej ilości kas tworzę układ bramek oraz poszczególnych kas dla łatwiejszej obsługi całości na raz. Klasa pozwala też na przetworzenie końcowych danych z bramek."
   ]
  },
  {
   "cell_type": "code",
   "execution_count": 54,
   "metadata": {},
   "outputs": [],
   "source": [
    "class ShopCheckouts:\n",
    "    \"\"\"System of all checkouts and gates to operate on them easily.\n",
    "    \"\"\"\n",
    "    def __init__(self, checkouts_n: int, clock: Clock):\n",
    "        \"\"\"Create a system of checkouts and gates.\n",
    "\n",
    "        Args:\n",
    "            checkouts_n (int): Number of checkouts.\n",
    "            clock (Clock): Clock object to count the time.\n",
    "        \"\"\"\n",
    "        self.gates = Gates(clock)\n",
    "        self.checkouts_list = [Checkout(self.gates) for _ in range(checkouts_n)]\n",
    "\n",
    "    def avail_checkouts(self) -> list:\n",
    "        \"\"\"Chceck the availability of all checkouts.\n",
    "\n",
    "        Returns:\n",
    "            list: List of `Bool` values indicating availability.\n",
    "        \"\"\"\n",
    "        return [checkout.available for checkout in self.checkouts_list]\n",
    "\n",
    "    def customer_cat_vals(self) -> list:\n",
    "        \"\"\"Chceck categories of customers currently serviced.\n",
    "\n",
    "        Returns:\n",
    "            list: List of categories for each checkout.\n",
    "        \"\"\"\n",
    "        return [checkout.customer_cat() for checkout in self.checkouts_list]\n",
    "\n",
    "    def tick(self):\n",
    "        \"\"\"Change the time counter states for each checkout. Then they do succeeding actions on their own.\n",
    "        \"\"\"\n",
    "        for checkout in self.checkouts_list:\n",
    "            checkout.tick()\n",
    "\n",
    "    def total_waiting_time(self) -> int:\n",
    "        \"\"\"Evaluate a total waiting time basing on gates register.\n",
    "\n",
    "        Returns:\n",
    "            int: Total waiting time for data in the register.\n",
    "        \"\"\"\n",
    "        return sum(self.gates.waiting_times)"
   ]
  },
  {
   "cell_type": "markdown",
   "metadata": {},
   "source": [
    "Na koniec funkcje obsługujące symulacje poszczególnych modeli. Działają według schematów opisanych w szkicu."
   ]
  },
  {
   "cell_type": "code",
   "execution_count": 55,
   "metadata": {},
   "outputs": [],
   "source": [
    "def simulation_A(\n",
    "    customers_per_h: float,\n",
    "    checkouts_n: int,\n",
    "    min_serv_time: float,\n",
    "    max_serv_time: float,\n",
    "    hours: int = 1,\n",
    ") -> int:\n",
    "    \"\"\"Simulate the A variant, where all the customers wait in one line.\n",
    "\n",
    "    Args:\n",
    "        customers_per_h (float): People that come per hour (by average).\n",
    "        checkouts_n (int): Number of checkouts.\n",
    "        min_serv_time (float): Minimal time to wait in checkout.\n",
    "        max_serv_time (float): Maximal time to wait in checkout.\n",
    "        hours (int, optional): Hours of simulation. Defaults to 1.\n",
    "\n",
    "    Returns:\n",
    "        int: Total waiting time for given conditions.\n",
    "    \"\"\"\n",
    "    \n",
    "    clock = Clock()\n",
    "    checkouts = ShopCheckouts(checkouts_n, clock)\n",
    "    common_queue = QueueEnd()\n",
    "\n",
    "    for _ in range(0, 3600 * hours):\n",
    "        if new_customer_emerg(customers_per_h):\n",
    "            customer = Customer(clock.time, min_serv_time, max_serv_time)\n",
    "            common_queue.enqueue(customer)\n",
    "\n",
    "        avail_checkouts = checkouts.avail_checkouts()\n",
    "        if not common_queue.isEmpty() and any(avail_checkouts):\n",
    "            checkout_index = avail_checkouts.index(True)\n",
    "            customer = common_queue.dequeue()\n",
    "            checkouts.checkouts_list[checkout_index].add_customer(customer)\n",
    "\n",
    "        clock.tick()\n",
    "        checkouts.tick()\n",
    "\n",
    "    return checkouts.total_waiting_time()"
   ]
  },
  {
   "cell_type": "code",
   "execution_count": 56,
   "metadata": {},
   "outputs": [],
   "source": [
    "def simulation_B(\n",
    "    customers_per_h: float,\n",
    "    checkouts_n: int,\n",
    "    min_serv_time: float,\n",
    "    max_serv_time: float,\n",
    "    hours: int = 1,\n",
    ") -> int:\n",
    "    \"\"\"Simulate the B variant, where there is a separate queue to each checkout.\n",
    "    Moreover, customers rationally choose the queues.\n",
    "\n",
    "    Args:\n",
    "        customers_per_h (float): People that come per hour (by average).\n",
    "        checkouts_n (int): Number of checkouts.\n",
    "        min_serv_time (float): Minimal time to wait in checkout.\n",
    "        max_serv_time (float): Maximal time to wait in checkout.\n",
    "        hours (int, optional): Hours of simulation. Defaults to 1.\n",
    "\n",
    "    Returns:\n",
    "        int: Total waiting time for given conditions.\n",
    "    \"\"\"\n",
    "\n",
    "    clock = Clock()\n",
    "    checkouts = ShopCheckouts(checkouts_n, clock)\n",
    "    queues = [QueueEnd() for _ in range(checkouts_n)]\n",
    "    queues_cat_sum = [0] * checkouts_n\n",
    "\n",
    "    for _ in range(0, 3600 * hours):\n",
    "        if new_customer_emerg(customers_per_h):\n",
    "            checkout_cat_sum = checkouts.customer_cat_vals()\n",
    "            total_cat_sum = map(sum, zip(queues_cat_sum, checkout_cat_sum))\n",
    "            queues_attr = [1 / (1 + cat_sum) for cat_sum in total_cat_sum]\n",
    "            customer = Customer(clock.time, min_serv_time, max_serv_time)\n",
    "            queue_index = queues_attr.index(max(queues_attr))\n",
    "            queues[queue_index].enqueue(customer)\n",
    "            queues_cat_sum[queue_index] += customer.category\n",
    "\n",
    "        avail_checkouts = checkouts.avail_checkouts()\n",
    "        for index, queue in enumerate(queues):\n",
    "            if not queue.isEmpty() and avail_checkouts[index]:\n",
    "                customer = queue.dequeue()\n",
    "                checkouts.checkouts_list[index].add_customer(customer)\n",
    "\n",
    "        clock.tick()\n",
    "        checkouts.tick()\n",
    "\n",
    "    return checkouts.total_waiting_time()"
   ]
  },
  {
   "cell_type": "markdown",
   "metadata": {},
   "source": [
    "### Przygotowanie wyników:"
   ]
  },
  {
   "cell_type": "markdown",
   "metadata": {},
   "source": [
    "Tworzę funkcje odpowiednio przygotowujące wyniki symulacji, wizualizujące zdobyte dane na wykresie, oraz drukujące dane liczbowe."
   ]
  },
  {
   "cell_type": "code",
   "execution_count": 57,
   "metadata": {},
   "outputs": [],
   "source": [
    "def collect_results(attempts: int, simulation: function, input_data: tuple) -> tuple:\n",
    "    \"\"\"Conduct a simulation and prepare the results.\n",
    "\n",
    "    Args:\n",
    "        attempts (int): Number of tests.\n",
    "        simulation (funct): Variant of simulation.\n",
    "        input_data (tuple): Group of four features describing the specific simulation. \n",
    "                            (customers per hour, checkouts number, minimal service time, maximal service time)\n",
    "\n",
    "    Returns:\n",
    "        tuple: Outcoming data: (numbers of attempts, list of total times for each attempt, average total time).\n",
    "    \"\"\"\n",
    "    rng = range(attempts)\n",
    "    total_times_list = []\n",
    "    for _ in rng:\n",
    "        total_times_list.append(simulation(*input_data))\n",
    "    mean = sum(total_times_list) / attempts\n",
    "    return (rng, total_times_list, mean)\n"
   ]
  },
  {
   "cell_type": "code",
   "execution_count": 58,
   "metadata": {},
   "outputs": [],
   "source": [
    "def plot_results(resultsA: tuple, resultsB: tuple):\n",
    "    \"\"\"Plot the values for each attempt and mark the mean values.\n",
    "    Do the same for variant A and B, and desctibe the graph.\n",
    "\n",
    "    Args:\n",
    "        resultsA (tuple): Results of the simulation A: \n",
    "                        (numbers of attempts, list of total times for each attempt, average total time).\n",
    "        resultsB (tuple): Results of the simulation B: \n",
    "                        (numbers of attempts, list of total times for each attempt, average total time).\n",
    "    \"\"\"\n",
    "\n",
    "    rngA, timesA, meanA = resultsA\n",
    "    rngB, timesB, meanB = resultsB\n",
    "    colorA = \"dodgerblue\"\n",
    "    colorB = \"crimson\"\n",
    "\n",
    "    plt.plot(rngA, timesA, \"o\", color=colorA, alpha=0.25)\n",
    "    plt.plot(rngB, timesB, \"o\", color=colorB, alpha=0.25)\n",
    "    plt.axhline(y=meanA, color=colorA)\n",
    "    plt.axhline(y=meanB, color=colorB)\n",
    "    plt.ylabel(\"Total waiting time\")\n",
    "    plt.xlabel(\"Attempt number\")\n",
    "    plt.title(\"Waiting time comparison\")\n",
    "    plt.gca().legend((\"A - Common queue\", \"B - Separate queues\"))\n",
    "    plt.show()"
   ]
  },
  {
   "cell_type": "code",
   "execution_count": 59,
   "metadata": {},
   "outputs": [],
   "source": [
    "def print_means(resultsA: tuple, resultsB: tuple):\n",
    "    \"\"\"Prepare an print the summarization of aquired values:\n",
    "    average total waiting times and difference between them. \n",
    "\n",
    "\n",
    "    Args:\n",
    "        resultsA (tuple): Results of the simulation A: \n",
    "                        (numbers of attempts, list of total times for each attempt, average total time).\n",
    "        resultsB (tuple): Results of the simulation B: \n",
    "                        (numbers of attempts, list of total times for each attempt, average total time).\n",
    "    \"\"\"\n",
    "    rngA, timesA, meanA = resultsA\n",
    "    rngB, timesB, meanB = resultsB\n",
    "\n",
    "    diff = meanB - meanA\n",
    "\n",
    "    print(\n",
    "        \"In case of a COMMON QUEUE (A) average total waiting time is: \\n{} s\\n\".format(\n",
    "            meanA\n",
    "        )\n",
    "    )\n",
    "    print(\n",
    "        \"In case of a SEPARATE QUEUES (B) average total waiting time is: \\n{} s\\n\".format(\n",
    "            meanB\n",
    "        )\n",
    "    )\n",
    "    print(\"Difference between average total waiting times: \\n{} s\\n\".format(diff))"
   ]
  },
  {
   "cell_type": "markdown",
   "metadata": {},
   "source": [
    "### Wyniki:"
   ]
  },
  {
   "cell_type": "markdown",
   "metadata": {},
   "source": [
    "Przygotowuję dane tak jak ustalono wcześniej ($n$, $k$ oraz $I = [a, b]$). Podaję też liczbę prób $N$."
   ]
  },
  {
   "cell_type": "code",
   "execution_count": 60,
   "metadata": {},
   "outputs": [],
   "source": [
    "customers_per_h = 40\n",
    "checkouts_n = 6\n",
    "min_serv_time = 60\n",
    "max_serv_time = 600\n",
    "\n",
    "N = 300"
   ]
  },
  {
   "cell_type": "code",
   "execution_count": 61,
   "metadata": {},
   "outputs": [],
   "source": [
    "data_tuple = (customers_per_h, checkouts_n, min_serv_time, max_serv_time)"
   ]
  },
  {
   "cell_type": "markdown",
   "metadata": {},
   "source": [
    "Zbieram dane z wynikające z symulacji."
   ]
  },
  {
   "cell_type": "code",
   "execution_count": 62,
   "metadata": {},
   "outputs": [],
   "source": [
    "resultsA = collect_results(N, simulation_A, data_tuple)\n",
    "resultsB = collect_results(N, simulation_B, data_tuple)\n"
   ]
  },
  {
   "cell_type": "markdown",
   "metadata": {},
   "source": [
    "Wizualizuję dane na wykresie, pokazując wszystkie wyniki wszystkich prób dla obu wariantów. Niebieski to *wariant A* - wspólna kolejka, a czerwony to *wariant B* - osobne kolejki do każdej kasy.\n",
    "Pokazuję też, jaka jest średnia wartość ze wszystkich prób dla obu przypadków."
   ]
  },
  {
   "cell_type": "code",
   "execution_count": 63,
   "metadata": {},
   "outputs": [
    {
     "data": {
      "image/png": "[encoded data removed]",
      "text/plain": [
       "<Figure size 432x288 with 1 Axes>"
      ]
     },
     "metadata": {
      "needs_background": "light"
     },
     "output_type": "display_data"
    }
   ],
   "source": [
    "plot_results(resultsA, resultsB)"
   ]
  },
  {
   "cell_type": "markdown",
   "metadata": {},
   "source": [
    "Podaję ostatecznie dodatkowe dane liczbowe pomagające w dokładniejszej analizie wyników."
   ]
  },
  {
   "cell_type": "code",
   "execution_count": 64,
   "metadata": {
    "scrolled": true
   },
   "outputs": [
    {
     "name": "stdout",
     "output_type": "stream",
     "text": [
      "In case of a COMMON QUEUE (A) average total waiting time is: \n",
      "560.7866666666666 s\n",
      "\n",
      "In case of a SEPARATE QUEUES (B) average total waiting time is: \n",
      "801.5966666666667 s\n",
      "\n",
      "Difference between average total waiting times: \n",
      "240.81000000000006 s\n",
      "\n"
     ]
    }
   ],
   "source": [
    "print_means(resultsA, resultsB)"
   ]
  },
  {
   "cell_type": "markdown",
   "metadata": {},
   "source": [
    "### Wnioski:"
   ]
  },
  {
   "cell_type": "markdown",
   "metadata": {},
   "source": [
    "* Wyraźnie widzimy, że przy rozsądnym doborze liczby klientów oraz kas (tak, żeby nie było sytuacji, że czasy w obu wariantach są równe - co jest w szczególności możliwe), w przypadku wariantu B trzeba czekać sumarycznie dłużej.\n",
    "* Czasem różnica pomiędzy wynikami w obu wariantach może być niewielka, jednak dla naszego doboru danych i wystarczającej liczby prób (w celu osiągnięcia średnich wyników i ominięcia outlayersów) różnica jest znacząca."
   ]
  },
  {
   "cell_type": "markdown",
   "metadata": {},
   "source": [
    "Okazuje się, że **klienci są szybciej obsługiwani, gdy zastosowana jest jedna wspólna kolejka**, nawet jeśli stosunkowo inteligentnie wybierali by kasy w wariancie osobnych kolejek!"
   ]
  },
  {
   "cell_type": "markdown",
   "metadata": {},
   "source": [
    "### Problemy:"
   ]
  },
  {
   "cell_type": "markdown",
   "metadata": {},
   "source": [
    "Uproszczenia, które pojawiają się w symulacji to:\n",
    "* nie wiemy czy rozkład prawdopodobieństwa rzeczywiście jest normalny; uśredniamy niektóre wartości;\n",
    "* klienci mogą wybrierać kolejki inaczej, niż zakłada to model, choć uwzględniłem __współczynnik atrakcyjności__ trochę niwelujący błędy; ogólnie zależy to od ilości zakupów jakie mają i widzą u innych, a także mogą nie chcieć patrzeć na wiele kas i porównywać;\n",
    "* kasjerzy mogą mieć różne prędkości obsługiwania - zwykle tak nie jest, ale co np. z praktykantami...;\n",
    "* czasem kasjerzy odchodzą od kas i liczba $n$ się zmniejsza, co pomijam;\n",
    "* niektórzy ludzie są _burakami_ i utrudniają kulturalne działanie kolejki;\n",
    "* nie może przyjść dwóch klientów w tym samym momencie (ale mogą być sekunde po sobie, stąd pomijam kwestię);\n",
    "* _niekoniecznie może być miejsce lub możliwość na utworzenie osobnych kolejek_ - to już trochę czepianie się.\n",
    "\n",
    "Oczywiście zawsze znajdzie się jeszcze jakiś szczegół, jakkolwiek najważniejsze problemy zostały wymienione powyżej."
   ]
  },
  {
   "cell_type": "markdown",
   "metadata": {},
   "source": [
    "# Zadanie 4"
   ]
  },
  {
   "cell_type": "markdown",
   "metadata": {},
   "source": [
    "Stworzę program sprawdający poprawność składni dokumentu HTML pod katem brakujacych znaczników zamykajacych.\n",
    "Nie będzie sprawdana poprawność znaczników jako takich [1], a jedynie poprawność domknięcia nawiasów i znaczników oraz podstawowe zasady.\n",
    "Mam tutaj na myśli niemożliwość używania pustego znacznika, dopuszczanie spacji i białych znaków jedynie w określonych miejscach. Traktuję też jako błędne zastosowanie atrybutów w znaczniku zamykającym - te mogą się pojawić tylko w otwierającym. \n",
    "Znaczniki bez zamknięcia są traktowane oczywiście w odpowiedni dla swojej natury sposób.\n",
    "\n",
    "[1] Trudno byłoby skompletować tu listę dostępnych możliwości do sprawdzenia, bo przez istnienie atrybutów ciągi znaków w znacznikach oprócz tego, że mogą być niealfanumeryczne, to mają naprawdę dużą dowolność. "
   ]
  },
  {
   "cell_type": "markdown",
   "metadata": {},
   "source": [
    "Zupełnie celowo nie uwzględniam struktur typu `<img ... />` jako poprawne - co robiłoby się wycinając \"/\" bibloiteką `re` - ponieważ w *HTML5* nie są takie struktury stosowane (choć w teorii poprawne). Znaczniki niewymagające zamknięcia będzimy chcieli zapisywać po prostu jako `<img ...>`."
   ]
  },
  {
   "cell_type": "markdown",
   "metadata": {},
   "source": [
    "* Do realizacji zadania użyje stosu zaimplementowanego na wykładzie."
   ]
  },
  {
   "cell_type": "code",
   "execution_count": 65,
   "metadata": {},
   "outputs": [],
   "source": [
    "class Stack:\n",
    "    \"\"\"Standard stack implemented basing on the python list.\n",
    "    \"\"\"\n",
    "\n",
    "    def __init__(self):\n",
    "        \"\"\"Create a stack.\n",
    "        \"\"\"\n",
    "        self.items = []\n",
    "\n",
    "    def isEmpty(self) -> bool:\n",
    "        \"\"\"Check if the stack contains any elements.\n",
    "\n",
    "        Returns:\n",
    "            bool: Information about emptiness.\n",
    "        \"\"\"\n",
    "        return self.items == []\n",
    "\n",
    "    def push(self, item: Any):\n",
    "        \"\"\"Add an item on the top of the stack.\n",
    "\n",
    "        Args:\n",
    "            item (Any): Te item to be added.\n",
    "        \"\"\"\n",
    "        self.items.append(item)\n",
    "\n",
    "    def pop(self) -> Any:\n",
    "        \"\"\"Remove the item from the top of the stack.\n",
    "\n",
    "        Returns:\n",
    "            Any: The removed top item.\n",
    "        \"\"\"\n",
    "        return self.items.pop()\n",
    "\n",
    "    def peek(self) -> Any:\n",
    "        \"\"\"Show the item from the top of the stack. \n",
    "\n",
    "        Returns:\n",
    "            Any: The top item.\n",
    "        \"\"\"\n",
    "        return self.items[len(self.items)-1]\n",
    "\n",
    "    def size(self) -> int:\n",
    "        \"\"\"Measure the length of the queue.\n",
    "\n",
    "        Returns:\n",
    "            int: Length of the queue.\n",
    "        \"\"\"\n",
    "        return len(self.items)\n"
   ]
  },
  {
   "cell_type": "markdown",
   "metadata": {},
   "source": [
    "* W pierwszej części porządkuję dokument i sporządzam listę wnętrz znaczników.\n",
    "* Jeśli na tym etapie domknięcia nawiasów są niepoprawne, od razu program jest zatrzymywany."
   ]
  },
  {
   "cell_type": "markdown",
   "metadata": {},
   "source": [
    "Nie ma na razie sensu angażować stosu w algorytm, bo nawiasy nie mogą być tu zagnieżdżone."
   ]
  },
  {
   "cell_type": "code",
   "execution_count": 66,
   "metadata": {},
   "outputs": [],
   "source": [
    "def tag_parser(html_doc: str) -> list:\n",
    "    \"\"\"Extract a list of tags from html document and order it (if there are no formal errors).\n",
    "\n",
    "    Args:\n",
    "        html_doc (str): HTML5 document.\n",
    "\n",
    "    Raises:\n",
    "        Exception: Brackets are expected to be closed properly.\n",
    "\n",
    "    Returns:\n",
    "        list: List of tags.\n",
    "    \"\"\"\n",
    "    # przekształcamy wszystkie białe znaki na spacje\n",
    "    html_doc = ' '.join(html_doc.split())\n",
    "    correct = True\n",
    "    index = 0\n",
    "    tag_counter = -1\n",
    "    inside = False\n",
    "    tag_list = []\n",
    "\n",
    "    while index < len(html_doc) and correct:\n",
    "        symbol = html_doc[index]\n",
    "        if symbol == \"<\":\n",
    "            if inside:\n",
    "                correct = False  # bo nie może być kolejnego otwarcia w już otwartym nawiasie\n",
    "            inside = True\n",
    "            # tworzymy miejsce na \"treść\" znacznika w liście\n",
    "            tag_list.append([])\n",
    "            tag_counter += 1\n",
    "\n",
    "        elif symbol == \">\":\n",
    "            if not inside:\n",
    "                correct = False  # bo nie może być zamknięcia jeśli nie ma wcześniej otwarcia\n",
    "            inside = False\n",
    "\n",
    "        if inside and symbol != \"<\":\n",
    "            # zapisujemy znaki ze znacznika do listy\n",
    "            tag_list[tag_counter].append(symbol)\n",
    "\n",
    "        index += 1\n",
    "\n",
    "    # jeżeli nie napotkano błędów i domknięte nawiasy\n",
    "    if correct and not inside:\n",
    "        # tworzymy listę ciągów znakow reprezentującą wszystkie znaczniki\n",
    "        tag_list = list(map(''.join, tag_list))\n",
    "        return tag_list\n",
    "    else:\n",
    "        raise Exception(\"Brackets closed not properly.\")\n"
   ]
  },
  {
   "cell_type": "markdown",
   "metadata": {},
   "source": [
    "Przechodzę następnie do części gdzie używany jest stos.\n",
    "* Sprawdazam podstawową poprawność znaczników, tak jak wspomniano w opisie.\n",
    "* Znajduję właściwą nazwę znacznika (pierwsze słowo) i sprawdzam czy jest on zamykający oraz czy wymaga zamknięcia.\n",
    "* Używam stosu do realizacji klasycznego algorytmu sprawdzającego zamknięcia."
   ]
  },
  {
   "cell_type": "code",
   "execution_count": 67,
   "metadata": {},
   "outputs": [],
   "source": [
    "def tag_list_checker(tag_list: list) -> bool:\n",
    "    \"\"\"Analyse the tags using various conditions and tell if they are correctly closed.\n",
    "\n",
    "    Args:\n",
    "        tag_list (list): List of prepared tags.\n",
    "\n",
    "    Returns:\n",
    "        bool: Information about validity.\n",
    "    \"\"\"\n",
    "\n",
    "    nonclosed_tags = ['link', 'meta', 'BR', 'br', 'img',\n",
    "                      'hr', '!DOCTYPE']  # znaczniki niewymagające zamknięcia\n",
    "    stack = Stack()\n",
    "    correct = True\n",
    "    index = 0\n",
    "\n",
    "    while index < len(tag_list) and correct:\n",
    "        tag = tag_list[index]\n",
    "        closing = False\n",
    "\n",
    "        if tag == '':  # pusty znacznik jest niepoprawny\n",
    "            correct = False\n",
    "            break\n",
    "        elif tag[0] == ' ':  # nie może być spacji przed rozpoczęciem właściwej nazwy znacznika\n",
    "            correct = False\n",
    "            break\n",
    "\n",
    "        tag_splt = tag.split()  # znacznik rozbity na słowa (bo może mieć atrybuty)\n",
    "        tag_f_wrd = tag_splt[0]  # właściwy znacznik\n",
    "\n",
    "        if tag_f_wrd[0] == \"/\":  # jeśli rozpoczęty od ukośnika, to jest znacznikiem zamykającyjm\n",
    "            closing = True\n",
    "            if len(tag_splt) > 1:  # nie może mieć jednak atrybutów, jeśli jest zamykającym\n",
    "                correct = False\n",
    "                break\n",
    "\n",
    "        if tag_f_wrd not in nonclosed_tags:  # używamy stosu dla znaczników wymagających zamknięcia\n",
    "            if stack.isEmpty():  # jeśli nie ma otwarych żadnych znaczników, kładziemy napotkany na stos\n",
    "                stack.push(tag_f_wrd)\n",
    "            else:\n",
    "                # jeśli aktualny znacznik jest zamykający i pasuje do tego ze stosu, to zdejmujemy\n",
    "                if stack.peek() == tag_f_wrd[1:] and closing:\n",
    "                    stack.pop()\n",
    "                else:\n",
    "                    stack.push(tag_f_wrd)  # w innym razie zwyczajnie odkładamy\n",
    "        index = index + 1\n",
    "\n",
    "    # jeżeli okaże się, że wszystko jest domknięte i nie napotkaliśmy błędu to dokument poprawny\n",
    "    if correct and stack.isEmpty():\n",
    "        return True\n",
    "    else:\n",
    "        return False\n"
   ]
  },
  {
   "cell_type": "markdown",
   "metadata": {},
   "source": [
    "* Na koniec konstruuję funkcję zbierającą wcześniejsze algorytmy w całość. To jej będziemy używać jako funkcji *kontroli składni*. "
   ]
  },
  {
   "cell_type": "code",
   "execution_count": 68,
   "metadata": {},
   "outputs": [],
   "source": [
    "def tag_checker(html_doc: str) -> bool:\n",
    "    \"\"\"Using the `tag parser` and `tag_list_checker` helper functions, check the HTML document's validity.\n",
    "\n",
    "    Args:\n",
    "        html_doc (str): HTML5 document.\n",
    "\n",
    "    Returns:\n",
    "        bool: Information about validity.\n",
    "    \"\"\"\n",
    "    try:\n",
    "        tag_list = tag_parser(html_doc)\n",
    "    except Exception:\n",
    "        return False\n",
    "    result = tag_list_checker(tag_list)\n",
    "    return result\n"
   ]
  },
  {
   "cell_type": "markdown",
   "metadata": {},
   "source": [
    "# Zadanie 5"
   ]
  },
  {
   "cell_type": "markdown",
   "metadata": {},
   "source": [
    "Aby stworzyć listę nieuporządkowaną, używam niedokończonej klasy z wykładu."
   ]
  },
  {
   "cell_type": "markdown",
   "metadata": {},
   "source": [
    "* Pojedyncze elementu będą reprezentowane przez klasę `Node`, której z resztą nawet nie trzeba modyfikować."
   ]
  },
  {
   "cell_type": "code",
   "execution_count": 69,
   "metadata": {},
   "outputs": [],
   "source": [
    "class Node:\n",
    "    \"\"\"Container class for a single value in the iterator.\n",
    "    \"\"\"\n",
    "\n",
    "    def __init__(self, initdata: Any):\n",
    "        \"\"\"Create a node.\n",
    "\n",
    "        Args:\n",
    "            initdata (Any): Value for the node.\n",
    "        \"\"\"\n",
    "        self.data = initdata\n",
    "        self.next = None\n",
    "\n",
    "    def getData(self) -> Any:\n",
    "        \"\"\"Get the value.\n",
    "\n",
    "        Returns:\n",
    "            Any: Value of the node.\n",
    "        \"\"\"\n",
    "        return self.data\n",
    "\n",
    "    def getNext(self) -> Union[Node, Any]:\n",
    "        \"\"\"Get the succeding node.\n",
    "\n",
    "        Returns:\n",
    "            Union[Node, Any]: The value container that appears after the current one.\n",
    "            `None` if the current is the last.\n",
    "        \"\"\"\n",
    "        return self.next\n",
    "\n",
    "    def setData(self, newdata: Any):\n",
    "        \"\"\"Set the new value for the node.\n",
    "\n",
    "        Args:\n",
    "            newdata (Any): New velue.\n",
    "        \"\"\"\n",
    "        self.data = newdata\n",
    "\n",
    "    def setNext(self, newnext: Union[Node, Any]):\n",
    "        \"\"\"Set the new succeding node.\n",
    "\n",
    "        Args:\n",
    "            newnext (Union[Node, Any]): New node to go after the current.\n",
    "        \"\"\"\n",
    "        self.next = newnext\n"
   ]
  },
  {
   "cell_type": "markdown",
   "metadata": {},
   "source": [
    "* Sama klasa `UnorderedList` została w kilku miejscach (mowa o wcześniejszej części) ulepszona, m.in. dla bardziej standardowej obsługi błędów.\n",
    "* Pomiędzy podwójnymi liniami w komentarzach znajduje się dopisana przeze mnie część, która sprawia, że struktura jest kompletna.\n",
    "* Dodałem metody:\n",
    "    - `append(item)` - dodaje element na końcu listy,\n",
    "    - `index(item)` - podaje, gdzie pierwszy raz pojawia się podany element,\n",
    "    - `insert(pos, item)` - umieszcza element na wybranej pozycji listy,\n",
    "    - `pop()` - usuwa ostatni element i go zwraca,\n",
    "    - `pop(pos)` - usuwa wybrany element i go zwraca.\n",
    "    \n",
    "Razem z konstruktorem oraz `isEmpty()`, `add(item)`, `size`, `search(item)`, `remove(item)`, te metody stanowią komplet potrzebnych, aby struktura była *listą jednokierunkową*."
   ]
  },
  {
   "cell_type": "code",
   "execution_count": 70,
   "metadata": {},
   "outputs": [],
   "source": [
    "class UnorderedList:\n",
    "    \"\"\"A unordered list structure class.\n",
    "    \"\"\"\n",
    "\n",
    "    def __init__(self):\n",
    "        \"\"\"Create an unordered list.\n",
    "        \"\"\"\n",
    "        self.head = None\n",
    "\n",
    "    def isEmpty(self) -> bool:\n",
    "        \"\"\"Check if the list contains any elements.\n",
    "\n",
    "        Returns:\n",
    "            bool: Information about emptiness.\n",
    "        \"\"\"\n",
    "        return self.head == None\n",
    "\n",
    "    def add(self, item: Any):\n",
    "        \"\"\"Add an item at the begining of the list.\n",
    "\n",
    "        Args:\n",
    "            item (Any): Te item to be added.\n",
    "        \"\"\"\n",
    "        temp = Node(item)\n",
    "        temp.setNext(self.head)\n",
    "        self.head = temp\n",
    "\n",
    "    def size(self) -> int:\n",
    "        \"\"\"Measure the length of the list.\n",
    "\n",
    "        Returns:\n",
    "            int: Length of the list.\n",
    "        \"\"\"\n",
    "        current = self.head\n",
    "        count = 0\n",
    "        while current != None:\n",
    "            count += 1\n",
    "            current = current.getNext()\n",
    "\n",
    "        return count\n",
    "\n",
    "    def search(self, item: Any) -> bool:\n",
    "        \"\"\"Check if the item is in the list.\n",
    "\n",
    "        Args:\n",
    "            item (Any): Desired item.\n",
    "\n",
    "        Returns:\n",
    "            bool: Information about the item presence.\n",
    "        \"\"\"\n",
    "        current = self.head\n",
    "        found = False\n",
    "        while current != None and not found:\n",
    "            if current.getData() == item:\n",
    "                found = True\n",
    "            else:\n",
    "                current = current.getNext()\n",
    "\n",
    "        return found\n",
    "\n",
    "    def remove(self, item: Any):\n",
    "        \"\"\"Remove the first item of a given value from the list.\n",
    "\n",
    "        Args:\n",
    "            item (Any): Item to remove.\n",
    "\n",
    "        Raises:\n",
    "            IndexError: Items cannot be removed from the empty list.\n",
    "            Exception: Item can be removed only if the list contains it.\n",
    "        \"\"\"\n",
    "        current = self.head\n",
    "        previous = None\n",
    "        found = False\n",
    "        if self.isEmpty():\n",
    "            raise IndexError(\"List is altready empty.\")\n",
    "        while not found:\n",
    "            if current.getData() == item:\n",
    "                found = True\n",
    "            else:\n",
    "                previous = current\n",
    "                current = current.getNext()\n",
    "                if current == None:\n",
    "                    raise Exception(\"Item not found.\")\n",
    "\n",
    "        if previous == None:\n",
    "            self.head = current.getNext()\n",
    "        else:\n",
    "            previous.setNext(current.getNext())\n",
    "\n",
    "    # -----------------------------------------------------\n",
    "    # -----------------------------------------------------\n",
    "\n",
    "    def append(self, item: Any):\n",
    "        \"\"\"Add an item on the end of the list.\n",
    "\n",
    "        Args:\n",
    "            item (Any): Te item to be added.\n",
    "        \"\"\"\n",
    "        temp = Node(item)\n",
    "        current = self.head\n",
    "        previous = None\n",
    "        if self.isEmpty():\n",
    "            self.head = temp\n",
    "        else:\n",
    "            while current != None:\n",
    "                previous = current\n",
    "                current = current.getNext()\n",
    "            previous.setNext(temp)\n",
    "\n",
    "    def index(self, item: Any) -> int:\n",
    "        \"\"\"Find the index of the first object matching the given one.\n",
    "\n",
    "        Args:\n",
    "            item (Any): The item to find its index.\n",
    "\n",
    "        Raises:\n",
    "            Exception: Index cant be found when there is no matchin item.\n",
    "\n",
    "        Returns:\n",
    "            int: Index number.\n",
    "        \"\"\"\n",
    "        current = self.head\n",
    "        index = -1\n",
    "        while current != None:\n",
    "            index += 1\n",
    "            if current.getData() == item:\n",
    "                return index\n",
    "            else:\n",
    "                current = current.getNext()\n",
    "        raise Exception(\"Item not found.\")\n",
    "\n",
    "    def insert(self, pos: int, item: Any):\n",
    "        \"\"\"Add an item in the given position of the list.\n",
    "\n",
    "        Args:\n",
    "            pos (int): Index to insert the item in.\n",
    "            item (Any): The item to be added.\n",
    "\n",
    "        Raises:\n",
    "            TypeError: Index have to be an integer.\n",
    "        \"\"\"\n",
    "        temp = Node(item)\n",
    "        current = self.head\n",
    "        previous = None\n",
    "\n",
    "        if not isinstance(pos, int) and pos != None:\n",
    "            raise TypeError(\"Defined index have to be an integer.\")\n",
    "        if pos < 0 or self.isEmpty():\n",
    "            temp.setNext(self.head)\n",
    "            self.head = temp\n",
    "        else:\n",
    "            count = 0\n",
    "            while current != None and count < pos:\n",
    "                previous = current\n",
    "                current = current.getNext()\n",
    "                count += 1\n",
    "            temp.setNext(current)\n",
    "            previous.setNext(temp)\n",
    "\n",
    "    def pop(self, pos: int = None) -> Any:\n",
    "        \"\"\"Remove the item from list and join the parts of the list if needed.\n",
    "        Additionally return this item.\n",
    "\n",
    "        Args:\n",
    "            pos (int, optional): Position of the item to pop. Defaults to None.\n",
    "\n",
    "        Raises:\n",
    "            IndexError: To remove the item list cannot be empty.\n",
    "            TypeError: Index have to be an integer.\n",
    "            IndexError: Position index cannot be out of range.\n",
    "\n",
    "        Returns:\n",
    "            Any: Removed item.\n",
    "        \"\"\"\n",
    "        current = self.head\n",
    "        previous = None\n",
    "        if self.isEmpty():\n",
    "            raise IndexError(\"List is already empty.\")\n",
    "\n",
    "        if not isinstance(pos, int) and pos != None:\n",
    "            raise TypeError(\"Defined index have to be an integer.\")\n",
    "        if pos == None:\n",
    "            pos = self.size()-1\n",
    "        if pos > 0:\n",
    "            while current != None and pos > 0:\n",
    "                pos -= 1\n",
    "                previous = current\n",
    "                current = current.getNext()\n",
    "            previous.setNext(current.getNext())\n",
    "            return current.getData()\n",
    "        if pos == 0:\n",
    "            self.head = current.getNext()\n",
    "            return current.getData()\n",
    "\n",
    "        else:\n",
    "            raise IndexError(\"Index out of range.\")\n",
    "\n",
    "    # -----------------------------------------------------\n",
    "    # -----------------------------------------------------\n",
    "\n",
    "    def __str__(self) -> str:\n",
    "        \"\"\"Give the text representation of the list.\n",
    "\n",
    "        Returns:\n",
    "            str: Text representation.\n",
    "        \"\"\"\n",
    "        current = self.head\n",
    "        li = []\n",
    "        while current != None:\n",
    "            li.append(current.getData())\n",
    "            current = current.getNext()\n",
    "        s = (\"elements in the list are [\" + ', '.join(['{}']*len(li))+\"]\")\n",
    "        return s.format(*li)\n"
   ]
  },
  {
   "cell_type": "markdown",
   "metadata": {},
   "source": [
    "# Zadanie 7"
   ]
  },
  {
   "cell_type": "markdown",
   "metadata": {},
   "source": [
    "* Modyfikując stos zaimplementowany na wykładzie o typ bazowej listy i metody z nią związane, otrzymuję żądaną strukturę.\n",
    "* Dodaję także obsługę odpowiednich błędów."
   ]
  },
  {
   "cell_type": "code",
   "execution_count": 71,
   "metadata": {},
   "outputs": [],
   "source": [
    "class StackWithULst:\n",
    "    \"\"\"Stack implemented basing on the `UnorderedList`.\n",
    "    \"\"\"\n",
    "\n",
    "    def __init__(self):\n",
    "        \"\"\"Create a stack.\n",
    "        \"\"\"\n",
    "        self.items = UnorderedList()\n",
    "\n",
    "    def isEmpty(self) -> bool:\n",
    "        \"\"\"Check if the stack contains any elements.\n",
    "\n",
    "        Returns:\n",
    "            bool: Information about emptiness.\n",
    "        \"\"\"\n",
    "        return self.items.isEmpty()\n",
    "\n",
    "    def push(self, item: Any):\n",
    "        \"\"\"Add an item on the top of the stack.\n",
    "\n",
    "        Args:\n",
    "            item (Any): Te item to be added.\n",
    "        \"\"\"\n",
    "        self.items.append(item)\n",
    "\n",
    "    def pop(self) -> Any:\n",
    "        \"\"\"Remove the item from the top of the stack.\n",
    "\n",
    "        Raises:\n",
    "            IndexError: Items cannot be removed from the empty stack.\n",
    "\n",
    "        Returns:\n",
    "            Any: The removed top item.\n",
    "        \"\"\"\n",
    "        if self.isEmpty():\n",
    "            raise IndexError(\"Stack is already empty.\")\n",
    "        return self.items.pop()\n",
    "\n",
    "    def peek(self) -> Any:\n",
    "        \"\"\"Show the item from the top of the stack. \n",
    "\n",
    "        Returns:\n",
    "            Any: The top item.\n",
    "        \"\"\"\n",
    "        if self.isEmpty():\n",
    "            raise IndexError(\"Stack is already empty.\")\n",
    "        upper = self.items.pop()\n",
    "        self.items.append(upper)\n",
    "        return upper\n",
    "\n",
    "    def size(self) -> int:\n",
    "        \"\"\"Measure the length of the queue.\n",
    "\n",
    "        Returns:\n",
    "            int: Length of the queue.\n",
    "        \"\"\"\n",
    "        return self.items.size()\n"
   ]
  },
  {
   "cell_type": "markdown",
   "metadata": {},
   "source": [
    "# Zadanie 6"
   ]
  },
  {
   "cell_type": "markdown",
   "metadata": {},
   "source": [
    "* Modyfikując kolejkę dwustronną zaimplementowaną na wykładzie o typ bazowej listy i metody z nią związane, otrzymuję żądaną strukturę.\n",
    "* Dodaję także obsługę odpowiednich błędów."
   ]
  },
  {
   "cell_type": "code",
   "execution_count": 72,
   "metadata": {},
   "outputs": [],
   "source": [
    "class DequeWithULst:\n",
    "    \"\"\"Queue implemented basing on the `UnorderedList`.\n",
    "    \"\"\"\n",
    "\n",
    "    def __init__(self):\n",
    "        \"\"\"Create a dequeue.\n",
    "        \"\"\"\n",
    "        self.items = UnorderedList()\n",
    "\n",
    "    def isEmpty(self) -> bool:\n",
    "        \"\"\"Check if the dequeue contains any elements.\n",
    "\n",
    "        Returns:\n",
    "            bool: Information about emptiness.\n",
    "        \"\"\"\n",
    "        return self.items.isEmpty()\n",
    "\n",
    "    def addFront(self, item: Any):\n",
    "        \"\"\"Add an item on the end of the dequeue.\n",
    "\n",
    "        Args:\n",
    "            item (Any): Te item to be added.\n",
    "        \"\"\"\n",
    "        self.items.append(item)\n",
    "\n",
    "    def addRear(self, item: Any):\n",
    "        \"\"\"Add an item at the begining of the queue.\n",
    "\n",
    "        Args:\n",
    "            item (Any): Te item to be added.\n",
    "        \"\"\"\n",
    "        self.items.add(item)\n",
    "\n",
    "    def removeFront(self) -> Any:\n",
    "        \"\"\"Remove the item from the end of the dequeue.\n",
    "\n",
    "        Raises:\n",
    "            IndexError: Items cannot be removed from the empty dequeue.\n",
    "\n",
    "        Returns:\n",
    "            Any: The removed last item.\n",
    "        \"\"\"\n",
    "        if self.isEmpty():\n",
    "            raise IndexError(\"Deque is already empty.\")\n",
    "        return self.items.pop()\n",
    "\n",
    "    def removeRear(self) -> Any:\n",
    "        \"\"\"Remove the item from the begining of the dequeue.\n",
    "\n",
    "        Raises:\n",
    "            IndexError: Items cannot be removed from the empty dequeue.\n",
    "\n",
    "        Returns:\n",
    "            Any: The removed first item.\n",
    "        \"\"\"\n",
    "        if self.isEmpty():\n",
    "            raise IndexError(\"Deque is already empty.\")\n",
    "        return self.items.pop(0)\n",
    "\n",
    "    def size(self) -> int:\n",
    "        \"\"\"Measure the length of the dequeue.\n",
    "\n",
    "        Returns:\n",
    "            int: Length of the dequeue.\n",
    "        \"\"\"\n",
    "        return self.items.size()\n"
   ]
  },
  {
   "cell_type": "markdown",
   "metadata": {},
   "source": [
    "# Zadanie 8"
   ]
  },
  {
   "cell_type": "markdown",
   "metadata": {},
   "source": [
    "W eksperymencie będę mierzył wydajność dwóch bardzo potrzebnych metod: `append` oraz `pop` - czego druga w wariancie `pop()` oraz `pop(0)`. Niech ten ostatni będzie raczej próbą zobaczenia jak od podszewki działa ta lista, której implementacja nie jest w zadaniu jawna.\n",
    "\n",
    "Porównuję *listę pythonową* oraz `UnorderedList`."
   ]
  },
  {
   "cell_type": "markdown",
   "metadata": {},
   "source": [
    "Postępuję analogicznie jak w rozwiązaniu **zadania 2**. Pracuję tylko na innych metodach."
   ]
  },
  {
   "cell_type": "code",
   "execution_count": 73,
   "metadata": {},
   "outputs": [],
   "source": [
    "def time_check_app(obj: Union[list, UnorderedList], repet: int) -> float:\n",
    "    \"\"\"Measure the time of `n` `append` method calls.\n",
    "\n",
    "    Args:\n",
    "        obj (Union[list, UnorderedList]): List class.\n",
    "        repet (int): Times to repeat.\n",
    "\n",
    "    Returns:\n",
    "        float: Time of the operation.\n",
    "    \"\"\"\n",
    "    time_a = time.time()\n",
    "    for i in range(0, repet):\n",
    "        obj.append(i)\n",
    "    time_b = time.time()\n",
    "    time_diff = time_b - time_a\n",
    "    return time_diff\n",
    "\n",
    "\n",
    "def time_check_pop(obj: Union[list, UnorderedList], repet: int) -> float:\n",
    "    \"\"\"Measure the time of `n` `pop` method calls (for the last element).\n",
    "\n",
    "    Args:\n",
    "        obj (Union[list, UnorderedList]): List class.\n",
    "        repet (int): Times to repeat.\n",
    "\n",
    "    Returns:\n",
    "        float: Time of the operation.\n",
    "    \"\"\"\n",
    "    time_a = time.time()\n",
    "    for _ in range(0, repet):\n",
    "        obj.pop()\n",
    "    time_b = time.time()\n",
    "    time_diff = time_b - time_a\n",
    "    return time_diff\n",
    "\n",
    "\n",
    "def time_check_pop0(obj: Union[list, UnorderedList], repet: int) -> float:\n",
    "    \"\"\"Measure the time of `n` `pop` method calls (for the first element).\n",
    "\n",
    "    Args:\n",
    "        obj (Union[list, UnorderedList]): List class.\n",
    "        repet (int): Times to repeat.\n",
    "\n",
    "    Returns:\n",
    "        float: Time of the operation.\n",
    "    \"\"\"\n",
    "    time_a = time.time()\n",
    "    for _ in range(0, repet):\n",
    "        obj.pop(0)\n",
    "    time_b = time.time()\n",
    "    time_diff = time_b - time_a\n",
    "    return time_diff\n"
   ]
  },
  {
   "cell_type": "markdown",
   "metadata": {},
   "source": [
    "(W pętli muszę raz zapełnić listy bez zapisu pomiaru czasu, ponieważ dwukrotnie używam `pop`.)"
   ]
  },
  {
   "cell_type": "code",
   "execution_count": 74,
   "metadata": {},
   "outputs": [
    {
     "data": {
      "image/png": "[encoded data removed]",
      "text/plain": [
       "<Figure size 432x288 with 1 Axes>"
      ]
     },
     "metadata": {
      "needs_background": "light"
     },
     "output_type": "display_data"
    },
    {
     "data": {
      "image/png": "[encoded data removed]",
      "text/plain": [
       "<Figure size 432x288 with 1 Axes>"
      ]
     },
     "metadata": {
      "needs_background": "light"
     },
     "output_type": "display_data"
    },
    {
     "data": {
      "image/png": "[encoded data removed]",
      "text/plain": [
       "<Figure size 432x288 with 1 Axes>"
      ]
     },
     "metadata": {
      "needs_background": "light"
     },
     "output_type": "display_data"
    }
   ],
   "source": [
    "a = []\n",
    "b = UnorderedList()\n",
    "rng = range(100, 2000, 100)\n",
    "\n",
    "app_a = []\n",
    "pop_a = []\n",
    "pop0_a = []\n",
    "app_b = []\n",
    "pop_b = []\n",
    "pop0_b = []\n",
    "\n",
    "for N in rng:\n",
    "    app_a.append(time_check_app(a, N))\n",
    "    app_b.append(time_check_app(b, N))\n",
    "    pop_a.append(time_check_pop(a, N))\n",
    "    pop_b.append(time_check_pop(b, N))\n",
    "    time_check_app(a, N)\n",
    "    time_check_app(b, N)\n",
    "    pop0_a.append(time_check_pop0(a, N))\n",
    "    pop0_b.append(time_check_pop0(b, N))\n",
    "\n",
    "plt.plot(rng, app_a, 'o')\n",
    "plt.plot(rng, app_b, 'o')\n",
    "plt.xlabel(\"Operations\")\n",
    "plt.ylabel(\"Time\")\n",
    "plt.title(\"Append method\")\n",
    "plt.gca().legend(('Python list', 'Unordered list'))\n",
    "plt.show()\n",
    "\n",
    "plt.plot(rng, pop_a, 'o')\n",
    "plt.plot(rng, pop_b, 'o')\n",
    "plt.xlabel(\"Operations\")\n",
    "plt.ylabel(\"Time\")\n",
    "plt.title(\"Pop the last method\")\n",
    "plt.gca().legend(('Python list', 'Unordered list'))\n",
    "plt.show()\n",
    "\n",
    "plt.plot(rng, pop0_a, 'o')\n",
    "plt.plot(rng, pop0_b, 'o')\n",
    "plt.xlabel(\"Operations\")\n",
    "plt.ylabel(\"Time\")\n",
    "plt.title(\"Pop the first method\")\n",
    "plt.gca().legend(('Python list', 'Unordered list'))\n",
    "plt.show()\n"
   ]
  },
  {
   "cell_type": "markdown",
   "metadata": {},
   "source": [
    "Wyraźnie widać, że w przypadku `pop` i `append` *lista pythonowa* sprawdza się znacznie lepiej. To ją zatem powinniśmy preferować w użytku.\n",
    "\n",
    "Dodatkowo widać, że `pop(0)` działa podobnie dla obu list, stąd można się domyślać, że *pythonowa lista* nie jest np. jednokierunkowa z przeciwnym zwrotem, bo wtedy otrzymalibyśmy odwrotny wykres do drugiego, a same pierwszy i drugi wykres mogłyby teoretycznie być w takiej formie jak to jest przedstawione wyżej."
   ]
  },
  {
   "cell_type": "code",
   "execution_count": null,
   "metadata": {},
   "outputs": [],
   "source": []
  }
 ],
 "metadata": {
  "kernelspec": {
   "display_name": "Python 3",
   "language": "python",
   "name": "python3"
  },
  "language_info": {
   "codemirror_mode": {
    "name": "ipython",
    "version": 3
   },
   "file_extension": ".py",
   "mimetype": "text/x-python",
   "name": "python",
   "nbconvert_exporter": "python",
   "pygments_lexer": "ipython3",
   "version": "3.9.7"
  }
 },
 "nbformat": 4,
 "nbformat_minor": 4
}
