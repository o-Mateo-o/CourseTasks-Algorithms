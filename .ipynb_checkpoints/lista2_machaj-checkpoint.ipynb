{
 "cells": [
  {
   "cell_type": "markdown",
   "metadata": {},
   "source": [
    "#### List 2, Algorithms_and_Data_Structures-L, PWr-W13\n",
    "#### Mateusz Machaj, 26.10.2021\n"
   ]
  },
  {
   "cell_type": "markdown",
   "metadata": {},
   "source": [
    "<u> No (a) subpoint included in the notebook. It was solved separately. </u>"
   ]
  },
  {
   "cell_type": "markdown",
   "metadata": {},
   "source": [
    "# Solving algorithms"
   ]
  },
  {
   "cell_type": "code",
   "execution_count": 1,
   "metadata": {},
   "outputs": [],
   "source": [
    "import math"
   ]
  },
  {
   "cell_type": "markdown",
   "metadata": {},
   "source": [
    "### 1. Brute force algorithm "
   ]
  },
  {
   "cell_type": "markdown",
   "metadata": {},
   "source": [
    "In this method we iterate over the whole $1, 2, \\ldots, n$ range, each time checking both conditions. It requires lots of resources. "
   ]
  },
  {
   "cell_type": "code",
   "execution_count": 4,
   "metadata": {},
   "outputs": [],
   "source": [
    "def solve_pyth_trip1(sum: int) -> Any:\n",
    "    \"\"\"Find the Pythagorean triplet summing to the given number.\n",
    "    Use the brute force method - iterate over the nested loops, going through the whole possible range.\n",
    "    For each combination verify the conditions.\n",
    "\n",
    "    Args:\n",
    "        sum (int): a number which the components sum to - `a + b + c`\n",
    "\n",
    "    Returns:\n",
    "        set: Set of three numbers satisfying the conditions - if they exist\n",
    "        bool: `False` if there is no result\n",
    "    \"\"\"   \n",
    "    for a in range(1, sum + 1):\n",
    "        for b in range(1, sum + 1):\n",
    "            for c in range(1, sum+1):\n",
    "                # iterating over all the possibilities we check both conditions\n",
    "                if a ** 2 + b ** 2 == c ** 2 and a + b + c == sum:\n",
    "                    return set([a, b, c])\n",
    "\n",
    "    return False"
   ]
  },
  {
   "cell_type": "markdown",
   "metadata": {},
   "source": [
    "### 2. Limited iteration ranges"
   ]
  },
  {
   "cell_type": "markdown",
   "metadata": {},
   "source": [
    "The following idea is based on the previous one but the ranges are limited. \n",
    "\n",
    "$$a < b < c,$$\n",
    "\n",
    "therefore\n",
    "\n",
    "$$n = a + b + c = a + (a + k_1) + (a + k_2) = 3a + k_1 + k_2,$$\n",
    "\n",
    "where obviously $k_1 + k_2 \\geq 3$.\n",
    "\n",
    "Then we get $$a \\leq \\frac{n - 3}{3}.$$\n",
    "\n",
    "When it comes to $b$, we know that $a < b$, \n",
    "\n",
    "$$n = a + b + c = a + b + (b + k_3),$$\n",
    "\n",
    "but similarly:\n",
    "$$a \\geq 1,\\, k_3 \\geq 1,$$\n",
    "\n",
    "so\n",
    "\n",
    "$$b \\leq \\frac{n - 2}{2}.$$\n",
    "\n",
    "Finally, the last component – $c$ – can be simply represented as $c = n - b - a$.\n",
    "\n",
    "With all the values from the limited-range loops only Pythagorean condition have to be verified."
   ]
  },
  {
   "cell_type": "code",
   "execution_count": 5,
   "metadata": {},
   "outputs": [],
   "source": [
    "def solve_pyth_trip2(sum: int) -> Any:\n",
    "    \"\"\"Find the Pythagorean triplet summing to the given number.\n",
    "    Iterate over limited `a` and `b` ranges, as they cannot be too large and with respect to the `a < b < c` order. \n",
    "\n",
    "    Args:\n",
    "        sum (int): a number which the components sum to - `a + b + c`\n",
    "\n",
    "    Returns:\n",
    "        set: Set of three numbers satisfying the conditions - if they exist\n",
    "        bool: `False` if there is no result\n",
    "    \"\"\"   \n",
    "    # numbers are ordered, so the first one cannot be larger than one third\n",
    "    max_a = (sum - 3) // 3\n",
    "    max_b = (sum - 2) // 2  # the second one not larger than the half, likewise\n",
    "\n",
    "    for a in range(1, max_a+1):\n",
    "        for b in range(a + 1, max_b + 1):\n",
    "            c = sum - (a + b)  # we get c from the first condition\n",
    "            if a ** 2 + b ** 2 == c ** 2:  # chceck only the Pythagorean condition\n",
    "                return set([a, b, c])\n",
    "\n",
    "    return False"
   ]
  },
  {
   "cell_type": "markdown",
   "metadata": {},
   "source": [
    "### 3. Analytical approach"
   ]
  },
  {
   "cell_type": "markdown",
   "metadata": {},
   "source": [
    "This time we will try to iterate solely over one loop.\n",
    "\n",
    "We need to determine $a$ and $b$ using $n$ and $c$.\n",
    "\n",
    "Let us start with the following condition and transform it:\n",
    "$$a^2 + b^2 = c^2$$\n",
    "\n",
    "$$a^2 + 2ab + b^2 = c^2 + 2ab,$$\n",
    "\n",
    "$$(a + b)^2 = c^2 + 2ab,$$\n",
    "\n",
    "$$2ab = (a + b)^2 - c^2,$$\n",
    "\n",
    "$$2ab = (n - c)^2 - c^2.$$\n",
    "\n",
    "Then, using obtained $2ab$ we are going to get the value of $(a-b)^2$:\n",
    "$$a^2 + b^2 = c^2$$\n",
    "\n",
    "$$a^2 - 2ab + b^2 = c^2 - 2ab,$$\n",
    "\n",
    "$$(a - b)^2 = c^2 - (n - c)^2 + c^2,$$\n",
    "\n",
    "$$(a - b)^2 = c^2 - n^2 + 2nc.$$\n",
    "\n",
    "In order to get $a - b$ we will take a square root of the equation. Additionally, knowing that $a < b \\iff a - b < 0$, we do not need to use the symbol of absolute value.\n",
    "\n",
    "At this moment a simple \"integer test\" is required, because $a - b \\in  \\mathbb{Z}.$\n",
    "\n",
    "Then, using the second condition: $a + b + c = n$, we get\n",
    "\n",
    "$$b = n - c - a,$$\n",
    "\n",
    "$$2b = n - c - a + b,$$\n",
    "\n",
    "$$b = \\frac{n - c + (b - a)}{2},$$\n",
    "\n",
    "where $b - a$ is equal to the \"root value\" (because of the minus before root).\n",
    "\n",
    "The last step is to get $a$, but $a = n - c - b$.\n",
    "\n",
    "Therefore, we iterate only over $c$. However we can do even more, thinking of $c$ as we done it in <b>(2)</b> with $a$ and $b$. \n",
    "\n",
    "$$c \\geq \\frac{n - 3}{3}.$$\n",
    "\n",
    "In addition to that, $c$ is a hypotenuse, so\n",
    "\n",
    "$$a + b < c,$$\n",
    "\n",
    "$$n - c < c,$$\n",
    "\n",
    "$$c > \\frac{n}{2}.$$"
   ]
  },
  {
   "cell_type": "code",
   "execution_count": 6,
   "metadata": {},
   "outputs": [],
   "source": [
    "def solve_pyth_trip3(sum: int) -> Any:\n",
    "    \"\"\"Find the Pythagorean triplet summing to the given number.\n",
    "    Use the analytical method and iterate only over limited `c` range.\n",
    "    Repect the fact that the remaining components can be determined by the formulas\n",
    "    and `c` cannot be arbitrarily large.\n",
    "\n",
    "    Args:\n",
    "        sum (int): a number which the components sum to - `a + b + c`\n",
    "\n",
    "    Returns:\n",
    "        set: Set of three numbers satisfying the conditions - if they exist\n",
    "        bool: `False` if there is no result\n",
    "    \"\"\"   \n",
    "    # c is the largest number so to get a whole sum we apply this condition\n",
    "    min_c = (sum + 3) // 3\n",
    "    max_c = sum // 2  # c is a hypotenuse and cannot be larger than a sum of catheti\n",
    "\n",
    "    for c in range(min_c, max_c + 1):\n",
    "        # adding and subtracting '2ab' from the equation we get the formula for '(a-b)^2'\n",
    "        ab_diff_sqrd = c ** 2 - sum ** 2 + 2 * sum * c\n",
    "        # now we take a square root of the formula and we round it - 'a-b'\n",
    "        ab_diff = math.floor(math.sqrt(abs(ab_diff_sqrd)))\n",
    "\n",
    "        if ab_diff ** 2 == ab_diff_sqrd:  # simple method to check if real 'a-b' was an integer\n",
    "            # always even - can be chcecked having considered 3 cases\n",
    "            b = int((sum - c + ab_diff) / 2)\n",
    "            a = int(sum - b - c)\n",
    "            return set([a, b, c])\n",
    "\n",
    "    return False"
   ]
  },
  {
   "cell_type": "markdown",
   "metadata": {},
   "source": [
    "# Performance of the algorithms"
   ]
  },
  {
   "cell_type": "markdown",
   "metadata": {},
   "source": [
    "Comparison of function performance for the sum being equal to 200. The solution can be found and it is a set {40, 75, 85}."
   ]
  },
  {
   "cell_type": "markdown",
   "metadata": {},
   "source": [
    "##### 1. Brute force algorithm"
   ]
  },
  {
   "cell_type": "code",
   "execution_count": 21,
   "metadata": {},
   "outputs": [
    {
     "name": "stdout",
     "output_type": "stream",
     "text": [
      "973 ms ± 18.2 ms per loop (mean ± std. dev. of 7 runs, 1 loop each)\n"
     ]
    }
   ],
   "source": [
    "%%timeit\n",
    "solve_pyth_trip1(200)"
   ]
  },
  {
   "cell_type": "markdown",
   "metadata": {},
   "source": [
    "##### 2. Limited iteration ranges"
   ]
  },
  {
   "cell_type": "code",
   "execution_count": 23,
   "metadata": {},
   "outputs": [
    {
     "name": "stdout",
     "output_type": "stream",
     "text": [
      "2.07 ms ± 41.3 µs per loop (mean ± std. dev. of 7 runs, 100 loops each)\n"
     ]
    }
   ],
   "source": [
    "%%timeit\n",
    "solve_pyth_trip2(200)"
   ]
  },
  {
   "cell_type": "markdown",
   "metadata": {},
   "source": [
    "##### 3. Analytical approach"
   ]
  },
  {
   "cell_type": "code",
   "execution_count": 20,
   "metadata": {},
   "outputs": [
    {
     "name": "stdout",
     "output_type": "stream",
     "text": [
      "22.5 µs ± 782 ns per loop (mean ± std. dev. of 7 runs, 10000 loops each)\n"
     ]
    }
   ],
   "source": [
    "%%timeit\n",
    "solve_pyth_trip3(200)"
   ]
  },
  {
   "cell_type": "markdown",
   "metadata": {},
   "source": [
    "We clearly see that the first algorithm finishes its work after about <u><b>1s</b></u>. The second does it during about <u><b>3 ms</b></u>, and the last finds the numbers after about <u><b>30µs</b></u>."
   ]
  },
  {
   "cell_type": "markdown",
   "metadata": {},
   "source": [
    "### Conclusions"
   ]
  },
  {
   "cell_type": "markdown",
   "metadata": {},
   "source": [
    "* The first algorithm is completely inefficient and cannot be used for larger sums. Too many repetitions and senseless sets occur during the iteration.\n",
    "\n",
    "* The second algorithm is able to do its job, but it requires a bit of time. Some repetitions happen.\n",
    "\n",
    "* The last one is very fast and can be easily used even for large sums. "
   ]
  },
  {
   "cell_type": "markdown",
   "metadata": {},
   "source": [
    "# Performance analysis"
   ]
  },
  {
   "cell_type": "markdown",
   "metadata": {},
   "source": [
    "##### 1. Brute force algorithm"
   ]
  },
  {
   "cell_type": "markdown",
   "metadata": {},
   "source": [
    "* Iterate three times over the same range $1, 2, \\ldots, n$ (in a sence of nesting).\n",
    "* Each time check two conditions (having performed the sum and power operations within the conditions).\n",
    "\n",
    "$$T(n) = n^3 \\cdot 2.$$\n",
    "\n",
    "Class of the algorithm is $O(n^3)$."
   ]
  },
  {
   "cell_type": "markdown",
   "metadata": {},
   "source": [
    "##### 2. Limited iteration ranges"
   ]
  },
  {
   "cell_type": "markdown",
   "metadata": {},
   "source": [
    "* Define $a$ and $b$ ranges.\n",
    "* Iterate over the range of $1, 2, \\ldots, \\frac{n}{3}-1$, each time iterate over the range of $a, a + 1, \\ldots, \\frac{n}{2}-1$ inside.\n",
    "* Find the value of $c$ and chceck the Pythagorean condition.\n",
    "\n",
    "$$T(n) = \\sum_{k=1}^{\\frac{n}{2}-1}{(\\frac{n}{3}-1)\\cdot k \\cdot 2}.$$\n",
    "\n",
    "Class of the algorithm is $O(n^2)$."
   ]
  },
  {
   "cell_type": "markdown",
   "metadata": {},
   "source": [
    "##### 3. Analytical approach"
   ]
  },
  {
   "cell_type": "markdown",
   "metadata": {},
   "source": [
    "* We define lower and higher $c$ ranges.\n",
    "* We iterate over the range of $\\frac{n}{3}+1, \\frac{n}{3}+1, \\ldots, \\frac{n}{2}$.\n",
    "* Find the value of $(a - b)^2$ and $(a - b)$.\n",
    "* Check the Pythagorean condition.\n",
    "* In case the numbers are found, assign $a$ and $b$ values to variables.\n",
    "\n",
    "$$T(n) = (\\frac{n}{2}-(\\frac{n}{3}+1)) \\cdot 3 + 2 = \\frac{n}{2}-1.$$\n",
    "\n",
    "Class of the algorithm is $O(n)$."
   ]
  },
  {
   "cell_type": "markdown",
   "metadata": {},
   "source": [
    "# Answer"
   ]
  },
  {
   "cell_type": "markdown",
   "metadata": {},
   "source": [
    "Lets use the best algorithm to find the triplet which sums to 1000."
   ]
  },
  {
   "cell_type": "code",
   "execution_count": 26,
   "metadata": {},
   "outputs": [
    {
     "name": "stdout",
     "output_type": "stream",
     "text": [
      "{200, 425, 375}\n"
     ]
    }
   ],
   "source": [
    "print(solve_pyth_trip3(1000))"
   ]
  },
  {
   "cell_type": "markdown",
   "metadata": {},
   "source": [
    "We get $a = 200$, $b = 375$ and $c = 425$."
   ]
  }
 ],
 "metadata": {
  "kernelspec": {
   "display_name": "Python 3",
   "language": "python",
   "name": "python3"
  },
  "language_info": {
   "codemirror_mode": {
    "name": "ipython",
    "version": 3
   },
   "file_extension": ".py",
   "mimetype": "text/x-python",
   "name": "python",
   "nbconvert_exporter": "python",
   "pygments_lexer": "ipython3",
   "version": "3.8.5"
  }
 },
 "nbformat": 4,
 "nbformat_minor": 4
}
