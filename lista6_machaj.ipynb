{
 "cells": [
  {
   "cell_type": "markdown",
   "id": "e7382637-12b6-4f24-9115-9147a03bb764",
   "metadata": {},
   "source": [
    "**List 6** - Algorithms and Data Structures 2021/22, WUST - F13\n",
    "\n",
    "*Author:* Mateusz Machaj, 262288\n",
    "\n",
    "*Date:* 10.01.2022"
   ]
  },
  {
   "cell_type": "markdown",
   "id": "48a275db-226a-49cb-9b21-fd1426e3b371",
   "metadata": {
    "tags": []
   },
   "source": [
    "# Import"
   ]
  },
  {
   "cell_type": "code",
   "execution_count": 1,
   "id": "9d3fc9c4-8630-4572-9281-5f884f83548b",
   "metadata": {},
   "outputs": [],
   "source": [
    "from __future__ import annotations\n",
    "\n",
    "import operator\n",
    "import string\n",
    "import time\n",
    "from typing import Any, List, Optional, Tuple, Union\n",
    "\n",
    "import matplotlib.pyplot as plt\n",
    "import numpy as np\n",
    "from scipy.optimize import curve_fit"
   ]
  },
  {
   "cell_type": "markdown",
   "id": "06632f51-dfd8-4aaa-a9b2-e9f7fe4b8f59",
   "metadata": {},
   "source": [
    "-----------------------"
   ]
  },
  {
   "cell_type": "markdown",
   "id": "6397bd93-2fc6-48fc-9ec8-8c5bc6f131ee",
   "metadata": {
    "tags": []
   },
   "source": [
    "# Task 1"
   ]
  },
  {
   "cell_type": "markdown",
   "id": "41276e1e-dc34-491e-a0f8-e2ae2ee85e7b",
   "metadata": {
    "tags": []
   },
   "source": [
    "_**Binary search tree class implementation**_"
   ]
  },
  {
   "cell_type": "markdown",
   "id": "f47e5029-3959-4729-91df-b9f8af96bac4",
   "metadata": {},
   "source": [
    "-----------------------"
   ]
  },
  {
   "cell_type": "markdown",
   "id": "032c979c-2171-4a27-97e0-fa97c78719bf",
   "metadata": {},
   "source": [
    "Implementation is written basing on the professor's lecture notes [[1]](#ref1), but some elements are modified - especially handling duplicate keys and issues regarding PEP rules. There were also a couple of mistakes to correct."
   ]
  },
  {
   "cell_type": "markdown",
   "id": "bc96ef4b-1e6d-4caa-a0a8-94dc28e889b5",
   "metadata": {},
   "source": [
    "I do not use unncessary `get` and `set` methods for attributes, because the code is written with respect to *python* conventions."
   ]
  },
  {
   "cell_type": "markdown",
   "id": "1099da09-011e-4161-9ae7-89234a7e03e7",
   "metadata": {},
   "source": [
    "## Node class"
   ]
  },
  {
   "cell_type": "markdown",
   "id": "e093ff90-c90a-4629-84e0-54c661d04e61",
   "metadata": {},
   "source": [
    "At first I create a node class representing each unit in binary tree. "
   ]
  },
  {
   "cell_type": "code",
   "execution_count": 2,
   "id": "87ba27ef-0627-4521-9138-93158548adee",
   "metadata": {},
   "outputs": [],
   "source": [
    "class TreeNode:\n",
    "    \"\"\"Binary tree node class giving all the info about properities and setting new data.\"\"\"\n",
    "\n",
    "    def __init__(\n",
    "        self,\n",
    "        key: int,\n",
    "        value: Any = None,\n",
    "        parent: TreeNode = None,\n",
    "        left_ch: TreeNode = None,\n",
    "        right_ch: TreeNode = None,\n",
    "    ):\n",
    "        \"\"\"Create new node and evaluate height of it as a subtree root.\n",
    "\n",
    "        Args:\n",
    "            key (int): Node's key.\n",
    "            value (Any, optional): Node's value. Defaults to None.\n",
    "            parent (TreeNode, optional): Parent of the node. Defaults to None.\n",
    "            left_ch (TreeNode, optional): Left child of the node. Defaults to None.\n",
    "            right_ch (TreeNode, optional): Right child of the node. Defaults to None.\n",
    "        \"\"\"\n",
    "        self.key = key\n",
    "        self.value = value\n",
    "        self.parent = parent\n",
    "        self.left_ch = left_ch\n",
    "        self.right_ch = right_ch\n",
    "\n",
    "        self.height = 1\n",
    "        self.eval_height()  # used only for AVL Tree\n",
    "\n",
    "    def is_root(self) -> bool:\n",
    "        \"\"\"Tell if the node is the main root of the tree.\n",
    "\n",
    "        Returns:\n",
    "            bool: Info about being a general root.\n",
    "        \"\"\"\n",
    "        return not self.parent\n",
    "\n",
    "    def is_left_ch(self) -> bool:\n",
    "        \"\"\"Tell if the node is left child of some other node.\n",
    "\n",
    "        Returns:\n",
    "            bool: Info about being a left child.\n",
    "        \"\"\"\n",
    "        return self.parent and self.parent.left_ch is self\n",
    "\n",
    "    def is_right_ch(self) -> bool:\n",
    "        \"\"\"Tell if the node is right child of some other node.\n",
    "\n",
    "        Returns:\n",
    "            bool: Info about being a right child.\n",
    "        \"\"\"\n",
    "        return self.parent and self.parent.right_ch is self\n",
    "\n",
    "    def has_left_ch(self) -> bool:\n",
    "        \"\"\"Tell if the node has a left child.\n",
    "\n",
    "        Returns:\n",
    "            bool: Info about having a left child.\n",
    "        \"\"\"\n",
    "        return self.left_ch\n",
    "\n",
    "    def has_right_ch(self) -> bool:\n",
    "        \"\"\"Tell if the node has a right child.\n",
    "\n",
    "        Returns:\n",
    "            bool: Info about having a right child.\n",
    "        \"\"\"\n",
    "        return self.right_ch\n",
    "\n",
    "    def children_number(self) -> int:\n",
    "        \"\"\"Check the number of node's children.\n",
    "\n",
    "        Returns:\n",
    "            int: Number of children.\n",
    "        \"\"\"\n",
    "        if self.left_ch and self.right_ch:\n",
    "            return 2\n",
    "        elif not (self.left_ch or self.right_ch):\n",
    "            return 0\n",
    "        else:\n",
    "            return 1\n",
    "\n",
    "    def is_leaf(self) -> bool:\n",
    "        \"\"\"Check if node has any children (if not it is a \"leaf\").\n",
    "\n",
    "        Returns:\n",
    "            bool: Info about having any children.\n",
    "        \"\"\"\n",
    "        return not bool(self.children_number())\n",
    "\n",
    "    def get_item_data(self) -> Tuple[int, Any]:\n",
    "        \"\"\"Get node's key and a proper value.\n",
    "\n",
    "        Returns:\n",
    "            Tuple[int, Any]: Item key and value.\n",
    "        \"\"\"\n",
    "        return self.key, self.value\n",
    "\n",
    "    def set_item_data(self, key: int, value: Any = None):\n",
    "        \"\"\"Set new key and value for a node.\n",
    "\n",
    "        Args:\n",
    "            key (int): New key.\n",
    "            value (Any, optional): New value. Defaults to None.\n",
    "        \"\"\"\n",
    "        self.key = key\n",
    "        self.value = value\n",
    "\n",
    "    def get_children(self) -> Tuple[TreeNode, TreeNode]:\n",
    "        \"\"\"Find node's children.\n",
    "\n",
    "        Returns:\n",
    "            Tuple[TreeNode, TreeNode]: Children refernces.\n",
    "        \"\"\"\n",
    "        return self.left_ch, self.right_ch\n",
    "\n",
    "    def get_children_heights(self) -> Tuple[int, int]:\n",
    "        \"\"\"Find heights of left and right subtrees of the node.\n",
    "        Height is a number of levels below until the tree ends (nodes have no more children); it is counted along with the base node.\n",
    "\n",
    "        Returns:\n",
    "            Tuple[int, int]: Subtrees heights.\n",
    "        \"\"\"\n",
    "        if self.left_ch:\n",
    "            left_height = self.left_ch.height\n",
    "        else:\n",
    "            left_height = 0\n",
    "        if self.right_ch:\n",
    "            right_height = self.right_ch.height\n",
    "        else:\n",
    "            right_height = 0\n",
    "        return left_height, right_height\n",
    "\n",
    "    def eval_height(self):\n",
    "        \"\"\"Recalculate the height of a current node.\"\"\"\n",
    "        left_height, right_height = self.get_children_heights()\n",
    "        own_height = 1 + max(left_height, right_height)\n",
    "        self.height = own_height\n",
    "\n",
    "    def set_children(self, left_ch: TreeNode = False, right_ch: TreeNode = False):\n",
    "        \"\"\"Set new children to a real child or `None` - if it is required to delete some.\n",
    "        Recalculate the heights and take care about parent-children relation service (also in peculiar cases).\n",
    "\n",
    "        Args:\n",
    "            left_ch (TreeNode, optional): New left child. Defaults to False.\n",
    "            right_ch (TreeNode, optional): New right child. Defaults to False.\n",
    "        \"\"\"\n",
    "        if not left_ch is False:\n",
    "            self.left_ch = left_ch\n",
    "            if self.parent == left_ch:\n",
    "                if left_ch:\n",
    "                    self.parent = left_ch.parent\n",
    "                else:\n",
    "                    self.parent = None\n",
    "            if left_ch:\n",
    "                self.left_ch.parent = self\n",
    "            self.eval_height()\n",
    "            node = self\n",
    "            while node.parent:\n",
    "                node.parent.eval_height()\n",
    "                node = node.parent\n",
    "\n",
    "        if not right_ch is False:\n",
    "            self.right_ch = right_ch\n",
    "            if self.parent == right_ch:\n",
    "                if right_ch:\n",
    "                    self.parent = right_ch.parent\n",
    "                else:\n",
    "                    self.parent = None\n",
    "            if right_ch:\n",
    "                self.right_ch.parent = self\n",
    "            self.eval_height()\n",
    "            node = self\n",
    "            while node.parent:\n",
    "                node.parent.eval_height()\n",
    "                node = node.parent\n",
    "\n",
    "    def get_balance_fact(self) -> int:\n",
    "        \"\"\"Find the node's balance factor - difference between subtrees heights.\n",
    "\n",
    "        Returns:\n",
    "            int: Balance factor.\n",
    "        \"\"\"\n",
    "        left_height, right_height = self.get_children_heights()\n",
    "        balance_fact = left_height - right_height\n",
    "        return balance_fact"
   ]
  },
  {
   "cell_type": "markdown",
   "id": "54707c2c-a662-4983-b153-73eb781ac0be",
   "metadata": {
    "tags": []
   },
   "source": [
    "## Main tree class"
   ]
  },
  {
   "cell_type": "markdown",
   "id": "adf7016b-b27f-4af2-a463-aaf38c54eed1",
   "metadata": {},
   "source": [
    "Now, the main binary search tree class."
   ]
  },
  {
   "cell_type": "markdown",
   "id": "7dc04e6c-f3f4-4711-829d-30f984b927d6",
   "metadata": {},
   "source": [
    "I assume that **repeated keys are not allowed** [[2]](#ref2). It means that left children are strictly smaller and right - strictly greater (unlike in the lecture notes)."
   ]
  },
  {
   "cell_type": "code",
   "execution_count": 3,
   "id": "98329157-c344-4391-a782-7c917b379320",
   "metadata": {
    "tags": []
   },
   "outputs": [],
   "source": [
    "class BSTree:\n",
    "    \"\"\"Basic binary search tree with a neat `str` representation added.\n",
    "    It allows to use python set `[]`, get `[]`, `del` key, `str`, `in` and `len` \"operators\".\n",
    "    \"\"\"\n",
    "\n",
    "    def __init__(self):\n",
    "        \"\"\"Create a new BS tree without nodes.\"\"\"\n",
    "        self.root = None\n",
    "        self.size = 0\n",
    "\n",
    "    def length(self) -> int:\n",
    "        \"\"\"Find tree size - number if nodes.\n",
    "\n",
    "        Returns:\n",
    "            int: Tree size.\n",
    "        \"\"\"\n",
    "        return self.size\n",
    "\n",
    "    def __len__(self) -> int:\n",
    "        \"\"\"Find tree size - number if nodes. Handle the special operator usage.\n",
    "\n",
    "        Returns:\n",
    "            int: Tree size.\n",
    "        \"\"\"\n",
    "        return self.size\n",
    "\n",
    "    def _put(self, key: int, value: Any, current_node: TreeNode):\n",
    "        \"\"\"A helper function.\n",
    "        Add a new node as a children in appropriate place or change the one with the same key.\n",
    "\n",
    "        Args:\n",
    "            key (int): New node's key.\n",
    "            value (Any): New node's value.\n",
    "            current_node (TreeNode): The node to start place searching for the new node.\n",
    "        \"\"\"\n",
    "        if key < current_node.key:\n",
    "            if current_node.has_left_ch():\n",
    "                self._put(key, value, current_node.left_ch)\n",
    "            else:\n",
    "                current_node.set_children(left_ch=TreeNode(key, value))\n",
    "        elif key > current_node.key:\n",
    "            if current_node.has_right_ch():\n",
    "                self._put(key, value, current_node.right_ch)\n",
    "            else:\n",
    "                current_node.set_children(right_ch=TreeNode(key, value))\n",
    "        elif key == current_node.key:\n",
    "            current_node.value = value\n",
    "\n",
    "    def put(self, key: int, value: Any = None):\n",
    "        \"\"\"Add new node (or change one) and adjust the tree size.\n",
    "\n",
    "        Args:\n",
    "            key (int): New node's key.\n",
    "            value (Any): New node's value. Defaults to None.\n",
    "\n",
    "        Raises:\n",
    "            TypeError: Raised when the given key is not an integer.\n",
    "        \"\"\"\n",
    "        if not isinstance(key, int):\n",
    "            raise TypeError(\"Key have to be an integer.\")\n",
    "        if self.root:\n",
    "            self._put(key, value, self.root)\n",
    "        else:\n",
    "            self.root = TreeNode(key, value)\n",
    "        self.size += 1\n",
    "\n",
    "    def put_nv_list(self, key_list: List[int]):\n",
    "        \"\"\"Add or replece nodes with keys from the list. Leave their values as `None`.\n",
    "        Use `put` method for each.\n",
    "\n",
    "        Args:\n",
    "            key_list (List[int]): List of node keys to be added.\n",
    "        \"\"\"\n",
    "        for key in key_list:\n",
    "            self.put(key)\n",
    "\n",
    "    def __setitem__(self, key: int, value: Any):\n",
    "        \"\"\"Add or change the node using special set operator.\n",
    "\n",
    "        Args:\n",
    "            key (int): New node's key.\n",
    "            value (Any): New node's value.\n",
    "        \"\"\"\n",
    "        self.put(key, value)\n",
    "\n",
    "    def _get(self, key: int, current_node: TreeNode = None) -> TreeNode:\n",
    "        \"\"\"A helper function.\n",
    "        Get a value of the node with the given key starting from the given place.\n",
    "\n",
    "        Args:\n",
    "            key (int): Key of the node which value is requested.\n",
    "            current_node (TreeNode, optional): Node to start searching from. Defaults to None.\n",
    "\n",
    "        Raises:\n",
    "            KeyError: Raised with the key is not in the tree.\n",
    "\n",
    "        Returns:\n",
    "            TreeNode: Value of a node with the given key.\n",
    "        \"\"\"\n",
    "        if not current_node:\n",
    "            current_node = self.root\n",
    "        if key < current_node.key:\n",
    "            if current_node.has_left_ch():\n",
    "                return self._get(key, current_node.left_ch)\n",
    "            else:\n",
    "                raise KeyError(\"Key not found.\")\n",
    "        elif key > current_node.key:\n",
    "            if current_node.has_right_ch():\n",
    "                return self._get(key, current_node.right_ch)\n",
    "            else:\n",
    "                raise KeyError(\"Key not found.\")\n",
    "        elif key == current_node.key:\n",
    "            return current_node\n",
    "\n",
    "    def get(self, key: int) -> Any:\n",
    "        \"\"\"Get a value of the node with the given key.\n",
    "\n",
    "        Args:\n",
    "            key (int): Key of the node which value is requested.\n",
    "\n",
    "        Raises:\n",
    "            Exception: No nodes with values in an ampty tree.\n",
    "\n",
    "        Returns:\n",
    "            Any: Value of a node with the given key.\n",
    "        \"\"\"\n",
    "        if self.root:\n",
    "            search_res = self._get(key, self.root)\n",
    "            return search_res.value\n",
    "        else:\n",
    "            raise Exception(\"Tree is empty. Cannot find the key.\")\n",
    "\n",
    "    def __getitem__(self, key: int) -> Any:\n",
    "        \"\"\"Get a value of the node with the given key using special get operator.\n",
    "\n",
    "        Args:\n",
    "            key (int): Key of the node which value is requested.\n",
    "\n",
    "        Returns:\n",
    "            Any: Value of a node with the given key.\n",
    "        \"\"\"\n",
    "        return self.get(key)\n",
    "\n",
    "    def __contains__(self, key: int) -> bool:\n",
    "        \"\"\"Check if the tree contains a node with the given key.\n",
    "\n",
    "        Args:\n",
    "            key (int): Key to check the presence.\n",
    "\n",
    "        Returns:\n",
    "            bool: Info about presence.\n",
    "        \"\"\"\n",
    "        if self._get(key, self.root):\n",
    "            return True\n",
    "        else:\n",
    "            return False\n",
    "\n",
    "    def _find_min(self, current_node: TreeNode = None) -> TreeNode:\n",
    "        \"\"\"Find a node with the minimal key. Start from the given place.\n",
    "\n",
    "        Args:\n",
    "            current_node (TreeNode, optional): Node to start searching from. Defaults to None.\n",
    "\n",
    "        Returns:\n",
    "            TreeNode: Minimal node.\n",
    "        \"\"\"\n",
    "        if not current_node:\n",
    "            current_node = self.root\n",
    "        while current_node.has_left_ch():\n",
    "            current_node = current_node.left_ch\n",
    "        return current_node\n",
    "\n",
    "    def first_item(self) -> Tuple[int, Any]:\n",
    "        \"\"\"Get the items of the node with a minimal key.\n",
    "\n",
    "        Returns:\n",
    "            Tuple[int, Any]: Key and value of the minimal node.\n",
    "        \"\"\"\n",
    "        min_key_node = self._find_min()\n",
    "        return (min_key_node.key, min_key_node.value)\n",
    "\n",
    "    def _find_max(self, current_node: TreeNode = None) -> TreeNode:\n",
    "        \"\"\"Find a node with the maximal key. Start from the given place.\n",
    "\n",
    "        Args:\n",
    "            current_node (TreeNode, optional): Node to start searching from. Defaults to None.\n",
    "\n",
    "        Returns:\n",
    "            TreeNode: Maximal node.\n",
    "        \"\"\"\n",
    "        if not current_node:\n",
    "            current_node = self.root\n",
    "        while current_node.has_right_ch():\n",
    "            current_node = current_node.right_ch\n",
    "        return current_node\n",
    "\n",
    "    def last_item(self) -> Tuple[int, Any]:\n",
    "        \"\"\"Get the items of the node with a maximal key.\n",
    "\n",
    "        Returns:\n",
    "            Tuple[int, Any]: Key and value of the maximal node.\n",
    "        \"\"\"\n",
    "        max_key_node = self._find_max()\n",
    "        return (max_key_node.key, max_key_node.value)\n",
    "\n",
    "    def _find_successor(self, current_node: TreeNode = None) -> Optional[TreeNode]:\n",
    "        \"\"\"Find the next (\"successor\") node - the one with the smallest key greater by the current's one.\n",
    "\n",
    "        Args:\n",
    "            current_node (TreeNode, optional): Node to find the \"successor\" for. Defaults to None.\n",
    "\n",
    "        Returns:\n",
    "            Optional[TreeNode]: \"Successor\" node.\n",
    "        \"\"\"\n",
    "        if not current_node:\n",
    "            current_node = self.root\n",
    "        succ = None\n",
    "        if current_node.has_right_ch():\n",
    "            succ = self._find_min(current_node.right_ch)\n",
    "        else:\n",
    "            if not current_node.is_root():\n",
    "                if current_node.is_left_ch():\n",
    "                    succ = current_node.parent\n",
    "                else:\n",
    "                    current_node.parent.right_ch = None\n",
    "                    succ = self._find_successor(current_node.parent)\n",
    "                    current_node.parent.right_ch = current_node\n",
    "        return succ\n",
    "\n",
    "    def _remove(self, current_node: TreeNode):\n",
    "        \"\"\"Remove the given node and fix the order in the tree.\n",
    "        Consider all cases of removing.\n",
    "\n",
    "        Args:\n",
    "            current_node (TreeNode): Node to remove.\n",
    "\n",
    "        Raises:\n",
    "            Exception: Root \"successor\" cannot be found for some reason. Cannot remove the node.\n",
    "        \"\"\"\n",
    "        if current_node.is_leaf():\n",
    "            if current_node.is_left_ch():\n",
    "                current_node.parent.set_children(left_ch=None)\n",
    "            else:\n",
    "                current_node.parent.set_children(right_ch=None)\n",
    "        elif current_node.children_number() == 2:\n",
    "            succ = self._find_successor(current_node)\n",
    "            if not succ:\n",
    "                raise Exception(\"Successor searching error.\")\n",
    "            current_node.set_item_data(*succ.get_item_data())\n",
    "            self._remove(succ)\n",
    "\n",
    "        else:\n",
    "            if current_node.has_left_ch():\n",
    "                child = current_node.left_ch\n",
    "            else:\n",
    "                child = current_node.right_ch\n",
    "\n",
    "            if current_node.is_left_ch():\n",
    "                current_node.parent.set_children(left_ch=child)\n",
    "            elif current_node.is_right_ch():\n",
    "                current_node.parent.set_children(right_ch=child)\n",
    "            else:\n",
    "                current_node.set_item_data(*child.get_item_data())\n",
    "                current_node.set_children(*child.get_children())\n",
    "\n",
    "    def delete(self, key: int):\n",
    "        \"\"\"Delete a node with the given key.\n",
    "        Use fixing tools to keep the proper order in the tree.\n",
    "\n",
    "        Args:\n",
    "            key (int): Key of the node to delete.\n",
    "\n",
    "        Raises:\n",
    "            KeyError: Key is not in the tree.\n",
    "            Exception: No nodes to delete in an ampty tree.\n",
    "        \"\"\"\n",
    "        if self.size > 1:\n",
    "            current_node = self._get(key)\n",
    "            if current_node:\n",
    "                self._remove(current_node)\n",
    "                self.size -= 1\n",
    "            else:\n",
    "                raise KeyError(\"Key not found.\")\n",
    "        elif self.size == 1 and self.root.key == key:\n",
    "            self.root = None\n",
    "            self.size -= 1\n",
    "        else:\n",
    "            raise Exception(\"Tree is empty. Cannot find the key.\")\n",
    "\n",
    "    def __delitem__(self, key: int):\n",
    "        \"\"\"Delete a node with the given key using special deletion operator.\n",
    "\n",
    "        Args:\n",
    "            key (int): Key of the node to delete.\n",
    "        \"\"\"\n",
    "        self.delete(key)\n",
    "\n",
    "    def __str__(self) -> str:\n",
    "        \"\"\"Prepare a simple text representation for printing the tree.\n",
    "        Show only structure and keys. No values.\n",
    "\n",
    "        Returns:\n",
    "            str: Tree ascii representation.\n",
    "        \"\"\"\n",
    "        expr_list = []\n",
    "\n",
    "        def preorder(node, tab_cnt):\n",
    "            if node:\n",
    "                expr_list.append(\"|   \" * (tab_cnt - 1))\n",
    "                expr_list.append(\"|>>>\" * bool(tab_cnt))\n",
    "                expr_list.append(node.key)\n",
    "                expr_list.append(\"\\n\")\n",
    "                tab_cnt += 1\n",
    "                if node.left_ch or node.right_ch:\n",
    "                    preorder(node.left_ch, tab_cnt)\n",
    "                    preorder(node.right_ch, tab_cnt)\n",
    "                    tab_cnt -= 1\n",
    "            else:\n",
    "                expr_list.append(\"|   \" * (tab_cnt - 1))\n",
    "                expr_list.append(\"|.\" * bool(tab_cnt))\n",
    "                expr_list.append(\"\\n\")\n",
    "                tab_cnt += 1\n",
    "            tab_cnt -= 1\n",
    "\n",
    "        preorder(self.root, 0)\n",
    "        str_repr = \"\".join(map(str, expr_list))\n",
    "        return str_repr"
   ]
  },
  {
   "cell_type": "markdown",
   "id": "df41eeee-3716-404e-9528-d6492aa7faa6",
   "metadata": {},
   "source": [
    "While using the class only with the methods provided there are no issues with double keys. Changing any values manually causes many problems and creates ambiguous situation in key set. I do not handle this for obvious reasons. In other languages external inaccessibility of attributes solves it. In *python* we assume reasonable usage."
   ]
  },
  {
   "cell_type": "markdown",
   "id": "5805afbd-a836-4187-bbad-8f590b8f2b27",
   "metadata": {},
   "source": [
    "## AVL Tree"
   ]
  },
  {
   "cell_type": "markdown",
   "id": "2aa9fda0-52b9-412c-811a-9540955bcf14",
   "metadata": {},
   "source": [
    "Having the basic *binary search tree* class, we can also implement *AVL tree* - as it is done in notes [[1]](#ref1), so by inheritance. This is going to be our final product."
   ]
  },
  {
   "cell_type": "code",
   "execution_count": 4,
   "id": "3fdd4185-22a5-4f9a-a1e8-4ffe0c3418bd",
   "metadata": {},
   "outputs": [],
   "source": [
    "class AVLTree(BSTree):\n",
    "    \"\"\"Improved binary search tree. It balances its structure after each operation.\n",
    "\n",
    "    Args:\n",
    "        BSTree ([type]): [description]\n",
    "    \"\"\"\n",
    "\n",
    "    def _rotate_left(self, rot_root: TreeNode):\n",
    "        \"\"\"Left rotating of some subtree to provide a balance.\n",
    "\n",
    "        Args:\n",
    "            rot_root (TreeNode): Root for a rotation - first imbalanced node.\n",
    "        \"\"\"\n",
    "        new_root = rot_root.right_ch\n",
    "        rot_root.set_children(right_ch=new_root.left_ch)\n",
    "        if not rot_root.is_root():\n",
    "            if rot_root.is_left_ch():\n",
    "                rot_root.parent.set_children(left_ch=new_root)\n",
    "            else:\n",
    "                rot_root.parent.set_children(right_ch=new_root)\n",
    "        else:\n",
    "            self.root = new_root\n",
    "        new_root.set_children(left_ch=rot_root)\n",
    "\n",
    "    def _rotate_right(self, rot_root: TreeNode):\n",
    "        \"\"\"Right rotating of some subtree to provide a balance.\n",
    "\n",
    "        Args:\n",
    "            rot_root (TreeNode): Root for a rotation - first imbalanced node.\n",
    "        \"\"\"\n",
    "        new_root = rot_root.left_ch\n",
    "        rot_root.set_children(left_ch=new_root.right_ch)\n",
    "        if not rot_root.is_root():\n",
    "            if rot_root.is_left_ch():\n",
    "                rot_root.parent.set_children(left_ch=new_root)\n",
    "            else:\n",
    "                rot_root.parent.set_children(right_ch=new_root)\n",
    "        else:\n",
    "            self.root = new_root\n",
    "        new_root.set_children(right_ch=rot_root)\n",
    "\n",
    "    def _rebalance(self, current_node: TreeNode):\n",
    "        \"\"\"A helper function.\n",
    "        Use rotations to bring the balance back.\n",
    "\n",
    "        Args:\n",
    "            current_node (TreeNode): Root for rotations - the imbalanced node.\n",
    "        \"\"\"\n",
    "        if current_node.get_balance_fact() < 0:\n",
    "            if current_node.right_ch.get_balance_fact() > 0:\n",
    "                self._rotate_right(current_node.right_ch)\n",
    "                self._rotate_left(current_node)\n",
    "            else:\n",
    "                self._rotate_left(current_node)\n",
    "        elif current_node.get_balance_fact() > 0:\n",
    "            if current_node.left_ch.get_balance_fact() < 0:\n",
    "                self._rotate_left(current_node.left_ch)\n",
    "                self._rotate_right(current_node)\n",
    "            else:\n",
    "                self._rotate_right(current_node)\n",
    "\n",
    "    def _update_balance(self, current_node: TreeNode):\n",
    "        \"\"\"Update node's subtree balance by finding a proper pivot and - if needed - rebalancing some part of the tree.\n",
    "        `_rebalance` method is used to bring back the balance.\n",
    "\n",
    "        Args:\n",
    "            current_node (TreeNode): Node to update its balance.\n",
    "        \"\"\"\n",
    "        if abs(current_node.get_balance_fact()) > 1:\n",
    "            self._rebalance(current_node)\n",
    "        elif not current_node.is_root():\n",
    "            if current_node.parent.get_balance_fact() != 0:\n",
    "                self._update_balance(current_node.parent)\n",
    "\n",
    "    def _put(self, key: int, value: Any, current_node: TreeNode):\n",
    "        \"\"\"A helper function.\n",
    "        Add a new node as a children in appropriate place or change the one with the same key.\n",
    "        Update the balance too.\n",
    "\n",
    "        Args:\n",
    "            key (int): New node's key.\n",
    "            value (Any): New node's value.\n",
    "            current_node (TreeNode): The node to start place searching for the new node.\n",
    "        \"\"\"\n",
    "        if key < current_node.key:\n",
    "            if current_node.has_left_ch():\n",
    "                self._put(key, value, current_node.left_ch)\n",
    "            else:\n",
    "                current_node.set_children(left_ch=TreeNode(key, value))\n",
    "                self._update_balance(current_node.left_ch)\n",
    "        elif key > current_node.key:\n",
    "            if current_node.has_right_ch():\n",
    "                self._put(key, value, current_node.right_ch)\n",
    "            else:\n",
    "                current_node.set_children(right_ch=TreeNode(key, value))\n",
    "                self._update_balance(current_node.right_ch)\n",
    "        elif key == current_node.key:\n",
    "            current_node.value = value\n",
    "\n",
    "    def _remove(self, current_node: TreeNode):\n",
    "        \"\"\"Remove the given node and fix the order in the tree.\n",
    "        Consider all cases of removing.\n",
    "        Update the balance too.\n",
    "\n",
    "        Args:\n",
    "            current_node (TreeNode): Node to remove.\n",
    "\n",
    "        Raises:\n",
    "            Exception: Root \"successor\" cannot be found for some reason. Cannot remove the node.\n",
    "        \"\"\"\n",
    "        if current_node.is_leaf():\n",
    "            parent_node = current_node.parent\n",
    "            if current_node.is_left_ch():\n",
    "                parent_node.set_children(left_ch=None)\n",
    "            else:\n",
    "                parent_node.set_children(right_ch=None)\n",
    "            self._update_balance(parent_node)\n",
    "        elif current_node.children_number() == 2:\n",
    "            succ = self._find_successor(current_node)\n",
    "            if not succ:\n",
    "                raise Exception(\"Successor searching error.\")\n",
    "            current_node.set_item_data(*succ.get_item_data())\n",
    "            self._remove(succ)\n",
    "\n",
    "        else:\n",
    "            parent_node = current_node.parent\n",
    "            if current_node.has_left_ch():\n",
    "                child = current_node.left_ch\n",
    "            else:\n",
    "                child = current_node.right_ch\n",
    "\n",
    "            if current_node.is_left_ch():\n",
    "                parent_node.set_children(left_ch=child)\n",
    "                self._update_balance(parent_node)\n",
    "            elif current_node.is_right_ch():\n",
    "                parent_node.set_children(right_ch=child)\n",
    "                self._update_balance(parent_node)\n",
    "            else:\n",
    "                current_node.set_item_data(*child.get_item_data())\n",
    "                current_node.set_children(*child.get_children())\n",
    "                self._update_balance(current_node)"
   ]
  },
  {
   "cell_type": "markdown",
   "id": "e4fc9063-9e7d-4ae6-b72b-a35c452f22d8",
   "metadata": {
    "tags": []
   },
   "source": [
    "## Presentation"
   ]
  },
  {
   "cell_type": "markdown",
   "id": "4ee1ec16-1b7d-428d-9dcc-f19aa5b5e09e",
   "metadata": {},
   "source": [
    "I will start wit a basic *binary search tree*. After adding new elements it is not balanced."
   ]
  },
  {
   "cell_type": "code",
   "execution_count": 5,
   "id": "bb1dd093-2fc0-43fa-8f75-7173d6723b02",
   "metadata": {},
   "outputs": [],
   "source": [
    "bst = BSTree()\n",
    "bst.put_nv_list([1, 2, 3, 4, 5, 6, 7, 8])"
   ]
  },
  {
   "cell_type": "code",
   "execution_count": 6,
   "id": "42724905-2fc7-424e-8ec7-a46ecd5b59e3",
   "metadata": {},
   "outputs": [
    {
     "name": "stdout",
     "output_type": "stream",
     "text": [
      "1\n",
      "|.\n",
      "|>>>2\n",
      "|   |.\n",
      "|   |>>>3\n",
      "|   |   |.\n",
      "|   |   |>>>4\n",
      "|   |   |   |.\n",
      "|   |   |   |>>>5\n",
      "|   |   |   |   |.\n",
      "|   |   |   |   |>>>6\n",
      "|   |   |   |   |   |.\n",
      "|   |   |   |   |   |>>>7\n",
      "|   |   |   |   |   |   |.\n",
      "|   |   |   |   |   |   |>>>8\n",
      "\n"
     ]
    }
   ],
   "source": [
    "print(bst)"
   ]
  },
  {
   "cell_type": "markdown",
   "id": "97d56733-b961-4727-aac4-a5b5fe700d78",
   "metadata": {},
   "source": [
    "Whereas, *AVL tree* balances the distribution on the fly:"
   ]
  },
  {
   "cell_type": "code",
   "execution_count": 7,
   "id": "0e6c1f0c-f8fe-46a8-a402-8cfd2bea5ea3",
   "metadata": {},
   "outputs": [],
   "source": [
    "avlt = AVLTree()\n",
    "avlt.put_nv_list([1, 2, 3, 4, 5, 6, 7, 8])"
   ]
  },
  {
   "cell_type": "code",
   "execution_count": 8,
   "id": "f6befdeb-e7ec-49ac-998d-2232a2aa004c",
   "metadata": {},
   "outputs": [
    {
     "name": "stdout",
     "output_type": "stream",
     "text": [
      "4\n",
      "|>>>2\n",
      "|   |>>>1\n",
      "|   |>>>3\n",
      "|>>>6\n",
      "|   |>>>5\n",
      "|   |>>>7\n",
      "|   |   |.\n",
      "|   |   |>>>8\n",
      "\n"
     ]
    }
   ],
   "source": [
    "print(avlt)"
   ]
  },
  {
   "cell_type": "markdown",
   "id": "33365a3b-4a07-4f16-907a-1e9040f81dc2",
   "metadata": {},
   "source": [
    "All kinds of deletions also work:"
   ]
  },
  {
   "cell_type": "code",
   "execution_count": 9,
   "id": "98c77a6d-0bb6-44ec-b57e-e7f0b220e8b6",
   "metadata": {},
   "outputs": [],
   "source": [
    "del avlt[8]"
   ]
  },
  {
   "cell_type": "code",
   "execution_count": 10,
   "id": "3b5213af-e144-4b82-9b6a-c0f5f5e37c48",
   "metadata": {},
   "outputs": [
    {
     "name": "stdout",
     "output_type": "stream",
     "text": [
      "4\n",
      "|>>>2\n",
      "|   |>>>1\n",
      "|   |>>>3\n",
      "|>>>6\n",
      "|   |>>>5\n",
      "|   |>>>7\n",
      "\n"
     ]
    }
   ],
   "source": [
    "print(avlt)"
   ]
  },
  {
   "cell_type": "code",
   "execution_count": 11,
   "id": "3103c012",
   "metadata": {},
   "outputs": [],
   "source": [
    "avlt.put_nv_list([9, 8, 10])"
   ]
  },
  {
   "cell_type": "code",
   "execution_count": 12,
   "id": "66ff035f-f7bd-4e9f-a7e3-bccb65a6dc2e",
   "metadata": {},
   "outputs": [],
   "source": [
    "del avlt[5]"
   ]
  },
  {
   "cell_type": "code",
   "execution_count": 13,
   "id": "72818df6-f1e2-483c-91b8-a7a09ceb0fb3",
   "metadata": {},
   "outputs": [
    {
     "name": "stdout",
     "output_type": "stream",
     "text": [
      "4\n",
      "|>>>2\n",
      "|   |>>>1\n",
      "|   |>>>3\n",
      "|>>>8\n",
      "|   |>>>6\n",
      "|   |   |.\n",
      "|   |   |>>>7\n",
      "|   |>>>9\n",
      "|   |   |.\n",
      "|   |   |>>>10\n",
      "\n"
     ]
    }
   ],
   "source": [
    "print(avlt)"
   ]
  },
  {
   "cell_type": "code",
   "execution_count": 14,
   "id": "2b00d2c1-ffd7-4e3b-a124-adbc543dd035",
   "metadata": {},
   "outputs": [],
   "source": [
    "del avlt[6]"
   ]
  },
  {
   "cell_type": "code",
   "execution_count": 15,
   "id": "d6bc37ab-6ae4-4917-b3fd-e4ba39487980",
   "metadata": {},
   "outputs": [
    {
     "name": "stdout",
     "output_type": "stream",
     "text": [
      "4\n",
      "|>>>2\n",
      "|   |>>>1\n",
      "|   |>>>3\n",
      "|>>>8\n",
      "|   |>>>7\n",
      "|   |>>>9\n",
      "|   |   |.\n",
      "|   |   |>>>10\n",
      "\n"
     ]
    }
   ],
   "source": [
    "print(avlt)"
   ]
  },
  {
   "cell_type": "markdown",
   "id": "86ec9384-1de5-412f-86b5-3bee9df296b4",
   "metadata": {},
   "source": [
    "Of course, it is possible to add the items again."
   ]
  },
  {
   "cell_type": "code",
   "execution_count": 16,
   "id": "497419fc-0c8d-4137-83e7-e102d5bad16b",
   "metadata": {},
   "outputs": [],
   "source": [
    "avlt[6] = 5"
   ]
  },
  {
   "cell_type": "code",
   "execution_count": 17,
   "id": "c78908a5-9fcf-47ae-b73d-8fbe136b89d0",
   "metadata": {},
   "outputs": [
    {
     "name": "stdout",
     "output_type": "stream",
     "text": [
      "4\n",
      "|>>>2\n",
      "|   |>>>1\n",
      "|   |>>>3\n",
      "|>>>8\n",
      "|   |>>>7\n",
      "|   |   |>>>6\n",
      "|   |   |.\n",
      "|   |>>>9\n",
      "|   |   |.\n",
      "|   |   |>>>10\n",
      "\n"
     ]
    }
   ],
   "source": [
    "print(avlt)"
   ]
  },
  {
   "cell_type": "markdown",
   "id": "150a0ce4-0cc9-47a1-ae6e-b456bfdd3b86",
   "metadata": {},
   "source": [
    "We can also find the smallest item in the tree (item is a tuple of key and value and we sort it by keys):"
   ]
  },
  {
   "cell_type": "code",
   "execution_count": 18,
   "id": "098eaed5-513b-4d32-8dd2-ac3daaaab9a1",
   "metadata": {},
   "outputs": [
    {
     "data": {
      "text/plain": [
       "(1, None)"
      ]
     },
     "execution_count": 18,
     "metadata": {},
     "output_type": "execute_result"
    }
   ],
   "source": [
    "avlt.first_item()"
   ]
  },
  {
   "cell_type": "markdown",
   "id": "5cd0eb43-44de-421b-b095-c07a22f64f14",
   "metadata": {},
   "source": [
    "And the largest key item:"
   ]
  },
  {
   "cell_type": "code",
   "execution_count": 19,
   "id": "7a4573d9-0085-429d-87b2-1d783b908930",
   "metadata": {},
   "outputs": [
    {
     "data": {
      "text/plain": [
       "(10, None)"
      ]
     },
     "execution_count": 19,
     "metadata": {},
     "output_type": "execute_result"
    }
   ],
   "source": [
    "avlt.last_item()"
   ]
  },
  {
   "cell_type": "markdown",
   "id": "df9fa027-680d-4c8e-8970-bad074800330",
   "metadata": {},
   "source": [
    "Value of added `6` is `5` as we expected."
   ]
  },
  {
   "cell_type": "code",
   "execution_count": 20,
   "id": "2392237b-bff7-4b38-93e2-848484b9080a",
   "metadata": {},
   "outputs": [
    {
     "data": {
      "text/plain": [
       "5"
      ]
     },
     "execution_count": 20,
     "metadata": {},
     "output_type": "execute_result"
    }
   ],
   "source": [
    "avlt[6]"
   ]
  },
  {
   "cell_type": "markdown",
   "id": "238b1fd6-3c30-42c9-98ce-83417d9d3b15",
   "metadata": {},
   "source": [
    "But i can change it whenever I want:"
   ]
  },
  {
   "cell_type": "code",
   "execution_count": 21,
   "id": "d848faa6-df6a-4297-9f6f-bd4e99001379",
   "metadata": {},
   "outputs": [
    {
     "data": {
      "text/plain": [
       "18"
      ]
     },
     "execution_count": 21,
     "metadata": {},
     "output_type": "execute_result"
    }
   ],
   "source": [
    "avlt[6] = 18\n",
    "avlt[6]"
   ]
  },
  {
   "cell_type": "markdown",
   "id": "a19c405d-78e8-4215-aed6-ca11da4a9a16",
   "metadata": {},
   "source": [
    "-----------------------"
   ]
  },
  {
   "cell_type": "markdown",
   "id": "68a70829-49b0-4e4c-81a0-4f51e3d20bdf",
   "metadata": {
    "tags": []
   },
   "source": [
    "# Task 2"
   ]
  },
  {
   "cell_type": "markdown",
   "id": "1feae64c-cf25-4cac-9923-f435f1462066",
   "metadata": {
    "tags": []
   },
   "source": [
    "_**Sorting algorithm with a binary heap**_"
   ]
  },
  {
   "cell_type": "markdown",
   "id": "801e198a-f939-4790-85ac-3d0f3d984f5f",
   "metadata": {},
   "source": [
    "-----------------------"
   ]
  },
  {
   "cell_type": "markdown",
   "id": "5b05f66a-ef2f-40a5-9f7a-e993e9c82bd4",
   "metadata": {},
   "source": [
    "## Main class"
   ]
  },
  {
   "cell_type": "markdown",
   "id": "15c3bb9b-03fe-44fb-b1c5-a6403ae08539",
   "metadata": {},
   "source": [
    "Binary heap class will be writen also according to the professor's lecture notes [[3]](#ref3), using *python* lists in implementation - that is simply convenient.\n",
    "\n",
    "However, in contrary to the sample shown, the *root* is identified with the **maximal** number."
   ]
  },
  {
   "cell_type": "code",
   "execution_count": 22,
   "id": "5dfe71a3-c747-4513-88c2-322ee460c859",
   "metadata": {},
   "outputs": [],
   "source": [
    "class BinHeap:\n",
    "    \"\"\"Basic max binary heap.\n",
    "    Uses a list and `2n`, `2n+1` children finding method to represent the structure.\n",
    "    \"\"\"\n",
    "\n",
    "    def __init__(self):\n",
    "        \"\"\"Create an empty heap.\"\"\"\n",
    "        self.heap_list = [0]\n",
    "        self.size = 0\n",
    "\n",
    "    def _get_parent(self, index: int) -> int:\n",
    "        \"\"\"Find element's parent.\n",
    "\n",
    "        Args:\n",
    "            index (int): Index of an element.\n",
    "\n",
    "        Returns:\n",
    "            int: Parent index.\n",
    "        \"\"\"\n",
    "        return index // 2\n",
    "\n",
    "    def _get_left_ch(self, index: int) -> int:\n",
    "        \"\"\"Find a theoretical index for an element's left child.\n",
    "\n",
    "        Args:\n",
    "            index (int): Index of an element.\n",
    "\n",
    "        Returns:\n",
    "            int: Possible left child index.\n",
    "        \"\"\"\n",
    "        return index * 2\n",
    "\n",
    "    def _get_right_ch(self, index: int) -> int:\n",
    "        \"\"\"Find a theoretical index for an element's right child.\n",
    "\n",
    "        Args:\n",
    "            index (int): Index of an element.\n",
    "\n",
    "        Returns:\n",
    "            int: Possible right child index.\n",
    "        \"\"\"\n",
    "        return index * 2 + 1\n",
    "\n",
    "    def _perc_up(self, index: int):\n",
    "        \"\"\"Swap the items to keep the order. Go upwards.\n",
    "\n",
    "        Args:\n",
    "            index (int): Index to start swapping.\n",
    "        \"\"\"\n",
    "        parent = self._get_parent(index)\n",
    "        while parent > 0:\n",
    "\n",
    "            if self.heap_list[index] > self.heap_list[parent]:\n",
    "                self.heap_list[parent], self.heap_list[index] = (\n",
    "                    self.heap_list[index],\n",
    "                    self.heap_list[parent],\n",
    "                )\n",
    "            index = self._get_parent(index)\n",
    "            parent = self._get_parent(index)\n",
    "\n",
    "    def insert(self, value: float):\n",
    "        \"\"\"Insert a value in the given place (index).\n",
    "        Preserve the right elements order and structure.\n",
    "\n",
    "        Args:\n",
    "            value (float): Value to insert.\n",
    "        Raises:\n",
    "            TypeError: Raised when value to insert is not numeric.\n",
    "        \"\"\"\n",
    "        if not (isinstance(value, float) or isinstance(value, int)):\n",
    "            raise TypeError(\"Values have to be numbers.\")\n",
    "        self.heap_list.append(value)\n",
    "        self.size += 1\n",
    "        self._perc_up(self.size)\n",
    "\n",
    "    def find_max(self) -> float:\n",
    "        \"\"\"Find the maximal element in the heap.\n",
    "\n",
    "        Returns:\n",
    "            float: Heap's maximal element.\n",
    "        \"\"\"\n",
    "        return self.heap_list[1]\n",
    "\n",
    "    def _max_child(self, index: int) -> Optional[int]:\n",
    "        \"\"\"Find the maximal child of a given item\n",
    "\n",
    "        Args:\n",
    "            index (int): Root index to start searching from.\n",
    "\n",
    "        Returns:\n",
    "            Optional[int]: Maximal child for the given element. `None` if not found.\n",
    "        \"\"\"\n",
    "        left_ch = self._get_left_ch(index)\n",
    "        right_ch = self._get_right_ch(index)\n",
    "        if left_ch > self.size:\n",
    "            return None\n",
    "        elif left_ch == self.size:\n",
    "            return left_ch\n",
    "        else:\n",
    "            if self.heap_list[left_ch] > self.heap_list[right_ch]:\n",
    "                return left_ch\n",
    "            else:\n",
    "                return right_ch\n",
    "\n",
    "    def _perc_down(self, index: int):\n",
    "        \"\"\"Fix the order going downwards from the given node.\n",
    "\n",
    "        Args:\n",
    "            index (int): Node to start swapping.\n",
    "        \"\"\"\n",
    "        while self._get_left_ch(index) <= self.size:\n",
    "            max_ch = self._max_child(index)\n",
    "            if self.heap_list[index] < self.heap_list[max_ch]:\n",
    "                self.heap_list[index], self.heap_list[max_ch] = (\n",
    "                    self.heap_list[max_ch],\n",
    "                    self.heap_list[index],\n",
    "                )\n",
    "            index = max_ch\n",
    "\n",
    "    def pop_max(self) -> float:\n",
    "        \"\"\"Give the maximal value from heap and delete it from there.\n",
    "        Keep the right value order then.\n",
    "\n",
    "        Returns:\n",
    "            float: Heap's maximal element.\n",
    "        \"\"\"\n",
    "        return_value = self.heap_list[1]\n",
    "        self.heap_list[1] = self.heap_list[self.size]\n",
    "        self.heap_list.pop()\n",
    "        self.size -= 1\n",
    "        self._perc_down(1)\n",
    "        return return_value\n",
    "\n",
    "    def build_heap(self, alist: List[float]):\n",
    "        \"\"\"Build an ordered binary heap from list.\n",
    "\n",
    "        Args:\n",
    "            alist (List[float]): List of values to build a heap from.\n",
    "\n",
    "        Raises:\n",
    "            TypeError: List on input have to contain only numeric values.\n",
    "        \"\"\"\n",
    "        if not all(isinstance(elem, float) or isinstance(elem, int) for elem in alist):\n",
    "            raise TypeError(\"List should contain only numbers.\")\n",
    "        self.size = len(alist)\n",
    "        self.heap_list = [0] + alist[:]\n",
    "        index = self.size // 2\n",
    "        while index > 0:\n",
    "            self._perc_down(index)\n",
    "            index -= 1\n",
    "\n",
    "    def get_size(self) -> int:\n",
    "        \"\"\"Find the heap size - number of elements in it.\n",
    "\n",
    "        Returns:\n",
    "            int: Heap size.\n",
    "        \"\"\"\n",
    "        return self.size\n",
    "\n",
    "    def __len__(self) -> int:\n",
    "        \"\"\"Find the heap size - number of elements in it; using the special len operator.\n",
    "\n",
    "        Returns:\n",
    "            int: Heap size.\n",
    "        \"\"\"\n",
    "        return self.get_size()\n",
    "\n",
    "    def is_empty(self) -> bool:\n",
    "        \"\"\"Tell if the heap is empty - has no values.\n",
    "\n",
    "        Returns:\n",
    "            bool: Info about emptiness\n",
    "        \"\"\"\n",
    "        return self.size == 0\n",
    "\n",
    "    def __str__(self) -> str:\n",
    "        \"\"\"Give the string representation of a heap (as a list).\n",
    "\n",
    "        Returns:\n",
    "            str: Text representation.\n",
    "        \"\"\"\n",
    "        txt = \"{}\".format(self.heap_list[1:])\n",
    "        return txt"
   ]
  },
  {
   "cell_type": "markdown",
   "id": "6be2ad0f-cc2e-4730-b192-53e6ee1b7f25",
   "metadata": {},
   "source": [
    "## Sorting"
   ]
  },
  {
   "cell_type": "markdown",
   "id": "20a74590-6496-4f31-ae47-3756470f767b",
   "metadata": {},
   "source": [
    "Now, using the binary heap I can write a function which **sorts the numbers in descending order**. To gain the opposite effect we should have created a *Min-Heap* instead of *Max-Heap*, but this was an aim specified on the lesson."
   ]
  },
  {
   "cell_type": "code",
   "execution_count": 23,
   "id": "c1a60d1c-fe78-40f4-8b5b-10d0161f1a27",
   "metadata": {},
   "outputs": [],
   "source": [
    "def sort_list(alist: List[float]) -> list:\n",
    "    \"\"\"Sort the list in the descending order.\n",
    "    Use the binary heap class, so perform with n*log(n) complexity.\n",
    "\n",
    "    Args:\n",
    "        alist (List[float]): List to sort.\n",
    "\n",
    "    Returns:\n",
    "        list: Sorted list.\n",
    "    \"\"\"\n",
    "    bin_heap = BinHeap()\n",
    "    bin_heap.build_heap(alist)\n",
    "    sorted_alist = []\n",
    "    while not bin_heap.is_empty():\n",
    "        sorted_alist.append(bin_heap.pop_max())\n",
    "    return sorted_alist"
   ]
  },
  {
   "cell_type": "markdown",
   "id": "19cc433f-f878-40d3-a6e9-1ccaa5eacba2",
   "metadata": {
    "tags": []
   },
   "source": [
    "## Complexity analysis"
   ]
  },
  {
   "cell_type": "markdown",
   "id": "11d05806-54a1-403a-a691-c56e77298989",
   "metadata": {},
   "source": [
    "### Measurment tools"
   ]
  },
  {
   "cell_type": "markdown",
   "id": "38cd1746-820e-4ed9-9ace-de39d11d8a7d",
   "metadata": {},
   "source": [
    "First step of analysis is to create a list of random numbers. I will use `np.random.random`."
   ]
  },
  {
   "cell_type": "markdown",
   "id": "fc48417e-cf03-4878-8fe6-4501d39d7aaa",
   "metadata": {},
   "source": [
    "Next, we have got a function measuring `sort_list` performace time. This is actually almost <u>copied</u> from my previous list [[4]](#ref4) (as well as the other following functions)."
   ]
  },
  {
   "cell_type": "code",
   "execution_count": 24,
   "id": "78d0b6d5-657a-4c76-bff2-88e4cedf817e",
   "metadata": {},
   "outputs": [],
   "source": [
    "def time_check(size: int) -> float:\n",
    "    \"\"\"Chceck the performance time for `sort_list` function and given list size.\n",
    "\n",
    "    Args:\n",
    "        size (int): List length.\n",
    "\n",
    "    Returns:\n",
    "        float: Time of the operation.\n",
    "    \"\"\"\n",
    "    alist = list(np.random.random(size))\n",
    "\n",
    "    time_a = time.time()\n",
    "    sort_list(alist)\n",
    "    time_b = time.time()\n",
    "    time_diff = time_b - time_a\n",
    "    return time_diff"
   ]
  },
  {
   "cell_type": "markdown",
   "id": "1f43e2e8-1abc-4bee-8383-e526fe42a95d",
   "metadata": {},
   "source": [
    "Finally a data collecting function, calling `sort_time` in loop for different sizes."
   ]
  },
  {
   "cell_type": "code",
   "execution_count": 25,
   "id": "04222df6-6355-4774-937d-6d72f1a0e016",
   "metadata": {},
   "outputs": [],
   "source": [
    "def collect_data(size: int, step: int) -> tuple:\n",
    "    \"\"\"Examine the function `sort_list` and find the calculation times for a range of sizes.\n",
    "\n",
    "    Args:\n",
    "        size (int): List length.\n",
    "        step (int): Interval between sizes in tested calls.\n",
    "\n",
    "    Returns:\n",
    "        tuple: Performance data: (List lengths, Times for each size).\n",
    "    \"\"\"\n",
    "    time_reg = []\n",
    "    rng = range(1, size + 1, step)\n",
    "\n",
    "    for N in rng:\n",
    "        time_reg.append(time_check(N))\n",
    "\n",
    "    return (rng, time_reg)"
   ]
  },
  {
   "cell_type": "markdown",
   "id": "d6f4d6a0-3597-4a89-bd9f-2c4238881724",
   "metadata": {},
   "source": [
    "### Visualisation tools"
   ]
  },
  {
   "cell_type": "markdown",
   "id": "f67715a3-dea8-4cab-b62e-9f3801bd1afe",
   "metadata": {},
   "source": [
    "Following function can plot graphs of the data and additionally - another \"hypothetic\" function."
   ]
  },
  {
   "cell_type": "code",
   "execution_count": 26,
   "id": "e8c94703-643e-4d17-86e6-06581b2635d3",
   "metadata": {},
   "outputs": [],
   "source": [
    "def plot_data(\n",
    "    x_vals: range, y_vals: list, yscale: str = \"linear\", function: function = None\n",
    "):\n",
    "    \"\"\"Plot the performance data and optionally the hypothetic function that `solve` converges to in terms of time complexity.\n",
    "\n",
    "    Args:\n",
    "        x_vals (range): List sizes.\n",
    "        y_vals (list): Performance times for lists.\n",
    "        yscale (str, optional): Scale on Y axis. Defaults to \"linear\".\n",
    "        function (function, optional): Hypothetic function to layer its plot with the data. Defaults to None.\n",
    "    \"\"\"\n",
    "    plt.plot(x_vals, y_vals, \"o\")\n",
    "    if function != None:\n",
    "        f_y_vals = function(x_vals)\n",
    "        plt.plot(x_vals, f_y_vals)\n",
    "\n",
    "    plt.yscale(yscale)\n",
    "    plt.xlabel(\"List length\")\n",
    "    plt.ylabel(\"Time\")\n",
    "    plt.title(\"Sorting function performance\")\n",
    "    plt.gca().legend((\"Collected data\", \"Hypothesis\"))\n",
    "    plt.show()"
   ]
  },
  {
   "cell_type": "markdown",
   "id": "e4b1a766-dbff-4959-abfb-3b926af17a5d",
   "metadata": {},
   "source": [
    "### Data collecting"
   ]
  },
  {
   "cell_type": "markdown",
   "id": "b93b2269-b99f-40ba-9770-3fddaaf0059d",
   "metadata": {},
   "source": [
    "For some reasonable size and steps I collect data from function's performace."
   ]
  },
  {
   "cell_type": "code",
   "execution_count": 27,
   "id": "8f160e71-dbe7-48fa-bcf9-c296eeccf799",
   "metadata": {},
   "outputs": [],
   "source": [
    "size = 30000\n",
    "step = 1500\n",
    "data = collect_data(size, step)"
   ]
  },
  {
   "cell_type": "markdown",
   "id": "a06209b5-b56b-470b-8792-10e8150aff48",
   "metadata": {},
   "source": [
    "### Hypothesis and its visualization"
   ]
  },
  {
   "cell_type": "markdown",
   "id": "14d1559b-9c7a-4244-a899-686cc99ec01b",
   "metadata": {},
   "source": [
    "My first hypothesis would be based on the task and algorithm analysis - I assume that `sort_list` has $O(n \\log(n))$ time complexity."
   ]
  },
  {
   "cell_type": "markdown",
   "id": "5806b0c1-aafd-4d21-b8c3-2f03d04e78f4",
   "metadata": {},
   "source": [
    "I use optimalization fitting tools and define new `f_fit` function as a hypothesis."
   ]
  },
  {
   "cell_type": "code",
   "execution_count": 28,
   "id": "b7cf8b7e-13a7-46d1-b548-4b38e8d5d1af",
   "metadata": {},
   "outputs": [],
   "source": [
    "def func(x: float, a: float, c: float) -> float:\n",
    "    \"\"\"Create a cubic polynomial.\n",
    "\n",
    "    Args:\n",
    "        x (float): Independent variable.\n",
    "        a (float): Multiplication factor.\n",
    "        c (float): Added constant.\n",
    "\n",
    "    Returns:\n",
    "        float: Value of `n*log(n)` in some point x.\n",
    "    \"\"\"\n",
    "    return a * x * np.log2(x) + c"
   ]
  },
  {
   "cell_type": "code",
   "execution_count": 29,
   "id": "baad3fad-b1a6-446e-9ec0-c50932d49e03",
   "metadata": {},
   "outputs": [
    {
     "name": "stdout",
     "output_type": "stream",
     "text": [
      "[ 1.06162878e-06 -1.27716146e-02]\n"
     ]
    }
   ],
   "source": [
    "popt, pcov = curve_fit(func, list(data[0]), data[1])\n",
    "print(popt)"
   ]
  },
  {
   "cell_type": "code",
   "execution_count": 30,
   "id": "74135b2d-2b56-44c8-aec6-27d8f4026c5d",
   "metadata": {},
   "outputs": [],
   "source": [
    "def f_fit(x: float) -> float:\n",
    "    \"\"\"Create a `n*log(n)` function with appropriate coefficients.\n",
    "\n",
    "    Args:\n",
    "        x (float): Independent variable.\n",
    "\n",
    "    Returns:\n",
    "        float: Function with optimal numbers set as coefficients.\n",
    "    \"\"\"\n",
    "    return func(x, *popt)"
   ]
  },
  {
   "cell_type": "markdown",
   "id": "052d8044-3714-4805-a483-45753659c9b6",
   "metadata": {},
   "source": [
    "For the fitted $A$ and $C$ values in $f(n) = A n \\log(n) + C$ the comparison is presented in the graph."
   ]
  },
  {
   "cell_type": "code",
   "execution_count": 31,
   "id": "c0021e73-f167-4f24-b16b-8f587b9a8774",
   "metadata": {
    "scrolled": true
   },
   "outputs": [
    {
     "data": {
      "image/png": "[encoded data removed]",
      "text/plain": [
       "<Figure size 432x288 with 1 Axes>"
      ]
     },
     "metadata": {
      "needs_background": "light"
     },
     "output_type": "display_data"
    }
   ],
   "source": [
    "plot_data(*data, function=f_fit)"
   ]
  },
  {
   "cell_type": "markdown",
   "id": "4c7e7ba4-fe14-4eea-9e9c-4e29768d844c",
   "metadata": {},
   "source": [
    "It seems that hypothesis was **correct**. We see a satisfying curve fit for this function."
   ]
  },
  {
   "cell_type": "markdown",
   "id": "8497fdce-064a-4574-9879-2f0f4b513a76",
   "metadata": {},
   "source": [
    "### Prediction"
   ]
  },
  {
   "cell_type": "markdown",
   "id": "bb65c551-6fd7-43ff-b806-d3f3a126643a",
   "metadata": {},
   "source": [
    "Let us try predictions for sizes $n_1=30000$ and $n_2=32000$."
   ]
  },
  {
   "cell_type": "code",
   "execution_count": 32,
   "id": "a595c33d-fd7e-4e61-8502-a1fd6194d4da",
   "metadata": {},
   "outputs": [],
   "source": [
    "n1 = int(1e5)\n",
    "n2 = int(2e5)"
   ]
  },
  {
   "cell_type": "markdown",
   "id": "b143d7e5-e87a-43fe-bd58-60ce1f5d5f82",
   "metadata": {},
   "source": [
    "For $f(n_1)$:"
   ]
  },
  {
   "cell_type": "code",
   "execution_count": 33,
   "id": "2f0ad5bb-a09a-45d4-9168-4d0465789f12",
   "metadata": {},
   "outputs": [
    {
     "data": {
      "text/plain": [
       "1.7505556211796462"
      ]
     },
     "execution_count": 33,
     "metadata": {},
     "output_type": "execute_result"
    }
   ],
   "source": [
    "f_fit(n1)"
   ]
  },
  {
   "cell_type": "markdown",
   "id": "377268f7-fc21-4a41-be8f-434710f9bc8f",
   "metadata": {},
   "source": [
    "And for $f(n_2)$:"
   ]
  },
  {
   "cell_type": "code",
   "execution_count": 34,
   "id": "7f719356-943e-4dd4-aac5-8b8fa9c5f4d0",
   "metadata": {},
   "outputs": [
    {
     "data": {
      "text/plain": [
       "3.7262086130444336"
      ]
     },
     "execution_count": 34,
     "metadata": {},
     "output_type": "execute_result"
    }
   ],
   "source": [
    "f_fit(n2)"
   ]
  },
  {
   "cell_type": "markdown",
   "id": "ab60b316-58c4-401f-a40c-fa311e0fdaf8",
   "metadata": {},
   "source": [
    "### Verification"
   ]
  },
  {
   "cell_type": "markdown",
   "id": "25dedb98-9d0a-45b9-9366-214752ad4593",
   "metadata": {},
   "source": [
    "Now, we have got measured times for real `sort_list` algorithm:"
   ]
  },
  {
   "cell_type": "code",
   "execution_count": 35,
   "id": "26269ccb-769a-470f-9f27-96dbf2fa29e5",
   "metadata": {},
   "outputs": [
    {
     "data": {
      "text/plain": [
       "1.782264232635498"
      ]
     },
     "execution_count": 35,
     "metadata": {},
     "output_type": "execute_result"
    }
   ],
   "source": [
    "time_check(n1)"
   ]
  },
  {
   "cell_type": "code",
   "execution_count": 36,
   "id": "e6addfa8-da49-4939-a975-97fe657812bb",
   "metadata": {
    "scrolled": true
   },
   "outputs": [
    {
     "data": {
      "text/plain": [
       "3.6213314533233643"
      ]
     },
     "execution_count": 36,
     "metadata": {},
     "output_type": "execute_result"
    }
   ],
   "source": [
    "time_check(n2)"
   ]
  },
  {
   "cell_type": "markdown",
   "id": "5291836d-19e5-4b4a-a486-09e06bdb0531",
   "metadata": {},
   "source": [
    "Viewing the results on my device I can claim that they actulally fit very well."
   ]
  },
  {
   "cell_type": "markdown",
   "id": "e222613b-76c1-4789-86f5-9699d2948f4e",
   "metadata": {},
   "source": [
    "### Results"
   ]
  },
  {
   "cell_type": "markdown",
   "id": "362ba2fc-ccab-411d-a5fc-ff86c2c62868",
   "metadata": {},
   "source": [
    "We clearly see that for greater values the assumption is good.\n",
    "\n",
    "So, `sort_list` has **$O(n \\log(n))$ time complexity** indeed."
   ]
  },
  {
   "cell_type": "markdown",
   "id": "b48287e6-b02d-4af4-a86b-52a68ab7cf16",
   "metadata": {
    "tags": []
   },
   "source": [
    "## Presentation"
   ]
  },
  {
   "cell_type": "markdown",
   "id": "1f15fb9c-a395-4a4d-98df-e787f7cbd8c7",
   "metadata": {},
   "source": [
    "Pure *binary heap* usage:"
   ]
  },
  {
   "cell_type": "markdown",
   "id": "b7b5e29e",
   "metadata": {},
   "source": [
    "Adding new elements."
   ]
  },
  {
   "cell_type": "code",
   "execution_count": 37,
   "id": "2be3944d-3998-4fe3-944c-cc8844e2dfd4",
   "metadata": {},
   "outputs": [],
   "source": [
    "bh = BinHeap()\n",
    "bh.insert(8)\n",
    "bh.insert(9)\n",
    "bh.insert(2)\n",
    "bh.insert(3)\n",
    "bh.insert(5)"
   ]
  },
  {
   "cell_type": "code",
   "execution_count": 38,
   "id": "3b883ded-c2b8-4c54-ba13-ecab1ee8ec13",
   "metadata": {},
   "outputs": [
    {
     "name": "stdout",
     "output_type": "stream",
     "text": [
      "[9, 8, 2, 3, 5]\n"
     ]
    }
   ],
   "source": [
    "print(bh)"
   ]
  },
  {
   "cell_type": "markdown",
   "id": "27b1c9ea",
   "metadata": {},
   "source": [
    "Popping the root - maximal value."
   ]
  },
  {
   "cell_type": "code",
   "execution_count": 39,
   "id": "28e9c34c-38c6-4381-9476-3752b2ae8fd8",
   "metadata": {},
   "outputs": [
    {
     "data": {
      "text/plain": [
       "9"
      ]
     },
     "execution_count": 39,
     "metadata": {},
     "output_type": "execute_result"
    }
   ],
   "source": [
    "bh.pop_max()"
   ]
  },
  {
   "cell_type": "code",
   "execution_count": 40,
   "id": "2ae59e6f-8b43-49db-9503-8a196d85809c",
   "metadata": {},
   "outputs": [
    {
     "name": "stdout",
     "output_type": "stream",
     "text": [
      "[8, 5, 2, 3]\n"
     ]
    }
   ],
   "source": [
    "print(bh)"
   ]
  },
  {
   "cell_type": "markdown",
   "id": "54951a4c-e917-4541-b279-0b6baea15734",
   "metadata": {},
   "source": [
    "And the most important - sorting."
   ]
  },
  {
   "cell_type": "code",
   "execution_count": 41,
   "id": "8f6a7f40-df33-421c-8bf9-e0fc960a8cd6",
   "metadata": {},
   "outputs": [
    {
     "data": {
      "text/plain": [
       "[50, 44, 10, 10, 4, 2]"
      ]
     },
     "execution_count": 41,
     "metadata": {},
     "output_type": "execute_result"
    }
   ],
   "source": [
    "sort_list([10, 2, 50, 4, 10, 44])"
   ]
  },
  {
   "cell_type": "code",
   "execution_count": 42,
   "id": "14ae72f4-09e6-45bc-b7da-05046d339a20",
   "metadata": {},
   "outputs": [
    {
     "data": {
      "text/plain": [
       "[50, 18, 6, 3.5, -4]"
      ]
     },
     "execution_count": 42,
     "metadata": {},
     "output_type": "execute_result"
    }
   ],
   "source": [
    "sort_list([-4, 50, 3.5, 18, 6])"
   ]
  },
  {
   "cell_type": "markdown",
   "id": "faf3d12d-88c4-4aec-bc83-4d4acf2eed3c",
   "metadata": {},
   "source": [
    "-----------------------"
   ]
  },
  {
   "cell_type": "markdown",
   "id": "07f94c72-9202-406d-960c-63e6e5d8039e",
   "metadata": {
    "tags": []
   },
   "source": [
    "# Task 3"
   ]
  },
  {
   "cell_type": "markdown",
   "id": "3efe95d3-ee10-496a-9419-1534e7fd136d",
   "metadata": {
    "tags": []
   },
   "source": [
    "_**Binary heap with a limited size**_"
   ]
  },
  {
   "cell_type": "markdown",
   "id": "848e3b58",
   "metadata": {},
   "source": [
    "**_NOTE:_** <u> I found it ambigous if the most relevant elements are the largest ones or the smallest ones (in case of *max binary heap*). I hope it is enough what is implemented in this task. The opposite case is definitely not harder to write.</u> "
   ]
  },
  {
   "cell_type": "markdown",
   "id": "fbc30f2e-63e9-401f-a995-f478859dc598",
   "metadata": {},
   "source": [
    "-----------------------"
   ]
  },
  {
   "cell_type": "markdown",
   "id": "38426962-e715-429f-9d66-e14db52dde5c",
   "metadata": {},
   "source": [
    "This time I use *Max-Heap* again. Not to repeat the same code, I create a inheriting class and adjust necessary things."
   ]
  },
  {
   "cell_type": "markdown",
   "id": "1c8fc8c9-ee34-4f1c-87db-cdbdd1a3908f",
   "metadata": {},
   "source": [
    "I use a method similar to the `sort_list` function in the previous task. It is important to notice that sorted list has already a proper order for *binary heap* item list, because in our ordered list\n",
    "\n",
    "$$a_i \\geq a_j \\quad\\forall i < j.$$\n",
    "\n",
    "Therefore, we have satisfied the only condition:\n",
    "\n",
    "$$a_i \\geq a_{2i}\\; \\land\\; a_i \\geq a_{2i+1} \\quad\\forall i.$$\n",
    "\n",
    "That is why after each insertion or building process I check the size and in case it is to large, I sort the items and get rid of the smalest ones.\n",
    "\n",
    "There is no need for fixing other features. We have to chceck the size only when adding something to the *heap*."
   ]
  },
  {
   "cell_type": "code",
   "execution_count": 43,
   "id": "e4489a39-d210-4b88-ae92-1442fd90ede2",
   "metadata": {},
   "outputs": [],
   "source": [
    "class LimBinHeap(BinHeap):\n",
    "    \"\"\"Max Binary heap but keeping only some number of most relevant numbers.\"\"\"\n",
    "\n",
    "    def __init__(self, max_size: int):\n",
    "        \"\"\"Create an empty heap and set its maximal size.\n",
    "\n",
    "        Args:\n",
    "            max_size (int): Maximal size.\n",
    "        \"\"\"\n",
    "        super().__init__()\n",
    "        self.max_size = max_size\n",
    "\n",
    "    def _sort_items(self):\n",
    "        \"\"\"A halper function.\n",
    "        Elements sorting by repeated root pulling.\n",
    "        It creates a properly ordered list - as a heap.\n",
    "        \"\"\"\n",
    "        sorted_items = []\n",
    "        while not self.is_empty():\n",
    "            sorted_items.append(self.pop_max())\n",
    "        self.heap_list = [0] + sorted_items\n",
    "        self.size = len(sorted_items)\n",
    "\n",
    "    def _is_overfilled(self) -> bool:\n",
    "        \"\"\"A helper function.\n",
    "        Tell whether the heap is temporarily overfilled (has more elements than allowed).\n",
    "\n",
    "        Returns:\n",
    "            bool: Info about being overfilled.\n",
    "        \"\"\"\n",
    "        return self.size > self.max_size\n",
    "\n",
    "    def _truncate(self):\n",
    "        \"\"\"A helper funtion.\n",
    "        Ged rid of the less relevant items to keep the allowed heap size.\n",
    "        \"\"\"\n",
    "        if self._is_overfilled():\n",
    "            self._sort_items()\n",
    "            self.heap_list = self.heap_list[: self.max_size + 1]\n",
    "            self.size = self.max_size\n",
    "\n",
    "    def insert(self, value: float):\n",
    "        \"\"\"Add value to the heap and do the ordering operations. Delete redundant elements if needed.\n",
    "\n",
    "        Args:\n",
    "            value (float): [description]\n",
    "        \"\"\"\n",
    "        super().insert(value)\n",
    "        self._truncate()\n",
    "\n",
    "    def build_heap(self, alist: List[float]):\n",
    "        \"\"\"Build a heap from list.\n",
    "        Delete redundant elements if needed and keep the maximal size.\n",
    "\n",
    "        Args:\n",
    "            alist (List[float]): List to build the heap from.\n",
    "        \"\"\"\n",
    "        super().build_heap(alist)\n",
    "        self._truncate()\n",
    "\n",
    "    def is_full(self) -> bool:\n",
    "        \"\"\"Tell whether the heap is full (has maximal allowed number of elements).\n",
    "\n",
    "        Returns:\n",
    "            bool: Info about being full.\n",
    "        \"\"\"\n",
    "        return self.size == self.max_size"
   ]
  },
  {
   "cell_type": "markdown",
   "id": "3277f926-9ee0-426b-99d2-20478ed0f04e",
   "metadata": {
    "tags": []
   },
   "source": [
    "## Presentation"
   ]
  },
  {
   "cell_type": "markdown",
   "id": "170ee19d-91fe-42ca-8aa2-ea869cd9c759",
   "metadata": {},
   "source": [
    "There we see how the heap keeps only limited set of maximal values."
   ]
  },
  {
   "cell_type": "code",
   "execution_count": 44,
   "id": "8b389671-99f8-4141-9c9e-d98062da1308",
   "metadata": {},
   "outputs": [
    {
     "name": "stdout",
     "output_type": "stream",
     "text": [
      "[8, 7, 6, 5.6, 5.5, 5, 4.5, 4.3, 2, 1]\n"
     ]
    }
   ],
   "source": [
    "bh_l = LimBinHeap(10)\n",
    "bh_l.build_heap([8, 7, 2, 6, 4.5, 1, 0, 5.5, 5.6, 0, 4.3, 0.5, 0.3, 0, 0, 5])\n",
    "print(bh_l)"
   ]
  },
  {
   "cell_type": "markdown",
   "id": "542cbc18",
   "metadata": {},
   "source": [
    "After insertions it preserves the proper structure and size."
   ]
  },
  {
   "cell_type": "code",
   "execution_count": 45,
   "id": "a9176c73",
   "metadata": {},
   "outputs": [],
   "source": [
    "bh_l.insert(50)\n",
    "bh_l.insert(-8)\n",
    "bh_l.insert(9)\n",
    "bh_l.insert(40)"
   ]
  },
  {
   "cell_type": "code",
   "execution_count": 46,
   "id": "e1dde6a8-d42b-4e8a-af3b-1f3f815272ec",
   "metadata": {},
   "outputs": [
    {
     "name": "stdout",
     "output_type": "stream",
     "text": [
      "[50, 40, 9, 8, 7, 6, 5.6, 5.5, 5, 4.5]\n"
     ]
    }
   ],
   "source": [
    "print(bh_l)"
   ]
  },
  {
   "cell_type": "markdown",
   "id": "4bc5d1e8-c499-490f-886f-ca7257b30f8b",
   "metadata": {},
   "source": [
    "-----------------------"
   ]
  },
  {
   "cell_type": "markdown",
   "id": "3f8aadd2-4609-49ce-be49-bbb59076b6c0",
   "metadata": {
    "tags": []
   },
   "source": [
    "# Task 4"
   ]
  },
  {
   "cell_type": "markdown",
   "id": "d7ad81ef-4d85-43e7-8c5c-8f870feddf9c",
   "metadata": {
    "tags": []
   },
   "source": [
    "_**Derivation for a given formula**_"
   ]
  },
  {
   "cell_type": "markdown",
   "id": "5f6b3725-82b3-4c82-91ca-be3f390748f0",
   "metadata": {},
   "source": [
    "-----------------------"
   ]
  },
  {
   "cell_type": "markdown",
   "id": "55b8914b-fff4-4550-b9ea-d707c84cbdc1",
   "metadata": {},
   "source": [
    "## Features"
   ]
  },
  {
   "cell_type": "markdown",
   "id": "f4e89c82-afe3-4743-acae-a8eda50dc778",
   "metadata": {},
   "source": [
    "I am going to implement a set of functions allowing ultimately to find the derivative of any typed function which satisfises the following conditions:"
   ]
  },
  {
   "cell_type": "markdown",
   "id": "2b8f705f-e975-4936-a0db-4959f3dc2a70",
   "metadata": {},
   "source": [
    "As an input there are allowed all combinations (nestings) of the functions below: \n",
    "- standard arithmetic operators: $f+g,\\;f-g,\\;f\\cdot g,\\;\\frac{f}{g},\\;f^g$, but also $\\sqrt{f}$ - as the only explicit root;\n",
    "- logarithm: $\\ln(f)$; other logarithms can be gained by division;\n",
    "- exponential function as $\\exp(f)$;\n",
    "- trigonometric functions: $\\sin(f),\\;\\cos(f),\\;\\tan(f),\\;\\cot(f)$;\n",
    "- inverse trigonometric functions: $\\arcsin(f),\\;\\arccos(f),\\;\\arctan(f),\\;\\mathrm{arccot}(f)$.\n",
    "\n",
    "The allowed values in functions are *numbers* (rational can be given by division) and *latin letters*."
   ]
  },
  {
   "cell_type": "markdown",
   "id": "a7333dc2-7386-4cd0-9dc2-ec352361e601",
   "metadata": {},
   "source": [
    "There are the function dictionaries giving the names along with priority value. In addition to that, sets defining letters and digits (together with the *point*)."
   ]
  },
  {
   "cell_type": "code",
   "execution_count": 47,
   "id": "fdd09f32-934b-4222-aa04-f096859c47bd",
   "metadata": {},
   "outputs": [],
   "source": [
    "opers = {\"+\": 3, \"-\": 3, \"*\": 2, \"/\": 2, \"^\": 1}\n",
    "one_arg_fncts = {\n",
    "    \"sqrt\": 0,\n",
    "    \"ln\": 0,\n",
    "    \"exp\": 0,\n",
    "    \"sin\": 0,\n",
    "    \"cos\": 0,\n",
    "    \"tan\": 0,\n",
    "    \"cot\": 0,\n",
    "    \"arcsin\": 0,\n",
    "    \"arccos\": 0,\n",
    "    \"arctan\": 0,\n",
    "    \"arccot\": 0,\n",
    "}\n",
    "parenth = {\"(\": 4, \")\": 4}"
   ]
  },
  {
   "cell_type": "code",
   "execution_count": 48,
   "id": "c9bd32bf-6378-4097-a375-e1d121b749ab",
   "metadata": {},
   "outputs": [],
   "source": [
    "letters = set(string.ascii_lowercase).union(set(string.ascii_uppercase)).union({\"pi\"})\n",
    "digits = set(string.digits).union({\".\", \"-\"})"
   ]
  },
  {
   "cell_type": "markdown",
   "id": "cbada01c-b5a2-4c1d-935f-ed3de91a8a98",
   "metadata": {},
   "source": [
    "## Preparation"
   ]
  },
  {
   "cell_type": "markdown",
   "id": "45c2722f-2c28-4190-a3fd-b0a7ee82f731",
   "metadata": {},
   "source": [
    "### Formula processing"
   ]
  },
  {
   "cell_type": "markdown",
   "id": "7bebdc14-73e3-4f7b-9589-cb03d7c47e35",
   "metadata": {},
   "source": [
    "For future number syntax validation I need a proper tool: "
   ]
  },
  {
   "cell_type": "code",
   "execution_count": 49,
   "id": "0eef9e10-7bae-450b-b778-ef9bbeba437c",
   "metadata": {},
   "outputs": [],
   "source": [
    "def number_validate(numbers: list) -> bool:\n",
    "    \"\"\"Check if the list of succeeding characters can represent any number.\n",
    "\n",
    "    Args:\n",
    "        numbers (list): List of characters.\n",
    "\n",
    "    Returns:\n",
    "        bool: Info about being a number representation.\n",
    "    \"\"\"\n",
    "    for numb in numbers:\n",
    "        if numb.count(\".\") > 1:\n",
    "            return False\n",
    "\n",
    "        numb_digits = list(numb)\n",
    "        if numb_digits[0] == \".\" or numb_digits[-1] == \".\":\n",
    "            return False\n",
    "\n",
    "        if len(numb) > 1:\n",
    "            if numb_digits[0] == \"0\" and numb_digits[1] != \".\":\n",
    "                return False\n",
    "    return True"
   ]
  },
  {
   "cell_type": "markdown",
   "id": "5e5994fd-1d22-43d8-a0c5-5a17f65ec4db",
   "metadata": {},
   "source": [
    "So, the first step after reading a string with some expression is to parse this expression."
   ]
  },
  {
   "cell_type": "code",
   "execution_count": 50,
   "id": "f80167ad-aa54-449c-a994-db3f178e7a1a",
   "metadata": {},
   "outputs": [],
   "source": [
    "def formula_parse(expression: str) -> List[str]:\n",
    "    \"\"\"Split the string nmathematical expression into list of numbers, operators, functions, parenthesis and letter-symbols.\n",
    "\n",
    "    Args:\n",
    "        expression (str): String mathematical formula.\n",
    "\n",
    "    Raises:\n",
    "        ValueError: Raised when the symbols in the formula are neither alphanumeric nor represent operators.\n",
    "        Exception: Expression cannot be empty to parse it.\n",
    "\n",
    "    Returns:\n",
    "        List[str]: Expression splitted into basic components in the original order.\n",
    "    \"\"\"\n",
    "    char_list = list(expression)\n",
    "    comps = []\n",
    "    functs = set({**opers, **one_arg_fncts, **parenth}.keys())\n",
    "    for name in sorted(functs.union(letters), key=len, reverse=True):\n",
    "        can_find = True\n",
    "        name_len = len(name)\n",
    "        while can_find:\n",
    "            try:\n",
    "                occur_ind = \"\".join(char_list).index(name)\n",
    "                char_list[occur_ind : occur_ind + name_len] = [\" \"] * name_len\n",
    "                comps.append((occur_ind, name))\n",
    "            except ValueError:\n",
    "                can_find = False\n",
    "\n",
    "    if not all([_ in digits.union(\" \") for _ in char_list]):\n",
    "        raise ValueError(\"Some characters in the expression are not allowed.\")\n",
    "\n",
    "    numbers = \"\".join(char_list).split()\n",
    "\n",
    "    if not number_validate(numbers):\n",
    "        raise ValueError(\"Some numbers in the expression are not correct.\")\n",
    "\n",
    "    for numb in numbers:\n",
    "        occur_ind = \"\".join(char_list).index(numb)\n",
    "        char_list[occur_ind : occur_ind + name_len] = [\" \"] * name_len\n",
    "        comps.append((occur_ind, numb))\n",
    "\n",
    "    result = [None] * len(expression)\n",
    "    comps_dict = dict(comps)\n",
    "    for ind in sorted(comps_dict):\n",
    "        result[ind] = comps_dict[ind]\n",
    "    result = list(filter(None, result))\n",
    "    if result:\n",
    "        return result\n",
    "    else:\n",
    "        raise Exception(\"There is no expression to parse.\")"
   ]
  },
  {
   "cell_type": "markdown",
   "id": "193fa0a6-119a-4fc6-bbb2-26a0cf93081b",
   "metadata": {},
   "source": [
    "Next, we can add missing multiplication symbols and on the fly investigate formulas syntax (its part regarding symbols closest neighborhood). "
   ]
  },
  {
   "cell_type": "code",
   "execution_count": 51,
   "id": "8ed61b57-81a8-49b5-86f9-c744ea4aa8fb",
   "metadata": {},
   "outputs": [],
   "source": [
    "def formula_fill(parsed_formula: List[str]) -> List[str]:\n",
    "    \"\"\"Add the implicit symbols as multiplication to the expression component list.\n",
    "    Take care also about minuses. On the fly find syntax errors regarding the symbol neighboring rules.\n",
    "\n",
    "    Args:\n",
    "        parsed_formula (List[str]): List of formula elements in the original order.\n",
    "\n",
    "    Raises:\n",
    "        ValueError: Raised when a symbol is next to another making expression rationally wrong.\n",
    "\n",
    "    Returns:\n",
    "        List[str]: List of components in original order with implicit operators added.\n",
    "    \"\"\"\n",
    "    filled_formula = parsed_formula[:]\n",
    "\n",
    "    def eval_type(comp):\n",
    "        if comp == \"-\":\n",
    "            return \"m\"\n",
    "        elif comp in opers:\n",
    "            return \"o\"\n",
    "        elif comp in one_arg_fncts:\n",
    "            return \"1a\"\n",
    "        elif comp == \"(\":\n",
    "            return \"p_o\"\n",
    "        elif comp == \")\":\n",
    "            return \"p_c\"\n",
    "        elif comp in letters:\n",
    "            return \"l\"\n",
    "        else:\n",
    "            return \"n\"\n",
    "\n",
    "    comp_types = [eval_type(comp) for comp in parsed_formula]\n",
    "    prev_comp_type = \"\"\n",
    "    prev_prev_comp_type = \"\"\n",
    "    mul_to_insert = []\n",
    "    min_to_insert = []\n",
    "\n",
    "    for ind, comp_type in enumerate(comp_types):\n",
    "\n",
    "        if prev_comp_type in {\"p_c\", \"l\", \"n\"} and comp_type in {\"1a\", \"p_o\", \"l\", \"n\"}:\n",
    "            mul_to_insert.append(ind)\n",
    "        if prev_comp_type in {\"o\", \"p_o\", \"1a\", \"m\"} and comp_type in {\"o\", \"p_c\"}:\n",
    "            raise ValueError(\"Expression is inappropriate.\")\n",
    "        if prev_comp_type in {\"o\", \"1a\", \"m\"} and comp_type == \"m\":\n",
    "            raise ValueError(\"Expression is inappropriate.\")\n",
    "        if (\n",
    "            prev_comp_type == \"m\"\n",
    "            and comp_type in {\"1a\", \"p_o\", \"l\", \"n\"}\n",
    "            and (ind == 1 or prev_prev_comp_type == \"p_o\")\n",
    "        ):\n",
    "            min_to_insert.append(ind)\n",
    "        prev_prev_comp_type = prev_comp_type\n",
    "        prev_comp_type = comp_type\n",
    "\n",
    "    for ind in sorted(mul_to_insert + min_to_insert, reverse=True):\n",
    "        filled_formula.insert(ind, \"*\")\n",
    "        if ind in min_to_insert:\n",
    "            filled_formula[ind - 1] = -1\n",
    "\n",
    "    return filled_formula"
   ]
  },
  {
   "cell_type": "markdown",
   "id": "d9364487-a41b-4df7-8823-e2fa90898dc7",
   "metadata": {},
   "source": [
    "Then we can move on to changing the notation system. I will be using the *stack* class from the lecture [[5]](#ref5). "
   ]
  },
  {
   "cell_type": "code",
   "execution_count": 52,
   "id": "e58d9e6b-65b5-4f3a-8b4e-626d15ccf935",
   "metadata": {},
   "outputs": [],
   "source": [
    "class Stack:\n",
    "    \"\"\"Basic stack. Uses a python list to keep elements.\"\"\"\n",
    "\n",
    "    def __init__(self):\n",
    "        \"\"\"Create an empty stack.\"\"\"\n",
    "        self.items = []\n",
    "\n",
    "    def is_empty(self) -> bool:\n",
    "        \"\"\"Check if the stack is empty.\n",
    "\n",
    "        Returns:\n",
    "            bool: Info about an emptiness.\n",
    "        \"\"\"\n",
    "        return self.items == []\n",
    "\n",
    "    def push(self, item: Any):\n",
    "        \"\"\"Add an item on the top of the stack.\n",
    "\n",
    "        Args:\n",
    "            item (Any): Item to be added.\n",
    "        \"\"\"\n",
    "        self.items.append(item)\n",
    "\n",
    "    def pop(self) -> Any:\n",
    "        \"\"\"Remove an item from the top of the stack and show it.\n",
    "\n",
    "        Returns:\n",
    "            Any: Item to be taken.\n",
    "        \"\"\"\n",
    "        return self.items.pop()\n",
    "\n",
    "    def peek(self) -> Any:\n",
    "        \"\"\"Show the item on the top but not remove it.\n",
    "\n",
    "        Returns:\n",
    "            Any: The top item.\n",
    "        \"\"\"\n",
    "        return self.items[len(self.items) - 1]\n",
    "\n",
    "    def size(self) -> int:\n",
    "        \"\"\"Check the size of the stack - its height.\n",
    "\n",
    "        Returns:\n",
    "            int: Stack height.\n",
    "        \"\"\"\n",
    "        return len(self.items)"
   ]
  },
  {
   "cell_type": "markdown",
   "id": "92544717-87bb-4fa8-afec-6a5de406c2ad",
   "metadata": {},
   "source": [
    "To avoid future issues, we check parentheses correctness."
   ]
  },
  {
   "cell_type": "code",
   "execution_count": 53,
   "id": "060ecd91-0cac-4293-8658-42f0c8f64134",
   "metadata": {},
   "outputs": [],
   "source": [
    "def parenth_checker(symbol_list: List[str]) -> bool:\n",
    "    \"\"\"Validate parenthesis balance in the formula.\n",
    "\n",
    "    Args:\n",
    "        symbol_list (List[str]): List of formula components the in original order.\n",
    "\n",
    "    Returns:\n",
    "        bool: Info about correct parentesis balance.\n",
    "    \"\"\"\n",
    "    stack = Stack()\n",
    "    balanced = True\n",
    "    ind = 0\n",
    "    while ind < len(symbol_list) and balanced:\n",
    "        symbol = symbol_list[ind]\n",
    "        if symbol == \"(\":\n",
    "            stack.push(symbol)\n",
    "        elif symbol == \")\":\n",
    "            if stack.is_empty():\n",
    "                balanced = False\n",
    "            else:\n",
    "                stack.pop()\n",
    "        ind += 1\n",
    "\n",
    "    if balanced and stack.is_empty():\n",
    "        return True\n",
    "    else:\n",
    "        return False"
   ]
  },
  {
   "cell_type": "markdown",
   "id": "c0957afe-b30f-40a2-8ac9-746ac34408dc",
   "metadata": {},
   "source": [
    "At this point, a little helper function to tell whether string has a float representation. "
   ]
  },
  {
   "cell_type": "code",
   "execution_count": 54,
   "id": "4c1088ea-248b-44e3-9f5b-3a239302d6a4",
   "metadata": {},
   "outputs": [],
   "source": [
    "def is_float(expr: str) -> bool:\n",
    "    \"\"\"Check if the text represents some number.\n",
    "\n",
    "    Args:\n",
    "        expr (str): Some text to be checked.\n",
    "\n",
    "    Returns:\n",
    "        bool: Info about being a number representation.\n",
    "    \"\"\"\n",
    "    try:\n",
    "        float(expr)\n",
    "        return True\n",
    "    except ValueError:\n",
    "        return False"
   ]
  },
  {
   "cell_type": "markdown",
   "id": "340face5-28c9-490e-8a4d-9efe2abb6aa4",
   "metadata": {},
   "source": [
    "Finally, transforming a prepared list into a sequence in *postfix notation*."
   ]
  },
  {
   "cell_type": "code",
   "execution_count": 55,
   "id": "68103aa4-b526-4505-8a1f-1d72f362a3e0",
   "metadata": {},
   "outputs": [],
   "source": [
    "def list_to_postfix(expr_list: List[str]) -> List[str]:\n",
    "    \"\"\"Change the notation to postfix.\n",
    "    One argument functions are getting their one argument, operators - two of them.\n",
    "    Leave (unneeded) parentheses.\n",
    "\n",
    "    Args:\n",
    "        expr_list (List[str]): List of components in original order (filled to be explicit).\n",
    "\n",
    "    Returns:\n",
    "        List[str]: Postorder notation of the list on input.\n",
    "    \"\"\"\n",
    "    prior_dict = {**opers, **one_arg_fncts, **parenth}\n",
    "    stack = Stack()\n",
    "    posfix_list = []\n",
    "    comp_list = expr_list\n",
    "\n",
    "    for comp in comp_list:\n",
    "        if comp in letters or is_float(comp):\n",
    "            posfix_list.append(comp)\n",
    "        elif comp == \"(\":\n",
    "            stack.push(comp)\n",
    "        elif comp == \")\":\n",
    "            top_comp = stack.pop()\n",
    "            while top_comp != \"(\":\n",
    "                posfix_list.append(top_comp)\n",
    "                top_comp = stack.pop()\n",
    "        else:\n",
    "            while (not stack.is_empty()) and (\n",
    "                prior_dict[stack.peek()] <= prior_dict[comp]\n",
    "            ):\n",
    "                posfix_list.append(stack.pop())\n",
    "            stack.push(comp)\n",
    "\n",
    "    while not stack.is_empty():\n",
    "        posfix_list.append(stack.pop())\n",
    "    return posfix_list"
   ]
  },
  {
   "cell_type": "markdown",
   "id": "46381d14-ac8d-457d-8208-023372b912e0",
   "metadata": {},
   "source": [
    "All this steps can be done with the help of the function below:"
   ]
  },
  {
   "cell_type": "code",
   "execution_count": 56,
   "id": "c39f59d5-9ffe-44f5-a982-0544a28bdea8",
   "metadata": {},
   "outputs": [],
   "source": [
    "def postfix_formula(expression: str) -> List[str]:\n",
    "    \"\"\"Transform a sting into an easy to process postfix list of components.\n",
    "\n",
    "    Args:\n",
    "        expression (str): Mathemetical expression as a text.\n",
    "\n",
    "    Raises:\n",
    "        Exception: Parentheses have to be balanced.\n",
    "\n",
    "    Returns:\n",
    "        List[str]: Postorder notation of the expression (as a list of components).\n",
    "    \"\"\"\n",
    "    parsed = formula_parse(expression)\n",
    "    filled = formula_fill(parsed)\n",
    "    if parenth_checker(filled):\n",
    "        return list_to_postfix(filled)\n",
    "    else:\n",
    "        raise Exception(\"Parentheses not balances.\")"
   ]
  },
  {
   "cell_type": "markdown",
   "id": "bfa08d7c-8edf-4837-8e02-e1c77d24f94f",
   "metadata": {},
   "source": [
    "### Building a tree"
   ]
  },
  {
   "cell_type": "markdown",
   "id": "aebb1032-e154-4502-bf78-34ccec9b8c53",
   "metadata": {},
   "source": [
    "A simple tree can be created only using basic *node* objects with keys and referencing its children. "
   ]
  },
  {
   "cell_type": "code",
   "execution_count": 57,
   "id": "bdd2c599-6101-4ca3-ab1e-8831e78a8db7",
   "metadata": {},
   "outputs": [],
   "source": [
    "class FormulaNode:\n",
    "    \"\"\"Node in formula tree.\n",
    "    Represents an operator, function or value.\n",
    "    Value means a number, a letter parameter or a letter variable.\n",
    "    \"\"\"\n",
    "\n",
    "    def __init__(\n",
    "        self, key: str, left_ch: FormulaNode = None, right_ch: FormulaNode = None\n",
    "    ):\n",
    "        \"\"\"Create a node represention of expression component.\n",
    "        Functions have only right child - their argument.\n",
    "        Operators' children are the left and right operands.\n",
    "        Values cannot have children.\n",
    "\n",
    "        Args:\n",
    "            key (str): Symbol of the node (value, function or operator).\n",
    "            left_ch (FormulaNode, optional): Left child in the tree structure. Defaults to None.\n",
    "            right_ch (FormulaNode, optional: Right child in the tree structure. Defaults to None.\n",
    "        \"\"\"\n",
    "        self.key = key\n",
    "        self.left_ch = left_ch\n",
    "        self.right_ch = right_ch\n",
    "\n",
    "    def repl_data(self, node: FormulaNode):\n",
    "        \"\"\"Change the nodes data - key and children.\n",
    "\n",
    "        Args:\n",
    "            node (FormulaNode): Node to get the data from.\n",
    "        \"\"\"\n",
    "        self.key = node.key\n",
    "        self.left_ch, self.right_ch = node.left_ch, node.right_ch"
   ]
  },
  {
   "cell_type": "markdown",
   "id": "9092ee16-38be-4d5d-8c83-d3c2dc799a0c",
   "metadata": {},
   "source": [
    "Therefore, I implement something what can easily extract a tree from a *parsed, postfix formula*.\n",
    "\n",
    "Optional argument `replace_fncts` can be given to change some letters for real functions. It is not used in basic formula transformation, but is really handy during the recursive derivation process (later)."
   ]
  },
  {
   "cell_type": "code",
   "execution_count": 58,
   "id": "f8388d43-954f-49be-a1ae-a0f7de5e5218",
   "metadata": {},
   "outputs": [],
   "source": [
    "def tree_from_formula(\n",
    "    postfix_formula: List[str], replace_fncts: dict = dict()\n",
    ") -> FormulaNode:\n",
    "    \"\"\"Transform a list of components in postfix notation to the tree representation.\n",
    "    Some symbols can be possibly replaced by a real functions or something else.\n",
    "\n",
    "    Args:\n",
    "        postfix_formula (List[str]): List of components in postfix notation.\n",
    "        replace_fncts (dict, optional): Symbols to replace. Defaults to dict().\n",
    "\n",
    "    Returns:\n",
    "        FormulaNode: Root node of the expression tree.\n",
    "    \"\"\"\n",
    "    stack = Stack()\n",
    "    ind = 0\n",
    "\n",
    "    def leaf_nodif(key: Union[FormulaNode, float]):\n",
    "        if not isinstance(key, FormulaNode):\n",
    "            return FormulaNode(key)\n",
    "        else:\n",
    "            return key\n",
    "\n",
    "    while ind < len(postfix_formula):\n",
    "        comp = postfix_formula[ind]\n",
    "\n",
    "        # optional replacing\n",
    "        if comp in replace_fncts:\n",
    "            comp = replace_fncts[comp]\n",
    "\n",
    "        if comp in opers:\n",
    "            right_ch = stack.pop()\n",
    "            left_ch = stack.pop()\n",
    "            new_node = FormulaNode(comp, left_ch, right_ch)\n",
    "            stack.push(new_node)\n",
    "        elif comp in one_arg_fncts:\n",
    "            child = stack.pop()\n",
    "            new_node = FormulaNode(comp, right_ch=child)\n",
    "            stack.push(new_node)\n",
    "        else:\n",
    "            comp = leaf_nodif(comp)\n",
    "            stack.push(comp)\n",
    "        ind += 1\n",
    "    root = stack.pop()\n",
    "    return root"
   ]
  },
  {
   "cell_type": "markdown",
   "id": "27950c5a-d671-488f-a427-0e9c3288fce9",
   "metadata": {},
   "source": [
    "This can also help to build derivative trees only from the written formulas."
   ]
  },
  {
   "cell_type": "markdown",
   "id": "8d05efb2-62d4-447c-b4ab-b34156a60ef5",
   "metadata": {},
   "source": [
    "Ultimately - tree from text."
   ]
  },
  {
   "cell_type": "code",
   "execution_count": 59,
   "id": "11e4cd93-6852-4ae2-aae7-9da996c525c1",
   "metadata": {},
   "outputs": [],
   "source": [
    "def get_tree(expression: str, replace_fncts=dict()) -> FormulaNode:\n",
    "    \"\"\"Transform a sting into a tree representation.\n",
    "\n",
    "    Args:\n",
    "        expression (str): Mathemetical expression as a text.\n",
    "        replace_fncts ([type], optional): Symbols to replace by something else. Defaults to dict().\n",
    "\n",
    "    Returns:\n",
    "        FormulaNode: Root node of the expression tree.\n",
    "    \"\"\"\n",
    "    pf_formula = postfix_formula(expression)\n",
    "    return tree_from_formula(pf_formula, replace_fncts)"
   ]
  },
  {
   "cell_type": "markdown",
   "id": "13f43f2d-0cce-433c-bc87-020601711446",
   "metadata": {
    "tags": []
   },
   "source": [
    "## Derivation"
   ]
  },
  {
   "cell_type": "markdown",
   "id": "60d5b47a-ff93-44ef-9e3b-cc3ff19960e8",
   "metadata": {},
   "source": [
    "In this step I begin with creating derivation formula tables [[6]](#ref6). They consider almost all the combinations with these functions.\n",
    "\n",
    "It is also worth mentioning that *power* function has a quite general derivative there to handle also $f(x)^{g(x)}$. That is why\n",
    "\n",
    "$$\\frac{d}{dx}f^g = f^g (\\frac{gf'}{f}+g'\\ln(f)).$$\n",
    "\n",
    "That is for $x^a$ and $a^x$ too. Fortunately, the formula above implies well known particular formulas."
   ]
  },
  {
   "cell_type": "markdown",
   "id": "06e54c69-914f-4568-b782-5c1d8fc2d392",
   "metadata": {},
   "source": [
    "In my notation, for each function $f$ and $g$, these are `f` and `g`. However, even though it might be not intuitive, $f'$ becomes `F` and the same with $g'$ - `G`."
   ]
  },
  {
   "cell_type": "code",
   "execution_count": 60,
   "id": "6fd9a3cb-ad11-4da5-ae24-2b4abd6cbd4e",
   "metadata": {},
   "outputs": [],
   "source": [
    "deriv_formulas_oper = {\n",
    "    \"+\": \"F+G\",\n",
    "    \"-\": \"F-G\",\n",
    "    \"*\": \"Fg+fG\",\n",
    "    \"/\": \"(Fg-fG)/g^2\",\n",
    "    \"^\": \"f^g(gF/f+Glnf)\",\n",
    "}\n",
    "deriv_formulas_oaf = {\n",
    "    \"sqrt\": \"F/(2sqrtf)\",\n",
    "    \"ln\": \"F/f\",\n",
    "    \"exp\": \"Fe^f\",\n",
    "    \"sin\": \"Fcosf\",\n",
    "    \"cos\": \"-Fsinf\",\n",
    "    \"tan\": \"(1+tanf^2)F\",\n",
    "    \"cot\": \"(-1-cotf^2)F\",\n",
    "    \"arcsin\": \"F/sqrt(1-f^2)\",\n",
    "    \"arccos\": \"-F/sqrt(1-f^2)\",\n",
    "    \"arctan\": \"F/(1+f^2)\",\n",
    "    \"arccot\": \"-F/(1+f^2)\",\n",
    "}"
   ]
  },
  {
   "cell_type": "markdown",
   "id": "0c12ab24-dcf0-4cc9-9d9a-735caaf5b193",
   "metadata": {},
   "source": [
    "Main function is here below. It works recursively for branches and always decide whish formula to use, plus what is the current substitution for `f`, `g` and its derivatives. \n",
    "\n",
    "Moreover it uses *two-children* substitution or *one-children* version, depending on the input - whether we have got a arithmetic operator or one-argument function."
   ]
  },
  {
   "cell_type": "code",
   "execution_count": 61,
   "id": "8f3711e3-d3e6-4db0-8ed5-47f74b469f0e",
   "metadata": {
    "tags": []
   },
   "outputs": [],
   "source": [
    "def derivative(formula_tree: FormulaNode, variable: str) -> FormulaNode:\n",
    "    \"\"\"Change the function tree into its derivative tree.\n",
    "\n",
    "    Args:\n",
    "        formula_tree (FormulaNode): Tree of a function to derivate.\n",
    "        variable (str): Variable with respect to which we derivate.\n",
    "\n",
    "    Raises:\n",
    "        ValueError: If given variable is not a letter of is a special letter.\n",
    "        Exception: When something does not work - for developement.\n",
    "\n",
    "    Returns:\n",
    "        FormulaNode: Tree of the function after derivation.\n",
    "    \"\"\"\n",
    "    if variable not in letters or variable in {\"e\", \"pi\"}:\n",
    "        raise ValueError(\"Variable name is not correct.\")\n",
    "\n",
    "    def fnct_replacings(double_args: bool = True):\n",
    "        if double_args:\n",
    "            repl_dict = {\n",
    "                \"F\": derivative(formula_tree.left_ch, variable),\n",
    "                \"G\": derivative(formula_tree.right_ch, variable),\n",
    "                \"f\": formula_tree.left_ch,\n",
    "                \"g\": formula_tree.right_ch,\n",
    "            }\n",
    "        else:\n",
    "            repl_dict = {\n",
    "                \"F\": derivative(formula_tree.right_ch, variable),\n",
    "                \"f\": formula_tree.right_ch,\n",
    "            }\n",
    "        return repl_dict\n",
    "\n",
    "    comp = formula_tree.key\n",
    "    if comp == variable:\n",
    "        return get_tree(\"1\")\n",
    "    elif is_float(comp) or comp in letters:\n",
    "        return get_tree(\"0\")\n",
    "    elif comp in deriv_formulas_oper:\n",
    "        return get_tree(deriv_formulas_oper[comp], fnct_replacings())\n",
    "    elif comp in deriv_formulas_oaf:\n",
    "        return get_tree(deriv_formulas_oaf[comp], fnct_replacings(False))\n",
    "    else:\n",
    "        raise Exception(\"Unknown derivation error.\")"
   ]
  },
  {
   "cell_type": "markdown",
   "id": "63cf877d-fa40-4646-a590-557c9eb31d5e",
   "metadata": {},
   "source": [
    "## Returning to the expression"
   ]
  },
  {
   "cell_type": "markdown",
   "id": "a93a8385-7988-465a-8c29-36b35ef776d4",
   "metadata": {},
   "source": [
    "Now, I carry out a really basic simpification for a tree. I do it with the help of \"*postorder* approach\".\n",
    "\n",
    "Obviously, **it can be way more improved**, but I belive this is not the main goal now.\n",
    "\n",
    "Things to be added are possibly:\n",
    "\n",
    "- fraction (`a / b`) reducing\n",
    "- evaluating the ultimate value for chains of operations with the same priority\n",
    "- changing the power if the expression is multiplied by itself\n",
    "\n",
    "and so on."
   ]
  },
  {
   "cell_type": "code",
   "execution_count": 62,
   "id": "f08366c4-3056-4365-8345-d8117b3f1d52",
   "metadata": {},
   "outputs": [],
   "source": [
    "def tree_simplif(node: FormulaNode):\n",
    "    \"\"\"Do the really basic simplification.\n",
    "    Reduce fragments with 1 and 0 operations and can be immediatly simpler.\n",
    "    Execute the obvious operations too.\n",
    "\n",
    "    Args:\n",
    "        node (FormulaNode): Root node of a tree to simplify.\n",
    "\n",
    "    Raises:\n",
    "        ValueError: If the division by 0 is picked.\n",
    "    \"\"\"\n",
    "    aritm_opers_d = {\n",
    "        \"+\": lambda a, b: operator.add(a, b),\n",
    "        \"-\": lambda a, b: operator.sub(a, b),\n",
    "        \"*\": lambda a, b: operator.mul(a, b),\n",
    "        # no truediv to keep rational numbers as they were\n",
    "        \"^\": lambda a, b: operator.pow(a, b),\n",
    "    }\n",
    "\n",
    "    if node:\n",
    "        tree_simplif(node.right_ch)\n",
    "        tree_simplif(node.left_ch)\n",
    "\n",
    "        if node.key == \"*\" and (node.left_ch.key == \"0\" or node.right_ch.key == \"0\"):\n",
    "            node.repl_data(FormulaNode(\"0\"))\n",
    "        elif node.key == \"*\" and node.left_ch.key == \"1\":\n",
    "            node.repl_data(node.right_ch)\n",
    "        elif node.key == \"*\" and node.right_ch.key == \"1\":\n",
    "            node.repl_data(node.left_ch)\n",
    "        elif node.key == \"+\" and node.right_ch.key == \"0\":\n",
    "            node.repl_data(node.left_ch)\n",
    "        elif node.key == \"+\" and node.left_ch.key == \"0\":\n",
    "            node.repl_data(node.right_ch)\n",
    "        elif node.key == \"-\" and node.right_ch.key == \"0\":\n",
    "            node.repl_data(node.left_ch)\n",
    "        elif node.key == \"-\" and node.left_ch.key == \"0\":\n",
    "            new_node = FormulaNode(\"*\", FormulaNode(\"-1\"), node.right_ch)\n",
    "            node.repl_data(new_node)\n",
    "        elif node.key == \"^\" and node.left_ch.key == \"0\":\n",
    "            node.repl_data(FormulaNode(\"0\"))\n",
    "        elif node.key == \"^\" and node.left_ch.key == \"1\":\n",
    "            node.repl_data(FormulaNode(\"1\"))\n",
    "        elif node.key == \"^\" and node.right_ch.key == \"0\":\n",
    "            node.repl_data(FormulaNode(\"1\"))\n",
    "        elif node.key == \"^\" and node.right_ch.key == \"1\":\n",
    "            node.repl_data(node.left_ch)\n",
    "        elif node.key == \"/\" and node.right_ch.key == \"0\":\n",
    "            raise ValueError(\"Cannot divide by 0.\")\n",
    "        elif node.key == \"/\" and node.right_ch.key == \"1\":\n",
    "            node.repl_data(node.left_ch)\n",
    "        elif node.key == \"/\" and node.left_ch.key == \"0\":\n",
    "            node.repl_data(FormulaNode(\"0\"))\n",
    "        elif node.key == \"ln\" and node.right_ch.key == \"e\":\n",
    "            node.repl_data(FormulaNode(\"1\"))\n",
    "        elif node.key == \"ln\" and node.right_ch.key == \"1\":\n",
    "            node.repl_data(FormulaNode(\"0\"))\n",
    "\n",
    "        elif (\n",
    "            node.key in aritm_opers_d\n",
    "            and is_float(node.left_ch.key)\n",
    "            and is_float(node.right_ch.key)\n",
    "        ):\n",
    "            result = aritm_opers_d[node.key](\n",
    "                float(node.left_ch.key), float(node.right_ch.key)\n",
    "            )\n",
    "            if not result % 1:\n",
    "                result = int(result)\n",
    "            node.repl_data(FormulaNode(str(result)))"
   ]
  },
  {
   "cell_type": "markdown",
   "id": "1b8448c7-8e35-4ae4-bf28-8a463dad5f32",
   "metadata": {},
   "source": [
    "Using the standard *inorder* algorithm I come back from tree to the right expression. It is \"hyper-correct\" version expression actually, but that is even better."
   ]
  },
  {
   "cell_type": "code",
   "execution_count": 63,
   "id": "eff02503-a1cd-439b-8814-c76b5f061c86",
   "metadata": {},
   "outputs": [],
   "source": [
    "def formula_from_tree(root: FormulaNode) -> str:\n",
    "    \"\"\"Change the tree back to its text representation.\n",
    "    Use the inorder traversal.\n",
    "\n",
    "    Args:\n",
    "        root (FormulaNode): Root of the tree to transform.\n",
    "\n",
    "    Returns:\n",
    "        str: Expression string representation.\n",
    "    \"\"\"\n",
    "    expr_list = []\n",
    "\n",
    "    def inorder(node):\n",
    "        if node:\n",
    "            if node.left_ch or node.right_ch:\n",
    "                expr_list.append(\"(\")\n",
    "            inorder(node.left_ch)\n",
    "            expr_list.append(node.key)\n",
    "            inorder(node.right_ch)\n",
    "            if node.left_ch or node.right_ch:\n",
    "                expr_list.append(\")\")\n",
    "\n",
    "    inorder(root)\n",
    "    return \"\".join(map(str, expr_list))"
   ]
  },
  {
   "cell_type": "markdown",
   "id": "821654c8-af45-43a2-9dbf-062ab2419b08",
   "metadata": {},
   "source": [
    "## Final tool"
   ]
  },
  {
   "cell_type": "markdown",
   "id": "8ae9697e-8ee4-4a47-af37-41090c6c5461",
   "metadata": {},
   "source": [
    "A function collecting all the tools written in this task. It takes a string expression on input and outputs simplified string derivative."
   ]
  },
  {
   "cell_type": "code",
   "execution_count": 64,
   "id": "3fe2cdca-0910-4a58-a9e6-de422fe01993",
   "metadata": {},
   "outputs": [],
   "source": [
    "def derivative_str(expression: str, variable: str) -> str:\n",
    "    \"\"\"Derivate taking the text expression and return it in the same form.\n",
    "    Do the basic simplifications.\n",
    "\n",
    "    Args:\n",
    "        expression (str): Formula as text.\n",
    "        variable (str): Variable with respect to which we derivate.\n",
    "\n",
    "    Returns:\n",
    "        str: Derivative as a text expression.\n",
    "    \"\"\"\n",
    "    expr_tr = get_tree(expression)\n",
    "    tree_simplif(expr_tr)\n",
    "    deriv_tr = derivative(expr_tr, variable)\n",
    "    tree_simplif(deriv_tr)\n",
    "    result = formula_from_tree(deriv_tr)\n",
    "    return result"
   ]
  },
  {
   "cell_type": "markdown",
   "id": "65885937-3c0f-471c-9f16-21c9b126a89b",
   "metadata": {},
   "source": [
    "## Presentation"
   ]
  },
  {
   "cell_type": "markdown",
   "id": "bca21e45-77a1-4e69-aaf3-fa1a2d53bcef",
   "metadata": {},
   "source": [
    "Some examples of derivatives."
   ]
  },
  {
   "cell_type": "code",
   "execution_count": 65,
   "id": "f9a14229-40fb-4f9d-a282-6ad4150854c7",
   "metadata": {},
   "outputs": [
    {
     "name": "stdout",
     "output_type": "stream",
     "text": [
      "Variable name is not correct.\n"
     ]
    }
   ],
   "source": [
    "try:\n",
    "    derivative_str(\"4+4\", \"4\")\n",
    "except ValueError as err:\n",
    "    print(err)"
   ]
  },
  {
   "cell_type": "code",
   "execution_count": 66,
   "id": "a42649cf-4bcc-4df6-ad4a-5414816f1c6b",
   "metadata": {},
   "outputs": [
    {
     "data": {
      "text/plain": [
       "'0'"
      ]
     },
     "execution_count": 66,
     "metadata": {},
     "output_type": "execute_result"
    }
   ],
   "source": [
    "derivative_str(\"5s+6\", \"x\")"
   ]
  },
  {
   "cell_type": "code",
   "execution_count": 67,
   "id": "43ca9305-e629-4a77-9ea6-0c33764dde2e",
   "metadata": {},
   "outputs": [
    {
     "data": {
      "text/plain": [
       "'(1/x)'"
      ]
     },
     "execution_count": 67,
     "metadata": {},
     "output_type": "execute_result"
    }
   ],
   "source": [
    "derivative_str(\"lnx\", \"x\")"
   ]
  },
  {
   "cell_type": "code",
   "execution_count": 68,
   "id": "bc34c26f-395e-4d23-9506-cec40991587e",
   "metadata": {},
   "outputs": [
    {
     "data": {
      "text/plain": [
       "'5'"
      ]
     },
     "execution_count": 68,
     "metadata": {},
     "output_type": "execute_result"
    }
   ],
   "source": [
    "derivative_str(\"5s+6\", \"s\")"
   ]
  },
  {
   "cell_type": "code",
   "execution_count": 69,
   "id": "5a190160-c0fa-44e2-b0d5-f5804738a1ef",
   "metadata": {},
   "outputs": [
    {
     "data": {
      "text/plain": [
       "'(pi*(cos(pi*x)))'"
      ]
     },
     "execution_count": 69,
     "metadata": {},
     "output_type": "execute_result"
    }
   ],
   "source": [
    "derivative_str(\"sin(pi x)\", \"x\")"
   ]
  },
  {
   "cell_type": "code",
   "execution_count": 70,
   "id": "2e6e96b0-ce15-484b-91e9-40dac27a7f69",
   "metadata": {},
   "outputs": [
    {
     "data": {
      "text/plain": [
       "'(5*((x^2)*(2/x)))'"
      ]
     },
     "execution_count": 70,
     "metadata": {},
     "output_type": "execute_result"
    }
   ],
   "source": [
    "# correct but might be suprising (it is due to the general formula usage)\n",
    "derivative_str(\"5x^2+6\", \"x\")"
   ]
  },
  {
   "cell_type": "code",
   "execution_count": 71,
   "id": "91d46b17-2d0e-461b-a669-1d6d96a72da7",
   "metadata": {},
   "outputs": [
    {
     "data": {
      "text/plain": [
       "'((((1/x)*(sinx))-((lnx)*(cosx)))/((sinx)^2))'"
      ]
     },
     "execution_count": 71,
     "metadata": {},
     "output_type": "execute_result"
    }
   ],
   "source": [
    "derivative_str(\"lnx/sinx\", \"x\")"
   ]
  },
  {
   "cell_type": "markdown",
   "id": "9f6abbc8-3e08-4bed-bd26-c153f5b9c4b9",
   "metadata": {},
   "source": [
    "-----------------------"
   ]
  },
  {
   "cell_type": "markdown",
   "id": "31704fbe-3508-4e09-bddf-19149a4331f9",
   "metadata": {},
   "source": [
    "<a id=\"ref1\">[1]</a> J. Szwabiński, *Wykład 9 - Drzewa i algorytmy ich przetwarzania (ciąg dalszy)*,  *Algorytmy i struktury danych*, p. 2-16. [accessed: 08.01.2022]. Link: http://prac.im.pwr.wroc.pl/~szwabin/assets/algo/lectures/9.pdf.\n",
    "\n",
    "<a id=\"ref2\">[2]</a> M. Hofri; H. Mahmoud, *Algorithmics of Nonuniformity: Tools and Paradigms*, 2019, p. 261.\n",
    "\n",
    "<a id=\"ref3\">[3]</a> J. Szwabiński, *Wykład 8 - Drzewa i algorytmy ich przetwarzania*,  *Algorytmy i struktury danych*, p. 17-24. [accessed: 08.01.2022]. Link: http://prac.im.pwr.wroc.pl/~szwabin/assets/algo/lectures/9.pdf.\n",
    "\n",
    "<a id=\"ref4\">[4]</a> File *\"lista5_machaj.ipynb\"* was sent as a task via email. It <u>might</u> be also posted on my *GitHub*. Link: https://github.com/o-mateo-o.\n",
    "\n",
    "<a id=\"ref5\">[5]</a> J. Szwabiński, *Wykłady 2 i 3 - Abstrakcyjne struktury danych*,  *Algorytmy i struktury danych*, p. 6-17. [accessed: 08.01.2022]. Link: http://prac.im.pwr.wroc.pl/~szwabin/assets/algo/lectures/2.pdf.\n",
    "\n",
    "\n",
    "<a id=\"ref6\">[6]</a> *Tablica pochodnych funkcji elementarnych*; *Wzory o pochodnej funkcji*, GiS Wrocław, [accessed: 08.01.2022]. Link: http://www.gis.wroc.pl/pdf/pochodne.pdf."
   ]
  }
 ],
 "metadata": {
  "kernelspec": {
   "display_name": "Python 3 (ipykernel)",
   "language": "python",
   "name": "python3"
  },
  "language_info": {
   "codemirror_mode": {
    "name": "ipython",
    "version": 3
   },
   "file_extension": ".py",
   "mimetype": "text/x-python",
   "name": "python",
   "nbconvert_exporter": "python",
   "pygments_lexer": "ipython3",
   "version": "3.9.7"
  },
  "toc-autonumbering": false,
  "toc-showcode": false,
  "toc-showmarkdowntxt": false
 },
 "nbformat": 4,
 "nbformat_minor": 5
}
