{
 "cells": [
  {
   "cell_type": "markdown",
   "id": "e7382637-12b6-4f24-9115-9147a03bb764",
   "metadata": {},
   "source": [
    "**List 6** - Algorithms and Data Structures 2021/22, WUST - F13\n",
    "\n",
    "*Author:* Mateusz Machaj, 262288\n",
    "\n",
    "*Date:* 10.01.2022"
   ]
  },
  {
   "cell_type": "markdown",
   "id": "48a275db-226a-49cb-9b21-fd1426e3b371",
   "metadata": {
    "tags": []
   },
   "source": [
    "# Import"
   ]
  },
  {
   "cell_type": "code",
   "execution_count": 1,
   "id": "9d3fc9c4-8630-4572-9281-5f884f83548b",
   "metadata": {},
   "outputs": [],
   "source": [
    "from __future__ import annotations\n",
    "\n",
    "import re\n",
    "import string\n",
    "import time\n",
    "from typing import Any, List, Optional, Tuple, Union\n",
    "\n",
    "import matplotlib.pyplot as plt\n",
    "import numpy as np\n",
    "from scipy.optimize import curve_fit"
   ]
  },
  {
   "cell_type": "markdown",
   "id": "06632f51-dfd8-4aaa-a9b2-e9f7fe4b8f59",
   "metadata": {},
   "source": [
    "-----------------------"
   ]
  },
  {
   "cell_type": "markdown",
   "id": "6397bd93-2fc6-48fc-9ec8-8c5bc6f131ee",
   "metadata": {
    "tags": []
   },
   "source": [
    "# Task 1"
   ]
  },
  {
   "cell_type": "markdown",
   "id": "41276e1e-dc34-491e-a0f8-e2ae2ee85e7b",
   "metadata": {
    "tags": []
   },
   "source": [
    "_**Binary search tree class implementation**_"
   ]
  },
  {
   "cell_type": "markdown",
   "id": "f47e5029-3959-4729-91df-b9f8af96bac4",
   "metadata": {},
   "source": [
    "-----------------------"
   ]
  },
  {
   "cell_type": "markdown",
   "id": "032c979c-2171-4a27-97e0-fa97c78719bf",
   "metadata": {},
   "source": [
    "Implementation is written basing on the professor's lecture notes [[1]](#ref1), but some elements are modified - especially handling duplicate keys and issues regarding PEP rules. There were also a couple of mistakes to correct."
   ]
  },
  {
   "cell_type": "markdown",
   "id": "bc96ef4b-1e6d-4caa-a0a8-94dc28e889b5",
   "metadata": {},
   "source": [
    "I do not use unncessary `get` and `set` methods for attributes, because the code is written with respect to *python* conventions."
   ]
  },
  {
   "cell_type": "markdown",
   "id": "1099da09-011e-4161-9ae7-89234a7e03e7",
   "metadata": {},
   "source": [
    "## Node class"
   ]
  },
  {
   "cell_type": "markdown",
   "id": "e093ff90-c90a-4629-84e0-54c661d04e61",
   "metadata": {},
   "source": [
    "At first I create a node class representing each unit in binary tree. "
   ]
  },
  {
   "cell_type": "code",
   "execution_count": 2,
   "id": "87ba27ef-0627-4521-9138-93158548adee",
   "metadata": {},
   "outputs": [],
   "source": [
    "class TreeNode:\n",
    "    def __init__(\n",
    "        self,\n",
    "        key: int,\n",
    "        value: Any = None,\n",
    "        parent: TreeNode = None,\n",
    "        left_ch: TreeNode = None,\n",
    "        right_ch: TreeNode = None,\n",
    "    ):\n",
    "        self.key = key\n",
    "        self.value = value\n",
    "        self.parent = parent\n",
    "        self.left_ch = left_ch\n",
    "        self.right_ch = right_ch\n",
    "\n",
    "        self.balance_fact = 0  # used only for AVL Tree\n",
    "\n",
    "    def is_root(self) -> bool:\n",
    "        return not self.parent\n",
    "\n",
    "    def is_left_ch(self) -> bool:\n",
    "        return self.parent and self.parent.left_ch is self\n",
    "\n",
    "    def is_right_ch(self) -> bool:\n",
    "        return self.parent and self.parent.right_ch is self\n",
    "\n",
    "    def has_left_ch(self) -> bool:\n",
    "        return self.left_ch\n",
    "\n",
    "    def has_right_ch(self) -> bool:\n",
    "        return self.right_ch\n",
    "\n",
    "    def children_number(self) -> int:\n",
    "        if self.left_ch and self.right_ch:\n",
    "            return 2\n",
    "        elif not (self.left_ch or self.right_ch):\n",
    "            return 0\n",
    "        else:\n",
    "            return 1\n",
    "\n",
    "    def is_leaf(self) -> bool:\n",
    "        return not bool(self.children_number())\n",
    "\n",
    "    def get_item_data(self) -> Tuple[int, Any]:\n",
    "        return self.key, self.value\n",
    "\n",
    "    def set_item_data(self, key: int, value: Any = None):\n",
    "        self.key = key\n",
    "        self.value = value\n",
    "\n",
    "    def get_children(self) -> Tuple[TreeNode, TreeNode]:\n",
    "        return self.left_ch, self.right_ch\n",
    "\n",
    "    def set_children(self, left_ch: TreeNode = None, right_ch: TreeNode = None):\n",
    "        if left_ch:\n",
    "            self.left_ch = left_ch\n",
    "            self.left_ch.parent = self\n",
    "        if right_ch:\n",
    "            self.right_ch = right_ch\n",
    "            self.right_ch.parent = self"
   ]
  },
  {
   "cell_type": "markdown",
   "id": "54707c2c-a662-4983-b153-73eb781ac0be",
   "metadata": {
    "tags": []
   },
   "source": [
    "## Main tree class"
   ]
  },
  {
   "cell_type": "markdown",
   "id": "adf7016b-b27f-4af2-a463-aaf38c54eed1",
   "metadata": {},
   "source": [
    "Now, the main binary search tree class."
   ]
  },
  {
   "cell_type": "markdown",
   "id": "7dc04e6c-f3f4-4711-829d-30f984b927d6",
   "metadata": {},
   "source": [
    "I assume that **repeated keys are not allowed** [[2]](#ref2). It means that left children are strictly smaller and right - strictly greater (unlike in the lecture notes)."
   ]
  },
  {
   "cell_type": "code",
   "execution_count": 3,
   "id": "98329157-c344-4391-a782-7c917b379320",
   "metadata": {
    "tags": []
   },
   "outputs": [],
   "source": [
    "class BSTree:\n",
    "    def __init__(self):\n",
    "        self.root = None\n",
    "        self.size = 0\n",
    "\n",
    "    def length(self) -> int:\n",
    "        return self.size\n",
    "\n",
    "    def __len__(self) -> int:\n",
    "        return self.size\n",
    "\n",
    "    def _put(self, key: int, value: Any, current_node: TreeNode):\n",
    "        if key < current_node.key:\n",
    "            if current_node.has_left_ch():\n",
    "                self._put(key, value, current_node.left_ch)\n",
    "            else:\n",
    "                current_node.left_ch = TreeNode(key, value, parent=current_node)\n",
    "        elif key > current_node.key:\n",
    "            if current_node.has_right_ch():\n",
    "                self._put(key, value, current_node.right_ch)\n",
    "            else:\n",
    "                current_node.right_ch = TreeNode(key, value, parent=current_node)\n",
    "        elif key == current_node.key:\n",
    "            current_node.value = value\n",
    "\n",
    "    def put(self, key: int, value: Any = None):\n",
    "        if self.root:\n",
    "            self._put(key, value, self.root)\n",
    "        else:\n",
    "            self.root = TreeNode(key, value)\n",
    "        self.size += 1\n",
    "\n",
    "    def __setitem__(self, key: int, value: Any):\n",
    "        self.put(key, value)\n",
    "\n",
    "    def _get(self, key: int, current_node: TreeNode = None) -> Optional[TreeNode]:\n",
    "        if not current_node:\n",
    "            current_node = self.root\n",
    "        if key < current_node.key:\n",
    "            if current_node.has_left_ch():\n",
    "                return self._get(key, current_node.left_ch)\n",
    "            else:\n",
    "                return None\n",
    "        elif key > current_node.key:\n",
    "            if current_node.has_right_ch():\n",
    "                return self._get(key, current_node.right_ch)\n",
    "            else:\n",
    "                return None\n",
    "        elif key == current_node.key:\n",
    "            return current_node\n",
    "\n",
    "    def get(self, key: int) -> Optional[Any]:\n",
    "        if self.root:\n",
    "            search_res = self._get(key, self.root)\n",
    "            if search_res:\n",
    "                return search_res.value\n",
    "            else:\n",
    "                return None\n",
    "        else:\n",
    "            return None\n",
    "\n",
    "    def __getitem__(self, key: int) -> int:\n",
    "        return self.get(key)\n",
    "\n",
    "    def __contains__(self, key: int) -> bool:\n",
    "        if self._get(key, self.root):\n",
    "            return True\n",
    "        else:\n",
    "            return False\n",
    "\n",
    "    def _find_min(self, current_node: TreeNode = None) -> TreeNode:\n",
    "        if not current_node:\n",
    "            current_node = self.root\n",
    "        while current_node.has_left_ch():\n",
    "            current_node = current_node.left_ch\n",
    "        return current_node\n",
    "\n",
    "    def first_item(self) -> Tuple[int, Any]:\n",
    "        min_key_node = _find_min()\n",
    "        return (min_key_node.key, min_key_node.value)\n",
    "\n",
    "    def _find_max(self, current_node: TreeNode = None) -> TreeNode:\n",
    "        if not current_node:\n",
    "            current_node = self.root\n",
    "        while current_node.has_right_ch():\n",
    "            current_node = current_node.right_ch\n",
    "        return current_node\n",
    "\n",
    "    def last_item(self) -> Tuple[int, Any]:\n",
    "        max_key_node = _find_max()\n",
    "        return (max_key_node.key, max_key_node.value)\n",
    "\n",
    "    def _find_successor(self, current_node: TreeNode = None) -> Optional[TreeNode]:\n",
    "        if not current_node:\n",
    "            current_node = self.root\n",
    "        succ = None\n",
    "        if current_node.has_right_ch():\n",
    "            succ = self._find_min(current_node.right_ch)\n",
    "        else:\n",
    "            if not current_node.is_root():\n",
    "                if current_node.is_left_ch():\n",
    "                    succ = current_node.parent\n",
    "                else:\n",
    "                    current_node.parent.right_ch = None\n",
    "                    succ = self._find_successor(current_node.parent)\n",
    "                    current_node.parent.right_ch = current_node\n",
    "        return succ\n",
    "\n",
    "    def _remove(self, current_node: TreeNode):\n",
    "        if current_node.is_leaf():\n",
    "            if current_node.is_left_ch():\n",
    "                current_node.parent.left_ch = None\n",
    "            else:\n",
    "                current_node.parent.right_ch = None\n",
    "        elif current_node.children_number() == 2:\n",
    "            succ = self._find_successor(current_node)\n",
    "            if not succ:\n",
    "                raise Exception(\"Successor searching error.\")\n",
    "            current_node.set_item_data(*succ.get_item_data())\n",
    "            self._remove(succ)\n",
    "\n",
    "        else:\n",
    "            if current_node.has_left_ch():\n",
    "                child = current_node.left_ch\n",
    "            else:\n",
    "                child = current_node.right_ch\n",
    "\n",
    "            if current_node.is_left_ch():\n",
    "                current_node.parent.set_children(child, None)\n",
    "            elif current_node.is_right_ch():\n",
    "                current_node.parent.set_children(None, child)\n",
    "            else:\n",
    "                current_node.set_item_data(*child.get_item_data())\n",
    "                current_node.set_children(*child.get_children())\n",
    "\n",
    "    def delete(self, key: int):\n",
    "        if self.size > 1:\n",
    "            current_node = self._get(key)\n",
    "            if current_node:\n",
    "                self._remove(current_node)\n",
    "                self.size -= 1\n",
    "            else:\n",
    "                raise KeyError(\"Key not found.\")\n",
    "        elif self.size == 1 and self.root.key == key:\n",
    "            self.root = None\n",
    "            self.size -= 1\n",
    "        else:\n",
    "            raise KeyError(\"Key not found.\")\n",
    "\n",
    "    def __delitem__(self, key: int):\n",
    "        self.delete(key)"
   ]
  },
  {
   "cell_type": "markdown",
   "id": "df41eeee-3716-404e-9528-d6492aa7faa6",
   "metadata": {},
   "source": [
    "While using the class only with the methods provided there are no issues with double keys. Changing any values manually causes many problems and creates ambiguous situation in key set. I do not handle this for obvious reasons. In other languages external inaccessibility of attributes solves it. In *python* we assume reasonable usage."
   ]
  },
  {
   "cell_type": "markdown",
   "id": "5805afbd-a836-4187-bbad-8f590b8f2b27",
   "metadata": {},
   "source": [
    "## AVG Tree"
   ]
  },
  {
   "cell_type": "markdown",
   "id": "2aa9fda0-52b9-412c-811a-9540955bcf14",
   "metadata": {},
   "source": [
    "Having the basic binary search tree class, we can also implement AVL tree - as it is done in notes [[1]](#ref1), so by inheritance. This is going to be our final product."
   ]
  },
  {
   "cell_type": "code",
   "execution_count": 4,
   "id": "3fdd4185-22a5-4f9a-a1e8-4ffe0c3418bd",
   "metadata": {},
   "outputs": [],
   "source": [
    "class AVLTree(BSTree):\n",
    "    def rotate_left(self, rot_root: TreeNode):\n",
    "        pass\n",
    "\n",
    "    def rotate_right(self, rot_root: TreeNode):\n",
    "        pass\n",
    "\n",
    "    def rebalance(self, current_node: TreeNode):\n",
    "        pass\n",
    "\n",
    "    def update_balance(self, current_node: TreeNode):\n",
    "        if abs(current_node.balance_fact) > 1:\n",
    "            self.rebalance(current_node)\n",
    "            return\n",
    "        if not current_node.is_root():\n",
    "            if current_node.is_left_ch():\n",
    "                current_node.parent.balance_fact += 1\n",
    "            else:\n",
    "                current_node.parent.balance_fact -= 1\n",
    "            if current_node.parent.balance_fact != 0:\n",
    "                self.update_balance(current_node.parent)\n",
    "\n",
    "    def _put(self, key: int, value: Any, current_node: TreeNode):\n",
    "        if key < current_node.key:\n",
    "            if current_node.has_left_ch():\n",
    "                self._put(key, value, current_node.left_ch)\n",
    "            else:\n",
    "                current_node.left_ch = TreeNode(key, value, parent=current_node)\n",
    "                self.update_balance(current_node.left_ch)\n",
    "        elif key > current_node.key:\n",
    "            if current_node.has_right_ch():\n",
    "                self._put(key, value, current_node.right_ch)\n",
    "            else:\n",
    "                current_node.right_ch = TreeNode(key, value, parent=current_node)\n",
    "                self.update_balance(current_node.right_ch)\n",
    "        elif key == current_node.key:\n",
    "            current_node.value = value"
   ]
  },
  {
   "cell_type": "markdown",
   "id": "e4fc9063-9e7d-4ae6-b72b-a35c452f22d8",
   "metadata": {
    "tags": []
   },
   "source": [
    "## Presentation"
   ]
  },
  {
   "cell_type": "code",
   "execution_count": 5,
   "id": "4c2e3010-9bc1-45aa-91ce-0e634dd1a2c2",
   "metadata": {},
   "outputs": [
    {
     "data": {
      "text/plain": [
       "5"
      ]
     },
     "execution_count": 5,
     "metadata": {},
     "output_type": "execute_result"
    }
   ],
   "source": [
    "bst1 = BSTree()\n",
    "bst1[5] = 0\n",
    "\n",
    "\n",
    "# bst1.delete(5)\n",
    "bst1.root.key"
   ]
  },
  {
   "cell_type": "code",
   "execution_count": 6,
   "id": "4623c478-d813-42f7-9ad1-b7402e612b81",
   "metadata": {},
   "outputs": [],
   "source": [
    "bst = BSTree()\n",
    "bst[10] = 0\n",
    "bst[5] = 0\n",
    "bst[7] = 0\n",
    "bst[1] = 0\n",
    "bst[9] = 0\n",
    "bst[21] = 0\n",
    "bst[2] = 0\n",
    "bst[9]\n",
    "\n",
    "# print(bst._get(5, bst.root))\n",
    "bst.delete(5)\n",
    "# bst._find_successor(bst._get(5)).key"
   ]
  },
  {
   "cell_type": "code",
   "execution_count": null,
   "id": "98c77a6d-0bb6-44ec-b57e-e7f0b220e8b6",
   "metadata": {},
   "outputs": [],
   "source": []
  },
  {
   "cell_type": "markdown",
   "id": "a19c405d-78e8-4215-aed6-ca11da4a9a16",
   "metadata": {},
   "source": [
    "-----------------------"
   ]
  },
  {
   "cell_type": "markdown",
   "id": "68a70829-49b0-4e4c-81a0-4f51e3d20bdf",
   "metadata": {
    "tags": []
   },
   "source": [
    "# Task 2"
   ]
  },
  {
   "cell_type": "markdown",
   "id": "1feae64c-cf25-4cac-9923-f435f1462066",
   "metadata": {
    "tags": []
   },
   "source": [
    "_**Sorting algorithm with a binary heap**_"
   ]
  },
  {
   "cell_type": "markdown",
   "id": "801e198a-f939-4790-85ac-3d0f3d984f5f",
   "metadata": {},
   "source": [
    "-----------------------"
   ]
  },
  {
   "cell_type": "markdown",
   "id": "5b05f66a-ef2f-40a5-9f7a-e993e9c82bd4",
   "metadata": {},
   "source": [
    "## Main class"
   ]
  },
  {
   "cell_type": "markdown",
   "id": "15c3bb9b-03fe-44fb-b1c5-a6403ae08539",
   "metadata": {},
   "source": [
    "Binary heap class will be writen also according to the professor's lecture notes [[3]](#ref3), using *python* lists in implementation - that is simply convenient.\n",
    "\n",
    "However, in contrary to the sample shown, the *root* is identified with the **maximal** number."
   ]
  },
  {
   "cell_type": "code",
   "execution_count": 7,
   "id": "5dfe71a3-c747-4513-88c2-322ee460c859",
   "metadata": {},
   "outputs": [],
   "source": [
    "class BinHeap:\n",
    "    def __init__(self):\n",
    "        self.heap_list = [0]\n",
    "        self.size = 0\n",
    "\n",
    "    def _get_parent(self, index: int) -> int:\n",
    "        return index // 2\n",
    "\n",
    "    def _get_left_ch(self, index: int) -> int:\n",
    "        return index * 2\n",
    "\n",
    "    def _get_right_ch(self, index: int) -> int:\n",
    "        return index * 2 + 1\n",
    "\n",
    "    def _perc_up(self, index: int):\n",
    "        parent = self._get_parent(index)\n",
    "        while parent > 0:\n",
    "\n",
    "            if self.heap_list[index] > self.heap_list[parent]:\n",
    "                self.heap_list[parent], self.heap_list[index] = (\n",
    "                    self.heap_list[index],\n",
    "                    self.heap_list[parent],\n",
    "                )\n",
    "            index = self._get_parent(index)\n",
    "            parent = self._get_parent(index)\n",
    "\n",
    "    def insert(self, value: float):\n",
    "        self.heap_list.append(value)\n",
    "        self.size += 1\n",
    "        self._perc_up(self.size)\n",
    "\n",
    "    def find_max(self) -> float:\n",
    "        return self.heap_list[1]\n",
    "\n",
    "    def _max_child(self, index: int) -> Optional[int]:\n",
    "        left_ch = self._get_left_ch(index)\n",
    "        right_ch = self._get_right_ch(index)\n",
    "        if left_ch > self.size:\n",
    "            return None\n",
    "        elif left_ch == self.size:\n",
    "            return left_ch\n",
    "        else:\n",
    "            if self.heap_list[left_ch] > self.heap_list[right_ch]:\n",
    "                return left_ch\n",
    "            else:\n",
    "                return right_ch\n",
    "\n",
    "    def _perc_down(self, index: int):\n",
    "        while self._get_left_ch(index) <= self.size:\n",
    "            max_ch = self._max_child(index)\n",
    "            if self.heap_list[index] < self.heap_list[max_ch]:\n",
    "                self.heap_list[index], self.heap_list[max_ch] = (\n",
    "                    self.heap_list[max_ch],\n",
    "                    self.heap_list[index],\n",
    "                )\n",
    "            index = max_ch\n",
    "\n",
    "    def pop_max(self) -> float:\n",
    "        return_value = self.heap_list[1]\n",
    "        self.heap_list[1] = self.heap_list[self.size]\n",
    "        self.heap_list.pop()\n",
    "        self.size -= 1\n",
    "        self._perc_down(1)\n",
    "        return return_value\n",
    "\n",
    "    def build_heap(self, alist: List[float]):\n",
    "        if not all(isinstance(elem, float) or isinstance(elem, int) for elem in alist):\n",
    "            raise TypeError(\"List should contain only numbers.\")\n",
    "        self.size = len(alist)\n",
    "        self.heap_list = [0] + alist[:]\n",
    "        index = self.size // 2\n",
    "        while index > 0:\n",
    "            self._perc_down(index)\n",
    "            index -= 1\n",
    "\n",
    "    def get_size(self) -> int:\n",
    "        return self.size\n",
    "\n",
    "    def __len__(self) -> int:\n",
    "        return self.get_size()\n",
    "\n",
    "    def is_empty(self) -> bool:\n",
    "        return self.size == 0\n",
    "\n",
    "    def __str__(self) -> str:\n",
    "        txt = \"{}\".format(self.heap_list[1:])\n",
    "        return txt"
   ]
  },
  {
   "cell_type": "markdown",
   "id": "6be2ad0f-cc2e-4730-b192-53e6ee1b7f25",
   "metadata": {},
   "source": [
    "## Sorting"
   ]
  },
  {
   "cell_type": "markdown",
   "id": "20a74590-6496-4f31-ae47-3756470f767b",
   "metadata": {},
   "source": [
    "Now, using the binary heap I can write a function which **sorts the numbers in descending order**. To gain the opposite effect we should have created a *Min-Heap* instead of *Max-Heap*, but this was an aim specified on the lesson."
   ]
  },
  {
   "cell_type": "code",
   "execution_count": 8,
   "id": "c1a60d1c-fe78-40f4-8b5b-10d0161f1a27",
   "metadata": {},
   "outputs": [],
   "source": [
    "def sort_list(alist: List[float]) -> list:\n",
    "    bin_heap = BinHeap()\n",
    "    bin_heap.build_heap(alist)\n",
    "    sorted_alist = []\n",
    "    while not bin_heap.is_empty():\n",
    "        sorted_alist.append(bin_heap.pop_max())\n",
    "    return sorted_alist"
   ]
  },
  {
   "cell_type": "markdown",
   "id": "19cc433f-f878-40d3-a6e9-1ccaa5eacba2",
   "metadata": {
    "tags": []
   },
   "source": [
    "## Complexity analysis"
   ]
  },
  {
   "cell_type": "markdown",
   "id": "11d05806-54a1-403a-a691-c56e77298989",
   "metadata": {},
   "source": [
    "### Measurment tools"
   ]
  },
  {
   "cell_type": "markdown",
   "id": "38cd1746-820e-4ed9-9ace-de39d11d8a7d",
   "metadata": {},
   "source": [
    "First step of analysis is to create a list of random numbers. I will use `np.random.random`."
   ]
  },
  {
   "cell_type": "markdown",
   "id": "fc48417e-cf03-4878-8fe6-4501d39d7aaa",
   "metadata": {},
   "source": [
    "Next, we have got a function measuring `sort_list` performace time. This is actually almost <u>copied</u> from my previous list [[4]](#ref4) (as well as the other following functions)."
   ]
  },
  {
   "cell_type": "code",
   "execution_count": 9,
   "id": "78d0b6d5-657a-4c76-bff2-88e4cedf817e",
   "metadata": {},
   "outputs": [],
   "source": [
    "def time_check(size: int) -> float:\n",
    "    \"\"\"Chceck the performance time for `sort_list` function and given list size.\n",
    "\n",
    "    Args:\n",
    "        size (int): List length.\n",
    "\n",
    "    Returns:\n",
    "        float: Time of the operation.\n",
    "    \"\"\"\n",
    "    alist = list(np.random.random(size))\n",
    "\n",
    "    time_a = time.time()\n",
    "    sort_list(alist)\n",
    "    time_b = time.time()\n",
    "    time_diff = time_b - time_a\n",
    "    return time_diff"
   ]
  },
  {
   "cell_type": "markdown",
   "id": "1f43e2e8-1abc-4bee-8383-e526fe42a95d",
   "metadata": {},
   "source": [
    "Finally a data collecting function, calling `sort_time` in loop for different sizes."
   ]
  },
  {
   "cell_type": "code",
   "execution_count": 10,
   "id": "04222df6-6355-4774-937d-6d72f1a0e016",
   "metadata": {},
   "outputs": [],
   "source": [
    "def collect_data(size: int, step: int) -> tuple:\n",
    "    \"\"\"Examine the function `sort_list` and find the calculation times for a range of sizes.\n",
    "\n",
    "    Args:\n",
    "        size (int): List length.\n",
    "        step (int): Interval between sizes in tested calls.\n",
    "\n",
    "    Returns:\n",
    "        tuple: Performance data: (List lengths, Times for each size).\n",
    "    \"\"\"\n",
    "    time_reg = []\n",
    "    rng = range(1, size + 1, step)\n",
    "\n",
    "    for N in rng:\n",
    "        time_reg.append(time_check(N))\n",
    "\n",
    "    return (rng, time_reg)"
   ]
  },
  {
   "cell_type": "markdown",
   "id": "d6f4d6a0-3597-4a89-bd9f-2c4238881724",
   "metadata": {},
   "source": [
    "### Visualisation tools"
   ]
  },
  {
   "cell_type": "markdown",
   "id": "f67715a3-dea8-4cab-b62e-9f3801bd1afe",
   "metadata": {},
   "source": [
    "Following function can plot graphs of the data and additionally - another \"hypothetic\" function."
   ]
  },
  {
   "cell_type": "code",
   "execution_count": 11,
   "id": "e8c94703-643e-4d17-86e6-06581b2635d3",
   "metadata": {},
   "outputs": [],
   "source": [
    "def plot_data(\n",
    "    x_vals: range, y_vals: list, yscale: str = \"linear\", function: function = None\n",
    "):\n",
    "    \"\"\"Plot the performance data and optionally the hypothetic function that `solve` converges to in terms of time complexity.\n",
    "\n",
    "    Args:\n",
    "        x_vals (range): List sizes.\n",
    "        y_vals (list): Performance times for lists.\n",
    "        yscale (str, optional): Scale on Y axis. Defaults to \"linear\".\n",
    "        function (function, optional): Hypothetic function to layer its plot with the data. Defaults to None.\n",
    "    \"\"\"\n",
    "    plt.plot(x_vals, y_vals, \"o\")\n",
    "    if function != None:\n",
    "        f_y_vals = function(x_vals)\n",
    "        plt.plot(x_vals, f_y_vals)\n",
    "\n",
    "    plt.yscale(yscale)\n",
    "    plt.xlabel(\"List length\")\n",
    "    plt.ylabel(\"Time\")\n",
    "    plt.title(\"Sorting function performance\")\n",
    "    plt.gca().legend((\"Collected data\", \"Hypothesis\"))\n",
    "    plt.show()"
   ]
  },
  {
   "cell_type": "markdown",
   "id": "e4b1a766-dbff-4959-abfb-3b926af17a5d",
   "metadata": {},
   "source": [
    "### Data collecting"
   ]
  },
  {
   "cell_type": "markdown",
   "id": "b93b2269-b99f-40ba-9770-3fddaaf0059d",
   "metadata": {},
   "source": [
    "For some reasonable size and steps I collect data from function's performace."
   ]
  },
  {
   "cell_type": "code",
   "execution_count": 12,
   "id": "8f160e71-dbe7-48fa-bcf9-c296eeccf799",
   "metadata": {},
   "outputs": [],
   "source": [
    "size = 30000\n",
    "step = 1500\n",
    "data = collect_data(size, step)"
   ]
  },
  {
   "cell_type": "markdown",
   "id": "a06209b5-b56b-470b-8792-10e8150aff48",
   "metadata": {},
   "source": [
    "### Hypothesis and its visualization"
   ]
  },
  {
   "cell_type": "markdown",
   "id": "14d1559b-9c7a-4244-a899-686cc99ec01b",
   "metadata": {},
   "source": [
    "My first hypothesis would be based on the task and algorithm analysis - I assume that `sort_list` has $O(n \\log(n))$ time complexity."
   ]
  },
  {
   "cell_type": "markdown",
   "id": "5806b0c1-aafd-4d21-b8c3-2f03d04e78f4",
   "metadata": {},
   "source": [
    "I use optimalization fitting tools and define new `f_fit` function as a hypothesis."
   ]
  },
  {
   "cell_type": "code",
   "execution_count": 13,
   "id": "b7cf8b7e-13a7-46d1-b548-4b38e8d5d1af",
   "metadata": {},
   "outputs": [],
   "source": [
    "def func(x: float, a: float, c: float) -> float:\n",
    "    \"\"\"Create a cubic polynomial.\n",
    "\n",
    "    Args:\n",
    "        x (float): Independent variable.\n",
    "        a (float): Multiplication factor.\n",
    "        c (float): Added constant.\n",
    "\n",
    "    Returns:\n",
    "        float: Value of `n*log(n)` in some point x.\n",
    "    \"\"\"\n",
    "    return a * x * np.log2(x) + c"
   ]
  },
  {
   "cell_type": "code",
   "execution_count": 14,
   "id": "baad3fad-b1a6-446e-9ec0-c50932d49e03",
   "metadata": {},
   "outputs": [
    {
     "name": "stdout",
     "output_type": "stream",
     "text": [
      "[ 9.95765563e-07 -1.77500852e-02]\n"
     ]
    }
   ],
   "source": [
    "popt, pcov = curve_fit(func, list(data[0]), data[1])\n",
    "print(popt)"
   ]
  },
  {
   "cell_type": "code",
   "execution_count": 15,
   "id": "74135b2d-2b56-44c8-aec6-27d8f4026c5d",
   "metadata": {},
   "outputs": [],
   "source": [
    "def f_fit(x: float) -> float:\n",
    "    \"\"\"Create a `n*log(n)` function with appropriate coefficients.\n",
    "\n",
    "    Args:\n",
    "        x (float): Independent variable.\n",
    "\n",
    "    Returns:\n",
    "        float: Function with optimal numbers set as coefficients.\n",
    "    \"\"\"\n",
    "    return func(x, *popt)"
   ]
  },
  {
   "cell_type": "markdown",
   "id": "052d8044-3714-4805-a483-45753659c9b6",
   "metadata": {},
   "source": [
    "For the fitted $A$ and $C$ values in $f(n) = A n \\log(n) + C$ the comparison is presented in the graph."
   ]
  },
  {
   "cell_type": "code",
   "execution_count": 16,
   "id": "c0021e73-f167-4f24-b16b-8f587b9a8774",
   "metadata": {
    "scrolled": true
   },
   "outputs": [
    {
     "data": {
      "image/png": "[encoded data removed]",
      "text/plain": [
       "<Figure size 432x288 with 1 Axes>"
      ]
     },
     "metadata": {
      "needs_background": "light"
     },
     "output_type": "display_data"
    }
   ],
   "source": [
    "plot_data(*data, function=f_fit)"
   ]
  },
  {
   "cell_type": "markdown",
   "id": "4c7e7ba4-fe14-4eea-9e9c-4e29768d844c",
   "metadata": {},
   "source": [
    "It seems that hypothesis was **correct**. We see a satisfying curve fit for this function."
   ]
  },
  {
   "cell_type": "markdown",
   "id": "8497fdce-064a-4574-9879-2f0f4b513a76",
   "metadata": {},
   "source": [
    "### Prediction"
   ]
  },
  {
   "cell_type": "markdown",
   "id": "bb65c551-6fd7-43ff-b806-d3f3a126643a",
   "metadata": {},
   "source": [
    "Let us try predictions for sizes $n_1=30000$ and $n_2=32000$."
   ]
  },
  {
   "cell_type": "code",
   "execution_count": 17,
   "id": "a595c33d-fd7e-4e61-8502-a1fd6194d4da",
   "metadata": {},
   "outputs": [],
   "source": [
    "n1 = int(1e5)\n",
    "n2 = int(2e5)"
   ]
  },
  {
   "cell_type": "markdown",
   "id": "b143d7e5-e87a-43fe-bd58-60ce1f5d5f82",
   "metadata": {},
   "source": [
    "For $f(n_1)$:"
   ]
  },
  {
   "cell_type": "code",
   "execution_count": 18,
   "id": "2f0ad5bb-a09a-45d4-9168-4d0465789f12",
   "metadata": {},
   "outputs": [
    {
     "data": {
      "text/plain": [
       "1.6361807144380829"
      ]
     },
     "execution_count": 18,
     "metadata": {},
     "output_type": "execute_result"
    }
   ],
   "source": [
    "f_fit(n1)"
   ]
  },
  {
   "cell_type": "markdown",
   "id": "377268f7-fc21-4a41-be8f-434710f9bc8f",
   "metadata": {},
   "source": [
    "And for $f(n_2)$:"
   ]
  },
  {
   "cell_type": "code",
   "execution_count": 19,
   "id": "7f719356-943e-4dd4-aac5-8b8fa9c5f4d0",
   "metadata": {},
   "outputs": [
    {
     "data": {
      "text/plain": [
       "3.4892646265996317"
      ]
     },
     "execution_count": 19,
     "metadata": {},
     "output_type": "execute_result"
    }
   ],
   "source": [
    "f_fit(n2)"
   ]
  },
  {
   "cell_type": "markdown",
   "id": "ab60b316-58c4-401f-a40c-fa311e0fdaf8",
   "metadata": {},
   "source": [
    "### Verification"
   ]
  },
  {
   "cell_type": "markdown",
   "id": "25dedb98-9d0a-45b9-9366-214752ad4593",
   "metadata": {},
   "source": [
    "Now, we have got measured times for real `sort_list` algorithm:"
   ]
  },
  {
   "cell_type": "code",
   "execution_count": 20,
   "id": "26269ccb-769a-470f-9f27-96dbf2fa29e5",
   "metadata": {},
   "outputs": [
    {
     "data": {
      "text/plain": [
       "1.6433498859405518"
      ]
     },
     "execution_count": 20,
     "metadata": {},
     "output_type": "execute_result"
    }
   ],
   "source": [
    "time_check(n1)"
   ]
  },
  {
   "cell_type": "code",
   "execution_count": 21,
   "id": "e6addfa8-da49-4939-a975-97fe657812bb",
   "metadata": {
    "scrolled": true
   },
   "outputs": [
    {
     "data": {
      "text/plain": [
       "3.338587760925293"
      ]
     },
     "execution_count": 21,
     "metadata": {},
     "output_type": "execute_result"
    }
   ],
   "source": [
    "time_check(n2)"
   ]
  },
  {
   "cell_type": "markdown",
   "id": "5291836d-19e5-4b4a-a486-09e06bdb0531",
   "metadata": {},
   "source": [
    "Viewing the results on my device I can claim that they actulally fit very well."
   ]
  },
  {
   "cell_type": "markdown",
   "id": "e222613b-76c1-4789-86f5-9699d2948f4e",
   "metadata": {},
   "source": [
    "### Results"
   ]
  },
  {
   "cell_type": "markdown",
   "id": "362ba2fc-ccab-411d-a5fc-ff86c2c62868",
   "metadata": {},
   "source": [
    "We clearly see that for greater values the assumption is good.\n",
    "\n",
    "So, `sort_list` has **$O(n \\log(n))$ time complexity** indeed."
   ]
  },
  {
   "cell_type": "markdown",
   "id": "b48287e6-b02d-4af4-a86b-52a68ab7cf16",
   "metadata": {
    "tags": []
   },
   "source": [
    "## Presentation"
   ]
  },
  {
   "cell_type": "code",
   "execution_count": 22,
   "id": "2be3944d-3998-4fe3-944c-cc8844e2dfd4",
   "metadata": {},
   "outputs": [
    {
     "name": "stdout",
     "output_type": "stream",
     "text": [
      "[9, 8, 2, 3, 5]\n"
     ]
    }
   ],
   "source": [
    "bh = BinHeap()\n",
    "bh.insert(8)\n",
    "bh.insert(9)\n",
    "bh.insert(2)\n",
    "bh.insert(3)\n",
    "bh.insert(5)\n",
    "# bh.insert(6)\n",
    "# bh.insert(320)\n",
    "# bh.insert(1)\n",
    "# bh.insert(3)\n",
    "# bh.insert(18)\n",
    "# bh.insert(19)\n",
    "\n",
    "\n",
    "print(bh)"
   ]
  },
  {
   "cell_type": "code",
   "execution_count": 23,
   "id": "8f6a7f40-df33-421c-8bf9-e0fc960a8cd6",
   "metadata": {},
   "outputs": [
    {
     "data": {
      "text/plain": [
       "[50, 44, 10, 10, 4, 2]"
      ]
     },
     "execution_count": 23,
     "metadata": {},
     "output_type": "execute_result"
    }
   ],
   "source": [
    "sort_list([10, 2, 50, 4, 10, 44])"
   ]
  },
  {
   "cell_type": "markdown",
   "id": "faf3d12d-88c4-4aec-bc83-4d4acf2eed3c",
   "metadata": {},
   "source": [
    "-----------------------"
   ]
  },
  {
   "cell_type": "markdown",
   "id": "07f94c72-9202-406d-960c-63e6e5d8039e",
   "metadata": {
    "tags": []
   },
   "source": [
    "# Task 3"
   ]
  },
  {
   "cell_type": "markdown",
   "id": "3efe95d3-ee10-496a-9419-1534e7fd136d",
   "metadata": {
    "tags": []
   },
   "source": [
    "_**Binary heap with a limited size**_"
   ]
  },
  {
   "cell_type": "markdown",
   "id": "fbc30f2e-63e9-401f-a995-f478859dc598",
   "metadata": {},
   "source": [
    "-----------------------"
   ]
  },
  {
   "cell_type": "markdown",
   "id": "38426962-e715-429f-9d66-e14db52dde5c",
   "metadata": {},
   "source": [
    "This time I use *Max-Heap* again. Not to repeat the same code, I create a inheriting class and adjust necessary things."
   ]
  },
  {
   "cell_type": "markdown",
   "id": "1c8fc8c9-ee34-4f1c-87db-cdbdd1a3908f",
   "metadata": {},
   "source": [
    "I use a method similar to the `sort_list` function in the previous task. It is important to notice that sorted list has already a proper order for *binary heap* item list, because in our ordered list\n",
    "\n",
    "$$a_i \\geq a_j \\quad\\forall i < j.$$\n",
    "\n",
    "Therefore, we have satisfied the only condition:\n",
    "\n",
    "$$a_i \\geq a_{2i}\\; \\land\\; a_i \\geq a_{2i+1} \\quad\\forall i.$$\n",
    "\n",
    "That is why after each insertion or building process I check the size and in case it is to large, I sort the items and get rid of the smalest ones.\n",
    "\n",
    "There is no need for fixing other features. We have to chceck the size only when adding something to the *heap*."
   ]
  },
  {
   "cell_type": "code",
   "execution_count": 24,
   "id": "e4489a39-d210-4b88-ae92-1442fd90ede2",
   "metadata": {},
   "outputs": [],
   "source": [
    "class LimBinHeap(BinHeap):\n",
    "    def __init__(self, max_size: int):\n",
    "        super().__init__()\n",
    "        self.max_size = max_size\n",
    "\n",
    "    def _sort_items(self) -> list:\n",
    "        # items = self.heap_list[:]\n",
    "        sorted_items = []\n",
    "        while not self.is_empty():\n",
    "            sorted_items.append(self.pop_max())\n",
    "        self.heap_list = [0] + sorted_items\n",
    "        self.size = len(sorted_items)\n",
    "        # return sorted_alist\n",
    "\n",
    "    def _is_overfilled(self) -> bool:\n",
    "        return self.size > self.max_size\n",
    "\n",
    "    def _truncate(self):\n",
    "        if self._is_overfilled():\n",
    "            self._sort_items()\n",
    "            self.heap_list = self.heap_list[: self.max_size + 1]\n",
    "            self.size = self.max_size\n",
    "\n",
    "    def insert(self, value: float):\n",
    "        super().insert(value)\n",
    "        self._truncate()\n",
    "\n",
    "    def build_heap(self, alist: List[float]):\n",
    "        super().build_heap(alist)\n",
    "        self._truncate()\n",
    "\n",
    "    def is_full(self) -> bool:\n",
    "        return self.size == self.max_size"
   ]
  },
  {
   "cell_type": "markdown",
   "id": "3277f926-9ee0-426b-99d2-20478ed0f04e",
   "metadata": {
    "tags": []
   },
   "source": [
    "## Presentation"
   ]
  },
  {
   "cell_type": "code",
   "execution_count": 25,
   "id": "8b389671-99f8-4141-9c9e-d98062da1308",
   "metadata": {},
   "outputs": [
    {
     "data": {
      "text/plain": [
       "[0, 8, 7, 6, 5.6, 5.5, 5, 4.5, 4.3, 2, 1]"
      ]
     },
     "execution_count": 25,
     "metadata": {},
     "output_type": "execute_result"
    }
   ],
   "source": [
    "bh2 = LimBinHeap(10)\n",
    "bh2.build_heap([8, 7, 2, 6, 4.5, 1, 0, 5.5, 5.6, 0, 4.3, 0.5, 0.3, 0, 0, 5])\n",
    "bh2.heap_list"
   ]
  },
  {
   "cell_type": "code",
   "execution_count": null,
   "id": "44abf364-7ebb-4c7c-b0ba-cdead88b14c0",
   "metadata": {},
   "outputs": [],
   "source": []
  },
  {
   "cell_type": "markdown",
   "id": "4bc5d1e8-c499-490f-886f-ca7257b30f8b",
   "metadata": {},
   "source": [
    "-----------------------"
   ]
  },
  {
   "cell_type": "markdown",
   "id": "3f8aadd2-4609-49ce-be49-bbb59076b6c0",
   "metadata": {
    "tags": []
   },
   "source": [
    "# Task 4"
   ]
  },
  {
   "cell_type": "markdown",
   "id": "d7ad81ef-4d85-43e7-8c5c-8f870feddf9c",
   "metadata": {
    "tags": []
   },
   "source": [
    "_**Derivation for a given formula**_"
   ]
  },
  {
   "cell_type": "markdown",
   "id": "5f6b3725-82b3-4c82-91ca-be3f390748f0",
   "metadata": {},
   "source": [
    "-----------------------"
   ]
  },
  {
   "cell_type": "markdown",
   "id": "55b8914b-fff4-4550-b9ea-d707c84cbdc1",
   "metadata": {},
   "source": [
    "## Features"
   ]
  },
  {
   "cell_type": "markdown",
   "id": "f4e89c82-afe3-4743-acae-a8eda50dc778",
   "metadata": {},
   "source": [
    "I am going to implement a set of functions allowing ultimately to find the derivative of any typed function which satisfises the following conditions:"
   ]
  },
  {
   "cell_type": "markdown",
   "id": "2b8f705f-e975-4936-a0db-4959f3dc2a70",
   "metadata": {},
   "source": [
    "As an input there are allowed all combinations (nestings) of the functions below: \n",
    "- standard arithmetic operators: $f+g,\\;f-g,\\;f\\cdot g,\\;\\frac{f}{g},\\;f^g$, but also $\\sqrt{f}$ - as the only explicit root;\n",
    "- logarithm: $\\ln(f)$; other logarithms can be gained by division;\n",
    "- exponential function as $\\exp(f)$;\n",
    "- trigonometric functions: $\\sin(f),\\;\\cos(f),\\;\\tan(f),\\;\\cot(f)$;\n",
    "- inverse trigonometric functions: $\\arcsin(f),\\;\\arccos(f),\\;\\arctan(f),\\;\\mathrm{arccot}(f)$.\n",
    "\n",
    "The allowed values in functions are *numbers* (rational can be given by division) and *latin letters*."
   ]
  },
  {
   "cell_type": "markdown",
   "id": "a7333dc2-7386-4cd0-9dc2-ec352361e601",
   "metadata": {},
   "source": [
    "There are the function dictionaries giving the names along with priority value. In addition to that, sets defining letters and digits (together with the *point*)."
   ]
  },
  {
   "cell_type": "code",
   "execution_count": 26,
   "id": "fdd09f32-934b-4222-aa04-f096859c47bd",
   "metadata": {},
   "outputs": [],
   "source": [
    "opers = {\"+\": 3, \"-\": 3, \"*\": 2, \"/\": 2, \"^\": 1}\n",
    "one_arg_fncts = {\n",
    "    \"sqrt\": 0,\n",
    "    \"ln\": 0,\n",
    "    \"exp\": 0,\n",
    "    \"sin\": 0,\n",
    "    \"cos\": 0,\n",
    "    \"tan\": 0,\n",
    "    \"cot\": 0,\n",
    "    \"arcsin\": 0,\n",
    "    \"arccos\": 0,\n",
    "    \"arctan\": 0,\n",
    "    \"arccot\": 0,\n",
    "}\n",
    "parenth = {\"(\": 4, \")\": 4}"
   ]
  },
  {
   "cell_type": "code",
   "execution_count": 27,
   "id": "c9bd32bf-6378-4097-a375-e1d121b749ab",
   "metadata": {},
   "outputs": [],
   "source": [
    "letters = set(string.ascii_lowercase).union(set(string.ascii_uppercase))\n",
    "digits = set(string.digits).union({\".\", \"-\"})"
   ]
  },
  {
   "cell_type": "markdown",
   "id": "cbada01c-b5a2-4c1d-935f-ed3de91a8a98",
   "metadata": {},
   "source": [
    "## Preparation"
   ]
  },
  {
   "cell_type": "markdown",
   "id": "45c2722f-2c28-4190-a3fd-b0a7ee82f731",
   "metadata": {},
   "source": [
    "### Formula processing"
   ]
  },
  {
   "cell_type": "markdown",
   "id": "7bebdc14-73e3-4f7b-9589-cb03d7c47e35",
   "metadata": {},
   "source": [
    "For future number syntax validation I need a proper tool: "
   ]
  },
  {
   "cell_type": "code",
   "execution_count": 28,
   "id": "0eef9e10-7bae-450b-b778-ef9bbeba437c",
   "metadata": {},
   "outputs": [],
   "source": [
    "def number_validate(numbers: list):\n",
    "    for numb in numbers:\n",
    "        if numb.count(\".\") > 1:\n",
    "            return False\n",
    "\n",
    "        numb_digits = list(numb)\n",
    "        if numb_digits[0] == \".\" or numb_digits[-1] == \".\":\n",
    "            return False\n",
    "\n",
    "        if len(numb) > 1:\n",
    "            if numb_digits[0] == \"0\" and numb_digits[1] != \".\":\n",
    "                return False\n",
    "    return True"
   ]
  },
  {
   "cell_type": "markdown",
   "id": "5e5994fd-1d22-43d8-a0c5-5a17f65ec4db",
   "metadata": {},
   "source": [
    "So, the first step after reading a string with some expression is to parse this expression."
   ]
  },
  {
   "cell_type": "code",
   "execution_count": 29,
   "id": "f80167ad-aa54-449c-a994-db3f178e7a1a",
   "metadata": {},
   "outputs": [],
   "source": [
    "def formula_parse(expression: str) -> List[str]:\n",
    "    char_list = list(expression)\n",
    "    comps = []\n",
    "    functs = {**opers, **one_arg_fncts, **parenth}\n",
    "    for name in sorted(functs, key=len, reverse=True) + list(letters):\n",
    "        can_find = True\n",
    "        name_len = len(name)\n",
    "        while can_find:\n",
    "            try:\n",
    "                occur_ind = \"\".join(char_list).index(name)\n",
    "                char_list[occur_ind : occur_ind + name_len] = [\" \"] * name_len\n",
    "                comps.append((occur_ind, name))\n",
    "            except ValueError:\n",
    "                can_find = False\n",
    "\n",
    "    if not all([_ in digits.union(\" \") for _ in char_list]):\n",
    "        raise ValueError(\"Some characters in the expression are not allowed.\")\n",
    "\n",
    "    numbers = \"\".join(char_list).split()\n",
    "\n",
    "    if not number_validate(numbers):\n",
    "        raise ValueError(\"Some numbers in the expression are not correct.\")\n",
    "\n",
    "    for numb in numbers:\n",
    "        occur_ind = \"\".join(char_list).index(numb)\n",
    "        char_list[occur_ind : occur_ind + name_len] = [\" \"] * name_len\n",
    "        comps.append((occur_ind, numb))\n",
    "\n",
    "    result = [None] * len(expression)\n",
    "    comps_dict = dict(comps)\n",
    "    for ind in sorted(comps_dict):\n",
    "        result[ind] = comps_dict[ind]\n",
    "    return list(filter(None, result))"
   ]
  },
  {
   "cell_type": "markdown",
   "id": "193fa0a6-119a-4fc6-bbb2-26a0cf93081b",
   "metadata": {},
   "source": [
    "Next, we can add missing multiplication symbols and on the fly investigate formulas syntax (its part regarding symbols closest neighborhood). "
   ]
  },
  {
   "cell_type": "code",
   "execution_count": 30,
   "id": "8ed61b57-81a8-49b5-86f9-c744ea4aa8fb",
   "metadata": {},
   "outputs": [],
   "source": [
    "def formula_fill(parsed_formula: List[str]):\n",
    "    filled_formula = parsed_formula[:]\n",
    "\n",
    "    def eval_type(comp):\n",
    "        if comp == \"-\":\n",
    "            return \"m\"\n",
    "        elif comp in opers:\n",
    "            return \"o\"\n",
    "        elif comp in one_arg_fncts:\n",
    "            return \"1a\"\n",
    "        elif comp == \"(\":\n",
    "            return \"p_o\"\n",
    "        elif comp == \")\":\n",
    "            return \"p_c\"\n",
    "        elif comp in letters:\n",
    "            return \"l\"\n",
    "        else:\n",
    "            return \"n\"\n",
    "\n",
    "    comp_types = [eval_type(comp) for comp in parsed_formula]\n",
    "    prev_comp_type = \"\"\n",
    "    prev_prev_comp_type = \"\"\n",
    "    mul_to_insert = []\n",
    "    min_to_insert = []\n",
    "    log_to_swap = []\n",
    "\n",
    "    for ind, comp_type in enumerate(comp_types):\n",
    "\n",
    "        if prev_comp_type in {\"p_c\", \"l\", \"n\"} and comp_type in {\"1a\", \"p_o\", \"l\", \"n\"}:\n",
    "            mul_to_insert.append(ind)\n",
    "        if prev_comp_type in {\"o\", \"p_o\", \"1a\", \"m\"} and comp_type in {\"o\", \"p_c\"}:\n",
    "            raise ValueError(\"Expression is inappropriate.\")\n",
    "        if prev_comp_type in {\"o\", \"1a\", \"m\"} and comp_type in {\n",
    "            \"m\"\n",
    "        }:  ########################################################################\n",
    "            raise ValueError(\"Expression is inappropriate.\")\n",
    "        if (\n",
    "            prev_comp_type == \"m\"\n",
    "            and comp_type in {\"1a\", \"p_o\", \"l\", \"n\"}\n",
    "            and (ind == 1 or prev_prev_comp_type == \"p_o\")\n",
    "        ):\n",
    "            min_to_insert.append(ind)\n",
    "        prev_prev_comp_type = prev_comp_type\n",
    "        prev_comp_type = comp_type\n",
    "\n",
    "    for ind in sorted(mul_to_insert + min_to_insert, reverse=True):\n",
    "        filled_formula.insert(ind, \"*\")\n",
    "        if ind in min_to_insert:\n",
    "            filled_formula[ind - 1] = -1\n",
    "\n",
    "    return filled_formula"
   ]
  },
  {
   "cell_type": "markdown",
   "id": "d9364487-a41b-4df7-8823-e2fa90898dc7",
   "metadata": {},
   "source": [
    "Then we can move on to changing the notation system. I will be using the *stack* class from the lecture [[5]](#ref5). "
   ]
  },
  {
   "cell_type": "code",
   "execution_count": 31,
   "id": "e58d9e6b-65b5-4f3a-8b4e-626d15ccf935",
   "metadata": {},
   "outputs": [],
   "source": [
    "class Stack:\n",
    "    def __init__(self):\n",
    "        self.items = []\n",
    "\n",
    "    def is_empty(self):\n",
    "        return self.items == []\n",
    "\n",
    "    def push(self, item):\n",
    "        self.items.append(item)\n",
    "\n",
    "    def pop(self):\n",
    "        return self.items.pop()\n",
    "\n",
    "    def peek(self):\n",
    "        return self.items[len(self.items) - 1]\n",
    "\n",
    "    def size(self):\n",
    "        return len(self.items)"
   ]
  },
  {
   "cell_type": "markdown",
   "id": "92544717-87bb-4fa8-afec-6a5de406c2ad",
   "metadata": {},
   "source": [
    "To avoid future issues, we check parentheses correctness."
   ]
  },
  {
   "cell_type": "code",
   "execution_count": 32,
   "id": "060ecd91-0cac-4293-8658-42f0c8f64134",
   "metadata": {},
   "outputs": [],
   "source": [
    "def parenth_checker(symbol_list: List[str]):\n",
    "    stack = Stack()\n",
    "    balanced = True\n",
    "    ind = 0\n",
    "    while ind < len(symbol_list) and balanced:\n",
    "        symbol = symbol_list[ind]\n",
    "        if symbol == \"(\":\n",
    "            stack.push(symbol)\n",
    "        elif symbol == \")\":\n",
    "            if stack.is_empty():\n",
    "                balanced = False\n",
    "            else:\n",
    "                stack.pop()\n",
    "        ind += 1\n",
    "\n",
    "    if balanced and stack.is_empty():\n",
    "        return True\n",
    "    else:\n",
    "        return False"
   ]
  },
  {
   "cell_type": "markdown",
   "id": "c0957afe-b30f-40a2-8ac9-746ac34408dc",
   "metadata": {},
   "source": [
    "At this point, a little helper function to tell whether string has a float representation. "
   ]
  },
  {
   "cell_type": "code",
   "execution_count": 33,
   "id": "4c1088ea-248b-44e3-9f5b-3a239302d6a4",
   "metadata": {},
   "outputs": [],
   "source": [
    "def is_float(num):\n",
    "    try:\n",
    "        float(num)\n",
    "        return True\n",
    "    except ValueError:\n",
    "        return False"
   ]
  },
  {
   "cell_type": "markdown",
   "id": "340face5-28c9-490e-8a4d-9efe2abb6aa4",
   "metadata": {},
   "source": [
    "Finally, transforming a prepared list into a sequence in *postfix notation*."
   ]
  },
  {
   "cell_type": "code",
   "execution_count": 34,
   "id": "68103aa4-b526-4505-8a1f-1d72f362a3e0",
   "metadata": {},
   "outputs": [],
   "source": [
    "def list_to_postfix(expr_list):\n",
    "    prior_dict = {**opers, **one_arg_fncts, **parenth}\n",
    "    stack = Stack()\n",
    "    posfix_list = []\n",
    "    comp_list = expr_list\n",
    "\n",
    "    for comp in comp_list:\n",
    "        if comp in letters or is_float(comp):\n",
    "            posfix_list.append(comp)\n",
    "        elif comp == \"(\":\n",
    "            stack.push(comp)\n",
    "        elif comp == \")\":\n",
    "            top_comp = stack.pop()\n",
    "            while top_comp != \"(\":\n",
    "                posfix_list.append(top_comp)\n",
    "                top_comp = stack.pop()\n",
    "        else:\n",
    "            while (not stack.is_empty()) and (\n",
    "                prior_dict[stack.peek()] <= prior_dict[comp]\n",
    "            ):\n",
    "                posfix_list.append(stack.pop())\n",
    "            stack.push(comp)\n",
    "\n",
    "    while not stack.is_empty():\n",
    "        posfix_list.append(stack.pop())\n",
    "    return posfix_list"
   ]
  },
  {
   "cell_type": "markdown",
   "id": "46381d14-ac8d-457d-8208-023372b912e0",
   "metadata": {},
   "source": [
    "All this steps can be done with an aid of the function below:"
   ]
  },
  {
   "cell_type": "code",
   "execution_count": 35,
   "id": "c39f59d5-9ffe-44f5-a982-0544a28bdea8",
   "metadata": {},
   "outputs": [],
   "source": [
    "def postfix_formula(expression: str):\n",
    "    parsed = formula_parse(expression)\n",
    "    filled = formula_fill(parsed)\n",
    "    if parenth_checker(filled):\n",
    "        return list_to_postfix(filled)\n",
    "    else:\n",
    "        raise Exception(\"Parentheses nod balances.\")"
   ]
  },
  {
   "cell_type": "markdown",
   "id": "bfa08d7c-8edf-4837-8e02-e1c77d24f94f",
   "metadata": {},
   "source": [
    "### Building a tree"
   ]
  },
  {
   "cell_type": "markdown",
   "id": "aebb1032-e154-4502-bf78-34ccec9b8c53",
   "metadata": {},
   "source": [
    "A simple tree can be created only using basic *node* objects with keys and referencing its children. "
   ]
  },
  {
   "cell_type": "code",
   "execution_count": 533,
   "id": "bdd2c599-6101-4ca3-ab1e-8831e78a8db7",
   "metadata": {},
   "outputs": [],
   "source": [
    "class FormulaNode:\n",
    "    def __init__(self, key: str, left_ch=None, right_ch=None):\n",
    "        self.key = key\n",
    "        self.left_ch = left_ch\n",
    "        self.right_ch = right_ch\n",
    "\n",
    "    def repl_data(self, node: FormulaNode):\n",
    "        self.key = node.key\n",
    "        self.left_ch, self.right_ch = node.left_ch, node.right_ch"
   ]
  },
  {
   "cell_type": "markdown",
   "id": "9092ee16-38be-4d5d-8c83-d3c2dc799a0c",
   "metadata": {},
   "source": [
    "Therefore, I implement something what can easily extract a tree from a *parsed, postfix formula*.\n",
    "\n",
    "Optional argument `replace_fncts` can be given to change some letters for real functions. It is not used in basic formula transformation, but is really handy during the recursive derivation process (later)."
   ]
  },
  {
   "cell_type": "code",
   "execution_count": 534,
   "id": "f8388d43-954f-49be-a1ae-a0f7de5e5218",
   "metadata": {},
   "outputs": [],
   "source": [
    "def tree_from_formula(postfix_formula: List[str], replace_fncts: dict = dict()):\n",
    "    stack = Stack()\n",
    "    ind = 0\n",
    "\n",
    "    def leaf_nodif(key: Union[FormulaNode, float]):\n",
    "        if not isinstance(key, FormulaNode):\n",
    "            return FormulaNode(key)\n",
    "        else:\n",
    "            return key\n",
    "\n",
    "    while ind < len(postfix_formula):\n",
    "        comp = postfix_formula[ind]\n",
    "\n",
    "        # optional replacing\n",
    "        if comp in replace_fncts:\n",
    "            comp = replace_fncts[comp]\n",
    "\n",
    "        if comp in opers:\n",
    "            right_ch = stack.pop()\n",
    "            left_ch = stack.pop()\n",
    "            new_node = FormulaNode(comp, left_ch, right_ch)\n",
    "            stack.push(new_node)\n",
    "        elif comp in one_arg_fncts:\n",
    "            child = stack.pop()\n",
    "            new_node = FormulaNode(comp, right_ch=child)\n",
    "            stack.push(new_node)\n",
    "        else:\n",
    "            comp = leaf_nodif(comp)\n",
    "            stack.push(comp)\n",
    "        ind += 1\n",
    "    root = stack.pop()\n",
    "    return root"
   ]
  },
  {
   "cell_type": "markdown",
   "id": "27950c5a-d671-488f-a427-0e9c3288fce9",
   "metadata": {},
   "source": [
    "This can also help to build derivative trees only from the written formulas."
   ]
  },
  {
   "cell_type": "markdown",
   "id": "8d05efb2-62d4-447c-b4ab-b34156a60ef5",
   "metadata": {},
   "source": [
    "Ultimately - tree from text."
   ]
  },
  {
   "cell_type": "code",
   "execution_count": 535,
   "id": "11e4cd93-6852-4ae2-aae7-9da996c525c1",
   "metadata": {},
   "outputs": [],
   "source": [
    "def get_tree(expression: str, replace_fncts=dict()):\n",
    "    pf_formula = postfix_formula(expression)\n",
    "    return tree_from_formula(pf_formula, replace_fncts)"
   ]
  },
  {
   "cell_type": "markdown",
   "id": "13f43f2d-0cce-433c-bc87-020601711446",
   "metadata": {
    "tags": []
   },
   "source": [
    "## Derivation"
   ]
  },
  {
   "cell_type": "markdown",
   "id": "60d5b47a-ff93-44ef-9e3b-cc3ff19960e8",
   "metadata": {},
   "source": [
    "In this step I begin with creating derivation formula tables [[6]](#ref6). They consider almost all the combinations with these functions.\n",
    "\n",
    "It is also worth mentioning that *power* function has a quite general derivative there to handle also $f(x)^{g(x)}$. That is why\n",
    "\n",
    "$$\\frac{d}{dx}f^g = f^g (\\frac{gf'}{f}+g'\\ln(f)).$$\n",
    "\n",
    "That is for $x^a$ and $a^x$ too. Fortunately, the formula above implies well known particular formulas."
   ]
  },
  {
   "cell_type": "markdown",
   "id": "06e54c69-914f-4568-b782-5c1d8fc2d392",
   "metadata": {},
   "source": [
    "In my notation, for each function $f$ and $g$, these are `f` and `g`. However, even though it might be not intuitive, $f'$ becomes `F` and the same with $g'$ - `G`."
   ]
  },
  {
   "cell_type": "code",
   "execution_count": 536,
   "id": "6fd9a3cb-ad11-4da5-ae24-2b4abd6cbd4e",
   "metadata": {},
   "outputs": [],
   "source": [
    "deriv_formulas_oper = {\n",
    "    \"+\": \"F+G\",\n",
    "    \"-\": \"F-G\",\n",
    "    \"*\": \"Fg+fG\",\n",
    "    \"/\": \"(Fg-fG)/g^2\",\n",
    "    \"^\": \"f^g(gF/f+Glnf)\",\n",
    "}\n",
    "deriv_formulas_oaf = {\n",
    "    \"sqrt\": \"F/(2sqrtf)\",\n",
    "    \"ln\": \"F/f\",\n",
    "    \"exp\": \"Fe^f\",\n",
    "    \"sin\": \"Fcosf\",\n",
    "    \"cos\": \"-Fsinf\",\n",
    "    \"tan\": \"(1+tanf^2)F\",\n",
    "    \"cot\": \"(-1-cotf^2)F\",\n",
    "    \"arcsin\": \"F/sqrt(1-f^2)\",\n",
    "    \"arccos\": \"-F/sqrt(1-f^2)\",\n",
    "    \"arctan\": \"F/(1+f^2)\",\n",
    "    \"arccot\": \"-F/(1+f^2)\",\n",
    "}"
   ]
  },
  {
   "cell_type": "markdown",
   "id": "0c12ab24-dcf0-4cc9-9d9a-735caaf5b193",
   "metadata": {},
   "source": [
    "Main function is here below. It works recursively for branches and always decide whish formula to use, plus what is the current substitution for `f`, `g` and its derivatives. \n",
    "\n",
    "Moreover it uses *two-children* substitution or *one-children* version, depending on the input - whether we have got a arithmetic operator or one-argument function."
   ]
  },
  {
   "cell_type": "code",
   "execution_count": 537,
   "id": "8f3711e3-d3e6-4db0-8ed5-47f74b469f0e",
   "metadata": {
    "tags": []
   },
   "outputs": [],
   "source": [
    "def derivative(formula_tree: FormulaNode, variable: str) -> list:\n",
    "    def fnct_replacings(double_args: bool = True):\n",
    "        if double_args:\n",
    "            repl_dict = {\n",
    "                \"F\": derivative(formula_tree.left_ch, variable),\n",
    "                \"G\": derivative(formula_tree.right_ch, variable),\n",
    "                \"f\": formula_tree.left_ch,\n",
    "                \"g\": formula_tree.right_ch,\n",
    "            }\n",
    "        else:\n",
    "            repl_dict = {\n",
    "                \"F\": derivative(formula_tree.right_ch, variable),\n",
    "                \"f\": formula_tree.right_ch,\n",
    "            }\n",
    "        return repl_dict\n",
    "\n",
    "    comp = formula_tree.key\n",
    "    if comp == variable:\n",
    "        return get_tree(\"1\")\n",
    "    elif is_float(comp) or comp in letters:\n",
    "        return get_tree(\"0\")\n",
    "    elif comp in deriv_formulas_oper:\n",
    "        return get_tree(deriv_formulas_oper[comp], fnct_replacings())\n",
    "    elif comp in deriv_formulas_oaf:\n",
    "        return get_tree(deriv_formulas_oaf[comp], fnct_replacings(False))\n",
    "    else:\n",
    "        raise Exception(\"Unknown derivation error.\")"
   ]
  },
  {
   "cell_type": "markdown",
   "id": "63cf877d-fa40-4646-a590-557c9eb31d5e",
   "metadata": {},
   "source": [
    "## Returning to the expression"
   ]
  },
  {
   "cell_type": "code",
   "execution_count": 632,
   "id": "f08366c4-3056-4365-8345-d8117b3f1d52",
   "metadata": {},
   "outputs": [],
   "source": [
    "def aasd(node):\n",
    "    if node:\n",
    "        aasd(node.right_ch)\n",
    "        aasd(node.left_ch)\n",
    "\n",
    "        if node.key == \"*\" and (node.left_ch.key == \"0\" or node.right_ch.key == \"0\"):\n",
    "            node.repl_data(FormulaNode(\"0\"))\n",
    "        elif node.key == \"*\" and node.left_ch.key == \"1\":\n",
    "            node.repl_data(node.right_ch)\n",
    "        elif node.key == \"*\" and node.right_ch.key == \"1\":\n",
    "            node.repl_data(node.left_ch)\n",
    "        elif node.key == \"+\" and node.right_ch.key == \"0\":\n",
    "            node.repl_data(node.left_ch)\n",
    "        elif node.key == \"+\" and node.left_ch.key == \"0\":\n",
    "            node.repl_data(node.right_ch)\n",
    "        elif node.key == \"-\" and node.right_ch.key == \"0\":\n",
    "            node.repl_data(node.left_ch)                \n",
    "        # elif node.key == \"-\" and node.left_ch.key == \"0\":\n",
    "        #     node.repl_data(node.right_ch)\n",
    "        elif node.key == \"^\" and node.left_ch.key == \"0\":\n",
    "            node.repl_data(FormulaNode(\"0\"))\n",
    "        elif node.key == \"^\" and node.left_ch.key == \"1\":\n",
    "            node.repl_data(FormulaNode(\"1\"))\n",
    "        elif node.key == \"^\" and node.right_ch.key == \"0\":\n",
    "            node.repl_data(FormulaNode(\"1\"))\n",
    "        elif node.key == \"^\" and node.right_ch.key == \"1\":\n",
    "            node.repl_data(node.left_ch)\n",
    "        elif node.key == \"/\" and node.right_ch.key == \"0\":\n",
    "            raise ValueError(\"Cannot divide by 0.\")\n",
    "        elif node.key == \"/\" and node.right_ch.key == \"1\":\n",
    "            node.repl_data(node.left_ch)\n",
    "        elif node.key == \"/\" and node.left_ch.key == \"0\":\n",
    "            node.repl_data(FormulaNode(\"0\"))\n",
    "        elif node.key == \"ln\" and node.right_ch.key == \"e\":\n",
    "            node.repl_data(FormulaNode(\"1\"))\n",
    "        elif node.key == \"ln\" and node.right_ch.key == \"1\":\n",
    "            node.repl_data(FormulaNode(\"0\"))\n",
    "\n",
    "        "
   ]
  },
  {
   "cell_type": "markdown",
   "id": "1b8448c7-8e35-4ae4-bf28-8a463dad5f32",
   "metadata": {},
   "source": [
    "Using the standard *inorder* algorithm I come back from tree to the right expression. It is \"hyper-correct\" version expression actually, but that is even better."
   ]
  },
  {
   "cell_type": "code",
   "execution_count": 633,
   "id": "eff02503-a1cd-439b-8814-c76b5f061c86",
   "metadata": {},
   "outputs": [],
   "source": [
    "def formula_from_tree(root):\n",
    "    expr_list = []\n",
    "\n",
    "    def inorder(node):\n",
    "        if node:\n",
    "            expr_list.append(\"(\")\n",
    "            inorder(node.left_ch)\n",
    "            expr_list.append(node.key)\n",
    "            inorder(node.right_ch)\n",
    "            expr_list.append(\")\")\n",
    "\n",
    "    inorder(root)\n",
    "    return \"\".join(map(str, expr_list))"
   ]
  },
  {
   "cell_type": "markdown",
   "id": "65885937-3c0f-471c-9f16-21c9b126a89b",
   "metadata": {},
   "source": [
    "## Presentation"
   ]
  },
  {
   "cell_type": "code",
   "execution_count": 652,
   "id": "f9a14229-40fb-4f9d-a282-6ad4150854c7",
   "metadata": {},
   "outputs": [],
   "source": [
    "a = derivative(get_tree(\"x^2\"), \"x\")"
   ]
  },
  {
   "cell_type": "code",
   "execution_count": 655,
   "id": "d7854779-bdb9-40ff-bee6-3c401624ee69",
   "metadata": {},
   "outputs": [
    {
     "data": {
      "text/plain": [
       "'(((x)^(2))*((2)/(x)))'"
      ]
     },
     "execution_count": 655,
     "metadata": {},
     "output_type": "execute_result"
    }
   ],
   "source": [
    "formula_from_tree(a)\n",
    "aasd(a)\n",
    "formula_from_tree(a)"
   ]
  },
  {
   "cell_type": "markdown",
   "id": "9f6abbc8-3e08-4bed-bd26-c153f5b9c4b9",
   "metadata": {},
   "source": [
    "-----------------------"
   ]
  },
  {
   "cell_type": "markdown",
   "id": "31704fbe-3508-4e09-bddf-19149a4331f9",
   "metadata": {},
   "source": [
    "<a id=\"ref1\">[1]</a> J. Szwabiński, *Wykład 9 - Drzewa i algorytmy ich przetwarzania (ciąg dalszy)*,  *Algorytmy i struktury danych*, p. 2-16. [accessed: 08.01.2022]. Link: http://prac.im.pwr.wroc.pl/~szwabin/assets/algo/lectures/9.pdf.\n",
    "\n",
    "<a id=\"ref2\">[2]</a> M. Hofri; H. Mahmoud, *Algorithmics of Nonuniformity: Tools and Paradigms*, 2019, p. 261.\n",
    "\n",
    "<a id=\"ref3\">[3]</a> J. Szwabiński, *Wykład 8 - Drzewa i algorytmy ich przetwarzania*,  *Algorytmy i struktury danych*, p. 17-24. [accessed: 08.01.2022]. Link: http://prac.im.pwr.wroc.pl/~szwabin/assets/algo/lectures/9.pdf.\n",
    "\n",
    "<a id=\"ref4\">[4]</a> File *\"lista5_machaj.ipynb\"* was sent as a task via email. It <u>might</u> be also posted on my *GitHub*. Link: https://github.com/o-mateo-o.\n",
    "\n",
    "<a id=\"ref5\">[5]</a> J. Szwabiński, *Wykłady 2 i 3 - Abstrakcyjne struktury danych*,  *Algorytmy i struktury danych*, p. 6-17. [accessed: 08.01.2022]. Link: http://prac.im.pwr.wroc.pl/~szwabin/assets/algo/lectures/2.pdf.\n",
    "\n",
    "\n",
    "<a id=\"ref6\">[6]</a> *Tablica pochodnych funkcji elementarnych*; *Wzory o pochodnej funkcji*, GiS Wrocław, [accessed: 08.01.2022]. Link: http://www.gis.wroc.pl/pdf/pochodne.pdf."
   ]
  }
 ],
 "metadata": {
  "kernelspec": {
   "display_name": "Python 3 (ipykernel)",
   "language": "python",
   "name": "python3"
  },
  "language_info": {
   "codemirror_mode": {
    "name": "ipython",
    "version": 3
   },
   "file_extension": ".py",
   "mimetype": "text/x-python",
   "name": "python",
   "nbconvert_exporter": "python",
   "pygments_lexer": "ipython3",
   "version": "3.9.7"
  },
  "toc-autonumbering": false,
  "toc-showcode": false,
  "toc-showmarkdowntxt": false
 },
 "nbformat": 4,
 "nbformat_minor": 5
}
