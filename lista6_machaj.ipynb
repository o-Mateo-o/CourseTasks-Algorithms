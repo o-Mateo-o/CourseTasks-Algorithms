{
 "cells": [
  {
   "cell_type": "markdown",
   "id": "e7382637-12b6-4f24-9115-9147a03bb764",
   "metadata": {},
   "source": [
    "**List 6** - Algorithms and Data Structures 2021/22, WUST - F13\n",
    "\n",
    "*Author:* Mateusz Machaj, 262288\n",
    "\n",
    "*Date:* 10.01.2022"
   ]
  },
  {
   "cell_type": "markdown",
   "id": "48a275db-226a-49cb-9b21-fd1426e3b371",
   "metadata": {
    "tags": []
   },
   "source": [
    "# Import"
   ]
  },
  {
   "cell_type": "code",
   "execution_count": 88,
   "id": "9d3fc9c4-8630-4572-9281-5f884f83548b",
   "metadata": {},
   "outputs": [],
   "source": [
    "from __future__ import annotations\n",
    "\n",
    "import time\n",
    "from typing import Any\n",
    "\n",
    "import matplotlib.pyplot as plt\n",
    "import numpy as np\n",
    "from scipy.optimize import curve_fit"
   ]
  },
  {
   "cell_type": "markdown",
   "id": "06632f51-dfd8-4aaa-a9b2-e9f7fe4b8f59",
   "metadata": {},
   "source": [
    "-----------------------"
   ]
  },
  {
   "cell_type": "markdown",
   "id": "6397bd93-2fc6-48fc-9ec8-8c5bc6f131ee",
   "metadata": {
    "tags": []
   },
   "source": [
    "# Task 1"
   ]
  },
  {
   "cell_type": "markdown",
   "id": "41276e1e-dc34-491e-a0f8-e2ae2ee85e7b",
   "metadata": {
    "tags": []
   },
   "source": [
    "_**Binary search tree class implementation**_"
   ]
  },
  {
   "cell_type": "markdown",
   "id": "f47e5029-3959-4729-91df-b9f8af96bac4",
   "metadata": {},
   "source": [
    "-----------------------"
   ]
  },
  {
   "cell_type": "markdown",
   "id": "032c979c-2171-4a27-97e0-fa97c78719bf",
   "metadata": {},
   "source": [
    "Implementation is written basing on the professor's lecture notes [[1]](#ref1), but some elements are modified - especially handling duplicate keys and issues regarding PEP rules. There were also a couple of mistakes to correct."
   ]
  },
  {
   "cell_type": "markdown",
   "id": "bc96ef4b-1e6d-4caa-a0a8-94dc28e889b5",
   "metadata": {},
   "source": [
    "I do not use unncessary `get` and `set` methods for attributes, because the code is written with respect to *python* conventions."
   ]
  },
  {
   "cell_type": "markdown",
   "id": "1099da09-011e-4161-9ae7-89234a7e03e7",
   "metadata": {},
   "source": [
    "## Node class"
   ]
  },
  {
   "cell_type": "markdown",
   "id": "e093ff90-c90a-4629-84e0-54c661d04e61",
   "metadata": {},
   "source": [
    "At first I create a node class representing each unit in binary tree. "
   ]
  },
  {
   "cell_type": "code",
   "execution_count": 21,
   "id": "87ba27ef-0627-4521-9138-93158548adee",
   "metadata": {},
   "outputs": [],
   "source": [
    "class TreeNode:\n",
    "    def __init__(\n",
    "        self,\n",
    "        key: int,\n",
    "        value: Any = None,\n",
    "        parent: TreeNode = None,\n",
    "        left_ch: TreeNode = None,\n",
    "        right_ch: TreeNode = None,\n",
    "    ):\n",
    "        self.key = key\n",
    "        self.value = value\n",
    "        self.parent = parent\n",
    "        self.left_ch = left_ch\n",
    "        self.right_ch = right_ch\n",
    "\n",
    "        self.balance_fact = 0  # used only for AVL Tree\n",
    "\n",
    "    def is_root(self):\n",
    "        return not self.parent\n",
    "\n",
    "    def is_left_ch(self):\n",
    "        return self.parent and self.parent.left_ch is self\n",
    "\n",
    "    def is_right_ch(self):\n",
    "        return self.parent and self.parent.right_ch is self\n",
    "\n",
    "    def has_left_ch(self):\n",
    "        return self.left_ch\n",
    "\n",
    "    def has_right_ch(self):\n",
    "        return self.right_ch\n",
    "\n",
    "    def children_number(self):\n",
    "        if self.left_ch and self.right_ch:\n",
    "            return 2\n",
    "        elif not (self.left_ch or self.right_ch):\n",
    "            return 0\n",
    "        else:\n",
    "            return 1\n",
    "\n",
    "    def is_leaf(self):\n",
    "        return not bool(self.children_number())\n",
    "\n",
    "    def get_item_data(self):\n",
    "        return self.key, self.value\n",
    "\n",
    "    def set_item_data(self, key: int, value: Any = None):\n",
    "        self.key = key\n",
    "        self.value = value\n",
    "\n",
    "    def get_children(self):\n",
    "        return self.left_ch, self.right_ch\n",
    "\n",
    "    def set_children(self, left_ch: TreeNode = None, right_ch: TreeNode = None):\n",
    "        if left_ch:\n",
    "            self.left_ch = left_ch\n",
    "            self.left_ch.parent = self\n",
    "        if right_ch:\n",
    "            self.right_ch = right_ch\n",
    "            self.right_ch.parent = self"
   ]
  },
  {
   "cell_type": "markdown",
   "id": "54707c2c-a662-4983-b153-73eb781ac0be",
   "metadata": {
    "tags": []
   },
   "source": [
    "## Main tree class"
   ]
  },
  {
   "cell_type": "markdown",
   "id": "adf7016b-b27f-4af2-a463-aaf38c54eed1",
   "metadata": {},
   "source": [
    "Now, the main binary search tree class."
   ]
  },
  {
   "cell_type": "markdown",
   "id": "7dc04e6c-f3f4-4711-829d-30f984b927d6",
   "metadata": {},
   "source": [
    "I assume that **repeated keys are not allowed** [[2]](#ref2). It means that left children are strictly smaller and right - strictly greater (unlike in the lecture notes)."
   ]
  },
  {
   "cell_type": "code",
   "execution_count": 75,
   "id": "98329157-c344-4391-a782-7c917b379320",
   "metadata": {
    "tags": []
   },
   "outputs": [],
   "source": [
    "class BSTree:\n",
    "    def __init__(self):\n",
    "        self.root = None\n",
    "        self.size = 0\n",
    "\n",
    "    def length(self):\n",
    "        return self.size\n",
    "\n",
    "    def __len__(self):\n",
    "        return self.size\n",
    "\n",
    "    def _put(self, key: int, value: Any, current_node: TreeNode):\n",
    "        if key < current_node.key:\n",
    "            if current_node.has_left_ch():\n",
    "                self._put(key, value, current_node.left_ch)\n",
    "            else:\n",
    "                current_node.left_ch = TreeNode(key, value, parent=current_node)\n",
    "        elif key > current_node.key:\n",
    "            if current_node.has_right_ch():\n",
    "                self._put(key, value, current_node.right_ch)\n",
    "            else:\n",
    "                current_node.right_ch = TreeNode(key, value, parent=current_node)\n",
    "        elif key == current_node.key:\n",
    "            current_node.value = value\n",
    "\n",
    "    def put(self, key: int, value: Any = None):\n",
    "        if self.root:\n",
    "            self._put(key, value, self.root)\n",
    "        else:\n",
    "            self.root = TreeNode(key, value)\n",
    "        self.size += 1\n",
    "\n",
    "    def __setitem__(self, key: int, value: Any):\n",
    "        self.put(key, value)\n",
    "\n",
    "    def _get(self, key: int, current_node: TreeNode = None):\n",
    "        if not current_node:\n",
    "            current_node = self.root\n",
    "        if key < current_node.key:\n",
    "            if current_node.has_left_ch():\n",
    "                return self._get(key, current_node.left_ch)\n",
    "            else:\n",
    "                return None\n",
    "        elif key > current_node.key:\n",
    "            if current_node.has_right_ch():\n",
    "                return self._get(key, current_node.right_ch)\n",
    "            else:\n",
    "                return None\n",
    "        elif key == current_node.key:\n",
    "            return current_node\n",
    "\n",
    "    def get(self, key: int):\n",
    "        if self.root:\n",
    "            search_res = self._get(key, self.root)\n",
    "            if search_res:\n",
    "                return search_res.value\n",
    "            else:\n",
    "                return None\n",
    "        else:\n",
    "            return None\n",
    "\n",
    "    def __getitem__(self, key: int):\n",
    "        return self.get(key)\n",
    "\n",
    "    def __contains__(self, key: int):\n",
    "        if self._get(key, self.root):\n",
    "            return True\n",
    "        else:\n",
    "            return False\n",
    "\n",
    "    def _find_min(self, current_node: TreeNode = None):\n",
    "        if not current_node:\n",
    "            current_node = self.root\n",
    "        while current_node.has_left_ch():\n",
    "            current_node = current_node.left_ch\n",
    "        return current_node\n",
    "\n",
    "    def first_item(self):\n",
    "        min_key_node = _find_min()\n",
    "        return (min_key_node.key, min_key_node.value)\n",
    "\n",
    "    def _find_max(self, current_node: TreeNode = None):\n",
    "        if not current_node:\n",
    "            current_node = self.root\n",
    "        while current_node.has_right_ch():\n",
    "            current_node = current_node.right_ch\n",
    "        return current_node\n",
    "\n",
    "    def last_item(self):\n",
    "        max_key_node = _find_max()\n",
    "        return (max_key_node.key, max_key_node.value)\n",
    "\n",
    "    def _find_successor(self, current_node: TreeNode = None):\n",
    "        if not current_node:\n",
    "            current_node = self.root\n",
    "        succ = None\n",
    "        if current_node.has_right_ch():\n",
    "            succ = self._find_min(current_node.right_ch)\n",
    "        else:\n",
    "            if not current_node.is_root():\n",
    "                if current_node.is_left_ch():\n",
    "                    succ = current_node.parent\n",
    "                else:\n",
    "                    current_node.parent.right_ch = None\n",
    "                    succ = self._find_successor(current_node.parent)\n",
    "                    current_node.parent.right_ch = current_node\n",
    "        return succ\n",
    "\n",
    "    def _remove(self, current_node: TreeNode):\n",
    "        if current_node.is_leaf():\n",
    "            if current_node.is_left_ch():\n",
    "                current_node.parent.left_ch = None\n",
    "            else:\n",
    "                current_node.parent.right_ch = None\n",
    "        elif current_node.children_number() == 2:\n",
    "            succ = self._find_successor(current_node)\n",
    "            if not succ:\n",
    "                raise Exception(\"Successor searching error.\")\n",
    "            current_node.set_item_data(*succ.get_item_data())\n",
    "            self._remove(succ)\n",
    "\n",
    "        else:\n",
    "            if current_node.has_left_ch():\n",
    "                child = current_node.left_ch\n",
    "            else:\n",
    "                child = current_node.right_ch\n",
    "            if current_node.is_left_ch():\n",
    "                current_node.parent.set_children(child, None)\n",
    "            elif current_node.is_right_ch():\n",
    "                current_node.parent.set_children(None, child)\n",
    "            else:\n",
    "                current_node.set_item_data(*child.get_item_data())\n",
    "                current_node.set_children(*child.get_children())\n",
    "\n",
    "    def delete(self, key: int):\n",
    "        if self.size > 1:\n",
    "            current_node = self._get(key)\n",
    "            if current_node:\n",
    "                self._remove(current_node)\n",
    "                self.size -= 1\n",
    "            else:\n",
    "                raise KeyError(\"Key not foundA.\")\n",
    "\n",
    "        # condition not nec? but then change the first to geq\n",
    "        elif self.size == 1 and self.root.key == key:\n",
    "            self.root = None\n",
    "            self.size -= 1\n",
    "        else:\n",
    "            raise KeyError(\"Key not found.\")\n",
    "\n",
    "    def __delitem__(self, key: int):\n",
    "        self.delete(key)"
   ]
  },
  {
   "cell_type": "markdown",
   "id": "df41eeee-3716-404e-9528-d6492aa7faa6",
   "metadata": {},
   "source": [
    "While using the class only with the methods provided there are no issues with double keys. Changing any values manually causes many problems and creates ambiguous situation in key set. I do not handle this for obvious reasons. In other languages external inaccessibility of attributes solves it. In *python* we assume reasonable usage."
   ]
  },
  {
   "cell_type": "markdown",
   "id": "5805afbd-a836-4187-bbad-8f590b8f2b27",
   "metadata": {},
   "source": [
    "## AVG Tree"
   ]
  },
  {
   "cell_type": "markdown",
   "id": "2aa9fda0-52b9-412c-811a-9540955bcf14",
   "metadata": {},
   "source": [
    "Having the basic binary search tree class, we can also implement AVL tree - as it is done in notes [[1]](#ref1), so by inheritance. This is going to be our final product."
   ]
  },
  {
   "cell_type": "code",
   "execution_count": 25,
   "id": "3fdd4185-22a5-4f9a-a1e8-4ffe0c3418bd",
   "metadata": {},
   "outputs": [],
   "source": [
    "class AVLTree(BSTree):\n",
    "    def rotate_left(self, rot_root: TreeNode):\n",
    "        pass\n",
    "\n",
    "    def rotate_right(self, rot_root: TreeNode):\n",
    "        pass\n",
    "\n",
    "    def rebalance(self, current_node: TreeNode):\n",
    "        pass\n",
    "\n",
    "    def update_balance(self, current_node: TreeNode):\n",
    "        if abs(current_node.balance_fact) > 1:\n",
    "            self.rebalance(current_node)\n",
    "            return\n",
    "        if not current_node.is_root():\n",
    "            if current_node.is_left_ch():\n",
    "                current_node.parent.balance_fact += 1\n",
    "            else:\n",
    "                current_node.parent.balance_fact -= 1\n",
    "            if current_node.parent.balance_fact != 0:\n",
    "                self.update_balance(current_node.parent)\n",
    "\n",
    "    def _put(self, key: int, value: Any, current_node: TreeNode):\n",
    "        if key < current_node.key:\n",
    "            if current_node.has_left_ch():\n",
    "                self._put(key, value, current_node.left_ch)\n",
    "            else:\n",
    "                current_node.left_ch = TreeNode(key, value, parent=current_node)\n",
    "                self.update_balance(current_node.left_ch)\n",
    "        elif key > current_node.key:\n",
    "            if current_node.has_right_ch():\n",
    "                self._put(key, value, current_node.right_ch)\n",
    "            else:\n",
    "                current_node.right_ch = TreeNode(key, value, parent=current_node)\n",
    "                self.update_balance(current_node.right_ch)\n",
    "        elif key == current_node.key:\n",
    "            current_node.value = value"
   ]
  },
  {
   "cell_type": "markdown",
   "id": "e4fc9063-9e7d-4ae6-b72b-a35c452f22d8",
   "metadata": {
    "tags": []
   },
   "source": [
    "## Presentation"
   ]
  },
  {
   "cell_type": "code",
   "execution_count": 74,
   "id": "4c2e3010-9bc1-45aa-91ce-0e634dd1a2c2",
   "metadata": {},
   "outputs": [
    {
     "name": "stdout",
     "output_type": "stream",
     "text": [
      "right\n",
      "right\n"
     ]
    }
   ],
   "source": [
    "bst1 = BSTree()\n",
    "bst1[5] = 0\n",
    "bst1[6] = 0\n",
    "bst1[9] = 0\n",
    "bst1[7] = 0\n",
    "bst1[10] = 0\n",
    "\n",
    "bst1.delete(9)"
   ]
  },
  {
   "cell_type": "code",
   "execution_count": 76,
   "id": "4623c478-d813-42f7-9ad1-b7402e612b81",
   "metadata": {},
   "outputs": [],
   "source": [
    "bst = BSTree()\n",
    "bst[10] = 0\n",
    "bst[5] = 0\n",
    "bst[7] = 0\n",
    "bst[1] = 0\n",
    "bst[9] = 0\n",
    "bst[21] = 0\n",
    "bst[2] = 0\n",
    "bst[9]\n",
    "\n",
    "# print(bst._get(5, bst.root))\n",
    "bst.delete(5)\n",
    "# bst._find_successor(bst._get(5)).key"
   ]
  },
  {
   "cell_type": "code",
   "execution_count": null,
   "id": "98c77a6d-0bb6-44ec-b57e-e7f0b220e8b6",
   "metadata": {},
   "outputs": [],
   "source": []
  },
  {
   "cell_type": "markdown",
   "id": "a19c405d-78e8-4215-aed6-ca11da4a9a16",
   "metadata": {},
   "source": [
    "-----------------------"
   ]
  },
  {
   "cell_type": "markdown",
   "id": "68a70829-49b0-4e4c-81a0-4f51e3d20bdf",
   "metadata": {
    "tags": []
   },
   "source": [
    "# Task 2"
   ]
  },
  {
   "cell_type": "markdown",
   "id": "1feae64c-cf25-4cac-9923-f435f1462066",
   "metadata": {
    "tags": []
   },
   "source": [
    "_**Sorting algorithm with binary heap**_"
   ]
  },
  {
   "cell_type": "markdown",
   "id": "801e198a-f939-4790-85ac-3d0f3d984f5f",
   "metadata": {},
   "source": [
    "-----------------------"
   ]
  },
  {
   "cell_type": "markdown",
   "id": "5b05f66a-ef2f-40a5-9f7a-e993e9c82bd4",
   "metadata": {},
   "source": [
    "## Main class"
   ]
  },
  {
   "cell_type": "markdown",
   "id": "15c3bb9b-03fe-44fb-b1c5-a6403ae08539",
   "metadata": {},
   "source": [
    "Binary heap class will be writen also according to the professor's lecture notes [[3]](#ref3), using *python* lists in implementation - that is simply convenient.\n",
    "\n",
    "However, in contrary to the sample shown, the *root* is identified with the **maximal** number."
   ]
  },
  {
   "cell_type": "code",
   "execution_count": 78,
   "id": "5dfe71a3-c747-4513-88c2-322ee460c859",
   "metadata": {},
   "outputs": [],
   "source": [
    "class BinHeap:\n",
    "    def __init__(self):\n",
    "        self.heap_list = [0]\n",
    "        self.size = 0\n",
    "\n",
    "    def get_parent(self, index: int):\n",
    "        return index // 2\n",
    "\n",
    "    def get_left_ch(self, index: int):\n",
    "        return index * 2\n",
    "\n",
    "    def get_right_ch(self, index: int):\n",
    "        return index * 2 + 1\n",
    "\n",
    "    def _perc_up(self, index: int):\n",
    "        parent = self.get_parent(index)\n",
    "        while parent > 0:\n",
    "\n",
    "            if self.heap_list[index] > self.heap_list[parent]:\n",
    "                self.heap_list[parent], self.heap_list[index] = (\n",
    "                    self.heap_list[index],\n",
    "                    self.heap_list[parent],\n",
    "                )\n",
    "            index = self.get_parent(index)\n",
    "            parent = self.get_parent(index)\n",
    "\n",
    "    def insert(self, value: float):\n",
    "        self.heap_list.append(value)\n",
    "        self.size += 1\n",
    "        self._perc_up(self.size)\n",
    "\n",
    "    def find_max(self):\n",
    "        return self.heap_list[1]\n",
    "\n",
    "    def _max_child(self, index: int):\n",
    "        left_ch = self.get_left_ch(index)\n",
    "        right_ch = self.get_right_ch(index)\n",
    "        if left_ch > self.size:\n",
    "            return None\n",
    "        elif left_ch == self.size:\n",
    "            return left_ch\n",
    "        else:\n",
    "            if self.heap_list[left_ch] > self.heap_list[right_ch]:\n",
    "                return left_ch\n",
    "            else:\n",
    "                return right_ch\n",
    "\n",
    "    def _perc_down(self, index: int):\n",
    "        while self.get_left_ch(index) <= self.size:\n",
    "            max_ch = self._max_child(index)\n",
    "            if self.heap_list[index] < self.heap_list[max_ch]:\n",
    "                self.heap_list[index], self.heap_list[max_ch] = (\n",
    "                    self.heap_list[max_ch],\n",
    "                    self.heap_list[index],\n",
    "                )\n",
    "            index = max_ch\n",
    "\n",
    "    def pop_max(self):\n",
    "        return_value = self.heap_list[1]\n",
    "        self.heap_list[1] = self.heap_list[self.size]\n",
    "        self.heap_list.pop()\n",
    "        self.size -= 1\n",
    "        self._perc_down(1)\n",
    "        return return_value\n",
    "\n",
    "    def build_heap(self, alist: list):\n",
    "        if not all(isinstance(elem, float) or isinstance(elem, int) for elem in alist):\n",
    "            raise TypeError(\"List should contain only numbers.\")\n",
    "        self.size = len(alist)\n",
    "        self.heap_list = [0] + alist[:]\n",
    "        index = self.size // 2\n",
    "        while index > 0:\n",
    "            self._perc_down(index)\n",
    "            index -= 1\n",
    "\n",
    "    def get_size(self):\n",
    "        return self.size\n",
    "\n",
    "    def __len__(self):\n",
    "        return self.get_size()\n",
    "\n",
    "    def is_empty(self):\n",
    "        return self.size == 0\n",
    "\n",
    "    def __str__(self):\n",
    "        txt = \"{}\".format(self.heap_list[1:])\n",
    "        return txt"
   ]
  },
  {
   "cell_type": "markdown",
   "id": "6be2ad0f-cc2e-4730-b192-53e6ee1b7f25",
   "metadata": {},
   "source": [
    "## Sorting"
   ]
  },
  {
   "cell_type": "markdown",
   "id": "20a74590-6496-4f31-ae47-3756470f767b",
   "metadata": {},
   "source": [
    "Now, using the binary heap I can write a function which **sorts the numbers in descending order**. To gain the opposite effect we should have created a *Min-Heap* instead of *Max-Heap*, but this was an aim specified on the lesson."
   ]
  },
  {
   "cell_type": "code",
   "execution_count": 160,
   "id": "c1a60d1c-fe78-40f4-8b5b-10d0161f1a27",
   "metadata": {},
   "outputs": [],
   "source": [
    "def sort_list(alist: list):\n",
    "    bin_heap = BinHeap()\n",
    "    bin_heap.build_heap(alist)\n",
    "    sorted_alist = []\n",
    "    while not bin_heap.is_empty():\n",
    "        sorted_alist.append(bin_heap.pop_max())\n",
    "    return sorted_alist"
   ]
  },
  {
   "cell_type": "markdown",
   "id": "19cc433f-f878-40d3-a6e9-1ccaa5eacba2",
   "metadata": {
    "tags": []
   },
   "source": [
    "## Complexity analysis"
   ]
  },
  {
   "cell_type": "markdown",
   "id": "11d05806-54a1-403a-a691-c56e77298989",
   "metadata": {},
   "source": [
    "### Measurment tools"
   ]
  },
  {
   "cell_type": "markdown",
   "id": "38cd1746-820e-4ed9-9ace-de39d11d8a7d",
   "metadata": {},
   "source": [
    "First step of analysis is to create a list of random numbers. I will use `np.random.random`."
   ]
  },
  {
   "cell_type": "markdown",
   "id": "fc48417e-cf03-4878-8fe6-4501d39d7aaa",
   "metadata": {},
   "source": [
    "Next, we have got a function measuring `sort_list` performace time. This is actually almost <u>copied</u> from my previous list [[4]](#ref4) (as well as the other following functions)."
   ]
  },
  {
   "cell_type": "code",
   "execution_count": 161,
   "id": "78d0b6d5-657a-4c76-bff2-88e4cedf817e",
   "metadata": {},
   "outputs": [],
   "source": [
    "def time_check(size: int) -> float:\n",
    "    \"\"\"Chceck the performance time for `sort_list` function and given list size.\n",
    "\n",
    "    Args:\n",
    "        size (int): List length.\n",
    "\n",
    "    Returns:\n",
    "        float: Time of the operation.\n",
    "    \"\"\"\n",
    "    alist = list(np.random.random(size))\n",
    "\n",
    "    time_a = time.time()\n",
    "    sort_list(alist)\n",
    "    time_b = time.time()\n",
    "    time_diff = time_b - time_a\n",
    "    return time_diff"
   ]
  },
  {
   "cell_type": "markdown",
   "id": "1f43e2e8-1abc-4bee-8383-e526fe42a95d",
   "metadata": {},
   "source": [
    "Finally a data collecting function, calling `sort_time` in loop for different sizes."
   ]
  },
  {
   "cell_type": "code",
   "execution_count": 162,
   "id": "04222df6-6355-4774-937d-6d72f1a0e016",
   "metadata": {},
   "outputs": [],
   "source": [
    "def collect_data(size: int, step: int) -> tuple:\n",
    "    \"\"\"Examine the function `sort_list` and find the calculation times for a range of sizes.\n",
    "\n",
    "    Args:\n",
    "        size (int): List length.\n",
    "        step (int): Interval between sizes in tested calls.\n",
    "\n",
    "    Returns:\n",
    "        tuple: Performance data: (List lengths, Times for each size).\n",
    "    \"\"\"\n",
    "    time_reg = []\n",
    "    rng = range(1, size + 1, step)\n",
    "\n",
    "    for N in rng:\n",
    "        time_reg.append(time_check(N))\n",
    "\n",
    "    return (rng, time_reg)"
   ]
  },
  {
   "cell_type": "markdown",
   "id": "d6f4d6a0-3597-4a89-bd9f-2c4238881724",
   "metadata": {},
   "source": [
    "### Visualisation tools"
   ]
  },
  {
   "cell_type": "markdown",
   "id": "f67715a3-dea8-4cab-b62e-9f3801bd1afe",
   "metadata": {},
   "source": [
    "Following function can plot graphs of the data and additionally - another \"hypothetic\" function."
   ]
  },
  {
   "cell_type": "code",
   "execution_count": 163,
   "id": "e8c94703-643e-4d17-86e6-06581b2635d3",
   "metadata": {},
   "outputs": [],
   "source": [
    "def plot_data(\n",
    "    x_vals: range, y_vals: list, yscale: str = \"linear\", function: function = None\n",
    "):\n",
    "    \"\"\"Plot the performance data and optionally the hypothetic function that `solve` converges to in terms of time complexity.\n",
    "\n",
    "    Args:\n",
    "        x_vals (range): List sizes.\n",
    "        y_vals (list): Performance times for lists.\n",
    "        yscale (str, optional): Scale on Y axis. Defaults to \"linear\".\n",
    "        function (function, optional): Hypothetic function to layer its plot with the data. Defaults to None.\n",
    "    \"\"\"\n",
    "    plt.plot(x_vals, y_vals, \"o\")\n",
    "    if function != None:\n",
    "        f_y_vals = function(x_vals)\n",
    "        plt.plot(x_vals, f_y_vals)\n",
    "\n",
    "    plt.yscale(yscale)\n",
    "    plt.xlabel(\"List length\")\n",
    "    plt.ylabel(\"Time\")\n",
    "    plt.title(\"Sorting function performance\")\n",
    "    plt.gca().legend((\"Collected data\", \"Hypothesis\"))\n",
    "    plt.show()"
   ]
  },
  {
   "cell_type": "markdown",
   "id": "e4b1a766-dbff-4959-abfb-3b926af17a5d",
   "metadata": {},
   "source": [
    "### Data collecting"
   ]
  },
  {
   "cell_type": "markdown",
   "id": "b93b2269-b99f-40ba-9770-3fddaaf0059d",
   "metadata": {},
   "source": [
    "For some reasonable size and steps I collect data from function's performace."
   ]
  },
  {
   "cell_type": "code",
   "execution_count": 171,
   "id": "8f160e71-dbe7-48fa-bcf9-c296eeccf799",
   "metadata": {},
   "outputs": [],
   "source": [
    "size = 30000\n",
    "step = 1500\n",
    "data = collect_data(size, step)"
   ]
  },
  {
   "cell_type": "markdown",
   "id": "a06209b5-b56b-470b-8792-10e8150aff48",
   "metadata": {},
   "source": [
    "### Hypothesis and its visualization"
   ]
  },
  {
   "cell_type": "markdown",
   "id": "14d1559b-9c7a-4244-a899-686cc99ec01b",
   "metadata": {},
   "source": [
    "My first hypothesis would be based on the task and algorithm analysis - I assume that `sort_list` has $O(n \\log(n))$ time complexity."
   ]
  },
  {
   "cell_type": "markdown",
   "id": "5806b0c1-aafd-4d21-b8c3-2f03d04e78f4",
   "metadata": {},
   "source": [
    "I use optimalization fitting tools and define new `f_fit` function as a hypothesis."
   ]
  },
  {
   "cell_type": "code",
   "execution_count": 172,
   "id": "b7cf8b7e-13a7-46d1-b548-4b38e8d5d1af",
   "metadata": {},
   "outputs": [],
   "source": [
    "def func(x: float, a: float, c: float) -> float:\n",
    "    \"\"\"Create a cubic polynomial.\n",
    "\n",
    "    Args:\n",
    "        x (float): Independent variable.\n",
    "        a (float): Multiplication factor.\n",
    "        c (float): Added constant.\n",
    "\n",
    "    Returns:\n",
    "        float: Value of `n*log(n)` in some point x.\n",
    "    \"\"\"\n",
    "    return a * x * np.log2(x) + c"
   ]
  },
  {
   "cell_type": "code",
   "execution_count": 173,
   "id": "baad3fad-b1a6-446e-9ec0-c50932d49e03",
   "metadata": {},
   "outputs": [
    {
     "name": "stdout",
     "output_type": "stream",
     "text": [
      "[9.03424706e-07 1.29320076e-02]\n"
     ]
    }
   ],
   "source": [
    "popt, pcov = curve_fit(func, list(data[0]), data[1])\n",
    "print(popt)"
   ]
  },
  {
   "cell_type": "code",
   "execution_count": 174,
   "id": "74135b2d-2b56-44c8-aec6-27d8f4026c5d",
   "metadata": {},
   "outputs": [],
   "source": [
    "def f_fit(x: float) -> float:\n",
    "    \"\"\"Create a `n*log(n)` function with appropriate coefficients.\n",
    "\n",
    "    Args:\n",
    "        x (float): Independent variable.\n",
    "\n",
    "    Returns:\n",
    "        float: Function with optimal numbers set as coefficients.\n",
    "    \"\"\"\n",
    "    return func(x, *popt)"
   ]
  },
  {
   "cell_type": "markdown",
   "id": "052d8044-3714-4805-a483-45753659c9b6",
   "metadata": {},
   "source": [
    "For the fitted $A$ and $C$ values in $f(n) = A n \\log(n) + C$ the comparison is presented in the graph."
   ]
  },
  {
   "cell_type": "code",
   "execution_count": 175,
   "id": "c0021e73-f167-4f24-b16b-8f587b9a8774",
   "metadata": {
    "scrolled": true
   },
   "outputs": [
    {
     "data": {
      "image/png": "[encoded data removed]",
      "text/plain": [
       "<Figure size 432x288 with 1 Axes>"
      ]
     },
     "metadata": {
      "needs_background": "light"
     },
     "output_type": "display_data"
    }
   ],
   "source": [
    "plot_data(*data, function=f_fit)"
   ]
  },
  {
   "cell_type": "markdown",
   "id": "4c7e7ba4-fe14-4eea-9e9c-4e29768d844c",
   "metadata": {},
   "source": [
    "It seems that hypothesis was **correct**. We see a satisfying curve fit for this function."
   ]
  },
  {
   "cell_type": "markdown",
   "id": "8497fdce-064a-4574-9879-2f0f4b513a76",
   "metadata": {},
   "source": [
    "### Prediction"
   ]
  },
  {
   "cell_type": "markdown",
   "id": "bb65c551-6fd7-43ff-b806-d3f3a126643a",
   "metadata": {},
   "source": [
    "Let us try predictions for sizes $n_1=30000$ and $n_2=32000$."
   ]
  },
  {
   "cell_type": "code",
   "execution_count": 176,
   "id": "a595c33d-fd7e-4e61-8502-a1fd6194d4da",
   "metadata": {},
   "outputs": [],
   "source": [
    "n1 = int(1e5)\n",
    "n2 = int(2e5)"
   ]
  },
  {
   "cell_type": "markdown",
   "id": "b143d7e5-e87a-43fe-bd58-60ce1f5d5f82",
   "metadata": {},
   "source": [
    "For $f(n_1)$:"
   ]
  },
  {
   "cell_type": "code",
   "execution_count": 177,
   "id": "2f0ad5bb-a09a-45d4-9168-4d0465789f12",
   "metadata": {},
   "outputs": [
    {
     "data": {
      "text/plain": [
       "1.513487963885513"
      ]
     },
     "execution_count": 177,
     "metadata": {},
     "output_type": "execute_result"
    }
   ],
   "source": [
    "f_fit(n1)"
   ]
  },
  {
   "cell_type": "markdown",
   "id": "377268f7-fc21-4a41-be8f-434710f9bc8f",
   "metadata": {},
   "source": [
    "And for $f(n_2)$:"
   ]
  },
  {
   "cell_type": "code",
   "execution_count": 178,
   "id": "7f719356-943e-4dd4-aac5-8b8fa9c5f4d0",
   "metadata": {},
   "outputs": [
    {
     "data": {
      "text/plain": [
       "3.194728861414619"
      ]
     },
     "execution_count": 178,
     "metadata": {},
     "output_type": "execute_result"
    }
   ],
   "source": [
    "f_fit(n2)"
   ]
  },
  {
   "cell_type": "markdown",
   "id": "ab60b316-58c4-401f-a40c-fa311e0fdaf8",
   "metadata": {},
   "source": [
    "### Verification"
   ]
  },
  {
   "cell_type": "markdown",
   "id": "25dedb98-9d0a-45b9-9366-214752ad4593",
   "metadata": {},
   "source": [
    "Now, we have got measured times for real `sort_list` algorithm:"
   ]
  },
  {
   "cell_type": "code",
   "execution_count": 179,
   "id": "26269ccb-769a-470f-9f27-96dbf2fa29e5",
   "metadata": {},
   "outputs": [
    {
     "data": {
      "text/plain": [
       "1.7566165924072266"
      ]
     },
     "execution_count": 179,
     "metadata": {},
     "output_type": "execute_result"
    }
   ],
   "source": [
    "time_check(n1)"
   ]
  },
  {
   "cell_type": "code",
   "execution_count": 180,
   "id": "e6addfa8-da49-4939-a975-97fe657812bb",
   "metadata": {
    "scrolled": true
   },
   "outputs": [
    {
     "data": {
      "text/plain": [
       "3.5521624088287354"
      ]
     },
     "execution_count": 180,
     "metadata": {},
     "output_type": "execute_result"
    }
   ],
   "source": [
    "time_check(n2)"
   ]
  },
  {
   "cell_type": "markdown",
   "id": "5291836d-19e5-4b4a-a486-09e06bdb0531",
   "metadata": {},
   "source": [
    "Viewing the results on my device I can claim that they actulally fit very well."
   ]
  },
  {
   "cell_type": "markdown",
   "id": "e222613b-76c1-4789-86f5-9699d2948f4e",
   "metadata": {},
   "source": [
    "### Results"
   ]
  },
  {
   "cell_type": "markdown",
   "id": "362ba2fc-ccab-411d-a5fc-ff86c2c62868",
   "metadata": {},
   "source": [
    "We clearly see that for greater values the assumption is good.\n",
    "\n",
    "So, `sort_list` has **$O(n \\log(n))$ time complexity** indeed."
   ]
  },
  {
   "cell_type": "markdown",
   "id": "b48287e6-b02d-4af4-a86b-52a68ab7cf16",
   "metadata": {
    "tags": []
   },
   "source": [
    "## Presentation"
   ]
  },
  {
   "cell_type": "code",
   "execution_count": 82,
   "id": "2be3944d-3998-4fe3-944c-cc8844e2dfd4",
   "metadata": {},
   "outputs": [
    {
     "name": "stdout",
     "output_type": "stream",
     "text": [
      "[320, 19, 18, 10, 1, 1, 3, 5]\n"
     ]
    }
   ],
   "source": [
    "bh = BinHeap()\n",
    "bh.insert(5)\n",
    "bh.insert(10)\n",
    "bh.insert(1)\n",
    "bh.insert(320)\n",
    "bh.insert(1)\n",
    "bh.insert(3)\n",
    "bh.insert(18)\n",
    "bh.insert(19)\n",
    "\n",
    "\n",
    "print(bh)"
   ]
  },
  {
   "cell_type": "code",
   "execution_count": 81,
   "id": "8f6a7f40-df33-421c-8bf9-e0fc960a8cd6",
   "metadata": {},
   "outputs": [
    {
     "data": {
      "text/plain": [
       "[50, 44, 10, 10, 4, 2]"
      ]
     },
     "execution_count": 81,
     "metadata": {},
     "output_type": "execute_result"
    }
   ],
   "source": [
    "sort_list([10, 2, 50, 4, 10, 44])"
   ]
  },
  {
   "cell_type": "markdown",
   "id": "faf3d12d-88c4-4aec-bc83-4d4acf2eed3c",
   "metadata": {},
   "source": [
    "-----------------------"
   ]
  },
  {
   "cell_type": "markdown",
   "id": "07f94c72-9202-406d-960c-63e6e5d8039e",
   "metadata": {
    "tags": []
   },
   "source": [
    "# Task 3"
   ]
  },
  {
   "cell_type": "markdown",
   "id": "3efe95d3-ee10-496a-9419-1534e7fd136d",
   "metadata": {
    "tags": []
   },
   "source": [
    "_**Binary heap with a limited size**_"
   ]
  },
  {
   "cell_type": "markdown",
   "id": "fbc30f2e-63e9-401f-a995-f478859dc598",
   "metadata": {},
   "source": [
    "-----------------------"
   ]
  },
  {
   "cell_type": "markdown",
   "id": "38426962-e715-429f-9d66-e14db52dde5c",
   "metadata": {},
   "source": [
    "This time I use *Max-Heap* again. Not to repeat the same code, I create a inheriting class and adjust necessary things."
   ]
  },
  {
   "cell_type": "markdown",
   "id": "9f6abbc8-3e08-4bed-bd26-c153f5b9c4b9",
   "metadata": {},
   "source": [
    "-----------------------"
   ]
  },
  {
   "cell_type": "markdown",
   "id": "21af7304-ea94-4f39-ac9d-c79ac1fc3114",
   "metadata": {
    "tags": []
   },
   "source": [
    "# References"
   ]
  },
  {
   "cell_type": "markdown",
   "id": "31704fbe-3508-4e09-bddf-19149a4331f9",
   "metadata": {},
   "source": [
    "<a id=\"ref1\">[1]</a> J. Szwabiński, *Wykład 9 - Drzewa i algorytmy ich przetwarzania (ciąg dalszy)*,  *Algorytmy i struktury danych*, p. 2-16. [accessed: 08.01.2022]. Link: http://prac.im.pwr.wroc.pl/~szwabin/assets/algo/lectures/9.pdf.\n",
    "\n",
    "<a id=\"ref2\">[2]</a> M. Hofri; H. Mahmoud, *Algorithmics of Nonuniformity: Tools and Paradigms*, 2019, p. 261.\n",
    "\n",
    "<a id=\"ref3\">[3]</a> J. Szwabiński, *Wykład 8 - Drzewa i algorytmy ich przetwarzania*,  *Algorytmy i struktury danych*, p. 17-24. [accessed: 08.01.2022]. Link: http://prac.im.pwr.wroc.pl/~szwabin/assets/algo/lectures/9.pdf.\n",
    "\n",
    "<a id=\"ref4\">[4]</a> File *\"lista5_machaj.ipynb\"* was sent as a task via email. It <u>might</u> be also posted on my *GitHub*. Link: https://github.com/o-mateo-o."
   ]
  }
 ],
 "metadata": {
  "kernelspec": {
   "display_name": "Python 3 (ipykernel)",
   "language": "python",
   "name": "python3"
  },
  "language_info": {
   "codemirror_mode": {
    "name": "ipython",
    "version": 3
   },
   "file_extension": ".py",
   "mimetype": "text/x-python",
   "name": "python",
   "nbconvert_exporter": "python",
   "pygments_lexer": "ipython3",
   "version": "3.9.7"
  },
  "toc-autonumbering": false,
  "toc-showcode": false,
  "toc-showmarkdowntxt": false
 },
 "nbformat": 4,
 "nbformat_minor": 5
}
