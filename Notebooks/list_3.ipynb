{
 "cells": [
  {
   "cell_type": "markdown",
   "metadata": {},
   "source": [
    "#### List 3, Algorithms and Data Structures - Lab, WUST-F13\n",
    "#### Mateusz Machaj, 04.11.2021\n"
   ]
  },
  {
   "cell_type": "code",
   "execution_count": 4,
   "metadata": {},
   "outputs": [],
   "source": [
    "import re\n",
    "from pandas import DataFrame as df"
   ]
  },
  {
   "cell_type": "markdown",
   "metadata": {},
   "source": [
    "---"
   ]
  },
  {
   "cell_type": "markdown",
   "metadata": {},
   "source": [
    "# Task 1\n",
    "#### *Restricted number of multiplications in the formula.*"
   ]
  },
  {
   "cell_type": "markdown",
   "metadata": {},
   "source": [
    "---"
   ]
  },
  {
   "cell_type": "markdown",
   "metadata": {},
   "source": [
    "### MATHEMAICAL ANALYSIS AND THE IDEA EXPLANATION"
   ]
  },
  {
   "cell_type": "markdown",
   "metadata": {},
   "source": [
    "For the function\n",
    "\n",
    "$$P(n, k) = \\sum_{i=0}^k {n\\choose i} p^i (1-p)^{n-i}$$\n",
    "\n",
    "we will try to find an algorithm which uses at most $3k+\\log n$ multiplications.\n",
    "\n",
    "At first, we can notice some identity:\n",
    "\n",
    "$${n \\choose k} = \\frac{\\prod_{i=1}^k{n-i+1}}{\\prod_{i=1}^k i}=\\prod_{i=1}^k \\frac{n-i+1}{i}.$$\n",
    "\n",
    "Therefore, for $i\\geq 0$, each element of the sum is a member of the recursive sequence:\n",
    "\n",
    "$$\n",
    "\\left\\{\n",
    "    \\begin{array}\\\\\n",
    "        a_0 = (1-p)^n\\\\\n",
    "        a_i = a_{i-1} \\cdot \\frac{n-i+1}{i}\\cdot Q, & i\\in \\mathbb{N} \\wedge i\\geq1 \n",
    "    \\end{array}\n",
    "\\right.,\n",
    "$$\n",
    "\n",
    "$$\\textrm{where}\\quad Q=\\frac{p}{1-p}=\\textrm{const}.$$\n",
    "\n",
    "Our formula has then a folowing shape:\n",
    "\n",
    "$$P(n, k) = \\sum_{i=0}^k a_i = a_0 + a_1 + \\sum_{i=2}^k a_i.$$\n",
    "\n",
    "So that, to find the sum we should do the following steps:\n",
    "\n",
    "* find $(1-p)^n$ using the proper exponentiation algorithm - __2log(n) multiplications__,\n",
    "* calculate $Q = \\frac{p}{1-p}$ - __1 multiplication (division)__,\n",
    "* for each next element multiplicate the previous sequence member by $n-i+1$, by $Q$, and divide it by $i$ (for the proper $i$) - __3 multiplications/divisions per iteration__;\n",
    "\n",
    "* in addition to that, for $i=1$ certainly $\\frac{n-i+1}{i}=n$, so in this iteration we can simply reduce the number of multiplications __form 3 to 2__.\n",
    "\n",
    "All things considered, after having $(1-p)^n$ calculated, we should perform $1 + 2 + 3 \\cdot (k-1) = 3k$ multiplications to get the values of the sum elements - because we have got $k$ iterations in the formula.\n",
    "\n",
    "Hence, the maximal total number of multiplications is represented by the function\n",
    "\n",
    "$$M(n, k) = 2\\log n + 3k.$$\n",
    "\n",
    "(Algorithms of $O(\\log n)$ class in reality do $2\\cdot \\log n$ multiplications and we can do nothing about it. I hope it is enough for the task being scored.)"
   ]
  },
  {
   "cell_type": "markdown",
   "metadata": {},
   "source": [
    "### ALGORITHM CODING"
   ]
  },
  {
   "cell_type": "markdown",
   "metadata": {},
   "source": [
    "We can start with creating an exponentiation function, handling the positive integer powers:"
   ]
  },
  {
   "cell_type": "code",
   "execution_count": 5,
   "metadata": {},
   "outputs": [],
   "source": [
    "def power(base: float, expon: int) -> float:\n",
    "    \"\"\"\n",
    "    Raise an integer to a natural power using bitwise log(n) algorithm.\n",
    "\n",
    "    Args:\n",
    "        base (int/float): Base of the exponential function.\n",
    "        expon (int): Power of the function.\n",
    "\n",
    "    Raises:\n",
    "        TypeError: Only integer power is allowed.\n",
    "        ValueError: Only positive power is allowed.\n",
    "\n",
    "    Returns:\n",
    "        float: Result of the exponentiation.\n",
    "    \"\"\"\n",
    "    if not isinstance(expon, int):\n",
    "        raise TypeError(\"Wrong argument type. Exponent should be an integer.\")\n",
    "    if expon < 0:\n",
    "        raise ValueError(\"Invalid exponent value. Exponent should be positive.\")\n",
    "\n",
    "    if expon == 0:\n",
    "        return 1\n",
    "\n",
    "    res = 1\n",
    "    while expon > 0:\n",
    "        if expon & 1:  # bitwise reminder test\n",
    "            res *= base\n",
    "        base *= base\n",
    "        expon >>= 1  # shift right to see what is the next bit\n",
    "    return res"
   ]
  },
  {
   "cell_type": "markdown",
   "metadata": {},
   "source": [
    "A power can be represented as $m = d_0\\cdot2^0 + d_1\\cdot2^1 + d_2\\cdot2^2 + \\ldots$, where $d_i\\in \\{ 0, 1\\}$, depending on the numbers in the bitwise representation. Thus, $a^m = a^{d_0 2^0}\\cdot a^{d_1 2^1}\\cdot d_2 a^{d_2 2^3}\\cdot\\ldots.$ In each iteration we prepare new $a^{2^i}=a^{2^{i-1}}\\cdot a^{2^{i-1}}$, and if the power's current bit is $1$, we multiply the whole result variable by it. "
   ]
  },
  {
   "cell_type": "markdown",
   "metadata": {},
   "source": [
    "Then, let us create the right function for calculating the probability - using the algorithm described before:"
   ]
  },
  {
   "cell_type": "code",
   "execution_count": 6,
   "metadata": {},
   "outputs": [],
   "source": [
    "def probab(n: int, k: int, p: float) -> float:\n",
    "    \"\"\"Find the probability of at most `k` successes in `n` attempts, having given the probability of a single success.\n",
    "    Use the algorithm restricting the number of multiplications.\n",
    "\n",
    "    Args:\n",
    "        n (int): Total number of attempts.\n",
    "        k (int): Maximal number of successes.\n",
    "        p (float): Single success probability.\n",
    "\n",
    "    Raises:\n",
    "        ValueError: Probability must be between 0 and 1.\n",
    "\n",
    "    Returns:\n",
    "        float: Total probability.\n",
    "    \"\"\"\n",
    "    if p > 1 or p < 0:\n",
    "        raise ValueError\n",
    "    Q = p / (1 - p)  # constant coefficient\n",
    "    res = 0\n",
    "\n",
    "    curr_memb = power(1 - p, n)  # first element - `i=0`\n",
    "    res += curr_memb\n",
    "    curr_memb *= n * Q  # second element - `i=1`\n",
    "    res += curr_memb\n",
    "\n",
    "    for i in range(2, k + 1):  # the rest of the elements\n",
    "        curr_memb *= (n - i + 1) / i * Q\n",
    "        res += curr_memb\n",
    "\n",
    "    return res"
   ]
  },
  {
   "cell_type": "markdown",
   "metadata": {},
   "source": [
    "### PRESENTATION"
   ]
  },
  {
   "cell_type": "markdown",
   "metadata": {},
   "source": [
    "Probability of at most $4$ successes during $10$ attempts, when the probability of single success is $\\frac{1}{3}$:"
   ]
  },
  {
   "cell_type": "code",
   "execution_count": 24,
   "metadata": {},
   "outputs": [
    {
     "data": {
      "text/plain": [
       "0.7868719199309052"
      ]
     },
     "execution_count": 24,
     "metadata": {},
     "output_type": "execute_result"
    }
   ],
   "source": [
    "probab(n=10, k=4, p=1/3)"
   ]
  },
  {
   "cell_type": "markdown",
   "metadata": {},
   "source": [
    "Hence, $P_{\\frac{1}{3}}(10, 4) \\approx 0.7869 .$"
   ]
  },
  {
   "cell_type": "markdown",
   "metadata": {},
   "source": [
    "---"
   ]
  },
  {
   "cell_type": "markdown",
   "metadata": {},
   "source": [
    "# Task 2\n",
    "#### Evaluating a polynomial."
   ]
  },
  {
   "cell_type": "markdown",
   "metadata": {},
   "source": [
    "---"
   ]
  },
  {
   "cell_type": "markdown",
   "metadata": {},
   "source": [
    "### MATHEMAICAL ANALYSIS AND THE IDEA EXPLANATION"
   ]
  },
  {
   "cell_type": "markdown",
   "metadata": {},
   "source": [
    "As having a $a_0 + a_1 x + a_2 x^2 + \\ldots + a_n x^n$ polynomial, we can write it also as\n",
    "\n",
    "$$a_0 + x\\cdot(a_1 + x\\cdot(a_2 + x\\cdot (\\cdots x\\cdot a_n))).$$\n",
    "\n",
    "This way of thinking allows us to perform __only $n$ multiplications__ and the rest of operations is addition.\n",
    "\n",
    "Therefore, given the list of $a_i,\\, i\\in\\{1, 2, \\ldots, n\\}$ and a specific $x$, we have to start from the most nested parenthesis and proceed to the outside. We mulitiply $x$ by $a_n$ and sum the result with $a_{n-1}$. Then, do the same instructions until the list is over."
   ]
  },
  {
   "cell_type": "markdown",
   "metadata": {},
   "source": [
    "### ALGORITHM CODING"
   ]
  },
  {
   "cell_type": "markdown",
   "metadata": {},
   "source": [
    "We try to code exactly the same thing that is decsribed above:"
   ]
  },
  {
   "cell_type": "code",
   "execution_count": 17,
   "metadata": {},
   "outputs": [],
   "source": [
    "def polyn(a_coeff: list, x: float) -> float:\n",
    "    \"\"\"For a given `x` evaluate the polynomial using only `n` multiplications.\n",
    "    (`n` is a degree of the polynomial.)\n",
    "\n",
    "    Args:\n",
    "        a_coeff (list[float]): List of polynomial coeffitients.\n",
    "        x (int/float): Polynomial variable value.\n",
    "\n",
    "    Raises:\n",
    "        TypeError: `x` is expected to be a number.\n",
    "        TypeError: `a_coeff` is expected to be a list.\n",
    "        ValueError: List `a_coeff` cannot be empty.\n",
    "        TypeError: Coeffitients are expected to be numbers.\n",
    "\n",
    "    Returns:\n",
    "        int/float: Value of the polynomial for the given `x`.\n",
    "    \"\"\"\n",
    "    if type(x) not in {int, float}:\n",
    "        raise TypeError(\"Wrong argument type. `x` is expected to be a number.\")\n",
    "    if not isinstance(a_coeff, list):\n",
    "        raise TypeError(\n",
    "            \"Wrong argument type. `a_coeff` is expected to be a list of coefficients.\")\n",
    "    if a_coeff == []:\n",
    "        raise ValueError(\"List of coefficients cannot be empty.\")\n",
    "    if not all(type(a) in {int, float} for a in a_coeff):\n",
    "        raise TypeError(\"Coeffitients are expected to be numbers.\")\n",
    "\n",
    "    # the initial `result` is `a_n`, then we iterate begining from `a_(n-1)`\n",
    "    res = a_coeff[-1]\n",
    "    for a in a_coeff[-2::-1]:\n",
    "        res = x * res + a\n",
    "    return res"
   ]
  },
  {
   "cell_type": "markdown",
   "metadata": {},
   "source": [
    "### PRESENTATION"
   ]
  },
  {
   "cell_type": "markdown",
   "metadata": {},
   "source": [
    "* Dla $x=0$, mamy $1+x=1.$"
   ]
  },
  {
   "cell_type": "code",
   "execution_count": 20,
   "metadata": {
    "scrolled": true
   },
   "outputs": [
    {
     "data": {
      "text/plain": [
       "1"
      ]
     },
     "execution_count": 20,
     "metadata": {},
     "output_type": "execute_result"
    }
   ],
   "source": [
    "polyn([1, 1], 0)"
   ]
  },
  {
   "cell_type": "markdown",
   "metadata": {},
   "source": [
    "* Dla $x=21$, mamy $1+3x+2x^2+7x^3+6x^4=1232659.$"
   ]
  },
  {
   "cell_type": "code",
   "execution_count": 21,
   "metadata": {},
   "outputs": [
    {
     "data": {
      "text/plain": [
       "1232659"
      ]
     },
     "execution_count": 21,
     "metadata": {},
     "output_type": "execute_result"
    }
   ],
   "source": [
    "polyn([1, 3 , 2 , 7 , 6], 21)"
   ]
  },
  {
   "cell_type": "markdown",
   "metadata": {},
   "source": [
    "* Dla $x=42$, mamy $1+3x^5=392073697.$"
   ]
  },
  {
   "cell_type": "code",
   "execution_count": 23,
   "metadata": {},
   "outputs": [
    {
     "data": {
      "text/plain": [
       "392073697"
      ]
     },
     "execution_count": 23,
     "metadata": {},
     "output_type": "execute_result"
    }
   ],
   "source": [
    "polyn([1, 0 , 0 , 0 , 0, 3], 42)"
   ]
  },
  {
   "cell_type": "markdown",
   "metadata": {},
   "source": [
    "---"
   ]
  },
  {
   "cell_type": "markdown",
   "metadata": {},
   "source": [
    "# Task 3\n",
    "#### Counting letters without the conditional statement."
   ]
  },
  {
   "cell_type": "markdown",
   "metadata": {},
   "source": [
    "---"
   ]
  },
  {
   "cell_type": "markdown",
   "metadata": {},
   "source": [
    "### ANALYSIS AND THE IDEA EXPLANATION"
   ]
  },
  {
   "cell_type": "markdown",
   "metadata": {},
   "source": [
    "The main structure that will be used in this algorithm is a dictionary. Iterating over all the characters in the string we will try to increment the _counter value_ for a proper key in dictionary by 1. If the key does not exist, the error is thrown and we handle it by creating this specific key and assigning to it a value of 1 (becouse of the first repetition).\n",
    "\n",
    "That means __we do not have to use _\"if\"_ instruction.__ \n",
    "\n",
    "Before getting to work we can clean the text up a little. Thereupon, the following steps are done:\n",
    "* changing the uppercase letters to the lowercase - to consider them as the same symbol,\n",
    "* getting rid of all the punctuation and white symbols - only alphanumeric symbols will be important.\n",
    "\n",
    "_(Apparently, the algorithm can cound alphanumeric symbols. Now we choose the \"garbage free\" version.)_"
   ]
  },
  {
   "cell_type": "markdown",
   "metadata": {},
   "source": [
    "### ALGORITHM CODING"
   ]
  },
  {
   "cell_type": "markdown",
   "metadata": {},
   "source": [
    "The main function which prepares the data:"
   ]
  },
  {
   "cell_type": "code",
   "execution_count": 8,
   "metadata": {},
   "outputs": [],
   "source": [
    "def char_count(text: str) -> dict:\n",
    "    \"\"\"Count the occurences of each character in the given text (excluding the puncuation and white characters).\n",
    "\n",
    "    Args:\n",
    "        text (str): Text to compare the occurences.\n",
    "\n",
    "    Raises:\n",
    "        TypeError: Text on input must be a string.\n",
    "\n",
    "    Returns:\n",
    "        dict: Dictionary where number of occurences is assigned to each symbol encountered.\n",
    "    \"\"\"\n",
    "    if not isinstance(text, str):\n",
    "        raise TypeError(\"Argumet is expected to be a string.\")\n",
    "\n",
    "    # treat upper and lowercase letters as the same\n",
    "    text = re.sub('([A-Z]{1})', r'\\1', text).lower()\n",
    "    # do not consider non alphanumeric symbols\n",
    "    text = re.sub('[\\W]', '', text)\n",
    "\n",
    "    db = dict()\n",
    "    for char in text:\n",
    "        try:\n",
    "            db[char] += 1\n",
    "        except:\n",
    "            db[char] = 1\n",
    "    return db\n"
   ]
  },
  {
   "cell_type": "markdown",
   "metadata": {},
   "source": [
    "We can also add a visualisation function, which will present a bar graph of sorted values for each character in the text:"
   ]
  },
  {
   "cell_type": "code",
   "execution_count": 9,
   "metadata": {},
   "outputs": [],
   "source": [
    "def char_graph(data: dict):\n",
    "    \"\"\"Plot a bar graph of the character occurences, sorting them in a descending way.\n",
    "\n",
    "    Args:\n",
    "        data (dict): Dictionary of characters and their occurrences.\n",
    "    \"\"\"\n",
    "    frame = df({'char': data.keys(), 'number': data.values()})\n",
    "    frame.set_index('char', inplace=True)\n",
    "    frame.sort_values('number', inplace=True, ascending=False)\n",
    "    frame.plot.bar(rot=0, title=\"Character occurrence comparison.\")"
   ]
  },
  {
   "cell_type": "markdown",
   "metadata": {},
   "source": [
    "### PRESENTATION"
   ]
  },
  {
   "cell_type": "markdown",
   "metadata": {},
   "source": [
    "#### _INPUT:_"
   ]
  },
  {
   "cell_type": "code",
   "execution_count": 10,
   "metadata": {},
   "outputs": [],
   "source": [
    "text = '''Litwo! Ojczyzno maja! Ty jesteś jak zdrowie,\n",
    "Ile cię trzeba cenić, ten tylko się dowie,\n",
    "Kto cię stracił. Dziś piękność twą w całej ozdobie\n",
    "Widzę i opisuję, bo tęsknię po tobie\"\n",
    "Panno święta, co Jasnej bronisz Częstochowy\n",
    "I w Ostrej świecisz Bramie! Ty, co gród zamkowy\n",
    "Nowogródzki ochraniasz z jego wiernym ludem!\n",
    "Jak mnie dziecko do zdrowia powróciłaś cudem,\n",
    "(Gdy od płaczącej matki pod Twoją opiekę\n",
    "Ofiarowany, martwą podniosłem powiekę\n",
    "I zaraz mogłem pieszo do Twych świątyń progu\n",
    "Iść za wrócone życie podziękować Bogu),\n",
    "Tak nas powrócisz cudem na Ojczyzny łono.\n",
    "Tymczasem przenoś moją duszę utęsknioną\n",
    "Do tych pagórków leśnych, do tych łąk zielonych,\n",
    "Szeroko nad błękitnym Niemnem rozciągnionych;\n",
    "Do tych pól malowanych zbożem rozmaitem,\n",
    "Wyzłacanych pszenicą, posrebrzanych żytem;\n",
    "Gdzie bursztynowy świerzop, gryka jak śnieg biała,\n",
    "Gdzie panieńskim rumieńcem dzięcielina pała,\n",
    "A wszystko przepasane jakby wstęgą, miedzą\n",
    "Zieloną, na niej z rzadka ciche grusze siedzą.'''"
   ]
  },
  {
   "cell_type": "markdown",
   "metadata": {},
   "source": [
    "Let's take a glimpse at the raw generated dictionary. It obviously has regard also to polish characters."
   ]
  },
  {
   "cell_type": "code",
   "execution_count": 11,
   "metadata": {},
   "outputs": [],
   "source": [
    "data = char_count(text)"
   ]
  },
  {
   "cell_type": "code",
   "execution_count": 12,
   "metadata": {},
   "outputs": [
    {
     "name": "stdout",
     "output_type": "stream",
     "text": [
      "{'l': 10, 'i': 66, 't': 32, 'w': 31, 'o': 70, 'j': 18, 'c': 40, 'z': 49, 'y': 32, 'n': 43, 'm': 28, 'a': 52, 'e': 58, 's': 29, 'ś': 12, 'k': 25, 'd': 30, 'r': 32, 'ę': 18, 'b': 13, 'ć': 4, 'ł': 12, 'p': 24, 'ą': 14, 'u': 11, 'h': 13, 'g': 15, 'ó': 8, 'f': 1, 'ń': 3, 'ż': 3}\n"
     ]
    }
   ],
   "source": [
    "print(data)"
   ]
  },
  {
   "cell_type": "markdown",
   "metadata": {},
   "source": [
    "Finally, we may illustrate the findings:"
   ]
  },
  {
   "cell_type": "code",
   "execution_count": 13,
   "metadata": {},
   "outputs": [
    {
     "data": {
      "image/png": "[encoded data removed]",
      "text/plain": [
       "<Figure size 432x288 with 1 Axes>"
      ]
     },
     "metadata": {
      "needs_background": "light"
     },
     "output_type": "display_data"
    }
   ],
   "source": [
    "char_graph(data)"
   ]
  }
 ],
 "metadata": {
  "kernelspec": {
   "display_name": "Python 3",
   "language": "python",
   "name": "python3"
  },
  "language_info": {
   "codemirror_mode": {
    "name": "ipython",
    "version": 3
   },
   "file_extension": ".py",
   "mimetype": "text/x-python",
   "name": "python",
   "nbconvert_exporter": "python",
   "pygments_lexer": "ipython3",
   "version": "3.8.5"
  }
 },
 "nbformat": 4,
 "nbformat_minor": 4
}
