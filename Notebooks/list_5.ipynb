{
 "cells": [
  {
   "cell_type": "markdown",
   "metadata": {},
   "source": [
    "**List 5** - Algorithms and Data Structures 2021, WUST - F13\n",
    "\n",
    "*Author:* Mateusz Machaj, 262288\n",
    "\n",
    "*Date:* 14.12.2021"
   ]
  },
  {
   "cell_type": "markdown",
   "metadata": {},
   "source": [
    "-----------------------"
   ]
  },
  {
   "cell_type": "code",
   "execution_count": 7,
   "metadata": {},
   "outputs": [],
   "source": [
    "import numpy as np\n",
    "from scipy import linalg\n",
    "import time\n",
    "import matplotlib.pyplot as plt\n",
    "from scipy.optimize import curve_fit\n",
    "import copy\n",
    "import turtle\n",
    "from typing import Any\n",
    "from __future__ import annotations\n"
   ]
  },
  {
   "cell_type": "markdown",
   "metadata": {},
   "source": [
    "-----------------------"
   ]
  },
  {
   "cell_type": "markdown",
   "metadata": {},
   "source": [
    "# Task 1"
   ]
  },
  {
   "cell_type": "markdown",
   "metadata": {},
   "source": [
    "##### Experimental analysis of  `scipy.linalg.solve` function complexity"
   ]
  },
  {
   "cell_type": "markdown",
   "metadata": {},
   "source": [
    "-----------------------"
   ]
  },
  {
   "cell_type": "markdown",
   "metadata": {},
   "source": [
    "### Algorithm"
   ]
  },
  {
   "cell_type": "markdown",
   "metadata": {},
   "source": [
    "For random A matrix and random B vector of a given size we are going to analyse `solve` function complexity. Algorithm is unknown."
   ]
  },
  {
   "cell_type": "markdown",
   "metadata": {},
   "source": [
    "    linalg.solve(A, B)"
   ]
  },
  {
   "cell_type": "markdown",
   "metadata": {},
   "source": [
    "Input data size is $n$ - number of variables in system. Therefore, $A$ matrix has dimensions $n\\times n$."
   ]
  },
  {
   "cell_type": "markdown",
   "metadata": {},
   "source": [
    "### Tools for measurement"
   ]
  },
  {
   "cell_type": "markdown",
   "metadata": {},
   "source": [
    "At first, I create a function that uniformly generates random systems of a given size."
   ]
  },
  {
   "cell_type": "code",
   "execution_count": 2,
   "metadata": {},
   "outputs": [],
   "source": [
    "def prep_rand_syst(size: int) -> tuple:\n",
    "    \"\"\"Generate a random system of equations from uniform distribution.\n",
    "    Use values between 0 and 1 for each coefficient.\n",
    "\n",
    "    Args:\n",
    "        size (int): Size of matrix (number of variables in system).\n",
    "\n",
    "    Returns:\n",
    "        tuple: Random matrix and vector for a system of equations.\n",
    "    \"\"\"\n",
    "\n",
    "    a = np.random.rand(size, size)\n",
    "    b = np.random.rand(size, 1)\n",
    "    return (a, b)\n"
   ]
  },
  {
   "cell_type": "markdown",
   "metadata": {},
   "source": [
    "Next, we have got a function measuring `solve` performace time."
   ]
  },
  {
   "cell_type": "code",
   "execution_count": 3,
   "metadata": {},
   "outputs": [],
   "source": [
    "def time_check(size: int) -> float:\n",
    "    \"\"\"Chceck the performance time for `solve` function and given system size. \n",
    "\n",
    "    Args:\n",
    "        size (int): Number of unknown variables.\n",
    "\n",
    "    Returns:\n",
    "        float: Time of the operation.\n",
    "    \"\"\"\n",
    "    matrices = prep_rand_syst(size)\n",
    "\n",
    "    time_a = time.time()\n",
    "    linalg.solve(*matrices)\n",
    "    time_b = time.time()\n",
    "    time_diff = time_b - time_a\n",
    "    return time_diff\n"
   ]
  },
  {
   "cell_type": "markdown",
   "metadata": {},
   "source": [
    "Finally a data collecting function, calling `solve` in loop for different sizes."
   ]
  },
  {
   "cell_type": "code",
   "execution_count": 4,
   "metadata": {},
   "outputs": [],
   "source": [
    "def collect_data(size: int, step: int) -> tuple:\n",
    "    \"\"\"Examine the function `solve` and find the calculation times for a range of sizes.\n",
    "\n",
    "    Args:\n",
    "        size (int): Number of unknown variables.\n",
    "        step (int): Interval between sizes in tested calls.\n",
    "\n",
    "    Returns:\n",
    "        tuple: Performance data: (Sizes of system, Times for each size).\n",
    "    \"\"\"\n",
    "    time_reg = []\n",
    "    rng = range(1, size + 1, step)\n",
    "\n",
    "    for N in rng:\n",
    "        time_reg.append(time_check(N))\n",
    "\n",
    "    return (rng, time_reg)\n"
   ]
  },
  {
   "cell_type": "markdown",
   "metadata": {},
   "source": [
    "### Tools for visualisation"
   ]
  },
  {
   "cell_type": "markdown",
   "metadata": {},
   "source": [
    "Following function can plot graphs of the data and additionally - another \"hypothetic\" function."
   ]
  },
  {
   "cell_type": "code",
   "execution_count": 6,
   "metadata": {},
   "outputs": [],
   "source": [
    "def plot_data(\n",
    "    x_vals: range, y_vals: list, yscale: str = \"linear\", function: function = None\n",
    "):\n",
    "    \"\"\"Plot the performance data and optionally the hypothetic function that `solve` converges to in terms of time complexity.\n",
    "\n",
    "    Args:\n",
    "        x_vals (range): Sizes of equation systems.\n",
    "        y_vals (list): Performance times for equation systems.\n",
    "        yscale (str, optional): Scale on Y axis. Defaults to \"linear\".\n",
    "        function (function, optional): Hypothetic function to layer its plot with the data. Defaults to None.\n",
    "    \"\"\"\n",
    "    plt.plot(x_vals, y_vals, \"o\")\n",
    "    if function != None:\n",
    "        f_y_vals = [function(k) for k in x_vals]\n",
    "        plt.plot(x_vals, f_y_vals)\n",
    "\n",
    "    plt.yscale(yscale)\n",
    "    plt.xlabel(\"System size\")\n",
    "    plt.ylabel(\"Time\")\n",
    "    plt.title(\"Solve function performance\")\n",
    "    plt.gca().legend((\"Collected data\", \"Hypothesis\"))\n",
    "    plt.show()\n"
   ]
  },
  {
   "cell_type": "markdown",
   "metadata": {},
   "source": [
    "### Collecting data concerning the algorithm performance"
   ]
  },
  {
   "cell_type": "markdown",
   "metadata": {},
   "source": [
    "For some reasonable size and steps I collect data from function's performace."
   ]
  },
  {
   "cell_type": "code",
   "execution_count": 7,
   "metadata": {},
   "outputs": [
    {
     "data": {
      "application/javascript": "\n            setTimeout(function() {\n                var nbb_cell_id = 7;\n                var nbb_unformatted_code = \"size = 14000\\nstep = 1000\\ndata = collect_data(size, step)\";\n                var nbb_formatted_code = \"size = 14000\\nstep = 1000\\ndata = collect_data(size, step)\";\n                var nbb_cells = Jupyter.notebook.get_cells();\n                for (var i = 0; i < nbb_cells.length; ++i) {\n                    if (nbb_cells[i].input_prompt_number == nbb_cell_id) {\n                        if (nbb_cells[i].get_text() == nbb_unformatted_code) {\n                             nbb_cells[i].set_text(nbb_formatted_code);\n                        }\n                        break;\n                    }\n                }\n            }, 500);\n            ",
      "text/plain": [
       "<IPython.core.display.Javascript object>"
      ]
     },
     "metadata": {},
     "output_type": "display_data"
    }
   ],
   "source": [
    "size = 14000\n",
    "step = 1000\n",
    "data = collect_data(size, step)\n"
   ]
  },
  {
   "cell_type": "markdown",
   "metadata": {},
   "source": [
    "### Initial insight"
   ]
  },
  {
   "cell_type": "markdown",
   "metadata": {},
   "source": [
    "At this point we can try looking at plots in different y-scales:"
   ]
  },
  {
   "cell_type": "markdown",
   "metadata": {},
   "source": [
    "- linear"
   ]
  },
  {
   "cell_type": "code",
   "execution_count": 8,
   "metadata": {
    "scrolled": true
   },
   "outputs": [
    {
     "data": {
      "image/png": "[encoded data removed]",
      "text/plain": [
       "<Figure size 432x288 with 1 Axes>"
      ]
     },
     "metadata": {
      "needs_background": "light"
     },
     "output_type": "display_data"
    },
    {
     "data": {
      "application/javascript": "\n            setTimeout(function() {\n                var nbb_cell_id = 8;\n                var nbb_unformatted_code = \"plot_data(*data)\";\n                var nbb_formatted_code = \"plot_data(*data)\";\n                var nbb_cells = Jupyter.notebook.get_cells();\n                for (var i = 0; i < nbb_cells.length; ++i) {\n                    if (nbb_cells[i].input_prompt_number == nbb_cell_id) {\n                        if (nbb_cells[i].get_text() == nbb_unformatted_code) {\n                             nbb_cells[i].set_text(nbb_formatted_code);\n                        }\n                        break;\n                    }\n                }\n            }, 500);\n            ",
      "text/plain": [
       "<IPython.core.display.Javascript object>"
      ]
     },
     "metadata": {},
     "output_type": "display_data"
    }
   ],
   "source": [
    "plot_data(*data)\n"
   ]
  },
  {
   "cell_type": "markdown",
   "metadata": {},
   "source": [
    "- logarithmic"
   ]
  },
  {
   "cell_type": "code",
   "execution_count": 9,
   "metadata": {},
   "outputs": [
    {
     "data": {
      "image/png": "[encoded data removed]",
      "text/plain": [
       "<Figure size 432x288 with 1 Axes>"
      ]
     },
     "metadata": {
      "needs_background": "light"
     },
     "output_type": "display_data"
    },
    {
     "data": {
      "application/javascript": "\n            setTimeout(function() {\n                var nbb_cell_id = 9;\n                var nbb_unformatted_code = \"plot_data(*data, \\\"log\\\")\";\n                var nbb_formatted_code = \"plot_data(*data, \\\"log\\\")\";\n                var nbb_cells = Jupyter.notebook.get_cells();\n                for (var i = 0; i < nbb_cells.length; ++i) {\n                    if (nbb_cells[i].input_prompt_number == nbb_cell_id) {\n                        if (nbb_cells[i].get_text() == nbb_unformatted_code) {\n                             nbb_cells[i].set_text(nbb_formatted_code);\n                        }\n                        break;\n                    }\n                }\n            }, 500);\n            ",
      "text/plain": [
       "<IPython.core.display.Javascript object>"
      ]
     },
     "metadata": {},
     "output_type": "display_data"
    }
   ],
   "source": [
    "plot_data(*data, \"log\")\n"
   ]
  },
  {
   "cell_type": "markdown",
   "metadata": {},
   "source": [
    "- symmetrical log"
   ]
  },
  {
   "cell_type": "code",
   "execution_count": 45,
   "metadata": {
    "scrolled": true
   },
   "outputs": [
    {
     "data": {
      "image/png": "[encoded data removed]",
      "text/plain": [
       "<Figure size 432x288 with 1 Axes>"
      ]
     },
     "metadata": {
      "needs_background": "light"
     },
     "output_type": "display_data"
    },
    {
     "data": {
      "application/javascript": "\n            setTimeout(function() {\n                var nbb_cell_id = 45;\n                var nbb_unformatted_code = \"plot_data(*data, \\\"symlog\\\")\";\n                var nbb_formatted_code = \"plot_data(*data, \\\"symlog\\\")\";\n                var nbb_cells = Jupyter.notebook.get_cells();\n                for (var i = 0; i < nbb_cells.length; ++i) {\n                    if (nbb_cells[i].input_prompt_number == nbb_cell_id) {\n                        if (nbb_cells[i].get_text() == nbb_unformatted_code) {\n                             nbb_cells[i].set_text(nbb_formatted_code);\n                        }\n                        break;\n                    }\n                }\n            }, 500);\n            ",
      "text/plain": [
       "<IPython.core.display.Javascript object>"
      ]
     },
     "metadata": {},
     "output_type": "display_data"
    }
   ],
   "source": [
    "plot_data(*data, \"symlog\")\n"
   ]
  },
  {
   "cell_type": "markdown",
   "metadata": {},
   "source": [
    "Not a single graph works for initial assumptions, so I will test polynomial complexity hypothestis."
   ]
  },
  {
   "cell_type": "markdown",
   "metadata": {},
   "source": [
    "### Hypothesis and its visualization"
   ]
  },
  {
   "cell_type": "markdown",
   "metadata": {},
   "source": [
    "My first hypothesis would be based on the information from some web sources - that `solve` has $O(n^3)$ time complexity."
   ]
  },
  {
   "cell_type": "markdown",
   "metadata": {},
   "source": [
    "I use optimalization fitting tools and define new `f_fit` function as a hypothesis."
   ]
  },
  {
   "cell_type": "code",
   "execution_count": 33,
   "metadata": {},
   "outputs": [
    {
     "data": {
      "application/javascript": "\n            setTimeout(function() {\n                var nbb_cell_id = 33;\n                var nbb_unformatted_code = \"def func1(x, a, b, c, d):\\n    return a * x ** 3 + b * x ** 2 + c * x + d\";\n                var nbb_formatted_code = \"def func1(x, a, b, c, d):\\n    return a * x ** 3 + b * x ** 2 + c * x + d\";\n                var nbb_cells = Jupyter.notebook.get_cells();\n                for (var i = 0; i < nbb_cells.length; ++i) {\n                    if (nbb_cells[i].input_prompt_number == nbb_cell_id) {\n                        if (nbb_cells[i].get_text() == nbb_unformatted_code) {\n                             nbb_cells[i].set_text(nbb_formatted_code);\n                        }\n                        break;\n                    }\n                }\n            }, 500);\n            ",
      "text/plain": [
       "<IPython.core.display.Javascript object>"
      ]
     },
     "metadata": {},
     "output_type": "display_data"
    }
   ],
   "source": [
    "def func1(x: float, a: float, b: float, c: float, d: float) -> float:\n",
    "    \"\"\"Create a cubic polynomial.\n",
    "\n",
    "    Args:\n",
    "        x (float): Independent variable.\n",
    "        a (float): Cubic coeffictient.\n",
    "        b (float): Quadratic coefficient\n",
    "        c (float): Linear coefficient.\n",
    "        d (float): Constant term.\n",
    "\n",
    "    Returns:\n",
    "        float: Value of the polynomial in some point x.\n",
    "    \"\"\"\n",
    "    return a * x ** 3 + b * x ** 2 + c * x + d\n"
   ]
  },
  {
   "cell_type": "code",
   "execution_count": 35,
   "metadata": {},
   "outputs": [
    {
     "name": "stdout",
     "output_type": "stream",
     "text": [
      "[ 1.66025987e-11  3.19686218e-08  1.41719664e-04 -1.42987204e-01]\n"
     ]
    },
    {
     "data": {
      "application/javascript": "\n            setTimeout(function() {\n                var nbb_cell_id = 35;\n                var nbb_unformatted_code = \"popt1, pcov1 = curve_fit(func1, list(data[0]), data[1])\\nprint(popt)\";\n                var nbb_formatted_code = \"popt1, pcov1 = curve_fit(func1, list(data[0]), data[1])\\nprint(popt)\";\n                var nbb_cells = Jupyter.notebook.get_cells();\n                for (var i = 0; i < nbb_cells.length; ++i) {\n                    if (nbb_cells[i].input_prompt_number == nbb_cell_id) {\n                        if (nbb_cells[i].get_text() == nbb_unformatted_code) {\n                             nbb_cells[i].set_text(nbb_formatted_code);\n                        }\n                        break;\n                    }\n                }\n            }, 500);\n            ",
      "text/plain": [
       "<IPython.core.display.Javascript object>"
      ]
     },
     "metadata": {},
     "output_type": "display_data"
    }
   ],
   "source": [
    "popt1, pcov1 = curve_fit(func1, list(data[0]), data[1])\n",
    "print(popt1)\n"
   ]
  },
  {
   "cell_type": "code",
   "execution_count": 14,
   "metadata": {},
   "outputs": [
    {
     "data": {
      "application/javascript": "\n            setTimeout(function() {\n                var nbb_cell_id = 14;\n                var nbb_unformatted_code = \"def f_fit1(x: float) -> float:\\n    return func1(x, *popt1)\";\n                var nbb_formatted_code = \"def f_fit1(x: float) -> float:\\n    return func1(x, *popt1)\";\n                var nbb_cells = Jupyter.notebook.get_cells();\n                for (var i = 0; i < nbb_cells.length; ++i) {\n                    if (nbb_cells[i].input_prompt_number == nbb_cell_id) {\n                        if (nbb_cells[i].get_text() == nbb_unformatted_code) {\n                             nbb_cells[i].set_text(nbb_formatted_code);\n                        }\n                        break;\n                    }\n                }\n            }, 500);\n            ",
      "text/plain": [
       "<IPython.core.display.Javascript object>"
      ]
     },
     "metadata": {},
     "output_type": "display_data"
    }
   ],
   "source": [
    "def f_fit1(x: float) -> float:\n",
    "    \"\"\"Create a cubic polynomial with appropriate coefficients.\n",
    "\n",
    "    Args:\n",
    "        x (float): Independent variable.\n",
    "\n",
    "    Returns:\n",
    "        float: Polynomial with optimal numbers set as coefficients.\n",
    "    \"\"\"\n",
    "    return func1(x, *popt1)\n"
   ]
  },
  {
   "cell_type": "markdown",
   "metadata": {},
   "source": [
    "Plot for $f_1(x) = 1.66\\cdot10^{-11}x^3+3.2\\cdot10^{-8}x^2+1.42\\cdot10^{-4}x-1.42\\cdot10^{-1}$:"
   ]
  },
  {
   "cell_type": "code",
   "execution_count": 31,
   "metadata": {
    "scrolled": true
   },
   "outputs": [
    {
     "data": {
      "image/png": "[encoded data removed]",
      "text/plain": [
       "<Figure size 432x288 with 1 Axes>"
      ]
     },
     "metadata": {
      "needs_background": "light"
     },
     "output_type": "display_data"
    },
    {
     "data": {
      "application/javascript": "\n            setTimeout(function() {\n                var nbb_cell_id = 31;\n                var nbb_unformatted_code = \"plot_data(*data, function=f_fit1)\";\n                var nbb_formatted_code = \"plot_data(*data, function=f_fit1)\";\n                var nbb_cells = Jupyter.notebook.get_cells();\n                for (var i = 0; i < nbb_cells.length; ++i) {\n                    if (nbb_cells[i].input_prompt_number == nbb_cell_id) {\n                        if (nbb_cells[i].get_text() == nbb_unformatted_code) {\n                             nbb_cells[i].set_text(nbb_formatted_code);\n                        }\n                        break;\n                    }\n                }\n            }, 500);\n            ",
      "text/plain": [
       "<IPython.core.display.Javascript object>"
      ]
     },
     "metadata": {},
     "output_type": "display_data"
    }
   ],
   "source": [
    "plot_data(*data, function=f_fit1)\n"
   ]
  },
  {
   "cell_type": "markdown",
   "metadata": {},
   "source": [
    "It looks as the right one, although the large values are more important for the experiment. The first coeffitient $1.66\\cdot10^{-11}$ is not big, so I will also try another polynomial:\n",
    "\n",
    "$$f_2(x)=ax^3+bx^2+c$$"
   ]
  },
  {
   "cell_type": "code",
   "execution_count": 36,
   "metadata": {},
   "outputs": [
    {
     "data": {
      "application/javascript": "\n            setTimeout(function() {\n                var nbb_cell_id = 36;\n                var nbb_unformatted_code = \"def func2(x, a, b, c):\\n    return a * x ** 2 + b * x + c\";\n                var nbb_formatted_code = \"def func2(x, a, b, c):\\n    return a * x ** 2 + b * x + c\";\n                var nbb_cells = Jupyter.notebook.get_cells();\n                for (var i = 0; i < nbb_cells.length; ++i) {\n                    if (nbb_cells[i].input_prompt_number == nbb_cell_id) {\n                        if (nbb_cells[i].get_text() == nbb_unformatted_code) {\n                             nbb_cells[i].set_text(nbb_formatted_code);\n                        }\n                        break;\n                    }\n                }\n            }, 500);\n            ",
      "text/plain": [
       "<IPython.core.display.Javascript object>"
      ]
     },
     "metadata": {},
     "output_type": "display_data"
    }
   ],
   "source": [
    "def func2(x: float, a: float, b: float, c: float) -> float:\n",
    "    \"\"\"Create a quadratic polynomial.\n",
    "\n",
    "    Args:\n",
    "        x (float): Independent variable.\n",
    "        a (float): Quadratic coefficient\n",
    "        b (float): Linear coefficient.\n",
    "        c (float): Constant term.\n",
    "\n",
    "    Returns:\n",
    "        float: Value of the polynomial in some point x.\n",
    "    \"\"\"\n",
    "    return a * x ** 2 + b * x + c\n"
   ]
  },
  {
   "cell_type": "code",
   "execution_count": 37,
   "metadata": {},
   "outputs": [
    {
     "name": "stdout",
     "output_type": "stream",
     "text": [
      "[ 3.55769104e-07 -1.48100176e-03  1.28313802e+00]\n"
     ]
    },
    {
     "data": {
      "application/javascript": "\n            setTimeout(function() {\n                var nbb_cell_id = 37;\n                var nbb_unformatted_code = \"popt2, pcov2 = curve_fit(func2, list(data[0]), data[1])\\nprint(popt2)\";\n                var nbb_formatted_code = \"popt2, pcov2 = curve_fit(func2, list(data[0]), data[1])\\nprint(popt2)\";\n                var nbb_cells = Jupyter.notebook.get_cells();\n                for (var i = 0; i < nbb_cells.length; ++i) {\n                    if (nbb_cells[i].input_prompt_number == nbb_cell_id) {\n                        if (nbb_cells[i].get_text() == nbb_unformatted_code) {\n                             nbb_cells[i].set_text(nbb_formatted_code);\n                        }\n                        break;\n                    }\n                }\n            }, 500);\n            ",
      "text/plain": [
       "<IPython.core.display.Javascript object>"
      ]
     },
     "metadata": {},
     "output_type": "display_data"
    }
   ],
   "source": [
    "popt2, pcov2 = curve_fit(func2, list(data[0]), data[1])\n",
    "print(popt2)\n"
   ]
  },
  {
   "cell_type": "code",
   "execution_count": 15,
   "metadata": {},
   "outputs": [
    {
     "data": {
      "application/javascript": "\n            setTimeout(function() {\n                var nbb_cell_id = 15;\n                var nbb_unformatted_code = \"def f_fit2(x: float) -> float:\\n    return func2(x, *popt2)\";\n                var nbb_formatted_code = \"def f_fit2(x: float) -> float:\\n    return func2(x, *popt2)\";\n                var nbb_cells = Jupyter.notebook.get_cells();\n                for (var i = 0; i < nbb_cells.length; ++i) {\n                    if (nbb_cells[i].input_prompt_number == nbb_cell_id) {\n                        if (nbb_cells[i].get_text() == nbb_unformatted_code) {\n                             nbb_cells[i].set_text(nbb_formatted_code);\n                        }\n                        break;\n                    }\n                }\n            }, 500);\n            ",
      "text/plain": [
       "<IPython.core.display.Javascript object>"
      ]
     },
     "metadata": {},
     "output_type": "display_data"
    }
   ],
   "source": [
    "def f_fit2(x: float) -> float:\n",
    "    \"\"\"Create a quadratic polynomial with appropriate coefficients.\n",
    "\n",
    "    Args:\n",
    "        x (float): Independent variable.\n",
    "\n",
    "    Returns:\n",
    "        float: Polynomial with optimal numbers set as coefficients.\n",
    "    \"\"\"\n",
    "    return func2(x, *popt2)\n"
   ]
  },
  {
   "cell_type": "markdown",
   "metadata": {},
   "source": [
    "Plot for $f_2(x) = 3.55\\cdot10^{-7}x^2+1.48\\cdot10^{-3}x-1.28$:"
   ]
  },
  {
   "cell_type": "code",
   "execution_count": 40,
   "metadata": {
    "scrolled": true
   },
   "outputs": [
    {
     "data": {
      "image/png": "[encoded data removed]",
      "text/plain": [
       "<Figure size 432x288 with 1 Axes>"
      ]
     },
     "metadata": {
      "needs_background": "light"
     },
     "output_type": "display_data"
    },
    {
     "data": {
      "application/javascript": "\n            setTimeout(function() {\n                var nbb_cell_id = 40;\n                var nbb_unformatted_code = \"plot_data(*data, function=f_fit2)\";\n                var nbb_formatted_code = \"plot_data(*data, function=f_fit2)\";\n                var nbb_cells = Jupyter.notebook.get_cells();\n                for (var i = 0; i < nbb_cells.length; ++i) {\n                    if (nbb_cells[i].input_prompt_number == nbb_cell_id) {\n                        if (nbb_cells[i].get_text() == nbb_unformatted_code) {\n                             nbb_cells[i].set_text(nbb_formatted_code);\n                        }\n                        break;\n                    }\n                }\n            }, 500);\n            ",
      "text/plain": [
       "<IPython.core.display.Javascript object>"
      ]
     },
     "metadata": {},
     "output_type": "display_data"
    }
   ],
   "source": [
    "plot_data(*data, function=f_fit2)\n"
   ]
  },
  {
   "cell_type": "markdown",
   "metadata": {},
   "source": [
    "### Prediction"
   ]
  },
  {
   "cell_type": "markdown",
   "metadata": {},
   "source": [
    "Let us try predictions for sizes $n=16000$ and $n=18000$."
   ]
  },
  {
   "cell_type": "markdown",
   "metadata": {},
   "source": [
    "First - the $f_1(x)$ function."
   ]
  },
  {
   "cell_type": "code",
   "execution_count": 41,
   "metadata": {},
   "outputs": [
    {
     "data": {
      "text/plain": [
       "78.312738686897"
      ]
     },
     "execution_count": 41,
     "metadata": {},
     "output_type": "execute_result"
    },
    {
     "data": {
      "application/javascript": "\n            setTimeout(function() {\n                var nbb_cell_id = 41;\n                var nbb_unformatted_code = \"f_fit1(16000)\";\n                var nbb_formatted_code = \"f_fit1(16000)\";\n                var nbb_cells = Jupyter.notebook.get_cells();\n                for (var i = 0; i < nbb_cells.length; ++i) {\n                    if (nbb_cells[i].input_prompt_number == nbb_cell_id) {\n                        if (nbb_cells[i].get_text() == nbb_unformatted_code) {\n                             nbb_cells[i].set_text(nbb_formatted_code);\n                        }\n                        break;\n                    }\n                }\n            }, 500);\n            ",
      "text/plain": [
       "<IPython.core.display.Javascript object>"
      ]
     },
     "metadata": {},
     "output_type": "display_data"
    }
   ],
   "source": [
    "f_fit1(16000)\n"
   ]
  },
  {
   "cell_type": "code",
   "execution_count": 32,
   "metadata": {},
   "outputs": [
    {
     "data": {
      "text/plain": [
       "109.59215555769234"
      ]
     },
     "execution_count": 32,
     "metadata": {},
     "output_type": "execute_result"
    },
    {
     "data": {
      "application/javascript": "\n            setTimeout(function() {\n                var nbb_cell_id = 32;\n                var nbb_unformatted_code = \"f_fit1(18000)\";\n                var nbb_formatted_code = \"f_fit1(18000)\";\n                var nbb_cells = Jupyter.notebook.get_cells();\n                for (var i = 0; i < nbb_cells.length; ++i) {\n                    if (nbb_cells[i].input_prompt_number == nbb_cell_id) {\n                        if (nbb_cells[i].get_text() == nbb_unformatted_code) {\n                             nbb_cells[i].set_text(nbb_formatted_code);\n                        }\n                        break;\n                    }\n                }\n            }, 500);\n            ",
      "text/plain": [
       "<IPython.core.display.Javascript object>"
      ]
     },
     "metadata": {},
     "output_type": "display_data"
    }
   ],
   "source": [
    "f_fit1(18000)\n"
   ]
  },
  {
   "cell_type": "markdown",
   "metadata": {},
   "source": [
    "Next - $f_2(x)$ function."
   ]
  },
  {
   "cell_type": "code",
   "execution_count": 42,
   "metadata": {},
   "outputs": [
    {
     "data": {
      "text/plain": [
       "68.66400041809051"
      ]
     },
     "execution_count": 42,
     "metadata": {},
     "output_type": "execute_result"
    },
    {
     "data": {
      "application/javascript": "\n            setTimeout(function() {\n                var nbb_cell_id = 42;\n                var nbb_unformatted_code = \"f_fit2(16000)\";\n                var nbb_formatted_code = \"f_fit2(16000)\";\n                var nbb_cells = Jupyter.notebook.get_cells();\n                for (var i = 0; i < nbb_cells.length; ++i) {\n                    if (nbb_cells[i].input_prompt_number == nbb_cell_id) {\n                        if (nbb_cells[i].get_text() == nbb_unformatted_code) {\n                             nbb_cells[i].set_text(nbb_formatted_code);\n                        }\n                        break;\n                    }\n                }\n            }, 500);\n            ",
      "text/plain": [
       "<IPython.core.display.Javascript object>"
      ]
     },
     "metadata": {},
     "output_type": "display_data"
    }
   ],
   "source": [
    "f_fit2(16000)\n"
   ]
  },
  {
   "cell_type": "code",
   "execution_count": 43,
   "metadata": {},
   "outputs": [
    {
     "data": {
      "text/plain": [
       "89.89429596147565"
      ]
     },
     "execution_count": 43,
     "metadata": {},
     "output_type": "execute_result"
    },
    {
     "data": {
      "application/javascript": "\n            setTimeout(function() {\n                var nbb_cell_id = 43;\n                var nbb_unformatted_code = \"f_fit2(18000)\";\n                var nbb_formatted_code = \"f_fit2(18000)\";\n                var nbb_cells = Jupyter.notebook.get_cells();\n                for (var i = 0; i < nbb_cells.length; ++i) {\n                    if (nbb_cells[i].input_prompt_number == nbb_cell_id) {\n                        if (nbb_cells[i].get_text() == nbb_unformatted_code) {\n                             nbb_cells[i].set_text(nbb_formatted_code);\n                        }\n                        break;\n                    }\n                }\n            }, 500);\n            ",
      "text/plain": [
       "<IPython.core.display.Javascript object>"
      ]
     },
     "metadata": {},
     "output_type": "display_data"
    }
   ],
   "source": [
    "f_fit2(18000)\n"
   ]
  },
  {
   "cell_type": "markdown",
   "metadata": {},
   "source": [
    "### Verification"
   ]
  },
  {
   "cell_type": "markdown",
   "metadata": {},
   "source": [
    "Now, we have got measured times for real `solve` algorithm:"
   ]
  },
  {
   "cell_type": "code",
   "execution_count": 15,
   "metadata": {},
   "outputs": [
    {
     "data": {
      "text/plain": [
       "66.60453987121582"
      ]
     },
     "execution_count": 15,
     "metadata": {},
     "output_type": "execute_result"
    },
    {
     "data": {
      "application/javascript": "\n            setTimeout(function() {\n                var nbb_cell_id = 15;\n                var nbb_unformatted_code = \"time_check(16000)\";\n                var nbb_formatted_code = \"time_check(16000)\";\n                var nbb_cells = Jupyter.notebook.get_cells();\n                for (var i = 0; i < nbb_cells.length; ++i) {\n                    if (nbb_cells[i].input_prompt_number == nbb_cell_id) {\n                        if (nbb_cells[i].get_text() == nbb_unformatted_code) {\n                             nbb_cells[i].set_text(nbb_formatted_code);\n                        }\n                        break;\n                    }\n                }\n            }, 500);\n            ",
      "text/plain": [
       "<IPython.core.display.Javascript object>"
      ]
     },
     "metadata": {},
     "output_type": "display_data"
    }
   ],
   "source": [
    "time_check(16000)\n"
   ]
  },
  {
   "cell_type": "code",
   "execution_count": 22,
   "metadata": {
    "scrolled": true
   },
   "outputs": [
    {
     "data": {
      "text/plain": [
       "85.99206042289734"
      ]
     },
     "execution_count": 22,
     "metadata": {},
     "output_type": "execute_result"
    },
    {
     "data": {
      "application/javascript": "\n            setTimeout(function() {\n                var nbb_cell_id = 22;\n                var nbb_unformatted_code = \"time_check(18000)\";\n                var nbb_formatted_code = \"time_check(18000)\";\n                var nbb_cells = Jupyter.notebook.get_cells();\n                for (var i = 0; i < nbb_cells.length; ++i) {\n                    if (nbb_cells[i].input_prompt_number == nbb_cell_id) {\n                        if (nbb_cells[i].get_text() == nbb_unformatted_code) {\n                             nbb_cells[i].set_text(nbb_formatted_code);\n                        }\n                        break;\n                    }\n                }\n            }, 500);\n            ",
      "text/plain": [
       "<IPython.core.display.Javascript object>"
      ]
     },
     "metadata": {},
     "output_type": "display_data"
    }
   ],
   "source": [
    "time_check(18000)\n"
   ]
  },
  {
   "cell_type": "markdown",
   "metadata": {},
   "source": [
    "### Results"
   ]
  },
  {
   "cell_type": "markdown",
   "metadata": {},
   "source": [
    "We clearly see that for greater values of $n$, $f_2$ works better.\n",
    "\n",
    "This is **only a guess**, but it seems that `solve` has **$O(n^2)$ time complexity**."
   ]
  },
  {
   "cell_type": "markdown",
   "metadata": {},
   "source": [
    "-----------------------"
   ]
  },
  {
   "cell_type": "markdown",
   "metadata": {},
   "source": [
    "# Task 2"
   ]
  },
  {
   "cell_type": "markdown",
   "metadata": {},
   "source": [
    "##### Hanoi tower"
   ]
  },
  {
   "cell_type": "markdown",
   "metadata": {},
   "source": [
    "-----------------------"
   ]
  },
  {
   "cell_type": "markdown",
   "metadata": {},
   "source": [
    "Initially, I write a `Stack` class as on the previous list."
   ]
  },
  {
   "cell_type": "code",
   "execution_count": 10,
   "metadata": {},
   "outputs": [],
   "source": [
    "class Stack:\n",
    "    \"\"\"Standard stack implemented basing on the python list.\n",
    "    \"\"\"\n",
    "\n",
    "    def __init__(self):\n",
    "        \"\"\"Create a stack.\n",
    "        \"\"\"\n",
    "        self.items = []\n",
    "\n",
    "    def isEmpty(self) -> bool:\n",
    "        \"\"\"Check if the stack contains any elements.\n",
    "\n",
    "        Returns:\n",
    "            bool: Information about emptiness.\n",
    "        \"\"\"\n",
    "        return self.items == []\n",
    "\n",
    "    def push(self, item: Any):\n",
    "        \"\"\"Add an item on the top of the stack.\n",
    "\n",
    "        Args:\n",
    "            item (Any): Te item to be added.\n",
    "        \"\"\"\n",
    "        self.items.append(item)\n",
    "\n",
    "    def pop(self) -> Any:\n",
    "        \"\"\"Remove the item from the top of the stack.\n",
    "\n",
    "        Returns:\n",
    "            Any: The removed top item.\n",
    "        \"\"\"\n",
    "        return self.items.pop()\n",
    "\n",
    "    def peek(self) -> Any:\n",
    "        \"\"\"Show the item from the top of the stack. \n",
    "\n",
    "        Returns:\n",
    "            Any: The top item.\n",
    "        \"\"\"\n",
    "        return self.items[len(self.items)-1]\n",
    "\n",
    "    def size(self) -> int:\n",
    "        \"\"\"Measure the length of the queue.\n",
    "\n",
    "        Returns:\n",
    "            int: Length of the queue.\n",
    "        \"\"\"\n",
    "        return len(self.items)\n"
   ]
  },
  {
   "cell_type": "markdown",
   "metadata": {},
   "source": [
    "For purposes of analysis, there is a function parsing the state of towers in a given moment."
   ]
  },
  {
   "cell_type": "code",
   "execution_count": 11,
   "metadata": {},
   "outputs": [],
   "source": [
    "def cell_saver(cells: list) -> list:\n",
    "    \"\"\"Collect the state of towers for a given moment.\n",
    "\n",
    "    Args:\n",
    "        cells (list): List of genuine towers as stacks.\n",
    "\n",
    "    Returns:\n",
    "        list: List of tower states.\n",
    "    \"\"\"\n",
    "    record = []\n",
    "    for cell in cells:\n",
    "        cell_copy = copy.deepcopy(cell)\n",
    "        record.append(cell_copy.items)\n",
    "    return record\n"
   ]
  },
  {
   "cell_type": "markdown",
   "metadata": {},
   "source": [
    "Then, I use a function moving single disks between towers."
   ]
  },
  {
   "cell_type": "code",
   "execution_count": 12,
   "metadata": {},
   "outputs": [],
   "source": [
    "def move_disk(prev_tower: Stack, new_tower: Stack):\n",
    "    \"\"\"Move a disk from one tower to another.\n",
    "\n",
    "    Args:\n",
    "        prev_tower (Stack): Curent tower.\n",
    "        new_tower (Stack): New tower.\n",
    "    \"\"\"\n",
    "    disk = prev_tower.pop()\n",
    "    new_tower.push(disk)"
   ]
  },
  {
   "cell_type": "markdown",
   "metadata": {},
   "source": [
    "Additionally, a standard recursion algorithm to move towers from *base* to *target*, using *auxiliary* one. It also saves the tower states."
   ]
  },
  {
   "cell_type": "code",
   "execution_count": 13,
   "metadata": {},
   "outputs": [],
   "source": [
    "def move_tower(\n",
    "    disks_n: int,\n",
    "    base_tower: Stack,\n",
    "    targ_tower: Stack,\n",
    "    aux_tower: Stack,\n",
    "    reg: list,\n",
    "    real_towers: list,\n",
    "):\n",
    "    \"\"\"Use recursion to solve hanoi towers problem and set disks on stakes in right order.\n",
    "    Save states after each step to the register.\n",
    "\n",
    "    Args:\n",
    "        disks_n (int): Total number of disks.\n",
    "        base_tower (Stack): Tower to grab disks from.\n",
    "        targ_tower (Stack): Tower to put the disks on.\n",
    "        aux_tower (Stack): Auxiliary tower.\n",
    "        reg (list): Register of states.\n",
    "        real_towers (list): List of genuine tower (stack) instances in constant order.\n",
    "    \"\"\"\n",
    "    if reg == []:\n",
    "        reg.append(cell_saver(real_towers))\n",
    "    if disks_n >= 1:\n",
    "        move_tower(disks_n - 1, base_tower, aux_tower,\n",
    "                   targ_tower, reg, real_towers)\n",
    "        move_disk(base_tower, targ_tower)\n",
    "        reg.append(cell_saver(real_towers))\n",
    "\n",
    "        move_tower(disks_n - 1, aux_tower, targ_tower,\n",
    "                   base_tower, reg, real_towers)\n"
   ]
  },
  {
   "cell_type": "markdown",
   "metadata": {},
   "source": [
    "We also have to load the *base tower* before any operation."
   ]
  },
  {
   "cell_type": "code",
   "execution_count": 14,
   "metadata": {},
   "outputs": [],
   "source": [
    "def load_tower(items: list, tower: Stack):\n",
    "    \"\"\"Load the tower with items from list. Order is according to the list.\n",
    "\n",
    "    Args:\n",
    "        items (list): Variables representing disks.\n",
    "        tower (Stack): Tower to load.\n",
    "    \"\"\"\n",
    "    while not tower.isEmpty():\n",
    "        tower.pop()\n",
    "    for item in reversed(items):\n",
    "        tower.push(item)\n"
   ]
  },
  {
   "cell_type": "markdown",
   "metadata": {},
   "source": [
    "Before the results, I write a visualization function."
   ]
  },
  {
   "cell_type": "code",
   "execution_count": 15,
   "metadata": {},
   "outputs": [],
   "source": [
    "def visual_hanoi(reg: list) -> str:\n",
    "    \"\"\"Prepare a visualization of the hanoi solving process.\n",
    "\n",
    "    Args:\n",
    "        reg (list): Register of states.\n",
    "\n",
    "    Returns:\n",
    "        str: Visualisation of steps.\n",
    "    \"\"\"\n",
    "    mt = copy.deepcopy(reg)\n",
    "\n",
    "    max_size_el = max(map(len, mt[0]))\n",
    "    max_size_real = max(map(len, map(\"\".join, mt[0])))\n",
    "\n",
    "    for i, step in enumerate(mt):\n",
    "        for j, tower in enumerate(step):\n",
    "            new_cell = \"-\".join(map(str, mt[i][j])) + \"-\"\n",
    "            diff_in_chars = max_size_el + max_size_real - len(new_cell)\n",
    "            mt[i][j] = \"|\" + new_cell + \"-\" * (diff_in_chars)\n",
    "\n",
    "            ind_repr = str(i)\n",
    "            ind_repr_fx = (\n",
    "                ind_repr\n",
    "                + \".\"\n",
    "                + \" \" * int(np.floor(np.log10(len(mt))) + 1 - len(ind_repr))\n",
    "            )\n",
    "        mt[i] = (\n",
    "            ind_repr_fx\n",
    "            + \"    A:   \"\n",
    "            + step[0]\n",
    "            + \"    B:   \"\n",
    "            + step[1]\n",
    "            + \"    C:   \"\n",
    "            + step[2]\n",
    "        )\n",
    "\n",
    "    out_tab = \"\\n\".join(mt)\n",
    "    out_tab = \"Order:   \" + \" -> \".join(map(str, reg[0][0])) + \"\\n\\n\" + out_tab\n",
    "\n",
    "    return out_tab\n"
   ]
  },
  {
   "cell_type": "markdown",
   "metadata": {},
   "source": [
    "Finally, do the actions and analyse the performance.\n",
    "\n",
    "I create a *register* to save the moves too."
   ]
  },
  {
   "cell_type": "code",
   "execution_count": 16,
   "metadata": {},
   "outputs": [],
   "source": [
    "towers = Stack(), Stack(), Stack()\n",
    "base_tower, aux_tower, targ_tower = towers\n",
    "disks = [\"S\", \"M\", \"L\", \"XL\", \"XXL\"]\n",
    "\n",
    "hanoi_reg = []\n",
    "\n",
    "load_tower(disks, base_tower)\n"
   ]
  },
  {
   "cell_type": "code",
   "execution_count": 17,
   "metadata": {},
   "outputs": [
    {
     "name": "stdout",
     "output_type": "stream",
     "text": [
      "Order:   XXL -> XL -> L -> M -> S\n",
      "\n",
      "0.     A:   |XXL-XL-L-M-S-    B:   |-------------    C:   |-------------\n",
      "1.     A:   |XXL-XL-L-M---    B:   |-------------    C:   |S------------\n",
      "2.     A:   |XXL-XL-L-----    B:   |M------------    C:   |S------------\n",
      "3.     A:   |XXL-XL-L-----    B:   |M-S----------    C:   |-------------\n",
      "4.     A:   |XXL-XL-------    B:   |M-S----------    C:   |L------------\n",
      "5.     A:   |XXL-XL-S-----    B:   |M------------    C:   |L------------\n",
      "6.     A:   |XXL-XL-S-----    B:   |-------------    C:   |L-M----------\n",
      "7.     A:   |XXL-XL-------    B:   |-------------    C:   |L-M-S--------\n",
      "8.     A:   |XXL----------    B:   |XL-----------    C:   |L-M-S--------\n",
      "9.     A:   |XXL----------    B:   |XL-S---------    C:   |L-M----------\n",
      "10.    A:   |XXL-M--------    B:   |XL-S---------    C:   |L------------\n",
      "11.    A:   |XXL-M-S------    B:   |XL-----------    C:   |L------------\n",
      "12.    A:   |XXL-M-S------    B:   |XL-L---------    C:   |-------------\n",
      "13.    A:   |XXL-M--------    B:   |XL-L---------    C:   |S------------\n",
      "14.    A:   |XXL----------    B:   |XL-L-M-------    C:   |S------------\n",
      "15.    A:   |XXL----------    B:   |XL-L-M-S-----    C:   |-------------\n",
      "16.    A:   |-------------    B:   |XL-L-M-S-----    C:   |XXL----------\n",
      "17.    A:   |S------------    B:   |XL-L-M-------    C:   |XXL----------\n",
      "18.    A:   |S------------    B:   |XL-L---------    C:   |XXL-M--------\n",
      "19.    A:   |-------------    B:   |XL-L---------    C:   |XXL-M-S------\n",
      "20.    A:   |L------------    B:   |XL-----------    C:   |XXL-M-S------\n",
      "21.    A:   |L------------    B:   |XL-S---------    C:   |XXL-M--------\n",
      "22.    A:   |L-M----------    B:   |XL-S---------    C:   |XXL----------\n",
      "23.    A:   |L-M-S--------    B:   |XL-----------    C:   |XXL----------\n",
      "24.    A:   |L-M-S--------    B:   |-------------    C:   |XXL-XL-------\n",
      "25.    A:   |L-M----------    B:   |-------------    C:   |XXL-XL-S-----\n",
      "26.    A:   |L------------    B:   |M------------    C:   |XXL-XL-S-----\n",
      "27.    A:   |L------------    B:   |M-S----------    C:   |XXL-XL-------\n",
      "28.    A:   |-------------    B:   |M-S----------    C:   |XXL-XL-L-----\n",
      "29.    A:   |S------------    B:   |M------------    C:   |XXL-XL-L-----\n",
      "30.    A:   |S------------    B:   |-------------    C:   |XXL-XL-L-M---\n",
      "31.    A:   |-------------    B:   |-------------    C:   |XXL-XL-L-M-S-\n"
     ]
    }
   ],
   "source": [
    "move_tower(base_tower.size(), base_tower,\n",
    "           targ_tower, aux_tower, hanoi_reg, towers)\n",
    "print(visual_hanoi(hanoi_reg))\n"
   ]
  },
  {
   "cell_type": "markdown",
   "metadata": {},
   "source": [
    "-----------------------"
   ]
  },
  {
   "cell_type": "markdown",
   "metadata": {},
   "source": [
    "# Task 3"
   ]
  },
  {
   "cell_type": "markdown",
   "metadata": {},
   "source": [
    "##### Hilbert curve"
   ]
  },
  {
   "cell_type": "markdown",
   "metadata": {},
   "source": [
    "-----------------------"
   ]
  },
  {
   "cell_type": "markdown",
   "metadata": {},
   "source": [
    "To draw a Hilbert curve I use a recursive algorithm. I also remember to normalize the size, changing the `lenght` in the first call."
   ]
  },
  {
   "cell_type": "code",
   "execution_count": 20,
   "metadata": {},
   "outputs": [],
   "source": [
    "def hilbert(n: int, angle: float, length: float, turtle: turtle.Turtle, first: bool = False):\n",
    "    \"\"\"Draw Hilbert curve with given parameters.\n",
    "\n",
    "    Args:\n",
    "        n (int): Degree of detail.\n",
    "        angle (float): Angle to rotate abotu (-90 or 90 deg).\n",
    "        length (float): Length of a general square side.\n",
    "        turtle (turtle.Turtle): Drawing turtle (artist).\n",
    "        first (bool, optional): Flag determining if it is the first call. Defaults to False.\n",
    "    \"\"\"\n",
    "    if first:\n",
    "        length = length / (2**(n) - 1)\n",
    "\n",
    "    if n != 0:\n",
    "        turtle.right(angle)\n",
    "        hilbert(n-1, -angle, length, turtle)\n",
    "        turtle.forward(length)\n",
    "        turtle.left(angle)\n",
    "        hilbert(n-1, angle, length, turtle)\n",
    "        turtle.forward(length)\n",
    "        hilbert(n-1, angle, length, turtle)\n",
    "        turtle.left(angle)\n",
    "        turtle.forward(length)\n",
    "        hilbert(n-1, -angle, length, turtle)\n",
    "        turtle.right(angle)\n"
   ]
  },
  {
   "cell_type": "markdown",
   "metadata": {},
   "source": [
    "Having set a turtle in the right place (to have a centered image) I draw the shape using the algorithm above."
   ]
  },
  {
   "cell_type": "code",
   "execution_count": 21,
   "metadata": {},
   "outputs": [],
   "source": [
    "def draw_hilbert(n: int, length: float):\n",
    "    \"\"\"Create a turtle and perform the whole drawing process for Hilbert curve (centering the image).\n",
    "\n",
    "    Args:\n",
    "        n (int): Degree of detail.\n",
    "        length (float): Length of a general square side.\n",
    "    \"\"\"\n",
    "    my_turtle = turtle.Turtle()\n",
    "    my_turtle.speed(20)\n",
    "    my_turtle.color(\"blue\")\n",
    "    my_turtle.pensize(2)\n",
    "    my_turtle.penup()\n",
    "    my_turtle.setposition(-length / 2, length / 2)\n",
    "    my_turtle.pendown()\n",
    "\n",
    "    hilbert(n, 90, length, my_turtle, True)\n",
    "    turtle.done()\n"
   ]
  },
  {
   "cell_type": "markdown",
   "metadata": {},
   "source": [
    "The final effect is:"
   ]
  },
  {
   "cell_type": "markdown",
   "metadata": {},
   "source": [
    "<font color='red' size='4'>**Warning!** Sometimes there is a need to repeat the call of the function below (due to the issues with the library).</font>"
   ]
  },
  {
   "cell_type": "code",
   "execution_count": 22,
   "metadata": {},
   "outputs": [],
   "source": [
    "draw_hilbert(4, 400)\n"
   ]
  },
  {
   "cell_type": "markdown",
   "metadata": {},
   "source": [
    "-----------------------"
   ]
  },
  {
   "cell_type": "markdown",
   "metadata": {},
   "source": [
    "# Task 4"
   ]
  },
  {
   "cell_type": "markdown",
   "metadata": {},
   "source": [
    "##### Koch snowflake"
   ]
  },
  {
   "cell_type": "markdown",
   "metadata": {},
   "source": [
    "-----------------------"
   ]
  },
  {
   "cell_type": "markdown",
   "metadata": {},
   "source": [
    "To draw one Koch curve I use a recursive algorithm. I also remember to normalize the size, changing the `lenght` in the first call."
   ]
  },
  {
   "cell_type": "code",
   "execution_count": 24,
   "metadata": {},
   "outputs": [],
   "source": [
    "def koch(n: int, length: float, turtle: turtle.Turtle, first: bool = False):\n",
    "    \"\"\"Draw Koch curve with given parameters.\n",
    "\n",
    "        n (int): Degree of detail.\n",
    "        length (float): Length of a general square side.\n",
    "        turtle (turtle.Turtle): Drawing turtle (artist).\n",
    "        first (bool, optional): Flag determining if it is the first call. Defaults to False.\n",
    "    \"\"\"\n",
    "    if first:\n",
    "        length = length / (3**(n-1))\n",
    "\n",
    "    if n == 1:\n",
    "        turtle.forward(length)\n",
    "    else:\n",
    "        koch(n-1, length, turtle)\n",
    "        turtle.left(60)\n",
    "        koch(n-1, length, turtle)\n",
    "        turtle.right(120)\n",
    "        koch(n-1, length, turtle)\n",
    "        turtle.left(60)\n",
    "        koch(n-1, length, turtle)\n"
   ]
  },
  {
   "cell_type": "markdown",
   "metadata": {},
   "source": [
    "Whole snowflake consists of three Koch curves."
   ]
  },
  {
   "cell_type": "code",
   "execution_count": 25,
   "metadata": {},
   "outputs": [],
   "source": [
    "def snowflake(n: int, length: float, turtle: turtle.Turtle):\n",
    "    \"\"\"Draw Koch snowflake with given parameters.\n",
    "\n",
    "    Args:\n",
    "        n (int): Degree of detail.\n",
    "        length (float): Length of a general square side.\n",
    "        turtle (turtle.Turtle): Drawing turtle (artist).\n",
    "    \"\"\"\n",
    "    for _ in range(3):\n",
    "        koch(n, length, turtle, True)\n",
    "        turtle.right(120)\n"
   ]
  },
  {
   "cell_type": "markdown",
   "metadata": {},
   "source": [
    "Having set a turtle in the right place (to have a centered image) I draw the shape using the algorithms above."
   ]
  },
  {
   "cell_type": "code",
   "execution_count": 26,
   "metadata": {},
   "outputs": [],
   "source": [
    "def draw_koch(n: int, length: float):\n",
    "    \"\"\"Create a turtle and perform the whole drawing process for Koch snowflake (centering the image).\n",
    "\n",
    "    Args:\n",
    "        n (int): Degree of detail.\n",
    "        length (float): Length of a general square side.\n",
    "    \"\"\"\n",
    "    my_turtle = turtle.Turtle()\n",
    "    my_turtle.speed(20)\n",
    "    my_turtle.color(\"blue\")\n",
    "    my_turtle.pensize(2)\n",
    "    my_turtle.penup()\n",
    "    my_turtle.setposition(-length / 2, length / 3)\n",
    "    my_turtle.pendown()\n",
    "\n",
    "    snowflake(n, length, my_turtle)\n",
    "    turtle.done()"
   ]
  },
  {
   "cell_type": "markdown",
   "metadata": {},
   "source": [
    "The final effect is:"
   ]
  },
  {
   "cell_type": "markdown",
   "metadata": {},
   "source": [
    "<font color='red' size='4'>**Warning!** Sometimes there is a need to repeat the call of the function below (due to the issues with the library).</font>"
   ]
  },
  {
   "cell_type": "code",
   "execution_count": 28,
   "metadata": {},
   "outputs": [],
   "source": [
    "draw_koch(5, 400)"
   ]
  },
  {
   "cell_type": "markdown",
   "metadata": {},
   "source": [
    "-----------------------"
   ]
  }
 ],
 "metadata": {
  "kernelspec": {
   "display_name": "Python 3 (ipykernel)",
   "language": "python",
   "name": "python3"
  },
  "language_info": {
   "codemirror_mode": {
    "name": "ipython",
    "version": 3
   },
   "file_extension": ".py",
   "mimetype": "text/x-python",
   "name": "python",
   "nbconvert_exporter": "python",
   "pygments_lexer": "ipython3",
   "version": "3.9.7"
  }
 },
 "nbformat": 4,
 "nbformat_minor": 4
}
