{
 "cells": [
  {
   "cell_type": "markdown",
   "id": "03660741-a425-4e95-8fc8-34c98ff880fa",
   "metadata": {},
   "source": [
    "**List 7** - Algorithms and Data Structures 2021/22, WUST - F13\n",
    "\n",
    "*Author:* Mateusz Machaj, 262288\n",
    "\n",
    "*Date:* 24.01.2022"
   ]
  },
  {
   "cell_type": "markdown",
   "id": "884c995e-1b97-4848-bd8a-719c0b593df5",
   "metadata": {
    "tags": []
   },
   "source": [
    "# Import"
   ]
  },
  {
   "cell_type": "markdown",
   "id": "d5994cb1-b6fe-46e8-a3cf-fed2bd7679a9",
   "metadata": {},
   "source": [
    "There are the imports I use. `graphviz` have to be installed both in Python (`pip install graphviz`) and on OS (`winget install graphviz` for Windows), with added executable file to the *PATH*."
   ]
  },
  {
   "cell_type": "code",
   "execution_count": 1,
   "id": "c166f461-197a-4392-bf5b-0283222931d2",
   "metadata": {},
   "outputs": [],
   "source": [
    "from __future__ import annotations\n",
    "\n",
    "import queue\n",
    "import sys\n",
    "import warnings\n",
    "from typing import Any, List, Optional, Set, Tuple, Union\n",
    "\n",
    "# grapviz have to be installed in Program Files and added to the PATH\n",
    "import graphviz"
   ]
  },
  {
   "cell_type": "markdown",
   "id": "56c7d84d-d145-4ddc-a2ef-d46d71c63c77",
   "metadata": {},
   "source": [
    "The following lines are to change the warning message format and skip the traceback info."
   ]
  },
  {
   "cell_type": "code",
   "execution_count": 2,
   "id": "055c3de3-b119-438b-85a9-6084540be1ba",
   "metadata": {},
   "outputs": [],
   "source": [
    "def no_traceback_warning(\n",
    "    message, category, filename=None, lineno=None, file=None, line=None\n",
    "):\n",
    "    return \"{cat}: {mess}\\n\".format(cat=category.__name__, mess=message)\n",
    "\n",
    "\n",
    "warnings.formatwarning = no_traceback_warning"
   ]
  },
  {
   "cell_type": "markdown",
   "id": "37b08130-f8c2-4b96-a022-3deac7501841",
   "metadata": {},
   "source": [
    "-----------------------"
   ]
  },
  {
   "cell_type": "markdown",
   "id": "cfc44c08-925d-460e-9ba3-cac16a3e4ebb",
   "metadata": {
    "tags": []
   },
   "source": [
    "# Task 1"
   ]
  },
  {
   "cell_type": "markdown",
   "id": "c16b2c9d-ec54-4028-b350-7a972f54499a",
   "metadata": {
    "tags": []
   },
   "source": [
    "_**Graph class implementation**_"
   ]
  },
  {
   "cell_type": "markdown",
   "id": "756ae7c3-1b11-452a-ac3e-e80ad5befc86",
   "metadata": {},
   "source": [
    "-----------------------"
   ]
  },
  {
   "cell_type": "markdown",
   "id": "c895d1ac-1892-45c1-90a4-a7afbeb56abc",
   "metadata": {},
   "source": [
    "The basic graph with the methods from the lecture [[1]](#ref1) is consists of the nodes. These classes are partially copied from the referenced lecture. However, there are some changes and I have added node and edge deletion. There is also an option to create **directed** or **undirected** graph.\n",
    "\n",
    "In the second one we cannot connect one node with itself (by edge), because that is the rule from definition. The first option allows it though.\n",
    "\n",
    "In my implementation adding a node with the key that already exist does not affect the structure. Nothing changes. Similarly, adding the existing edge only updates its weight. "
   ]
  },
  {
   "cell_type": "markdown",
   "id": "5cadb331-5ca9-4480-b6b8-44ef084ad441",
   "metadata": {},
   "source": [
    "## Node"
   ]
  },
  {
   "cell_type": "markdown",
   "id": "5d63bbc1-0e2c-4228-bab4-ef3c45c33dec",
   "metadata": {},
   "source": [
    "I begin with creating the node class used later in the graph. It will contain also the features required for searching algorithms in the next tasks."
   ]
  },
  {
   "cell_type": "markdown",
   "id": "c06bc0b1-9224-4a0d-90f1-7848ac7be063",
   "metadata": {},
   "source": [
    "I do not use unncessary `get` and `set` methods for attributes, because the code is written with respect to Python conventions."
   ]
  },
  {
   "cell_type": "code",
   "execution_count": 66,
   "id": "1b151235-a86f-4b9d-9277-f81bb2367fc9",
   "metadata": {},
   "outputs": [],
   "source": [
    "class Node:\n",
    "    def __init__(self, key: Union[int, float, str, chr, bool]):\n",
    "        self.key = key\n",
    "        self.neighbors = dict()\n",
    "        self.neighbor_for = set()\n",
    "\n",
    "        self.dist = sys.maxsize  # \"infinity\"\n",
    "        self.color = \"w\"\n",
    "        self.pred = None\n",
    "        self.disc = 0  #########################################################\n",
    "        self.fin = 0\n",
    "\n",
    "    def reset(self):\n",
    "        self.dist = sys.maxsize\n",
    "        self.color = \"w\"\n",
    "        self.pred = None\n",
    "        self.disc = 0  #########################################################\n",
    "        self.fin = 0\n",
    "\n",
    "    def add_neighbor(self, neighbor: Node, weight: float = 0):\n",
    "        self.neighbors[neighbor] = weight\n",
    "        neighbor.neighbor_for.add(self)\n",
    "\n",
    "    def rem_neighbor(self, neighbor: Node) -> Optional[Node]:\n",
    "        popped = self.neighbors.pop(neighbor, None)\n",
    "        if popped is None:\n",
    "            return False\n",
    "        else:\n",
    "            neighbor.neighbor_for.remove(self)\n",
    "            return True\n",
    "\n",
    "    def get_weight(self, neighbor: Node) -> float:\n",
    "        try:\n",
    "            weight = self.neighbors[neighbor]\n",
    "        except KeyError as key:\n",
    "            raise Exception(\n",
    "                'Node \"{key}\" is not a neighbor of this node.'.format(key=key)\n",
    "            )\n",
    "        else:\n",
    "            return weight\n",
    "\n",
    "    def __str__(self):\n",
    "        return (\n",
    "            str(self.key)\n",
    "            + \";color \"\n",
    "            + self.color\n",
    "            + \";discovery \"\n",
    "            + str(self.disc)\n",
    "            + \";finish \"\n",
    "            + str(self.fin)\n",
    "            + \";distance \"\n",
    "            + str(self.dist)\n",
    "            + \";predecessor \\n\\t[\"\n",
    "            + str(self.pred)\n",
    "            + \"]\\n\"\n",
    "        )"
   ]
  },
  {
   "cell_type": "markdown",
   "id": "2180d17f-b28b-4c64-adf1-2d9ae5170313",
   "metadata": {},
   "source": [
    "## Graph"
   ]
  },
  {
   "cell_type": "markdown",
   "id": "c9890399-60a0-4725-9899-9fa75e9e2fb7",
   "metadata": {},
   "source": [
    "The following class is only the basic graph version supporting:\n",
    "\n",
    "- **directed** and **undirected** graph versions;\n",
    "- **node** and **edge** addition - as one element or by a list,\n",
    "- **node** and **edge** deletion - as one element or by a list,\n",
    "- getting **nodes** and **edges** listed,\n",
    "- getting **node's** object by key,\n",
    "- `in` operator for node keys,\n",
    "- checking the size (number of nodes and number of edges)\n",
    "- iteration.\n",
    "\n",
    "Each edge is weighted (in case the weight is not given it defaults to 0). Nodes can have alphaumeric or string keys but do not contain additional value data. "
   ]
  },
  {
   "cell_type": "code",
   "execution_count": 87,
   "id": "a6c446b5-e3fe-4aae-aeee-fe7fcef956c9",
   "metadata": {},
   "outputs": [],
   "source": [
    "class GraphBasic:\n",
    "    def __init__(self, directed: bool = True):\n",
    "        self.nodes = dict()\n",
    "        self.node_count = 0\n",
    "        self.edge_count = 0\n",
    "        self.directed = directed\n",
    "        \n",
    "        self.time = 0\n",
    "\n",
    "    def __contains__(self, key: Any) -> bool:\n",
    "        return key in self.nodes\n",
    "\n",
    "    def get_node(self, key: float) -> Optional[Node]:\n",
    "        try:\n",
    "            des_node = self.nodes[key]\n",
    "        except KeyError:\n",
    "            return None\n",
    "        else:\n",
    "            return des_node\n",
    "\n",
    "    def get_nodes(self) -> Set[Any]:\n",
    "        return set(self.nodes.keys())\n",
    "\n",
    "    def get_nodes_obj(self) -> Set[Node]:\n",
    "        return set(self.nodes.values())\n",
    "\n",
    "    def get_edges(\n",
    "        self,\n",
    "    ) -> Union[Set[Tuple[Any, Any, float]], Set[Tuple[Set[Any, Any], float]]]:\n",
    "        edge_set = set()\n",
    "\n",
    "        def edge_tup_repr(from_key, to_info):\n",
    "            if self.directed:\n",
    "                return (from_key, to_info[0].key), to_info[1]\n",
    "            else:\n",
    "                return frozenset({from_key, to_info[0].key}), to_info[1]\n",
    "\n",
    "        for key, node in self.nodes.items():\n",
    "            edges_pr = map(\n",
    "                lambda to_info: edge_tup_repr(key, to_info), node.neighbors.items()\n",
    "            )\n",
    "            new_edges = set(edges_pr)\n",
    "            edge_set.update(new_edges)\n",
    "\n",
    "        return edge_set\n",
    "\n",
    "    def add_node(self, key: Union[int, float, str, chr, bool]) -> Node:\n",
    "        if key not in self:\n",
    "            new_node = Node(key)\n",
    "            self.nodes[key] = new_node\n",
    "            self.node_count += 1\n",
    "            return new_node\n",
    "        else:\n",
    "            warnings.warn(\n",
    "                'Key \"{key}\" was already in the graph. Foregoing neighbors are keeped.'.format(\n",
    "                    key=key\n",
    "                ),\n",
    "                category=DeprecationWarning,\n",
    "            )\n",
    "            return self.nodes[key]\n",
    "\n",
    "    def add_edge(\n",
    "        self,\n",
    "        from_key: Union[int, float, str, chr, bool],\n",
    "        to_key: Union[int, float, str, chr, bool],\n",
    "        weight: float = 0,\n",
    "    ):\n",
    "        if not self.directed and from_key == to_key:\n",
    "            raise ValueError(\n",
    "                'Creating \"{key}\"-\"{key}\" edge failed. Undirected graph cannot contain self connecting nodes.'.format(\n",
    "                    key=from_key\n",
    "                )\n",
    "            )\n",
    "\n",
    "        for key in [from_key, to_key]:\n",
    "            if key not in self:\n",
    "                self.add_node(key)\n",
    "\n",
    "        from_node = self.nodes[from_key]\n",
    "        to_node = self.nodes[to_key]\n",
    "        if not (to_node in from_node.neighbors):\n",
    "            self.edge_count += 1\n",
    "        from_node.add_neighbor(to_node, weight)\n",
    "\n",
    "        if not self.directed:\n",
    "            to_node.add_neighbor(from_node, weight)\n",
    "\n",
    "    def del_node(self, key: Union[int, float, str, chr, bool]):\n",
    "        curr_node = self.get_node(key)\n",
    "        if curr_node is None:\n",
    "            warnings.warn(\n",
    "                'Key \"{key}\" is not in the graph. This node was not deleted.'.format(\n",
    "                    key=key\n",
    "                ),\n",
    "                category=DeprecationWarning,\n",
    "            )\n",
    "        else:\n",
    "            con_nodes = curr_node.neighbor_for.copy()\n",
    "            for node in con_nodes:\n",
    "                node.rem_neighbor(curr_node)\n",
    "            self.nodes.pop(key)\n",
    "            self.node_count -= 1\n",
    "\n",
    "    def del_edge(\n",
    "        self,\n",
    "        from_key: Union[int, float, str, chr, bool],\n",
    "        to_key: Union[int, float, str, chr, bool],\n",
    "    ):\n",
    "        nodes_exist = True\n",
    "        edge_exist = True\n",
    "        for key in [from_key, to_key]:\n",
    "            if key not in self:\n",
    "                nodes_exist = False\n",
    "                warnings.warn(\n",
    "                    'Key \"{key}\" is not in the graph.'.format(key=key),\n",
    "                    category=DeprecationWarning,\n",
    "                )\n",
    "        if nodes_exist:\n",
    "            from_node = self.nodes[from_key]\n",
    "            to_node = self.nodes[to_key]\n",
    "            success = from_node.rem_neighbor(to_node)\n",
    "            self.edge_count -= 1\n",
    "            if not self.directed:\n",
    "                to_node.rem_neighbor(from_node)\n",
    "            if success:\n",
    "                edge_exist = False\n",
    "        if not nodes_exist or not edge_exist:\n",
    "\n",
    "            def relat_symb():\n",
    "                return \"->\" if self.directed else \"<->\"\n",
    "\n",
    "            warnings.warn(\n",
    "                'Nonexistent \"{fr}\"{rel_s}\"{to}\" edge was not deleted.'.format(\n",
    "                    fr=from_key, to=to_key, rel_s=relat_symb()\n",
    "                ),\n",
    "                category=DeprecationWarning,\n",
    "            )\n",
    "\n",
    "    def add_nodes(self, key_list: List[Union[int, float, str, chr, bool]]):\n",
    "        for key in key_list:\n",
    "            self.add_node(key)\n",
    "\n",
    "    def add_edges(\n",
    "        self,\n",
    "        edge_list: List[\n",
    "            Tuple[\n",
    "                Union[int, float, str, chr, bool],\n",
    "                Union[int, float, str, chr, bool],\n",
    "                float,\n",
    "            ]\n",
    "        ],\n",
    "    ):\n",
    "        for edge in edge_list:\n",
    "            self.add_edge(*edge)\n",
    "\n",
    "    def del_edges(\n",
    "        self,\n",
    "        edge_list: List[\n",
    "            Tuple[\n",
    "                Union[int, float, str, chr, bool],\n",
    "                Union[int, float, str, chr, bool],\n",
    "            ]\n",
    "        ],\n",
    "    ):\n",
    "        for edge in edge_list:\n",
    "            self.del_edge(*edge)\n",
    "\n",
    "    def del_nodes(self, key_list: List[Union[int, float, str, chr, bool]]):\n",
    "        for key in key_list:\n",
    "            self.del_node(key)\n",
    "\n",
    "    def size(self):\n",
    "        return {\"nodes\": self.node_count, \"edges\": self.edge_count}\n",
    "\n",
    "    def __iter__(self):\n",
    "        return iter(self.nodes.values())"
   ]
  },
  {
   "cell_type": "markdown",
   "id": "08fef11c-2c16-4896-9712-81bb814fd4c8",
   "metadata": {},
   "source": [
    "## Presentation"
   ]
  },
  {
   "cell_type": "markdown",
   "id": "75037480-9757-4ba8-9f20-77356a554430",
   "metadata": {},
   "source": [
    "All the features are shown in the next task, because of visualization available."
   ]
  },
  {
   "cell_type": "markdown",
   "id": "d7610415-73f6-4e20-af84-756b9697d0b5",
   "metadata": {},
   "source": [
    "-----------------------"
   ]
  },
  {
   "cell_type": "markdown",
   "id": "8b015254-bddd-467a-92ae-71ce3fd5e0c7",
   "metadata": {
    "tags": []
   },
   "source": [
    "# Task 2"
   ]
  },
  {
   "cell_type": "markdown",
   "id": "b731e41a-279e-4c76-a1b7-9a9d20e6f5b4",
   "metadata": {
    "tags": []
   },
   "source": [
    "_**Graph visualisation in \"dot\"**_"
   ]
  },
  {
   "cell_type": "markdown",
   "id": "39a57426-b109-461d-98d4-4e0e2162317b",
   "metadata": {},
   "source": [
    "-----------------------"
   ]
  },
  {
   "cell_type": "markdown",
   "id": "9f2167a2-54b6-4404-8789-1db3ee337517",
   "metadata": {},
   "source": [
    "The only thing there is the visualization method added. I use `graphviz` library and `dot` language as it was given."
   ]
  },
  {
   "cell_type": "markdown",
   "id": "ab18372e-ae45-40f8-a2c8-dc7ea760bdc9",
   "metadata": {},
   "source": [
    "## Enhanced graph class "
   ]
  },
  {
   "cell_type": "code",
   "execution_count": 88,
   "id": "423cc482-1402-4853-9a75-7e8675c5f1d1",
   "metadata": {},
   "outputs": [],
   "source": [
    "class GraphVis(GraphBasic):\n",
    "    def visualize(self) -> Union[graphviz.graphs.Digraph, graphviz.graphs.Graph]:\n",
    "        if self.directed:\n",
    "            dot = graphviz.Digraph()\n",
    "        else:\n",
    "            dot = graphviz.Graph()\n",
    "        dot.attr(\"node\", style=\"filled\", fillcolor=\"lightblue2\")\n",
    "        for key in self.get_nodes():\n",
    "            dot.node(str(key))\n",
    "        for node_keys, weight in self.get_edges():\n",
    "            from_node, to_node = list(node_keys)\n",
    "            edge_data = list(map(str, [from_node, to_node, weight]))\n",
    "            dot.edge(*edge_data)\n",
    "\n",
    "        return dot"
   ]
  },
  {
   "cell_type": "markdown",
   "id": "a0ad991c-a65d-482f-982f-902c24ed3299",
   "metadata": {},
   "source": [
    "-----------------------"
   ]
  },
  {
   "cell_type": "markdown",
   "id": "eff7a0db-4dfc-4775-8dfa-4208f097e087",
   "metadata": {
    "tags": []
   },
   "source": [
    "# Task 3"
   ]
  },
  {
   "cell_type": "markdown",
   "id": "2fabf55e-dff2-492d-9ae9-9f181764e374",
   "metadata": {
    "tags": []
   },
   "source": [
    "_**Graph searching methods - BFS and DFS**_"
   ]
  },
  {
   "cell_type": "markdown",
   "id": "e7814697-3ab3-4f62-89fd-5b6b5372fce9",
   "metadata": {},
   "source": [
    "-----------------------"
   ]
  },
  {
   "cell_type": "code",
   "execution_count": 129,
   "id": "35c1ca7e-53b1-4cf6-8251-eca04b3e45b2",
   "metadata": {},
   "outputs": [],
   "source": [
    "class Graph(GraphVis):\n",
    "    def _reset_hdata(self):\n",
    "        self.time = 0\n",
    "        for node in self.get_nodes_obj():\n",
    "            node.reset()\n",
    "\n",
    "    def search_bfs(self, start_key: key):\n",
    "        start_node = self.get_node(start_key)\n",
    "        if start_key is None:\n",
    "            raise ValueError('Key \"{key}\" is not in the graph.'.format(key=start_key))\n",
    "\n",
    "        start_node.dist = 0\n",
    "        bfs_queue = queue.SimpleQueue()\n",
    "        bfs_queue.put_nowait(start_node)\n",
    "        stack = []\n",
    "        \n",
    "        while not bfs_queue.empty():\n",
    "            curr_node = bfs_queue.get_nowait()\n",
    "            # white_neihgs = 0\n",
    "            for neigh_node in curr_node.neighbors:\n",
    "                if neigh_node.color == \"w\":\n",
    "                    neigh_node.color = \"g\"\n",
    "                    neigh_node.dist = curr_node.dist + 1\n",
    "                    neigh_node.pred = curr_node\n",
    "                    bfs_queue.put_nowait(neigh_node)\n",
    "                    # white_neihgs += 1\n",
    "            curr_node.color = \"b\"\n",
    "            # if white_neihgs:\n",
    "            #     stack.append(curr_node)\n",
    "            # else:\n",
    "            #     curr_node.fin = self.time\n",
    "            #     self.time += 1\n",
    "            # white_neihgs = 0\n",
    "            \n",
    "\n",
    "    def whites(self):\n",
    "        white_nodes = []\n",
    "        for node in self.get_nodes_obj():\n",
    "            if node.color == \"w\":\n",
    "                white_nodes.append(node)\n",
    "        return white_nodes\n",
    "\n",
    "    # def topo(self):\n",
    "    #     visit_times = dict()\n",
    "    #     while True:\n",
    "    #         white_nodes = self.whites()\n",
    "    #         if not white_nodes:\n",
    "    #             break\n",
    "    #         self.search_bfs(white_nodes[0].key)\n",
    "    #     for node in self.get_nodes_obj():\n",
    "    #         visit_times[node.fin] = node.key\n",
    "    #     return sorted(visit_times.items(), reverse=True)"
   ]
  },
  {
   "cell_type": "code",
   "execution_count": 130,
   "id": "c2724574-a9fc-45b8-ab4e-34ab7bcdee9f",
   "metadata": {},
   "outputs": [],
   "source": [
    "a = Graph()\n",
    "a.add_edges([(\"a\", \"c\", 3), (\"a\", \"d\", 5), (\"b\", \"a\", 1)])\n",
    "a.add_edges([(\"c\", \"e\"), (\"e\", 1.4523523523, 4), (\"e\", \"g\", 5)])"
   ]
  },
  {
   "cell_type": "code",
   "execution_count": 131,
   "id": "b3c97d1f-52f8-4431-a680-2cf0ebe76be1",
   "metadata": {},
   "outputs": [
    {
     "data": {
      "image/svg+xml": [
       "<?xml version=\"1.0\" encoding=\"UTF-8\" standalone=\"no\"?>\n",
       "<!DOCTYPE svg PUBLIC \"-//W3C//DTD SVG 1.1//EN\"\n",
       " \"http://www.w3.org/Graphics/SVG/1.1/DTD/svg11.dtd\">\n",
       "<!-- Generated by graphviz version 2.50.0 (20211204.2007)\n",
       " -->\n",
       "<!-- Pages: 1 -->\n",
       "<svg width=\"204pt\" height=\"392pt\"\n",
       " viewBox=\"0.00 0.00 203.74 392.00\" xmlns=\"http://www.w3.org/2000/svg\" xmlns:xlink=\"http://www.w3.org/1999/xlink\">\n",
       "<g id=\"graph0\" class=\"graph\" transform=\"scale(1 1) rotate(0) translate(4 388)\">\n",
       "<polygon fill=\"white\" stroke=\"transparent\" points=\"-4,4 -4,-388 199.74,-388 199.74,4 -4,4\"/>\n",
       "<!-- d -->\n",
       "<g id=\"node1\" class=\"node\">\n",
       "<title>d</title>\n",
       "<ellipse fill=\"#b2dfee\" stroke=\"black\" cx=\"42.74\" cy=\"-192\" rx=\"27\" ry=\"18\"/>\n",
       "<text text-anchor=\"middle\" x=\"42.74\" y=\"-188.3\" font-family=\"Times New Roman,serif\" font-size=\"14.00\">d</text>\n",
       "</g>\n",
       "<!-- 1.4523523523 -->\n",
       "<g id=\"node2\" class=\"node\">\n",
       "<title>1.4523523523</title>\n",
       "<ellipse fill=\"#b2dfee\" stroke=\"black\" cx=\"61.74\" cy=\"-18\" rx=\"61.99\" ry=\"18\"/>\n",
       "<text text-anchor=\"middle\" x=\"61.74\" y=\"-14.3\" font-family=\"Times New Roman,serif\" font-size=\"14.00\">1.4523523523</text>\n",
       "</g>\n",
       "<!-- a -->\n",
       "<g id=\"node3\" class=\"node\">\n",
       "<title>a</title>\n",
       "<ellipse fill=\"#b2dfee\" stroke=\"black\" cx=\"57.74\" cy=\"-279\" rx=\"27\" ry=\"18\"/>\n",
       "<text text-anchor=\"middle\" x=\"57.74\" y=\"-275.3\" font-family=\"Times New Roman,serif\" font-size=\"14.00\">a</text>\n",
       "</g>\n",
       "<!-- a&#45;&gt;d -->\n",
       "<g id=\"edge2\" class=\"edge\">\n",
       "<title>a&#45;&gt;d</title>\n",
       "<path fill=\"none\" stroke=\"black\" d=\"M54.71,-260.8C52.66,-249.16 49.9,-233.55 47.55,-220.24\"/>\n",
       "<polygon fill=\"black\" stroke=\"black\" points=\"50.96,-219.41 45.78,-210.18 44.07,-220.63 50.96,-219.41\"/>\n",
       "<text text-anchor=\"middle\" x=\"55.24\" y=\"-231.8\" font-family=\"Times New Roman,serif\" font-size=\"14.00\">5</text>\n",
       "</g>\n",
       "<!-- c -->\n",
       "<g id=\"node5\" class=\"node\">\n",
       "<title>c</title>\n",
       "<ellipse fill=\"#b2dfee\" stroke=\"black\" cx=\"114.74\" cy=\"-192\" rx=\"27\" ry=\"18\"/>\n",
       "<text text-anchor=\"middle\" x=\"114.74\" y=\"-188.3\" font-family=\"Times New Roman,serif\" font-size=\"14.00\">c</text>\n",
       "</g>\n",
       "<!-- a&#45;&gt;c -->\n",
       "<g id=\"edge6\" class=\"edge\">\n",
       "<title>a&#45;&gt;c</title>\n",
       "<path fill=\"none\" stroke=\"black\" d=\"M68.47,-262.01C76.96,-249.35 88.96,-231.45 98.61,-217.06\"/>\n",
       "<polygon fill=\"black\" stroke=\"black\" points=\"101.6,-218.88 104.26,-208.63 95.79,-214.99 101.6,-218.88\"/>\n",
       "<text text-anchor=\"middle\" x=\"93.24\" y=\"-231.8\" font-family=\"Times New Roman,serif\" font-size=\"14.00\">3</text>\n",
       "</g>\n",
       "<!-- e -->\n",
       "<g id=\"node4\" class=\"node\">\n",
       "<title>e</title>\n",
       "<ellipse fill=\"#b2dfee\" stroke=\"black\" cx=\"114.74\" cy=\"-105\" rx=\"27\" ry=\"18\"/>\n",
       "<text text-anchor=\"middle\" x=\"114.74\" y=\"-101.3\" font-family=\"Times New Roman,serif\" font-size=\"14.00\">e</text>\n",
       "</g>\n",
       "<!-- e&#45;&gt;1.4523523523 -->\n",
       "<g id=\"edge1\" class=\"edge\">\n",
       "<title>e&#45;&gt;1.4523523523</title>\n",
       "<path fill=\"none\" stroke=\"black\" d=\"M104.78,-88.01C97.15,-75.78 86.48,-58.68 77.68,-44.56\"/>\n",
       "<polygon fill=\"black\" stroke=\"black\" points=\"80.47,-42.42 72.21,-35.79 74.53,-46.13 80.47,-42.42\"/>\n",
       "<text text-anchor=\"middle\" x=\"95.24\" y=\"-57.8\" font-family=\"Times New Roman,serif\" font-size=\"14.00\">4</text>\n",
       "</g>\n",
       "<!-- g -->\n",
       "<g id=\"node6\" class=\"node\">\n",
       "<title>g</title>\n",
       "<ellipse fill=\"#b2dfee\" stroke=\"black\" cx=\"168.74\" cy=\"-18\" rx=\"27\" ry=\"18\"/>\n",
       "<text text-anchor=\"middle\" x=\"168.74\" y=\"-14.3\" font-family=\"Times New Roman,serif\" font-size=\"14.00\">g</text>\n",
       "</g>\n",
       "<!-- e&#45;&gt;g -->\n",
       "<g id=\"edge3\" class=\"edge\">\n",
       "<title>e&#45;&gt;g</title>\n",
       "<path fill=\"none\" stroke=\"black\" d=\"M124.9,-88.01C132.82,-75.55 143.96,-58.01 153.03,-43.74\"/>\n",
       "<polygon fill=\"black\" stroke=\"black\" points=\"156.22,-45.23 158.63,-34.92 150.32,-41.48 156.22,-45.23\"/>\n",
       "<text text-anchor=\"middle\" x=\"149.24\" y=\"-57.8\" font-family=\"Times New Roman,serif\" font-size=\"14.00\">5</text>\n",
       "</g>\n",
       "<!-- c&#45;&gt;e -->\n",
       "<g id=\"edge4\" class=\"edge\">\n",
       "<title>c&#45;&gt;e</title>\n",
       "<path fill=\"none\" stroke=\"black\" d=\"M114.74,-173.8C114.74,-162.16 114.74,-146.55 114.74,-133.24\"/>\n",
       "<polygon fill=\"black\" stroke=\"black\" points=\"118.24,-133.18 114.74,-123.18 111.24,-133.18 118.24,-133.18\"/>\n",
       "<text text-anchor=\"middle\" x=\"118.24\" y=\"-144.8\" font-family=\"Times New Roman,serif\" font-size=\"14.00\">0</text>\n",
       "</g>\n",
       "<!-- b -->\n",
       "<g id=\"node7\" class=\"node\">\n",
       "<title>b</title>\n",
       "<ellipse fill=\"#b2dfee\" stroke=\"black\" cx=\"57.74\" cy=\"-366\" rx=\"27\" ry=\"18\"/>\n",
       "<text text-anchor=\"middle\" x=\"57.74\" y=\"-362.3\" font-family=\"Times New Roman,serif\" font-size=\"14.00\">b</text>\n",
       "</g>\n",
       "<!-- b&#45;&gt;a -->\n",
       "<g id=\"edge5\" class=\"edge\">\n",
       "<title>b&#45;&gt;a</title>\n",
       "<path fill=\"none\" stroke=\"black\" d=\"M57.74,-347.8C57.74,-336.16 57.74,-320.55 57.74,-307.24\"/>\n",
       "<polygon fill=\"black\" stroke=\"black\" points=\"61.24,-307.18 57.74,-297.18 54.24,-307.18 61.24,-307.18\"/>\n",
       "<text text-anchor=\"middle\" x=\"61.24\" y=\"-318.8\" font-family=\"Times New Roman,serif\" font-size=\"14.00\">1</text>\n",
       "</g>\n",
       "</g>\n",
       "</svg>\n"
      ],
      "text/plain": [
       "<graphviz.graphs.Digraph at 0x2254dd5eb50>"
      ]
     },
     "execution_count": 131,
     "metadata": {},
     "output_type": "execute_result"
    }
   ],
   "source": [
    "a.visualize()"
   ]
  },
  {
   "cell_type": "code",
   "execution_count": 132,
   "id": "3764e364-1574-4333-8160-4612e5bf8ce7",
   "metadata": {},
   "outputs": [
    {
     "data": {
      "text/plain": [
       "[(4, 'b'), (3, 'c'), (2, 1.4523523523), (1, 'd'), (0, 'a')]"
      ]
     },
     "execution_count": 132,
     "metadata": {},
     "output_type": "execute_result"
    }
   ],
   "source": [
    "a.topo()"
   ]
  },
  {
   "cell_type": "code",
   "execution_count": null,
   "id": "5f95ea4a-cd23-4d65-8cc3-0b48fa67f26b",
   "metadata": {},
   "outputs": [],
   "source": []
  },
  {
   "cell_type": "markdown",
   "id": "e50d0474-05e6-474f-9712-f2d2f495ce02",
   "metadata": {},
   "source": [
    "-----------------------"
   ]
  },
  {
   "cell_type": "markdown",
   "id": "cb71b7dd-f8d8-45e0-955b-8dde26640034",
   "metadata": {
    "tags": []
   },
   "source": [
    "# Task 4"
   ]
  },
  {
   "cell_type": "markdown",
   "id": "d664fb42-b4c8-442c-ae51-6363b9d80acb",
   "metadata": {
    "tags": []
   },
   "source": [
    "_**DFS features modification - topological sorting**_"
   ]
  },
  {
   "cell_type": "markdown",
   "id": "22b65e8d-ee44-4b71-ae19-e8b12a013a6c",
   "metadata": {},
   "source": [
    "-----------------------"
   ]
  },
  {
   "cell_type": "code",
   "execution_count": null,
   "id": "66cd03d3-c43e-4cac-9ed9-29eb8b2e8d71",
   "metadata": {},
   "outputs": [],
   "source": []
  },
  {
   "cell_type": "code",
   "execution_count": null,
   "id": "baac247b-d36e-4f39-9888-d2c86766e5d9",
   "metadata": {},
   "outputs": [],
   "source": []
  },
  {
   "cell_type": "markdown",
   "id": "08ade510-f5c3-462d-8d0e-3c8494f2924a",
   "metadata": {},
   "source": [
    "-----------------------"
   ]
  },
  {
   "cell_type": "markdown",
   "id": "48a61662-6d0f-4e32-84bf-5161e1af8016",
   "metadata": {
    "tags": []
   },
   "source": [
    "# Task 5"
   ]
  },
  {
   "cell_type": "markdown",
   "id": "33abfb33-9c67-45a9-a209-91577470785a",
   "metadata": {
    "tags": []
   },
   "source": [
    "_**Optimal paths between the nodes**_"
   ]
  },
  {
   "cell_type": "markdown",
   "id": "a0844299-e58e-44b2-9352-d8a8b3eb63a9",
   "metadata": {},
   "source": [
    "-----------------------"
   ]
  },
  {
   "cell_type": "code",
   "execution_count": null,
   "id": "a18c35e1-f7e7-4134-9bef-9ea2f445ba04",
   "metadata": {},
   "outputs": [],
   "source": []
  },
  {
   "cell_type": "code",
   "execution_count": null,
   "id": "ff3cdf27-a7ad-4907-8efe-da73aa726e8e",
   "metadata": {},
   "outputs": [],
   "source": []
  },
  {
   "cell_type": "markdown",
   "id": "175c3fc5-c4f2-4461-ab95-3091ddb094bd",
   "metadata": {},
   "source": [
    "-----------------------"
   ]
  },
  {
   "cell_type": "markdown",
   "id": "b325656b-a397-497a-b9dc-0584d7977b1a",
   "metadata": {
    "tags": []
   },
   "source": [
    "# Task 6"
   ]
  },
  {
   "cell_type": "markdown",
   "id": "a5505972-9d0a-4982-9212-cf1928c9072b",
   "metadata": {
    "tags": []
   },
   "source": [
    "_**\"Missionaries and cannibals\" problem**_"
   ]
  },
  {
   "cell_type": "markdown",
   "id": "68bae7a2-39e2-4892-b6e2-53dd45aac70e",
   "metadata": {},
   "source": [
    "-----------------------"
   ]
  },
  {
   "cell_type": "code",
   "execution_count": null,
   "id": "11268e7a-5108-4547-9753-a17cb2225b03",
   "metadata": {},
   "outputs": [],
   "source": []
  },
  {
   "cell_type": "code",
   "execution_count": null,
   "id": "435371c1-9f49-4213-8890-bae33526563b",
   "metadata": {},
   "outputs": [],
   "source": []
  },
  {
   "cell_type": "markdown",
   "id": "4396b051-5a8e-4ea8-82dd-02e82e0e5472",
   "metadata": {},
   "source": [
    "-----------------------"
   ]
  },
  {
   "cell_type": "markdown",
   "id": "df73b8bd-9ed7-4601-83bd-5e6258238a4a",
   "metadata": {
    "tags": []
   },
   "source": [
    "# Task 7"
   ]
  },
  {
   "cell_type": "markdown",
   "id": "144e88f2-c93f-4c86-b851-f043842045d1",
   "metadata": {
    "tags": []
   },
   "source": [
    "_**\"Water in buckets\" problem**_"
   ]
  },
  {
   "cell_type": "markdown",
   "id": "bf66c87a-133a-4e61-800b-38693eaf4cec",
   "metadata": {},
   "source": [
    "-----------------------"
   ]
  },
  {
   "cell_type": "code",
   "execution_count": null,
   "id": "7e89d703-b52e-457b-9ef7-b3b1b0d7e999",
   "metadata": {},
   "outputs": [],
   "source": []
  },
  {
   "cell_type": "code",
   "execution_count": null,
   "id": "3f681315-9253-4ae8-873e-459c1cafed27",
   "metadata": {},
   "outputs": [],
   "source": []
  },
  {
   "cell_type": "markdown",
   "id": "15a5748e-e1f2-4a12-8bee-bdd7e1de6f38",
   "metadata": {},
   "source": [
    "-----------------------"
   ]
  },
  {
   "cell_type": "markdown",
   "id": "6f4fc1d4-46e6-4178-9aa5-6501d4bd8a5f",
   "metadata": {
    "tags": []
   },
   "source": [
    "# References"
   ]
  },
  {
   "cell_type": "markdown",
   "id": "78cfe863-03ea-4a39-887e-5bdddeaaa94d",
   "metadata": {},
   "source": [
    "-----------------------"
   ]
  },
  {
   "cell_type": "markdown",
   "id": "eddf232a-4010-4bf8-9434-91db13c585a8",
   "metadata": {},
   "source": [
    "<a id=\"ref1\">[1]</a> J. Szwabiński, *Wykład 10 - Grafy i podstawowe algorytmy grafowe*,  *Algorytmy i struktury danych*, p. 2-16. [accessed: 24.01.2022]. Link: http://prac.im.pwr.wroc.pl/~szwabin/assets/algo/lectures/10.pdf."
   ]
  },
  {
   "cell_type": "markdown",
   "id": "ac797673-76c5-4fe5-a335-336ea5ef5a1a",
   "metadata": {},
   "source": [
    "-----------------------"
   ]
  }
 ],
 "metadata": {
  "kernelspec": {
   "display_name": "Python 3 (ipykernel)",
   "language": "python",
   "name": "python3"
  },
  "language_info": {
   "codemirror_mode": {
    "name": "ipython",
    "version": 3
   },
   "file_extension": ".py",
   "mimetype": "text/x-python",
   "name": "python",
   "nbconvert_exporter": "python",
   "pygments_lexer": "ipython3",
   "version": "3.9.7"
  }
 },
 "nbformat": 4,
 "nbformat_minor": 5
}
