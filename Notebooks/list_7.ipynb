{
 "cells": [
  {
   "cell_type": "markdown",
   "id": "03660741-a425-4e95-8fc8-34c98ff880fa",
   "metadata": {},
   "source": [
    "**List 7** - Algorithms and Data Structures 2021/22, WUST - F13\n",
    "\n",
    "*Author:* Mateusz Machaj, 262288\n",
    "\n",
    "*Date:* 24.01.2022"
   ]
  },
  {
   "cell_type": "markdown",
   "id": "884c995e-1b97-4848-bd8a-719c0b593df5",
   "metadata": {
    "tags": []
   },
   "source": [
    "# Import"
   ]
  },
  {
   "cell_type": "markdown",
   "id": "d5994cb1-b6fe-46e8-a3cf-fed2bd7679a9",
   "metadata": {},
   "source": [
    "There are the imports I use. `graphviz` have to be installed both in Python (`pip install graphviz`) and on OS (`winget install graphviz` for Windows), with added executable file to the *PATH*."
   ]
  },
  {
   "cell_type": "code",
   "execution_count": 7,
   "id": "c166f461-197a-4392-bf5b-0283222931d2",
   "metadata": {},
   "outputs": [],
   "source": [
    "from __future__ import annotations\n",
    "\n",
    "import queue\n",
    "import sys\n",
    "import warnings\n",
    "from collections.abc import Iterator\n",
    "from typing import Any, Dict, List, Optional, Set, Tuple, Union\n",
    "\n",
    "# grapviz have to be installed in Program Files and added to the PATH\n",
    "import graphviz\n"
   ]
  },
  {
   "cell_type": "markdown",
   "id": "56c7d84d-d145-4ddc-a2ef-d46d71c63c77",
   "metadata": {},
   "source": [
    "The following lines are to change the warning message format and skip the traceback info."
   ]
  },
  {
   "cell_type": "code",
   "execution_count": 8,
   "id": "055c3de3-b119-438b-85a9-6084540be1ba",
   "metadata": {},
   "outputs": [],
   "source": [
    "def no_traceback_warning(\n",
    "    message, category, filename=None, lineno=None, file=None, line=None\n",
    "):\n",
    "    \"\"\"\n",
    "    Give the no-traceback warning format.\n",
    "    `warnings` library convention is used.\n",
    "    \"\"\"\n",
    "    return \"{cat}: {mess}\\n\".format(cat=category.__name__, mess=message)\n",
    "\n",
    "\n",
    "warnings.formatwarning = no_traceback_warning\n"
   ]
  },
  {
   "cell_type": "markdown",
   "id": "de85a3aa-3653-4dee-ad0e-918f26b67be8",
   "metadata": {},
   "source": [
    "Moreover, a hashable checker. It is not explcitely avaliable in pure Python."
   ]
  },
  {
   "cell_type": "code",
   "execution_count": 9,
   "id": "c07e1796-2e32-40e1-ac4d-fb98951619eb",
   "metadata": {},
   "outputs": [],
   "source": [
    "def hashable(variable: Any) -> bool:\n",
    "    \"\"\"Check if the variable is hashable.\n",
    "\n",
    "    Args:\n",
    "        variable (Any): Variable to be checked.\n",
    "\n",
    "    Returns:\n",
    "        bool: Info about being hashable.\n",
    "    \"\"\"\n",
    "    try:\n",
    "        hash(variable)\n",
    "    except TypeError:\n",
    "        return False\n",
    "    return True\n"
   ]
  },
  {
   "cell_type": "markdown",
   "id": "37b08130-f8c2-4b96-a022-3deac7501841",
   "metadata": {},
   "source": [
    "-----------------------"
   ]
  },
  {
   "cell_type": "markdown",
   "id": "cfc44c08-925d-460e-9ba3-cac16a3e4ebb",
   "metadata": {
    "tags": []
   },
   "source": [
    "# Task 1"
   ]
  },
  {
   "cell_type": "markdown",
   "id": "c16b2c9d-ec54-4028-b350-7a972f54499a",
   "metadata": {
    "tags": []
   },
   "source": [
    "_**Graph class implementation**_"
   ]
  },
  {
   "cell_type": "markdown",
   "id": "756ae7c3-1b11-452a-ac3e-e80ad5befc86",
   "metadata": {},
   "source": [
    "-----------------------"
   ]
  },
  {
   "cell_type": "markdown",
   "id": "c895d1ac-1892-45c1-90a4-a7afbeb56abc",
   "metadata": {},
   "source": [
    "The basic graph with the methods from the lecture [[1]](#ref1) is consists of the nodes. These classes are partially copied from the referenced lecture. However, there are some changes and I have added node and edge deletion. There is also an option to create **directed** or **undirected** graph.\n",
    "\n",
    "In the second one we cannot connect one node with itself (by edge), because that is the rule from definition. The first option allows it though.\n",
    "\n",
    "In my implementation adding a node with the key that already exist does not affect the structure. Nothing changes. Similarly, adding the existing edge only updates its weight. "
   ]
  },
  {
   "cell_type": "markdown",
   "id": "5cadb331-5ca9-4480-b6b8-44ef084ad441",
   "metadata": {},
   "source": [
    "## Node"
   ]
  },
  {
   "cell_type": "markdown",
   "id": "5d63bbc1-0e2c-4228-bab4-ef3c45c33dec",
   "metadata": {},
   "source": [
    "I begin with creating the node class used later in the graph. It will contain also the features required for searching algorithms in the next tasks."
   ]
  },
  {
   "cell_type": "markdown",
   "id": "c06bc0b1-9224-4a0d-90f1-7848ac7be063",
   "metadata": {},
   "source": [
    "I do not use unncessary `get` and `set` methods for attributes, because the code is written with respect to Python conventions."
   ]
  },
  {
   "cell_type": "code",
   "execution_count": 10,
   "id": "1b151235-a86f-4b9d-9277-f81bb2367fc9",
   "metadata": {},
   "outputs": [],
   "source": [
    "class Node:\n",
    "    \"\"\"Graph node class.\n",
    "\n",
    "    Basic attributes:\n",
    "        key (Any): Node's key.\n",
    "        neighbors (dict): Nodes connected to this one.\n",
    "        neighbor_for (set): Set of nodes pointing this one.\n",
    "\n",
    "    Searching attributes:\n",
    "        dist (float): Node's distance from the begining for searching algorithms.\n",
    "        color (str): Node's color (\"w\": white, \"g\": gray or \"b\": black)\n",
    "        pred (Node): Node's predecessor in searching.\n",
    "        disc (int): Node's \"Discovery\" time.\n",
    "        fin (int): \"Processing finished\" time.\n",
    "    \"\"\"\n",
    "\n",
    "    def __init__(self, key: Any):\n",
    "        \"\"\"Create the node with the given key.\n",
    "\n",
    "        Args:\n",
    "            key (Any): Actual information which the node carries.\n",
    "        \"\"\"\n",
    "        self.key = key\n",
    "        self.neighbors = dict()\n",
    "        self.neighbor_for = set()\n",
    "\n",
    "        self.dist = sys.maxsize  # \"infinity\"\n",
    "        self.color = \"w\"\n",
    "        self.pred = None\n",
    "        self.disc = 0\n",
    "        self.fin = 0\n",
    "\n",
    "    def reset(self):\n",
    "        \"\"\"Reset the attributes used for searching.\n",
    "        \"\"\"\n",
    "        self.dist = sys.maxsize\n",
    "        self.color = \"w\"\n",
    "        self.pred = None\n",
    "        self.disc = 0\n",
    "        self.fin = 0\n",
    "\n",
    "    def add_neighbor(self, neighbor: Node, weight: float = 0):\n",
    "        \"\"\"Connect this node to another with a given connection cost.\n",
    "\n",
    "        Args:\n",
    "            neighbor (Node): Connected node.\n",
    "            weight (float, optional): Connection cost. Defaults to 0.\n",
    "        \"\"\"\n",
    "        self.neighbors[neighbor] = weight\n",
    "        neighbor.neighbor_for.add(self)\n",
    "\n",
    "    def rem_neighbor(self, neighbor: Node) -> bool:\n",
    "        \"\"\"Remove a connection to a node.\n",
    "\n",
    "        Args:\n",
    "            neighbor (Node): Previously connented node.\n",
    "\n",
    "        Returns:\n",
    "            bool: Info about operation success.\n",
    "        \"\"\"\n",
    "        popped = self.neighbors.pop(neighbor, None)\n",
    "        if popped is None:\n",
    "            return False\n",
    "        else:\n",
    "            neighbor.neighbor_for.remove(self)\n",
    "            return True\n",
    "\n",
    "    def get_weight(self, neighbor: Node) -> float:\n",
    "        \"\"\"Evaluate the connection cost.\n",
    "\n",
    "        Args:\n",
    "            neighbor (Node): Connected node.\n",
    "\n",
    "        Raises:\n",
    "            Exception: Nodes have to be connected to evaluate the cost.\n",
    "\n",
    "        Returns:\n",
    "            float: Connection cost.\n",
    "        \"\"\"\n",
    "        try:\n",
    "            weight = self.neighbors[neighbor]\n",
    "        except KeyError as key:\n",
    "            raise Exception(\n",
    "                'Node \"{key}\" is not a neighbor of this node.'.format(key=key)\n",
    "            )\n",
    "        else:\n",
    "            return weight\n",
    "\n",
    "    def __str__(self) -> str:\n",
    "        \"\"\"Represent the node as a string.\n",
    "\n",
    "        Returns:\n",
    "            str: String representation - node's key.\n",
    "        \"\"\"\n",
    "        return str(\"Node: {key}\".format(key=str(self.key)))\n",
    "\n",
    "    def __repr__(self) -> str:\n",
    "        \"\"\"Give the formal representation of this node.\n",
    "\n",
    "        Returns:\n",
    "            str: Formal representation with info about all the attributes.\n",
    "        \"\"\"\n",
    "        return \"Node(key: {key}, color: {color}, discovery: {disc}, finish: {fin}, distance: {dist}, predecessor: \\n\\t{pred})\".format(\n",
    "            key=str(self.key),\n",
    "            color=str(self.color),\n",
    "            disc=str(self.disc),\n",
    "            fin=str(self.fin),\n",
    "            dist=str(self.dist),\n",
    "            pred=str(self.pred),\n",
    "        )\n"
   ]
  },
  {
   "cell_type": "markdown",
   "id": "2180d17f-b28b-4c64-adf1-2d9ae5170313",
   "metadata": {},
   "source": [
    "## Graph"
   ]
  },
  {
   "cell_type": "markdown",
   "id": "c9890399-60a0-4725-9899-9fa75e9e2fb7",
   "metadata": {},
   "source": [
    "The following class is only the basic graph version supporting:\n",
    "\n",
    "- **directed** and **undirected** graph versions;\n",
    "- **node** and **edge** addition - as one element or by a list,\n",
    "- **node** and **edge** deletion - as one element or by a list,\n",
    "- getting **nodes** and **edges** listed,\n",
    "- getting **node's** object by key,\n",
    "- `in` operator for node keys,\n",
    "- checking the size (number of nodes and number of edges)\n",
    "- iteration.\n",
    "\n",
    "Each edge is weighted (in case the weight is not given it defaults to 0). Nodes can have alphaumeric or string keys but do not contain additional value data. "
   ]
  },
  {
   "cell_type": "markdown",
   "id": "5644fa56-dbc1-4962-9a1b-1b7cef167c61",
   "metadata": {},
   "source": [
    "<u>IMPORTANT:</u> Getting node's object is an internal method becouse is should not be allowed for the class user to easily manipulate the graph components."
   ]
  },
  {
   "cell_type": "code",
   "execution_count": 12,
   "id": "a6c446b5-e3fe-4aae-aeee-fe7fcef956c9",
   "metadata": {},
   "outputs": [],
   "source": [
    "class GraphBasic:\n",
    "    \"\"\"A basic graph built of nodes and edges.\n",
    "\n",
    "    Attributes:\n",
    "        nodes (dict): Node keys and references to their objects.\n",
    "        node_count (int): Current number of nodes.\n",
    "        edge_count (int): Current number of edges.\n",
    "        directed (bool): Information about being a directed/undirected graph.\n",
    "    \"\"\"\n",
    "\n",
    "    def __init__(self, directed: bool = True):\n",
    "        \"\"\"Create an empty graph.\n",
    "\n",
    "        Args:\n",
    "            directed (bool, optional): Version of the graph;\n",
    "                `True` for directed. Defaults to True.\n",
    "        \"\"\"\n",
    "        self.nodes = dict()\n",
    "        self.node_count = 0\n",
    "        self.edge_count = 0\n",
    "        self.directed = directed\n",
    "\n",
    "    def __contains__(self, key: Any) -> bool:\n",
    "        \"\"\"Chceck if a node of the given key is in the graph.\n",
    "\n",
    "        Args:\n",
    "            key (Any): The key to check.\n",
    "\n",
    "        Returns:\n",
    "            bool: Info about searching success.\n",
    "        \"\"\"\n",
    "        return key in self.nodes\n",
    "\n",
    "    def _get_node_obj(self, key: float) -> Optional[Node]:\n",
    "        \"\"\"Find an object of the node with the given key.\n",
    "\n",
    "        Args:\n",
    "            key (float): Key of the node.\n",
    "\n",
    "        Returns:\n",
    "            Optional[Node]: Actual node object.\n",
    "        \"\"\"\n",
    "        try:\n",
    "            des_node = self.nodes[key]\n",
    "        except KeyError:\n",
    "            return None\n",
    "        else:\n",
    "            return des_node\n",
    "\n",
    "    def _get_nodes_obj(self) -> Set[Node]:\n",
    "        \"\"\"Find all the nodes' objects in the graph.\n",
    "\n",
    "        Returns:\n",
    "            Set[Node]: Set of the nodes' objects in the graph.\n",
    "        \"\"\"\n",
    "        return set(self.nodes.values())\n",
    "\n",
    "    def get_nodes(self) -> Set[Any]:\n",
    "        \"\"\"Get the keys of all the nodes in the graph.\n",
    "\n",
    "        Returns:\n",
    "            Set[Any]: Set of the keys.\n",
    "        \"\"\"\n",
    "        return set(self.nodes.keys())\n",
    "\n",
    "    def get_edges(\n",
    "        self,\n",
    "    ) -> Union[Set[Tuple[Any, Any, float]], Set[Tuple[Set[Any, Any], float]]]:\n",
    "        \"\"\"Get all the edges from the graph and return their comperhensible representation.\n",
    "\n",
    "        Returns:\n",
    "            Union[Set[Tuple[Any, Any, float]], Set[Tuple[Set[Any, Any], float]]]:\n",
    "                Sets of the edges with their weights. For a directed graph edges \n",
    "            are represented by the tuple of two handles and for undirected -\n",
    "            set of two handles.  \n",
    "        \"\"\"\n",
    "        edge_set = set()\n",
    "\n",
    "        def edge_tup_repr(from_key, to_info):\n",
    "            if self.directed:\n",
    "                return (from_key, to_info[0].key), to_info[1]\n",
    "            else:\n",
    "                return frozenset({from_key, to_info[0].key}), to_info[1]\n",
    "\n",
    "        for key, node in self.nodes.items():\n",
    "            edges_pr = map(\n",
    "                lambda to_info: edge_tup_repr(\n",
    "                    key, to_info), node.neighbors.items()\n",
    "            )\n",
    "            new_edges = set(edges_pr)\n",
    "            edge_set.update(new_edges)\n",
    "\n",
    "        return edge_set\n",
    "\n",
    "    def add_node(self, key: Any) -> Node:\n",
    "        \"\"\"Add a node to the graph.\n",
    "\n",
    "        Args:\n",
    "            key (Any): New node's key.\n",
    "\n",
    "        Raises:\n",
    "            TypeError: Node's key must be hashable to enable comparisons.\n",
    "\n",
    "        Returns:\n",
    "            Node: Additional node's object return.\n",
    "        \"\"\"\n",
    "        if not hashable(key):\n",
    "            raise TypeError(\"Each key has to be hashable.\")\n",
    "        if key not in self:\n",
    "            new_node = Node(key)\n",
    "            self.nodes[key] = new_node\n",
    "            self.node_count += 1\n",
    "            return new_node\n",
    "        else:\n",
    "            warnings.warn(\n",
    "                'Key \"{key}\" was already in the graph. Foregoing neighbors are keeped.'.format(\n",
    "                    key=key\n",
    "                ),\n",
    "                category=DeprecationWarning,\n",
    "            )\n",
    "            return self.nodes[key]\n",
    "\n",
    "    def add_edge(\n",
    "        self,\n",
    "        from_key: Any,\n",
    "        to_key: Any,\n",
    "        weight: float = 0,\n",
    "    ):\n",
    "        \"\"\"Add a weighted edge to the graph. If the given handles does not exist\n",
    "            create the proper nodes too.\n",
    "\n",
    "        Args:\n",
    "            from_key (Any): Key from which the edge starts.\n",
    "            to_key (Any): Key on which the edge ends.\n",
    "            weight (float, optional): Cost of the connection. Defaults to 0.\n",
    "\n",
    "        Raises:\n",
    "            TypeError: Node's key must be hashable to enable comparisons.\n",
    "            ValueError: In undirected graph version a node cannot point itself.\n",
    "        \"\"\"\n",
    "        if not hashable(from_key) or not hashable(to_key):\n",
    "            raise TypeError(\"Each key has to be hashable.\")\n",
    "        if not self.directed and from_key == to_key:\n",
    "            raise ValueError(\n",
    "                'Creating \"{key}\"-\"{key}\" edge failed. Undirected graph cannot contain self connecting nodes.'.format(\n",
    "                    key=from_key\n",
    "                )\n",
    "            )\n",
    "\n",
    "        for key in [from_key, to_key]:\n",
    "            if key not in self:\n",
    "                self.add_node(key)\n",
    "\n",
    "        from_node = self.nodes[from_key]\n",
    "        to_node = self.nodes[to_key]\n",
    "        if not (to_node in from_node.neighbors):\n",
    "            self.edge_count += 1\n",
    "        from_node.add_neighbor(to_node, weight)\n",
    "\n",
    "        if not self.directed:\n",
    "            to_node.add_neighbor(from_node, weight)\n",
    "\n",
    "    def del_node(self, key: Any):\n",
    "        \"\"\"Delete a node and the edges related to it.\n",
    "\n",
    "        Args:\n",
    "            key (Any): Key of the node to delete.\n",
    "        \"\"\"\n",
    "        curr_node = self._get_node_obj(key)\n",
    "        if curr_node is None:\n",
    "            warnings.warn(\n",
    "                'Key \"{key}\" is not in the graph. This node was not deleted.'.format(\n",
    "                    key=key\n",
    "                ),\n",
    "                category=DeprecationWarning,\n",
    "            )\n",
    "        else:\n",
    "            con_nodes = curr_node.neighbor_for.copy()\n",
    "            for node in con_nodes:\n",
    "                node.rem_neighbor(curr_node)\n",
    "            self.nodes.pop(key)\n",
    "            self.node_count -= 1\n",
    "\n",
    "    def del_edge(\n",
    "        self,\n",
    "        from_key: Any,\n",
    "        to_key: Any,\n",
    "    ):\n",
    "        \"\"\"Delete an edge from the graph.\n",
    "\n",
    "        Args:\n",
    "            from_key (Any): Key from which the edge starts.\n",
    "            to_key (Any): Key on which the edge ends.\n",
    "        \"\"\"\n",
    "        nodes_exist = True\n",
    "        edge_exist = True\n",
    "        for key in [from_key, to_key]:\n",
    "            if key not in self:\n",
    "                nodes_exist = False\n",
    "                warnings.warn(\n",
    "                    'Key \"{key}\" is not in the graph.'.format(key=key),\n",
    "                    category=DeprecationWarning,\n",
    "                )\n",
    "        if nodes_exist:\n",
    "            from_node = self.nodes[from_key]\n",
    "            to_node = self.nodes[to_key]\n",
    "            success = from_node.rem_neighbor(to_node)\n",
    "            self.edge_count -= 1\n",
    "            if not self.directed:\n",
    "                to_node.rem_neighbor(from_node)\n",
    "            if not success:\n",
    "                edge_exist = False\n",
    "\n",
    "        if not nodes_exist or not edge_exist:\n",
    "\n",
    "            def relat_symb():\n",
    "                \"\"\"Return a connention symbol depending on the graph version.\n",
    "                \"\"\"\n",
    "                return \"->\" if self.directed else \"<->\"\n",
    "\n",
    "            warnings.warn(\n",
    "                'Nonexistent \"{fr}\"{rel_s}\"{to}\" edge was not deleted.'.format(\n",
    "                    fr=from_key, to=to_key, rel_s=relat_symb()\n",
    "                ),\n",
    "                category=DeprecationWarning,\n",
    "            )\n",
    "\n",
    "    def add_nodes(self, key_list: List[Any]):\n",
    "        \"\"\"Add the nodes in bulk. Use `add_node` multiple times.\n",
    "\n",
    "        Args:\n",
    "            key_list (List[Any]): List of the keys to add.\n",
    "        \"\"\"\n",
    "        for key in key_list:\n",
    "            self.add_node(key)\n",
    "\n",
    "    def add_edges(\n",
    "        self,\n",
    "        edge_list: List[\n",
    "            Tuple[\n",
    "                Any,\n",
    "                Any,\n",
    "                float\n",
    "            ]\n",
    "        ]\n",
    "    ):\n",
    "        \"\"\"Add the edges in bulk. Use `add_edge` multiple times.\n",
    "\n",
    "        Args:\n",
    "            edge_list (List[Tuple[Any, Any, float]]):\n",
    "                List of the edges to add, where each edge is represented\n",
    "                by a tuple (\"from-node\", \"to-node\", weight) in the `add_egde`\n",
    "                convention.\n",
    "        \"\"\"\n",
    "        for edge in edge_list:\n",
    "            self.add_edge(*edge)\n",
    "\n",
    "    def del_nodes(self, key_list: List[Any]):\n",
    "        \"\"\"Delete the nodes in bulk. Use `del_node` multiple times.\n",
    "\n",
    "        Args:\n",
    "            key_list (List[Any]): List of the keys to delete.\n",
    "        \"\"\"\n",
    "        for key in key_list:\n",
    "            self.del_node(key)\n",
    "\n",
    "    def del_edges(\n",
    "        self,\n",
    "        edge_list: List[\n",
    "            Tuple[\n",
    "                Any,\n",
    "                Any\n",
    "            ]\n",
    "        ]\n",
    "    ):\n",
    "        \"\"\"Delete the edges in bulk. Use `del_edge` multiple times.\n",
    "\n",
    "        Args:\n",
    "            edge_list (List[Tuple[Any, Any]]): Edge list with\n",
    "                the edge representation as a tuple (\"from-node\", \"to-node\")\n",
    "                in the `add_egde` convention.\n",
    "        \"\"\"\n",
    "        for edge in edge_list:\n",
    "            self.del_edge(*edge)\n",
    "\n",
    "    def size(self) -> Dict[str, int]:\n",
    "        \"\"\"Find the number of the nodes and the edges in the graph.\n",
    "\n",
    "        Returns:\n",
    "            Dict[str, int]: Dictionary of sizes - node and edge numbers.\n",
    "        \"\"\"\n",
    "        return {\"nodes\": self.node_count, \"edges\": self.edge_count}\n",
    "\n",
    "    def __iter__(self) -> Iterator[Any]:\n",
    "        \"\"\"Iterate over the keys in the graph.\n",
    "\n",
    "        Returns:\n",
    "            Iterator[Any]: Key iterator object.\n",
    "        \"\"\"\n",
    "        return iter(self.nodes)\n"
   ]
  },
  {
   "cell_type": "markdown",
   "id": "08fef11c-2c16-4896-9712-81bb814fd4c8",
   "metadata": {},
   "source": [
    "## Presentation"
   ]
  },
  {
   "cell_type": "markdown",
   "id": "75037480-9757-4ba8-9f20-77356a554430",
   "metadata": {},
   "source": [
    "All the features are shown in the next task, because of visualization available."
   ]
  },
  {
   "cell_type": "markdown",
   "id": "d7610415-73f6-4e20-af84-756b9697d0b5",
   "metadata": {},
   "source": [
    "-----------------------"
   ]
  },
  {
   "cell_type": "markdown",
   "id": "8b015254-bddd-467a-92ae-71ce3fd5e0c7",
   "metadata": {
    "tags": []
   },
   "source": [
    "# Task 2"
   ]
  },
  {
   "cell_type": "markdown",
   "id": "b731e41a-279e-4c76-a1b7-9a9d20e6f5b4",
   "metadata": {
    "tags": []
   },
   "source": [
    "_**Graph visualisation in \"dot\"**_"
   ]
  },
  {
   "cell_type": "markdown",
   "id": "39a57426-b109-461d-98d4-4e0e2162317b",
   "metadata": {},
   "source": [
    "-----------------------"
   ]
  },
  {
   "cell_type": "markdown",
   "id": "9f2167a2-54b6-4404-8789-1db3ee337517",
   "metadata": {},
   "source": [
    "The only thing there is the visualization method added. I use `graphviz` library and `dot` language as it was given."
   ]
  },
  {
   "cell_type": "markdown",
   "id": "ab18372e-ae45-40f8-a2c8-dc7ea760bdc9",
   "metadata": {},
   "source": [
    "## Graph class with visualisation"
   ]
  },
  {
   "cell_type": "code",
   "execution_count": 16,
   "id": "423cc482-1402-4853-9a75-7e8675c5f1d1",
   "metadata": {},
   "outputs": [],
   "source": [
    "class GraphVis(GraphBasic):\n",
    "    \"\"\"`GraphBasic` extended with the `dot` visualization method.\n",
    "    \"\"\"\n",
    "\n",
    "    def visualize(self) -> Union[graphviz.graphs.Digraph, graphviz.graphs.Graph]:\n",
    "        \"\"\"Vizualize nodes and edges. Do not prefer the one-line drawing. \n",
    "\n",
    "        Returns:\n",
    "            Union[graphviz.graphs.Digraph, graphviz.graphs.Graph]: Graph object in `dot` language.\n",
    "        \"\"\"\n",
    "        if self.directed:\n",
    "            dot = graphviz.Digraph()\n",
    "        else:\n",
    "            dot = graphviz.Graph()\n",
    "        dot.attr(\"node\", style=\"filled\", fillcolor=\"lightblue2\")\n",
    "        for key in self.get_nodes():\n",
    "            dot.node(str(key))\n",
    "        for node_keys, weight in self.get_edges():\n",
    "            from_node, to_node = list(node_keys)\n",
    "            edge_data = list(map(str, [from_node, to_node, weight]))\n",
    "            dot.edge(*edge_data)\n",
    "\n",
    "        return dot\n"
   ]
  },
  {
   "cell_type": "markdown",
   "id": "ed4cf113-c098-431c-9a18-f771b6a87f50",
   "metadata": {},
   "source": [
    "## Presentation"
   ]
  },
  {
   "cell_type": "markdown",
   "id": "3ddcaa66-183a-46c6-8eb1-15bbb3d979c2",
   "metadata": {},
   "source": [
    "We can start with creating a graph and adding some nodes to it. It can be done in bulk."
   ]
  },
  {
   "cell_type": "code",
   "execution_count": 17,
   "id": "2c959dd6-6fb9-4d6b-95aa-d368ea378588",
   "metadata": {},
   "outputs": [
    {
     "data": {
      "image/svg+xml": "<?xml version=\"1.0\" encoding=\"UTF-8\" standalone=\"no\"?>\n<!DOCTYPE svg PUBLIC \"-//W3C//DTD SVG 1.1//EN\"\n \"http://www.w3.org/Graphics/SVG/1.1/DTD/svg11.dtd\">\n<!-- Generated by graphviz version 2.50.0 (20211204.2007)\n -->\n<!-- Pages: 1 -->\n<svg width=\"214pt\" height=\"44pt\"\n viewBox=\"0.00 0.00 213.55 44.00\" xmlns=\"http://www.w3.org/2000/svg\" xmlns:xlink=\"http://www.w3.org/1999/xlink\">\n<g id=\"graph0\" class=\"graph\" transform=\"scale(1 1) rotate(0) translate(4 40)\">\n<polygon fill=\"white\" stroke=\"transparent\" points=\"-4,4 -4,-40 209.55,-40 209.55,4 -4,4\"/>\n<!-- (4, 6) -->\n<g id=\"node1\" class=\"node\">\n<title>(4, 6)</title>\n<ellipse fill=\"#b2dfee\" stroke=\"black\" cx=\"30.55\" cy=\"-18\" rx=\"30.59\" ry=\"18\"/>\n<text text-anchor=\"middle\" x=\"30.55\" y=\"-14.3\" font-family=\"Times New Roman,serif\" font-size=\"14.00\">(4, 6)</text>\n</g>\n<!-- foo -->\n<g id=\"node2\" class=\"node\">\n<title>foo</title>\n<ellipse fill=\"#b2dfee\" stroke=\"black\" cx=\"106.55\" cy=\"-18\" rx=\"27\" ry=\"18\"/>\n<text text-anchor=\"middle\" x=\"106.55\" y=\"-14.3\" font-family=\"Times New Roman,serif\" font-size=\"14.00\">foo</text>\n</g>\n<!-- 5 -->\n<g id=\"node3\" class=\"node\">\n<title>5</title>\n<ellipse fill=\"#b2dfee\" stroke=\"black\" cx=\"178.55\" cy=\"-18\" rx=\"27\" ry=\"18\"/>\n<text text-anchor=\"middle\" x=\"178.55\" y=\"-14.3\" font-family=\"Times New Roman,serif\" font-size=\"14.00\">5</text>\n</g>\n</g>\n</svg>\n",
      "text/plain": [
       "<graphviz.graphs.Digraph at 0x1ed0ebc9130>"
      ]
     },
     "execution_count": 17,
     "metadata": {},
     "output_type": "execute_result"
    }
   ],
   "source": [
    "grv = GraphVis()\n",
    "grv.add_nodes([\"foo\", 5, (4, 6)])\n",
    "grv.visualize()\n"
   ]
  },
  {
   "cell_type": "markdown",
   "id": "7335e6ad-3532-48d8-ad18-378cb589b512",
   "metadata": {},
   "source": [
    "Then, it is possible to add (directed) edges with weights. When the handles are not in the graph, they are automatically added."
   ]
  },
  {
   "cell_type": "code",
   "execution_count": 18,
   "id": "58d3ebe7-ce9b-4ac6-ad9b-7c288f742c57",
   "metadata": {},
   "outputs": [
    {
     "data": {
      "image/svg+xml": "<?xml version=\"1.0\" encoding=\"UTF-8\" standalone=\"no\"?>\n<!DOCTYPE svg PUBLIC \"-//W3C//DTD SVG 1.1//EN\"\n \"http://www.w3.org/Graphics/SVG/1.1/DTD/svg11.dtd\">\n<!-- Generated by graphviz version 2.50.0 (20211204.2007)\n -->\n<!-- Pages: 1 -->\n<svg width=\"206pt\" height=\"392pt\"\n viewBox=\"0.00 0.00 205.55 392.00\" xmlns=\"http://www.w3.org/2000/svg\" xmlns:xlink=\"http://www.w3.org/1999/xlink\">\n<g id=\"graph0\" class=\"graph\" transform=\"scale(1 1) rotate(0) translate(4 388)\">\n<polygon fill=\"white\" stroke=\"transparent\" points=\"-4,4 -4,-388 201.55,-388 201.55,4 -4,4\"/>\n<!-- C -->\n<g id=\"node1\" class=\"node\">\n<title>C</title>\n<ellipse fill=\"#b2dfee\" stroke=\"black\" cx=\"91\" cy=\"-366\" rx=\"27\" ry=\"18\"/>\n<text text-anchor=\"middle\" x=\"91\" y=\"-362.3\" font-family=\"Times New Roman,serif\" font-size=\"14.00\">C</text>\n</g>\n<!-- D -->\n<g id=\"node7\" class=\"node\">\n<title>D</title>\n<ellipse fill=\"#b2dfee\" stroke=\"black\" cx=\"27\" cy=\"-279\" rx=\"27\" ry=\"18\"/>\n<text text-anchor=\"middle\" x=\"27\" y=\"-275.3\" font-family=\"Times New Roman,serif\" font-size=\"14.00\">D</text>\n</g>\n<!-- C&#45;&gt;D -->\n<g id=\"edge4\" class=\"edge\">\n<title>C&#45;&gt;D</title>\n<path fill=\"none\" stroke=\"black\" d=\"M79.26,-349.41C69.61,-336.59 55.78,-318.22 44.77,-303.6\"/>\n<polygon fill=\"black\" stroke=\"black\" points=\"47.48,-301.37 38.66,-295.49 41.88,-305.59 47.48,-301.37\"/>\n<text text-anchor=\"middle\" x=\"66.5\" y=\"-318.8\" font-family=\"Times New Roman,serif\" font-size=\"14.00\">4</text>\n</g>\n<!-- B -->\n<g id=\"node2\" class=\"node\">\n<title>B</title>\n<ellipse fill=\"#b2dfee\" stroke=\"black\" cx=\"127\" cy=\"-18\" rx=\"27\" ry=\"18\"/>\n<text text-anchor=\"middle\" x=\"127\" y=\"-14.3\" font-family=\"Times New Roman,serif\" font-size=\"14.00\">B</text>\n</g>\n<!-- 5 -->\n<g id=\"node3\" class=\"node\">\n<title>5</title>\n<ellipse fill=\"#b2dfee\" stroke=\"black\" cx=\"99\" cy=\"-192\" rx=\"27\" ry=\"18\"/>\n<text text-anchor=\"middle\" x=\"99\" y=\"-188.3\" font-family=\"Times New Roman,serif\" font-size=\"14.00\">5</text>\n</g>\n<!-- A -->\n<g id=\"node6\" class=\"node\">\n<title>A</title>\n<ellipse fill=\"#b2dfee\" stroke=\"black\" cx=\"127\" cy=\"-105\" rx=\"27\" ry=\"18\"/>\n<text text-anchor=\"middle\" x=\"127\" y=\"-101.3\" font-family=\"Times New Roman,serif\" font-size=\"14.00\">A</text>\n</g>\n<!-- 5&#45;&gt;A -->\n<g id=\"edge5\" class=\"edge\">\n<title>5&#45;&gt;A</title>\n<path fill=\"none\" stroke=\"black\" d=\"M104.53,-174.21C108.44,-162.33 113.77,-146.17 118.25,-132.56\"/>\n<polygon fill=\"black\" stroke=\"black\" points=\"121.68,-133.35 121.48,-122.76 115.03,-131.16 121.68,-133.35\"/>\n<text text-anchor=\"middle\" x=\"117.5\" y=\"-144.8\" font-family=\"Times New Roman,serif\" font-size=\"14.00\">2</text>\n</g>\n<!-- (4, 6) -->\n<g id=\"node4\" class=\"node\">\n<title>(4, 6)</title>\n<ellipse fill=\"#b2dfee\" stroke=\"black\" cx=\"167\" cy=\"-366\" rx=\"30.59\" ry=\"18\"/>\n<text text-anchor=\"middle\" x=\"167\" y=\"-362.3\" font-family=\"Times New Roman,serif\" font-size=\"14.00\">(4, 6)</text>\n</g>\n<!-- foo -->\n<g id=\"node5\" class=\"node\">\n<title>foo</title>\n<ellipse fill=\"#b2dfee\" stroke=\"black\" cx=\"99\" cy=\"-279\" rx=\"27\" ry=\"18\"/>\n<text text-anchor=\"middle\" x=\"99\" y=\"-275.3\" font-family=\"Times New Roman,serif\" font-size=\"14.00\">foo</text>\n</g>\n<!-- foo&#45;&gt;5 -->\n<g id=\"edge2\" class=\"edge\">\n<title>foo&#45;&gt;5</title>\n<path fill=\"none\" stroke=\"black\" d=\"M99,-260.8C99,-249.16 99,-233.55 99,-220.24\"/>\n<polygon fill=\"black\" stroke=\"black\" points=\"102.5,-220.18 99,-210.18 95.5,-220.18 102.5,-220.18\"/>\n<text text-anchor=\"middle\" x=\"102.5\" y=\"-231.8\" font-family=\"Times New Roman,serif\" font-size=\"14.00\">0</text>\n</g>\n<!-- A&#45;&gt;C -->\n<g id=\"edge6\" class=\"edge\">\n<title>A&#45;&gt;C</title>\n<path fill=\"none\" stroke=\"black\" d=\"M131.27,-122.79C139.09,-156.6 153.33,-234.93 135,-297 130.15,-313.44 119.94,-329.63 110.58,-342.1\"/>\n<polygon fill=\"black\" stroke=\"black\" points=\"107.73,-340.06 104.31,-350.08 113.24,-344.38 107.73,-340.06\"/>\n<text text-anchor=\"middle\" x=\"146.5\" y=\"-231.8\" font-family=\"Times New Roman,serif\" font-size=\"14.00\">4</text>\n</g>\n<!-- A&#45;&gt;B -->\n<g id=\"edge3\" class=\"edge\">\n<title>A&#45;&gt;B</title>\n<path fill=\"none\" stroke=\"black\" d=\"M127,-86.8C127,-75.16 127,-59.55 127,-46.24\"/>\n<polygon fill=\"black\" stroke=\"black\" points=\"130.5,-46.18 127,-36.18 123.5,-46.18 130.5,-46.18\"/>\n<text text-anchor=\"middle\" x=\"130.5\" y=\"-57.8\" font-family=\"Times New Roman,serif\" font-size=\"14.00\">1</text>\n</g>\n<!-- D&#45;&gt;5 -->\n<g id=\"edge1\" class=\"edge\">\n<title>D&#45;&gt;5</title>\n<path fill=\"none\" stroke=\"black\" d=\"M39.87,-262.8C50.93,-249.75 67.04,-230.74 79.65,-215.85\"/>\n<polygon fill=\"black\" stroke=\"black\" points=\"82.45,-217.96 86.24,-208.06 77.11,-213.43 82.45,-217.96\"/>\n<text text-anchor=\"middle\" x=\"71.5\" y=\"-231.8\" font-family=\"Times New Roman,serif\" font-size=\"14.00\">2</text>\n</g>\n</g>\n</svg>\n",
      "text/plain": [
       "<graphviz.graphs.Digraph at 0x1ed0ebc9160>"
      ]
     },
     "execution_count": 18,
     "metadata": {},
     "output_type": "execute_result"
    }
   ],
   "source": [
    "grv.add_edges(\n",
    "    [(\"foo\", 5), (\"A\", \"B\", 1), (\"A\", \"C\", 4),\n",
    "     (\"C\", \"D\", 4), (\"D\", 5, 2), (5, \"A\", 2)]\n",
    ")\n",
    "grv.visualize()\n"
   ]
  },
  {
   "cell_type": "markdown",
   "id": "8db73530-c8bc-4837-bbde-83e0f2719406",
   "metadata": {},
   "source": [
    "Existing edges can be also safely deleted."
   ]
  },
  {
   "cell_type": "code",
   "execution_count": 19,
   "id": "fbe43ed7-82cc-4f44-a4be-efb93f1d753a",
   "metadata": {},
   "outputs": [
    {
     "data": {
      "image/svg+xml": "<?xml version=\"1.0\" encoding=\"UTF-8\" standalone=\"no\"?>\n<!DOCTYPE svg PUBLIC \"-//W3C//DTD SVG 1.1//EN\"\n \"http://www.w3.org/Graphics/SVG/1.1/DTD/svg11.dtd\">\n<!-- Generated by graphviz version 2.50.0 (20211204.2007)\n -->\n<!-- Pages: 1 -->\n<svg width=\"242pt\" height=\"392pt\"\n viewBox=\"0.00 0.00 242.00 392.00\" xmlns=\"http://www.w3.org/2000/svg\" xmlns:xlink=\"http://www.w3.org/1999/xlink\">\n<g id=\"graph0\" class=\"graph\" transform=\"scale(1 1) rotate(0) translate(4 388)\">\n<polygon fill=\"white\" stroke=\"transparent\" points=\"-4,4 -4,-388 238,-388 238,4 -4,4\"/>\n<!-- C -->\n<g id=\"node1\" class=\"node\">\n<title>C</title>\n<ellipse fill=\"#b2dfee\" stroke=\"black\" cx=\"55\" cy=\"-366\" rx=\"27\" ry=\"18\"/>\n<text text-anchor=\"middle\" x=\"55\" y=\"-362.3\" font-family=\"Times New Roman,serif\" font-size=\"14.00\">C</text>\n</g>\n<!-- D -->\n<g id=\"node7\" class=\"node\">\n<title>D</title>\n<ellipse fill=\"#b2dfee\" stroke=\"black\" cx=\"27\" cy=\"-279\" rx=\"27\" ry=\"18\"/>\n<text text-anchor=\"middle\" x=\"27\" y=\"-275.3\" font-family=\"Times New Roman,serif\" font-size=\"14.00\">D</text>\n</g>\n<!-- C&#45;&gt;D -->\n<g id=\"edge2\" class=\"edge\">\n<title>C&#45;&gt;D</title>\n<path fill=\"none\" stroke=\"black\" d=\"M49.47,-348.21C45.56,-336.33 40.23,-320.17 35.75,-306.56\"/>\n<polygon fill=\"black\" stroke=\"black\" points=\"38.97,-305.16 32.52,-296.76 32.32,-307.35 38.97,-305.16\"/>\n<text text-anchor=\"middle\" x=\"46.5\" y=\"-318.8\" font-family=\"Times New Roman,serif\" font-size=\"14.00\">4</text>\n</g>\n<!-- B -->\n<g id=\"node2\" class=\"node\">\n<title>B</title>\n<ellipse fill=\"#b2dfee\" stroke=\"black\" cx=\"55\" cy=\"-18\" rx=\"27\" ry=\"18\"/>\n<text text-anchor=\"middle\" x=\"55\" y=\"-14.3\" font-family=\"Times New Roman,serif\" font-size=\"14.00\">B</text>\n</g>\n<!-- 5 -->\n<g id=\"node3\" class=\"node\">\n<title>5</title>\n<ellipse fill=\"#b2dfee\" stroke=\"black\" cx=\"27\" cy=\"-192\" rx=\"27\" ry=\"18\"/>\n<text text-anchor=\"middle\" x=\"27\" y=\"-188.3\" font-family=\"Times New Roman,serif\" font-size=\"14.00\">5</text>\n</g>\n<!-- A -->\n<g id=\"node6\" class=\"node\">\n<title>A</title>\n<ellipse fill=\"#b2dfee\" stroke=\"black\" cx=\"55\" cy=\"-105\" rx=\"27\" ry=\"18\"/>\n<text text-anchor=\"middle\" x=\"55\" y=\"-101.3\" font-family=\"Times New Roman,serif\" font-size=\"14.00\">A</text>\n</g>\n<!-- 5&#45;&gt;A -->\n<g id=\"edge4\" class=\"edge\">\n<title>5&#45;&gt;A</title>\n<path fill=\"none\" stroke=\"black\" d=\"M32.53,-174.21C36.44,-162.33 41.77,-146.17 46.25,-132.56\"/>\n<polygon fill=\"black\" stroke=\"black\" points=\"49.68,-133.35 49.48,-122.76 43.03,-131.16 49.68,-133.35\"/>\n<text text-anchor=\"middle\" x=\"46.5\" y=\"-144.8\" font-family=\"Times New Roman,serif\" font-size=\"14.00\">2</text>\n</g>\n<!-- (4, 6) -->\n<g id=\"node4\" class=\"node\">\n<title>(4, 6)</title>\n<ellipse fill=\"#b2dfee\" stroke=\"black\" cx=\"131\" cy=\"-366\" rx=\"30.59\" ry=\"18\"/>\n<text text-anchor=\"middle\" x=\"131\" y=\"-362.3\" font-family=\"Times New Roman,serif\" font-size=\"14.00\">(4, 6)</text>\n</g>\n<!-- foo -->\n<g id=\"node5\" class=\"node\">\n<title>foo</title>\n<ellipse fill=\"#b2dfee\" stroke=\"black\" cx=\"207\" cy=\"-366\" rx=\"27\" ry=\"18\"/>\n<text text-anchor=\"middle\" x=\"207\" y=\"-362.3\" font-family=\"Times New Roman,serif\" font-size=\"14.00\">foo</text>\n</g>\n<!-- A&#45;&gt;C -->\n<g id=\"edge5\" class=\"edge\">\n<title>A&#45;&gt;C</title>\n<path fill=\"none\" stroke=\"black\" d=\"M57.56,-123C59.49,-136.72 61.98,-156.56 63,-174 66.2,-228.57 66.2,-242.43 63,-297 62.21,-310.49 60.54,-325.41 58.93,-337.83\"/>\n<polygon fill=\"black\" stroke=\"black\" points=\"55.43,-337.62 57.56,-348 62.37,-338.56 55.43,-337.62\"/>\n<text text-anchor=\"middle\" x=\"69.5\" y=\"-231.8\" font-family=\"Times New Roman,serif\" font-size=\"14.00\">4</text>\n</g>\n<!-- A&#45;&gt;B -->\n<g id=\"edge3\" class=\"edge\">\n<title>A&#45;&gt;B</title>\n<path fill=\"none\" stroke=\"black\" d=\"M55,-86.8C55,-75.16 55,-59.55 55,-46.24\"/>\n<polygon fill=\"black\" stroke=\"black\" points=\"58.5,-46.18 55,-36.18 51.5,-46.18 58.5,-46.18\"/>\n<text text-anchor=\"middle\" x=\"58.5\" y=\"-57.8\" font-family=\"Times New Roman,serif\" font-size=\"14.00\">1</text>\n</g>\n<!-- D&#45;&gt;5 -->\n<g id=\"edge1\" class=\"edge\">\n<title>D&#45;&gt;5</title>\n<path fill=\"none\" stroke=\"black\" d=\"M27,-260.8C27,-249.16 27,-233.55 27,-220.24\"/>\n<polygon fill=\"black\" stroke=\"black\" points=\"30.5,-220.18 27,-210.18 23.5,-220.18 30.5,-220.18\"/>\n<text text-anchor=\"middle\" x=\"30.5\" y=\"-231.8\" font-family=\"Times New Roman,serif\" font-size=\"14.00\">2</text>\n</g>\n</g>\n</svg>\n",
      "text/plain": [
       "<graphviz.graphs.Digraph at 0x1ed0ebc90a0>"
      ]
     },
     "execution_count": 19,
     "metadata": {},
     "output_type": "execute_result"
    }
   ],
   "source": [
    "grv.del_edge(\"foo\", 5)\n",
    "grv.visualize()\n"
   ]
  },
  {
   "cell_type": "markdown",
   "id": "6baadf7c-ac31-4a6b-86ee-169f9d450741",
   "metadata": {},
   "source": [
    "If we want to do it again - what is not possible - we get warned."
   ]
  },
  {
   "cell_type": "code",
   "execution_count": 20,
   "id": "55fdaf01-6121-45ba-9307-d69c5d8d30ea",
   "metadata": {},
   "outputs": [
    {
     "name": "stderr",
     "output_type": "stream",
     "text": [
      "DeprecationWarning: Nonexistent \"foo\"->\"5\" edge was not deleted.\n"
     ]
    }
   ],
   "source": [
    "grv.del_edge(\"foo\", 5)\n"
   ]
  },
  {
   "cell_type": "markdown",
   "id": "74d3da64-803f-419b-9939-3a7e57c77324",
   "metadata": {},
   "source": [
    "And the same with nodes."
   ]
  },
  {
   "cell_type": "code",
   "execution_count": 21,
   "id": "88ffe204-ec13-4c67-8d17-5ce7f2fd74b3",
   "metadata": {},
   "outputs": [
    {
     "data": {
      "image/svg+xml": "<?xml version=\"1.0\" encoding=\"UTF-8\" standalone=\"no\"?>\n<!DOCTYPE svg PUBLIC \"-//W3C//DTD SVG 1.1//EN\"\n \"http://www.w3.org/Graphics/SVG/1.1/DTD/svg11.dtd\">\n<!-- Generated by graphviz version 2.50.0 (20211204.2007)\n -->\n<!-- Pages: 1 -->\n<svg width=\"286pt\" height=\"218pt\"\n viewBox=\"0.00 0.00 286.00 218.00\" xmlns=\"http://www.w3.org/2000/svg\" xmlns:xlink=\"http://www.w3.org/1999/xlink\">\n<g id=\"graph0\" class=\"graph\" transform=\"scale(1 1) rotate(0) translate(4 214)\">\n<polygon fill=\"white\" stroke=\"transparent\" points=\"-4,4 -4,-214 282,-214 282,4 -4,4\"/>\n<!-- C -->\n<g id=\"node1\" class=\"node\">\n<title>C</title>\n<ellipse fill=\"#b2dfee\" stroke=\"black\" cx=\"27\" cy=\"-192\" rx=\"27\" ry=\"18\"/>\n<text text-anchor=\"middle\" x=\"27\" y=\"-188.3\" font-family=\"Times New Roman,serif\" font-size=\"14.00\">C</text>\n</g>\n<!-- D -->\n<g id=\"node6\" class=\"node\">\n<title>D</title>\n<ellipse fill=\"#b2dfee\" stroke=\"black\" cx=\"27\" cy=\"-105\" rx=\"27\" ry=\"18\"/>\n<text text-anchor=\"middle\" x=\"27\" y=\"-101.3\" font-family=\"Times New Roman,serif\" font-size=\"14.00\">D</text>\n</g>\n<!-- C&#45;&gt;D -->\n<g id=\"edge2\" class=\"edge\">\n<title>C&#45;&gt;D</title>\n<path fill=\"none\" stroke=\"black\" d=\"M27,-173.8C27,-162.16 27,-146.55 27,-133.24\"/>\n<polygon fill=\"black\" stroke=\"black\" points=\"30.5,-133.18 27,-123.18 23.5,-133.18 30.5,-133.18\"/>\n<text text-anchor=\"middle\" x=\"30.5\" y=\"-144.8\" font-family=\"Times New Roman,serif\" font-size=\"14.00\">4</text>\n</g>\n<!-- B -->\n<g id=\"node2\" class=\"node\">\n<title>B</title>\n<ellipse fill=\"#b2dfee\" stroke=\"black\" cx=\"99\" cy=\"-192\" rx=\"27\" ry=\"18\"/>\n<text text-anchor=\"middle\" x=\"99\" y=\"-188.3\" font-family=\"Times New Roman,serif\" font-size=\"14.00\">B</text>\n</g>\n<!-- 5 -->\n<g id=\"node3\" class=\"node\">\n<title>5</title>\n<ellipse fill=\"#b2dfee\" stroke=\"black\" cx=\"27\" cy=\"-18\" rx=\"27\" ry=\"18\"/>\n<text text-anchor=\"middle\" x=\"27\" y=\"-14.3\" font-family=\"Times New Roman,serif\" font-size=\"14.00\">5</text>\n</g>\n<!-- (4, 6) -->\n<g id=\"node4\" class=\"node\">\n<title>(4, 6)</title>\n<ellipse fill=\"#b2dfee\" stroke=\"black\" cx=\"175\" cy=\"-192\" rx=\"30.59\" ry=\"18\"/>\n<text text-anchor=\"middle\" x=\"175\" y=\"-188.3\" font-family=\"Times New Roman,serif\" font-size=\"14.00\">(4, 6)</text>\n</g>\n<!-- foo -->\n<g id=\"node5\" class=\"node\">\n<title>foo</title>\n<ellipse fill=\"#b2dfee\" stroke=\"black\" cx=\"251\" cy=\"-192\" rx=\"27\" ry=\"18\"/>\n<text text-anchor=\"middle\" x=\"251\" y=\"-188.3\" font-family=\"Times New Roman,serif\" font-size=\"14.00\">foo</text>\n</g>\n<!-- D&#45;&gt;5 -->\n<g id=\"edge1\" class=\"edge\">\n<title>D&#45;&gt;5</title>\n<path fill=\"none\" stroke=\"black\" d=\"M27,-86.8C27,-75.16 27,-59.55 27,-46.24\"/>\n<polygon fill=\"black\" stroke=\"black\" points=\"30.5,-46.18 27,-36.18 23.5,-46.18 30.5,-46.18\"/>\n<text text-anchor=\"middle\" x=\"30.5\" y=\"-57.8\" font-family=\"Times New Roman,serif\" font-size=\"14.00\">2</text>\n</g>\n</g>\n</svg>\n",
      "text/plain": [
       "<graphviz.graphs.Digraph at 0x1ed0ebc94f0>"
      ]
     },
     "execution_count": 21,
     "metadata": {},
     "output_type": "execute_result"
    }
   ],
   "source": [
    "grv.del_node(\"A\")\n",
    "grv.visualize()\n"
   ]
  },
  {
   "cell_type": "markdown",
   "id": "9719bee4-9995-4832-ae3c-8451dacc87df",
   "metadata": {},
   "source": [
    "The class alows us to get the lists of nodes and edges."
   ]
  },
  {
   "cell_type": "code",
   "execution_count": 22,
   "id": "e98bbb72-70d8-4511-b536-1b598f35cd35",
   "metadata": {},
   "outputs": [
    {
     "data": {
      "text/plain": [
       "{(4, 6), 5, 'B', 'C', 'D', 'foo'}"
      ]
     },
     "execution_count": 22,
     "metadata": {},
     "output_type": "execute_result"
    }
   ],
   "source": [
    "grv.get_nodes()\n"
   ]
  },
  {
   "cell_type": "code",
   "execution_count": 23,
   "id": "153763ac-ca60-43cf-9ce7-cca17233bbc5",
   "metadata": {},
   "outputs": [
    {
     "data": {
      "text/plain": [
       "{(('C', 'D'), 4), (('D', 5), 2)}"
      ]
     },
     "execution_count": 23,
     "metadata": {},
     "output_type": "execute_result"
    }
   ],
   "source": [
    "grv.get_edges()\n"
   ]
  },
  {
   "cell_type": "markdown",
   "id": "79ecd51f-8bee-4e5c-85b5-e88c6cc8aa89",
   "metadata": {},
   "source": [
    "Graph size is shown as a current number of nodes and edges."
   ]
  },
  {
   "cell_type": "code",
   "execution_count": 24,
   "id": "e0517dd1-b12f-45b5-be5a-7486c4635032",
   "metadata": {},
   "outputs": [
    {
     "data": {
      "text/plain": [
       "{'nodes': 6, 'edges': 4}"
      ]
     },
     "execution_count": 24,
     "metadata": {},
     "output_type": "execute_result"
    }
   ],
   "source": [
    "grv.size()\n"
   ]
  },
  {
   "cell_type": "markdown",
   "id": "dd99a737-2d1f-43b4-8cfd-322755524f66",
   "metadata": {},
   "source": [
    "Moreover, we can check if it contains particular elements and directly iterate over it (over the \"keys\")."
   ]
  },
  {
   "cell_type": "code",
   "execution_count": 25,
   "id": "f99b49f3-754f-4f1b-beeb-99cd1cb855d8",
   "metadata": {},
   "outputs": [
    {
     "data": {
      "text/plain": [
       "True"
      ]
     },
     "execution_count": 25,
     "metadata": {},
     "output_type": "execute_result"
    }
   ],
   "source": [
    "\"foo\" in grv\n"
   ]
  },
  {
   "cell_type": "code",
   "execution_count": 26,
   "id": "90c816f0-d352-4bbc-be73-a2a91aea91ac",
   "metadata": {},
   "outputs": [
    {
     "data": {
      "text/plain": [
       "False"
      ]
     },
     "execution_count": 26,
     "metadata": {},
     "output_type": "execute_result"
    }
   ],
   "source": [
    "\"bar\" in grv\n"
   ]
  },
  {
   "cell_type": "code",
   "execution_count": 27,
   "id": "7b47e53c-f0d4-4d02-b5a0-ed624cc818a5",
   "metadata": {},
   "outputs": [
    {
     "name": "stdout",
     "output_type": "stream",
     "text": [
      "foo\n",
      "5\n",
      "(4, 6)\n",
      "B\n",
      "C\n",
      "D\n"
     ]
    }
   ],
   "source": [
    "for node in grv:\n",
    "    print(node)\n"
   ]
  },
  {
   "cell_type": "markdown",
   "id": "e64c7e35-6ac2-4acf-846f-c862926e8b06",
   "metadata": {},
   "source": [
    "Important feature is also an option to create undirected graphs."
   ]
  },
  {
   "cell_type": "code",
   "execution_count": 28,
   "id": "d36ab7ba-66c3-4778-b946-b0fa97141084",
   "metadata": {},
   "outputs": [
    {
     "data": {
      "image/svg+xml": "<?xml version=\"1.0\" encoding=\"UTF-8\" standalone=\"no\"?>\n<!DOCTYPE svg PUBLIC \"-//W3C//DTD SVG 1.1//EN\"\n \"http://www.w3.org/Graphics/SVG/1.1/DTD/svg11.dtd\">\n<!-- Generated by graphviz version 2.50.0 (20211204.2007)\n -->\n<!-- Pages: 1 -->\n<svg width=\"206pt\" height=\"218pt\"\n viewBox=\"0.00 0.00 206.00 218.00\" xmlns=\"http://www.w3.org/2000/svg\" xmlns:xlink=\"http://www.w3.org/1999/xlink\">\n<g id=\"graph0\" class=\"graph\" transform=\"scale(1 1) rotate(0) translate(4 214)\">\n<polygon fill=\"white\" stroke=\"transparent\" points=\"-4,4 -4,-214 202,-214 202,4 -4,4\"/>\n<!-- C -->\n<g id=\"node1\" class=\"node\">\n<title>C</title>\n<ellipse fill=\"#b2dfee\" stroke=\"black\" cx=\"99\" cy=\"-105\" rx=\"27\" ry=\"18\"/>\n<text text-anchor=\"middle\" x=\"99\" y=\"-101.3\" font-family=\"Times New Roman,serif\" font-size=\"14.00\">C</text>\n</g>\n<!-- A -->\n<g id=\"node5\" class=\"node\">\n<title>A</title>\n<ellipse fill=\"#b2dfee\" stroke=\"black\" cx=\"81\" cy=\"-18\" rx=\"27\" ry=\"18\"/>\n<text text-anchor=\"middle\" x=\"81\" y=\"-14.3\" font-family=\"Times New Roman,serif\" font-size=\"14.00\">A</text>\n</g>\n<!-- C&#45;&#45;A -->\n<g id=\"edge3\" class=\"edge\">\n<title>C&#45;&#45;A</title>\n<path fill=\"none\" stroke=\"black\" d=\"M90.62,-87.66C88.04,-81.91 85.49,-75.3 84,-69 81.48,-58.34 80.71,-46.06 80.58,-36.34\"/>\n<text text-anchor=\"middle\" x=\"87.5\" y=\"-57.8\" font-family=\"Times New Roman,serif\" font-size=\"14.00\">4</text>\n</g>\n<!-- D -->\n<g id=\"node6\" class=\"node\">\n<title>D</title>\n<ellipse fill=\"#b2dfee\" stroke=\"black\" cx=\"162\" cy=\"-18\" rx=\"27\" ry=\"18\"/>\n<text text-anchor=\"middle\" x=\"162\" y=\"-14.3\" font-family=\"Times New Roman,serif\" font-size=\"14.00\">D</text>\n</g>\n<!-- C&#45;&#45;D -->\n<g id=\"edge4\" class=\"edge\">\n<title>C&#45;&#45;D</title>\n<path fill=\"none\" stroke=\"black\" d=\"M101.28,-87.04C103.32,-76.75 107.09,-63.76 114,-54 121.03,-44.07 131.78,-35.86 141.32,-29.89\"/>\n<text text-anchor=\"middle\" x=\"117.5\" y=\"-57.8\" font-family=\"Times New Roman,serif\" font-size=\"14.00\">4</text>\n</g>\n<!-- B -->\n<g id=\"node2\" class=\"node\">\n<title>B</title>\n<ellipse fill=\"#b2dfee\" stroke=\"black\" cx=\"27\" cy=\"-105\" rx=\"27\" ry=\"18\"/>\n<text text-anchor=\"middle\" x=\"27\" y=\"-101.3\" font-family=\"Times New Roman,serif\" font-size=\"14.00\">B</text>\n</g>\n<!-- B&#45;&#45;A -->\n<g id=\"edge2\" class=\"edge\">\n<title>B&#45;&#45;A</title>\n<path fill=\"none\" stroke=\"black\" d=\"M37.16,-88.01C46.81,-72.82 61.25,-50.09 70.89,-34.92\"/>\n<text text-anchor=\"middle\" x=\"60.5\" y=\"-57.8\" font-family=\"Times New Roman,serif\" font-size=\"14.00\">1</text>\n</g>\n<!-- 5 -->\n<g id=\"node3\" class=\"node\">\n<title>5</title>\n<ellipse fill=\"#b2dfee\" stroke=\"black\" cx=\"171\" cy=\"-105\" rx=\"27\" ry=\"18\"/>\n<text text-anchor=\"middle\" x=\"171\" y=\"-101.3\" font-family=\"Times New Roman,serif\" font-size=\"14.00\">5</text>\n</g>\n<!-- 5&#45;&#45;A -->\n<g id=\"edge1\" class=\"edge\">\n<title>5&#45;&#45;A</title>\n<path fill=\"none\" stroke=\"black\" d=\"M156.06,-89.47C145.71,-79.45 131.59,-65.84 119,-54 111.55,-46.99 103.2,-39.29 96.23,-32.89\"/>\n<text text-anchor=\"middle\" x=\"136.5\" y=\"-57.8\" font-family=\"Times New Roman,serif\" font-size=\"14.00\">2</text>\n</g>\n<!-- 5&#45;&#45;D -->\n<g id=\"edge6\" class=\"edge\">\n<title>5&#45;&#45;D</title>\n<path fill=\"none\" stroke=\"black\" d=\"M169.18,-86.8C167.62,-72.05 165.38,-50.92 163.82,-36.18\"/>\n<text text-anchor=\"middle\" x=\"170.5\" y=\"-57.8\" font-family=\"Times New Roman,serif\" font-size=\"14.00\">2</text>\n</g>\n<!-- foo -->\n<g id=\"node4\" class=\"node\">\n<title>foo</title>\n<ellipse fill=\"#b2dfee\" stroke=\"black\" cx=\"171\" cy=\"-192\" rx=\"27\" ry=\"18\"/>\n<text text-anchor=\"middle\" x=\"171\" y=\"-188.3\" font-family=\"Times New Roman,serif\" font-size=\"14.00\">foo</text>\n</g>\n<!-- foo&#45;&#45;5 -->\n<g id=\"edge5\" class=\"edge\">\n<title>foo&#45;&#45;5</title>\n<path fill=\"none\" stroke=\"black\" d=\"M171,-173.8C171,-159.05 171,-137.92 171,-123.18\"/>\n<text text-anchor=\"middle\" x=\"174.5\" y=\"-144.8\" font-family=\"Times New Roman,serif\" font-size=\"14.00\">0</text>\n</g>\n</g>\n</svg>\n",
      "text/plain": [
       "<graphviz.graphs.Graph at 0x1ed0ebf8970>"
      ]
     },
     "execution_count": 28,
     "metadata": {},
     "output_type": "execute_result"
    }
   ],
   "source": [
    "gru = GraphVis(directed=False)\n",
    "gru.add_edges(\n",
    "    [(\"foo\", 5), (\"A\", \"B\", 1), (\"A\", \"C\", 4),\n",
    "     (\"C\", \"D\", 4), (\"D\", 5, 2), (5, \"A\", 2)]\n",
    ")\n",
    "gru.visualize()\n"
   ]
  },
  {
   "cell_type": "markdown",
   "id": "a0ad991c-a65d-482f-982f-902c24ed3299",
   "metadata": {},
   "source": [
    "-----------------------"
   ]
  },
  {
   "cell_type": "markdown",
   "id": "eff7a0db-4dfc-4775-8dfa-4208f097e087",
   "metadata": {
    "tags": []
   },
   "source": [
    "# Task 3"
   ]
  },
  {
   "cell_type": "markdown",
   "id": "2fabf55e-dff2-492d-9ae9-9f181764e374",
   "metadata": {
    "tags": []
   },
   "source": [
    "_**Graph searching methods - BFS and DFS**_"
   ]
  },
  {
   "cell_type": "markdown",
   "id": "e7814697-3ab3-4f62-89fd-5b6b5372fce9",
   "metadata": {},
   "source": [
    "-----------------------"
   ]
  },
  {
   "cell_type": "markdown",
   "id": "621255ce-15ce-438d-8ba4-48f3047694c4",
   "metadata": {},
   "source": [
    "Here I added *BFS* and *DFS* methods which change the nodes' properities. Those are the helper methods and are not expected to be used outside the class. Partially inspired by the lecture [[2]](#ref2).\n",
    "\n",
    "On the other hand, I also added the traversal methods showing the \"discovery\" and \"processing finished\" order both for *BFS* and *DFS*. Another usage is finding the shortest path between the given points node by node (regardless the weights). It is also implemented below."
   ]
  },
  {
   "cell_type": "markdown",
   "id": "0a2b07de-928b-456c-9e2b-b2acad60abbe",
   "metadata": {},
   "source": [
    "## Graph class with searching methods"
   ]
  },
  {
   "cell_type": "code",
   "execution_count": 29,
   "id": "35c1ca7e-53b1-4cf6-8251-eca04b3e45b2",
   "metadata": {},
   "outputs": [],
   "source": [
    "class GraphSearch(GraphVis):\n",
    "    \"\"\"`GraphBasic` extended with the visualization, traversal and path finding methods.\n",
    "\n",
    "    Attributes (additional):\n",
    "        _time (int): Simple time counter to keep the searching order.\n",
    "        _has_cycles (bool): Information if any edge cycles are in the graph. \n",
    "    \"\"\"\n",
    "\n",
    "    def __init__(self, directed: bool = True):\n",
    "        \"\"\"Create an empty graph.\n",
    "\n",
    "        Args:\n",
    "            directed (bool, optional): Version of the graph;\n",
    "                `True` for directed. Defaults to True.\n",
    "        \"\"\"\n",
    "        super().__init__(directed)\n",
    "        self._time = 0\n",
    "        self._has_cycles = False\n",
    "\n",
    "    def _time_it(self) -> int:\n",
    "        \"\"\"Check the current time on the graph's counter clock.\n",
    "\n",
    "        Returns:\n",
    "            int: Current graph's time.\n",
    "        \"\"\"\n",
    "        self._time += 1\n",
    "        return self._time\n",
    "\n",
    "    def _reset_hdata(self):\n",
    "        \"\"\"Reset the helper graph's attributes (time and cycles).\n",
    "        Reset also the searching helper attributes for each node in the graph. \n",
    "        \"\"\"\n",
    "        self._time = 0\n",
    "        self._has_cycles = False\n",
    "        for node in self._get_nodes_obj():\n",
    "            node.reset()\n",
    "\n",
    "    def _mark_bfs(self, start_node: Node):\n",
    "        \"\"\"Perform a breadth-first search starting from the given node.\n",
    "        Mark all the visited nodes properly.\n",
    "\n",
    "        Args:\n",
    "            start_node (Node): The node to start searching from.\n",
    "        \"\"\"\n",
    "        start_node.dist = 0\n",
    "        bfs_queue = queue.SimpleQueue()\n",
    "        bfs_queue.put_nowait(start_node)\n",
    "\n",
    "        while not bfs_queue.empty():\n",
    "            curr_node = bfs_queue.get_nowait()\n",
    "            for neigh_node in curr_node.neighbors:\n",
    "                if neigh_node.color == \"w\":\n",
    "                    neigh_node.color = \"g\"\n",
    "                    neigh_node.disc = self._time_it()\n",
    "                    neigh_node.dist = curr_node.dist + 1\n",
    "                    neigh_node.pred = curr_node\n",
    "                    bfs_queue.put_nowait(neigh_node)\n",
    "            curr_node.color = \"b\"\n",
    "            curr_node.fin = self._time_it()\n",
    "\n",
    "    def _mark_dfs(self, start_node: Node):\n",
    "        \"\"\"Perform a depth-first search starting from the given node.\n",
    "        Mark all the visited nodes properly.\n",
    "        Chceck also if there is at least one cycle in the graph.\n",
    "\n",
    "        Args:\n",
    "            start_node (Node): The node to start searching from.\n",
    "        \"\"\"\n",
    "        start_node.color = \"g\"\n",
    "        start_node.disc = self._time_it()\n",
    "        for neigh_node in start_node.neighbors:\n",
    "\n",
    "            # Additional feature - chcecking the cycles OTF\n",
    "            if neigh_node.color == \"g\":\n",
    "                self._has_cycles = True\n",
    "\n",
    "            if neigh_node.color == \"w\":\n",
    "                neigh_node.dist = start_node.dist + 1\n",
    "                neigh_node.pred = start_node\n",
    "                self._mark_dfs(neigh_node)\n",
    "        start_node.color = \"b\"\n",
    "        start_node.fin = self._time_it()\n",
    "\n",
    "    def _traversal(self, start_key: Any, trav_method: function) -> Dict[str, List[Any]]:\n",
    "        \"\"\"A helper method to find the traversal orders (\"discovered\" and \"finished-processing\").\n",
    "        Base on the clock times assigned to the nodes.\n",
    "\n",
    "        Args:\n",
    "            start_key (Any): The node key to start searching from.\n",
    "            trav_method (function): BFS or DFS method as a searching function.\n",
    "                use `self._mark_bfs` or `self._mark_dfs`.\n",
    "\n",
    "        Raises:\n",
    "            Exception: Starting point must be an element of the graph.\n",
    "\n",
    "        Returns:\n",
    "            Dict[str, List[Any]]: Dictionary of orders for both categories (disc. and fin. as above).\n",
    "        \"\"\"\n",
    "        start_node = self._get_node_obj(start_key)\n",
    "        if not start_node:\n",
    "            raise Exception(\"Start point is not in the graph.\")\n",
    "        self._reset_hdata()\n",
    "        trav_method(start_node)\n",
    "        node_list = self._get_nodes_obj()\n",
    "        disc_times = {\n",
    "            node.disc: node.key for node in node_list if node.disc != 0}\n",
    "        fin_times = {node.fin: node.key for node in node_list if node.fin != 0}\n",
    "\n",
    "        traversal = {\n",
    "            \"discovered\": list(map(lambda elem: elem[1], sorted(disc_times.items()))),\n",
    "            \"finished\": list(map(lambda elem: elem[1], sorted(fin_times.items()))),\n",
    "        }\n",
    "        self._reset_hdata()\n",
    "        return traversal\n",
    "\n",
    "    def trav_bfs(self, start_key: Any) -> Dict[str, List[Any]]:\n",
    "        \"\"\"Find the traversal order for the BFS method. Start from the given node.\n",
    "\n",
    "        Args:\n",
    "            start_key (Any): The node key to start searching from.\n",
    "\n",
    "        Returns:\n",
    "            Dict[str, List[Any]]: Dictionary of orders for both categories (\"discovered\" and \"finished-processing\").\n",
    "        \"\"\"\n",
    "        return self._traversal(start_key, self._mark_bfs)\n",
    "\n",
    "    def trav_dfs(self, start_key: Any) -> Dict[str, List[Any]]:\n",
    "        \"\"\"Find the traversal order for the DFS method. Start from the given node.\n",
    "\n",
    "        Args:\n",
    "            start_key (Any): The node key to start searching from.\n",
    "\n",
    "        Returns:\n",
    "            Dict[str, List[Any]]: Dictionary of orders for both categories (\"discovered\" and \"finished-processing\").\n",
    "        \"\"\"\n",
    "        return self._traversal(start_key, self._mark_dfs)\n",
    "\n",
    "    def find_path(self, from_key: Any, to_key: Any) -> List[Any]:\n",
    "        \"\"\"Find the step-by-step shortest path between the nodes.\n",
    "        Ignore the connection costs - only steps number matters.\n",
    "\n",
    "        Args:\n",
    "            from_key (Any): Starting node's key - the first point of the path.\n",
    "            to_key (Any): Ending node's key - the point point of the path.\n",
    "\n",
    "        Raises:\n",
    "            Exception: Given nodes must be elements of the graph.\n",
    "            Exception: Nodes have to be connected to find the path between them.\n",
    "\n",
    "        Returns:\n",
    "            List[Any]: All the points in the graph given as the consecutive keys.\n",
    "        \"\"\"\n",
    "        from_node = self._get_node_obj(from_key)\n",
    "        to_node = self._get_node_obj(to_key)\n",
    "        if not (from_node and to_node):\n",
    "            raise Exception(\"Path points are not in the graph.\")\n",
    "        self._reset_hdata()\n",
    "        self._mark_bfs(from_node)\n",
    "        path_list = []\n",
    "        if to_node.pred:\n",
    "            curr_node = to_node\n",
    "            while curr_node:\n",
    "                path_list.append(curr_node.key)\n",
    "                curr_node = curr_node.pred\n",
    "\n",
    "            self._reset_hdata()\n",
    "            return path_list[::-1]\n",
    "        else:\n",
    "            self._reset_hdata()\n",
    "            raise Exception(\"Given nodes are not connected.\")\n"
   ]
  },
  {
   "cell_type": "markdown",
   "id": "b89df044-3d42-4aa1-812c-ebc90aac6dc1",
   "metadata": {},
   "source": [
    "## Presentation"
   ]
  },
  {
   "cell_type": "code",
   "execution_count": 30,
   "id": "1a8ae77e-2fca-41cf-99d1-857d4ad3c11a",
   "metadata": {},
   "outputs": [
    {
     "data": {
      "image/svg+xml": "<?xml version=\"1.0\" encoding=\"UTF-8\" standalone=\"no\"?>\n<!DOCTYPE svg PUBLIC \"-//W3C//DTD SVG 1.1//EN\"\n \"http://www.w3.org/Graphics/SVG/1.1/DTD/svg11.dtd\">\n<!-- Generated by graphviz version 2.50.0 (20211204.2007)\n -->\n<!-- Pages: 1 -->\n<svg width=\"193pt\" height=\"392pt\"\n viewBox=\"0.00 0.00 192.91 392.00\" xmlns=\"http://www.w3.org/2000/svg\" xmlns:xlink=\"http://www.w3.org/1999/xlink\">\n<g id=\"graph0\" class=\"graph\" transform=\"scale(1 1) rotate(0) translate(4 388)\">\n<polygon fill=\"white\" stroke=\"transparent\" points=\"-4,4 -4,-388 188.91,-388 188.91,4 -4,4\"/>\n<!-- C -->\n<g id=\"node1\" class=\"node\">\n<title>C</title>\n<ellipse fill=\"#b2dfee\" stroke=\"black\" cx=\"27\" cy=\"-366\" rx=\"27\" ry=\"18\"/>\n<text text-anchor=\"middle\" x=\"27\" y=\"-362.3\" font-family=\"Times New Roman,serif\" font-size=\"14.00\">C</text>\n</g>\n<!-- B -->\n<g id=\"node2\" class=\"node\">\n<title>B</title>\n<ellipse fill=\"#b2dfee\" stroke=\"black\" cx=\"99\" cy=\"-279\" rx=\"27\" ry=\"18\"/>\n<text text-anchor=\"middle\" x=\"99\" y=\"-275.3\" font-family=\"Times New Roman,serif\" font-size=\"14.00\">B</text>\n</g>\n<!-- G -->\n<g id=\"node4\" class=\"node\">\n<title>G</title>\n<ellipse fill=\"#b2dfee\" stroke=\"black\" cx=\"146\" cy=\"-18\" rx=\"27\" ry=\"18\"/>\n<text text-anchor=\"middle\" x=\"146\" y=\"-14.3\" font-family=\"Times New Roman,serif\" font-size=\"14.00\">G</text>\n</g>\n<!-- B&#45;&gt;G -->\n<g id=\"edge3\" class=\"edge\">\n<title>B&#45;&gt;G</title>\n<path fill=\"none\" stroke=\"black\" d=\"M86.29,-262.83C59.95,-229.42 4.52,-147.64 38,-87 53.69,-58.57 86.81,-40.41 112.26,-30.07\"/>\n<polygon fill=\"black\" stroke=\"black\" points=\"113.85,-33.21 121.93,-26.36 111.34,-26.68 113.85,-33.21\"/>\n<text text-anchor=\"middle\" x=\"33.5\" y=\"-144.8\" font-family=\"Times New Roman,serif\" font-size=\"14.00\">2</text>\n</g>\n<!-- D -->\n<g id=\"node7\" class=\"node\">\n<title>D</title>\n<ellipse fill=\"#b2dfee\" stroke=\"black\" cx=\"99\" cy=\"-192\" rx=\"27\" ry=\"18\"/>\n<text text-anchor=\"middle\" x=\"99\" y=\"-188.3\" font-family=\"Times New Roman,serif\" font-size=\"14.00\">D</text>\n</g>\n<!-- B&#45;&gt;D -->\n<g id=\"edge5\" class=\"edge\">\n<title>B&#45;&gt;D</title>\n<path fill=\"none\" stroke=\"black\" d=\"M99,-260.8C99,-249.16 99,-233.55 99,-220.24\"/>\n<polygon fill=\"black\" stroke=\"black\" points=\"102.5,-220.18 99,-210.18 95.5,-220.18 102.5,-220.18\"/>\n<text text-anchor=\"middle\" x=\"102.5\" y=\"-231.8\" font-family=\"Times New Roman,serif\" font-size=\"14.00\">1</text>\n</g>\n<!-- F -->\n<g id=\"node3\" class=\"node\">\n<title>F</title>\n<ellipse fill=\"#b2dfee\" stroke=\"black\" cx=\"74\" cy=\"-105\" rx=\"27\" ry=\"18\"/>\n<text text-anchor=\"middle\" x=\"74\" y=\"-101.3\" font-family=\"Times New Roman,serif\" font-size=\"14.00\">F</text>\n</g>\n<!-- G&#45;&gt;B -->\n<g id=\"edge1\" class=\"edge\">\n<title>G&#45;&gt;B</title>\n<path fill=\"none\" stroke=\"black\" d=\"M157.1,-34.58C165.79,-47.82 177.2,-67.68 182,-87 185.86,-102.53 185.89,-107.48 182,-123 169.41,-173.18 137.12,-224.84 116.72,-254.04\"/>\n<polygon fill=\"black\" stroke=\"black\" points=\"113.75,-252.18 110.81,-262.36 119.46,-256.23 113.75,-252.18\"/>\n<text text-anchor=\"middle\" x=\"179.5\" y=\"-144.8\" font-family=\"Times New Roman,serif\" font-size=\"14.00\">6</text>\n</g>\n<!-- E -->\n<g id=\"node5\" class=\"node\">\n<title>E</title>\n<ellipse fill=\"#b2dfee\" stroke=\"black\" cx=\"146\" cy=\"-105\" rx=\"27\" ry=\"18\"/>\n<text text-anchor=\"middle\" x=\"146\" y=\"-101.3\" font-family=\"Times New Roman,serif\" font-size=\"14.00\">E</text>\n</g>\n<!-- E&#45;&gt;G -->\n<g id=\"edge6\" class=\"edge\">\n<title>E&#45;&gt;G</title>\n<path fill=\"none\" stroke=\"black\" d=\"M146,-86.8C146,-75.16 146,-59.55 146,-46.24\"/>\n<polygon fill=\"black\" stroke=\"black\" points=\"149.5,-46.18 146,-36.18 142.5,-46.18 149.5,-46.18\"/>\n<text text-anchor=\"middle\" x=\"149.5\" y=\"-57.8\" font-family=\"Times New Roman,serif\" font-size=\"14.00\">2</text>\n</g>\n<!-- A -->\n<g id=\"node6\" class=\"node\">\n<title>A</title>\n<ellipse fill=\"#b2dfee\" stroke=\"black\" cx=\"99\" cy=\"-366\" rx=\"27\" ry=\"18\"/>\n<text text-anchor=\"middle\" x=\"99\" y=\"-362.3\" font-family=\"Times New Roman,serif\" font-size=\"14.00\">A</text>\n</g>\n<!-- A&#45;&gt;B -->\n<g id=\"edge4\" class=\"edge\">\n<title>A&#45;&gt;B</title>\n<path fill=\"none\" stroke=\"black\" d=\"M99,-347.8C99,-336.16 99,-320.55 99,-307.24\"/>\n<polygon fill=\"black\" stroke=\"black\" points=\"102.5,-307.18 99,-297.18 95.5,-307.18 102.5,-307.18\"/>\n<text text-anchor=\"middle\" x=\"102.5\" y=\"-318.8\" font-family=\"Times New Roman,serif\" font-size=\"14.00\">0</text>\n</g>\n<!-- D&#45;&gt;F -->\n<g id=\"edge7\" class=\"edge\">\n<title>D&#45;&gt;F</title>\n<path fill=\"none\" stroke=\"black\" d=\"M94.06,-174.21C90.57,-162.33 85.81,-146.17 81.81,-132.56\"/>\n<polygon fill=\"black\" stroke=\"black\" points=\"85.11,-131.36 78.93,-122.76 78.39,-133.34 85.11,-131.36\"/>\n<text text-anchor=\"middle\" x=\"90.5\" y=\"-144.8\" font-family=\"Times New Roman,serif\" font-size=\"14.00\">3</text>\n</g>\n<!-- D&#45;&gt;E -->\n<g id=\"edge2\" class=\"edge\">\n<title>D&#45;&gt;E</title>\n<path fill=\"none\" stroke=\"black\" d=\"M108.06,-174.61C114.87,-162.3 124.31,-145.23 132.07,-131.19\"/>\n<polygon fill=\"black\" stroke=\"black\" points=\"135.35,-132.5 137.13,-122.05 129.22,-129.11 135.35,-132.5\"/>\n<text text-anchor=\"middle\" x=\"128.5\" y=\"-144.8\" font-family=\"Times New Roman,serif\" font-size=\"14.00\">4</text>\n</g>\n</g>\n</svg>\n",
      "text/plain": [
       "<graphviz.graphs.Digraph at 0x1ed0ebbd430>"
      ]
     },
     "execution_count": 30,
     "metadata": {},
     "output_type": "execute_result"
    }
   ],
   "source": [
    "grs = GraphSearch()\n",
    "grs.add_nodes([\"A\", \"B\", \"C\"])\n",
    "grs.add_edges(\n",
    "    [\n",
    "        (\"A\", \"B\"),\n",
    "        (\"B\", \"D\", 1),\n",
    "        (\"D\", \"E\", 4),\n",
    "        (\"D\", \"F\", 3),\n",
    "        (\"E\", \"G\", 2),\n",
    "        (\"G\", \"B\", 6),\n",
    "        (\"B\", \"G\", 2),\n",
    "    ]\n",
    ")\n",
    "grs.visualize()\n"
   ]
  },
  {
   "cell_type": "markdown",
   "id": "bcad6525-6fad-4abe-818e-cddb6ca0da18",
   "metadata": {},
   "source": [
    "We have got traversal orders for *BFS* and *DFS* methods. Starting point can be freely chosen."
   ]
  },
  {
   "cell_type": "code",
   "execution_count": 31,
   "id": "3d52b7ba-3473-4b9d-9c63-b0374fe7de50",
   "metadata": {},
   "outputs": [
    {
     "data": {
      "text/plain": [
       "{'discovered': ['D', 'G', 'E', 'F'], 'finished': ['B', 'D', 'G', 'E', 'F']}"
      ]
     },
     "execution_count": 31,
     "metadata": {},
     "output_type": "execute_result"
    }
   ],
   "source": [
    "grs.trav_bfs(\"B\")\n"
   ]
  },
  {
   "cell_type": "code",
   "execution_count": 32,
   "id": "4556fa3f-1cfe-4c77-8562-9e26af6107c7",
   "metadata": {},
   "outputs": [
    {
     "data": {
      "text/plain": [
       "{'discovered': ['D', 'G', 'E', 'F'], 'finished': ['B', 'D', 'G', 'E', 'F']}"
      ]
     },
     "execution_count": 32,
     "metadata": {},
     "output_type": "execute_result"
    }
   ],
   "source": [
    "grs.trav_bfs(\"B\")\n"
   ]
  },
  {
   "cell_type": "markdown",
   "id": "b1fb6e68-d57c-437d-8e69-15e35f481f9b",
   "metadata": {},
   "source": [
    "And here is how to find the path."
   ]
  },
  {
   "cell_type": "code",
   "execution_count": 33,
   "id": "7bcd7c7a-a980-436b-90e1-7dda95992709",
   "metadata": {},
   "outputs": [
    {
     "data": {
      "text/plain": [
       "['A', 'B', 'D', 'E']"
      ]
     },
     "execution_count": 33,
     "metadata": {},
     "output_type": "execute_result"
    }
   ],
   "source": [
    "grs.find_path(\"A\", \"E\")\n"
   ]
  },
  {
   "cell_type": "code",
   "execution_count": 34,
   "id": "baaf1355-a7b9-4cd2-b446-5ecc76d702d5",
   "metadata": {},
   "outputs": [
    {
     "name": "stdout",
     "output_type": "stream",
     "text": [
      "Path points are not in the graph.\n"
     ]
    }
   ],
   "source": [
    "try:\n",
    "    grs.find_path(\"foo\", \"A\")\n",
    "except Exception as err:\n",
    "    print(err)\n"
   ]
  },
  {
   "cell_type": "markdown",
   "id": "e50d0474-05e6-474f-9712-f2d2f495ce02",
   "metadata": {},
   "source": [
    "-----------------------"
   ]
  },
  {
   "cell_type": "markdown",
   "id": "cb71b7dd-f8d8-45e0-955b-8dde26640034",
   "metadata": {
    "tags": []
   },
   "source": [
    "# Task 4"
   ]
  },
  {
   "cell_type": "markdown",
   "id": "d664fb42-b4c8-442c-ae51-6363b9d80acb",
   "metadata": {
    "tags": []
   },
   "source": [
    "_**DFS features modification - topological sorting**_"
   ]
  },
  {
   "cell_type": "markdown",
   "id": "22b65e8d-ee44-4b71-ae19-e8b12a013a6c",
   "metadata": {},
   "source": [
    "-----------------------"
   ]
  },
  {
   "cell_type": "markdown",
   "id": "a52faecf-9aed-4d72-a31a-69c69b78f71c",
   "metadata": {},
   "source": [
    "Next, I added topological sorting method which returns a list of order - if it is only possible. Cycles disenable it.\n",
    "\n",
    "After sorting - or for any desired subset of graph nodes we can visualise it as a row with connections.\n",
    "\n",
    "I did not modify the search method as it was in the task, becouse it is already written correctly. "
   ]
  },
  {
   "cell_type": "markdown",
   "id": "c831e6ff-b023-4234-8045-af1dc199818b",
   "metadata": {},
   "source": [
    "## Topological sorting in the class"
   ]
  },
  {
   "cell_type": "code",
   "execution_count": 35,
   "id": "66cd03d3-c43e-4cac-9ed9-29eb8b2e8d71",
   "metadata": {},
   "outputs": [],
   "source": [
    "class GraphTopo(GraphSearch):\n",
    "    \"\"\"`GraphBasic` extended with the visualization, traversal, path finding and\n",
    "        sorting methods (along with the custom visualization).\n",
    "    \"\"\"\n",
    "\n",
    "    def topo_sort(self) -> List[Any]:\n",
    "        \"\"\"Sort the graph topologically.\n",
    "\n",
    "        Raises:\n",
    "            Exception: Only directed graph can be sorted that way.\n",
    "            Exception: Cycles are forbidden while sorting.\n",
    "\n",
    "        Returns:\n",
    "            List[Any]: Sequence of the graph keys in topological order.\n",
    "        \"\"\"\n",
    "        if not self.directed:\n",
    "            raise Exception(\"Undirected graph cannot be sorted topologically.\")\n",
    "        self._reset_hdata()\n",
    "        visit_times = dict()\n",
    "        for node in self.nodes.values():\n",
    "            if node.color == \"w\":\n",
    "                self._mark_dfs(node)\n",
    "        if self._has_cycles:\n",
    "            raise Exception(\n",
    "                \"Graph with cycles cannot be sorted topologically.\")\n",
    "        for key, node in self.nodes.items():\n",
    "            visit_times[node.fin] = key\n",
    "        sorted_visits = sorted(visit_times.items(), reverse=True)\n",
    "        sorted_keys = [tup[1] for tup in sorted_visits]\n",
    "        self._reset_hdata()\n",
    "        return sorted_keys\n",
    "\n",
    "    def vis_line_order(self, subgraph_keys: List[Any]) -> graphviz.graphs.Digraph:\n",
    "        \"\"\"Visualize the nodes relation in one line and in the given order.\n",
    "            It is mainly to analyse selections of the nodes from the graph. \n",
    "\n",
    "        Args:\n",
    "            subgraph_keys (List[Any]): List of keys to visualize the relation.\n",
    "\n",
    "        Raises:\n",
    "            Exception: Only directed graph can be visualized that way.  \n",
    "                (Only a convention).\n",
    "            Exception: To visualize the nodes they must be elements of the graph. \n",
    "\n",
    "        Returns:\n",
    "            graphviz.graphs.Digraph: Graph object in `dot` language.\n",
    "        \"\"\"\n",
    "        if not self.directed:\n",
    "            raise Exception(\"Undirected graph cannot be visualized this way.\")\n",
    "        for key in subgraph_keys:\n",
    "            if key not in self.get_nodes():\n",
    "                raise Exception(\"Invalid nodes on the list.\")\n",
    "\n",
    "        dot = graphviz.Digraph()\n",
    "        dot.attr(\"node\", style=\"filled\", fillcolor=\"lightblue2\")\n",
    "        for key in subgraph_keys:\n",
    "            dot.node(str(key))\n",
    "        for node_keys, weight in self.get_edges():\n",
    "            from_node, to_node = list(node_keys)\n",
    "            if from_node in subgraph_keys and to_node in subgraph_keys:\n",
    "                edge_data = list(map(str, [from_node, to_node]))\n",
    "                dot.edge(*edge_data, constraint=\"false\")\n",
    "\n",
    "        return dot\n"
   ]
  },
  {
   "cell_type": "markdown",
   "id": "87a21d60-6c96-4311-b98b-ceeabe2dc8dd",
   "metadata": {},
   "source": [
    "## Presentation"
   ]
  },
  {
   "cell_type": "code",
   "execution_count": 36,
   "id": "c2724574-a9fc-45b8-ab4e-34ab7bcdee9f",
   "metadata": {},
   "outputs": [
    {
     "data": {
      "image/svg+xml": "<?xml version=\"1.0\" encoding=\"UTF-8\" standalone=\"no\"?>\n<!DOCTYPE svg PUBLIC \"-//W3C//DTD SVG 1.1//EN\"\n \"http://www.w3.org/Graphics/SVG/1.1/DTD/svg11.dtd\">\n<!-- Generated by graphviz version 2.50.0 (20211204.2007)\n -->\n<!-- Pages: 1 -->\n<svg width=\"169pt\" height=\"392pt\"\n viewBox=\"0.00 0.00 169.00 392.00\" xmlns=\"http://www.w3.org/2000/svg\" xmlns:xlink=\"http://www.w3.org/1999/xlink\">\n<g id=\"graph0\" class=\"graph\" transform=\"scale(1 1) rotate(0) translate(4 388)\">\n<polygon fill=\"white\" stroke=\"transparent\" points=\"-4,4 -4,-388 165,-388 165,4 -4,4\"/>\n<!-- C -->\n<g id=\"node1\" class=\"node\">\n<title>C</title>\n<ellipse fill=\"#b2dfee\" stroke=\"black\" cx=\"55\" cy=\"-366\" rx=\"27\" ry=\"18\"/>\n<text text-anchor=\"middle\" x=\"55\" y=\"-362.3\" font-family=\"Times New Roman,serif\" font-size=\"14.00\">C</text>\n</g>\n<!-- B -->\n<g id=\"node2\" class=\"node\">\n<title>B</title>\n<ellipse fill=\"#b2dfee\" stroke=\"black\" cx=\"127\" cy=\"-279\" rx=\"27\" ry=\"18\"/>\n<text text-anchor=\"middle\" x=\"127\" y=\"-275.3\" font-family=\"Times New Roman,serif\" font-size=\"14.00\">B</text>\n</g>\n<!-- D -->\n<g id=\"node7\" class=\"node\">\n<title>D</title>\n<ellipse fill=\"#b2dfee\" stroke=\"black\" cx=\"99\" cy=\"-192\" rx=\"27\" ry=\"18\"/>\n<text text-anchor=\"middle\" x=\"99\" y=\"-188.3\" font-family=\"Times New Roman,serif\" font-size=\"14.00\">D</text>\n</g>\n<!-- B&#45;&gt;D -->\n<g id=\"edge3\" class=\"edge\">\n<title>B&#45;&gt;D</title>\n<path fill=\"none\" stroke=\"black\" d=\"M121.47,-261.21C117.56,-249.33 112.23,-233.17 107.75,-219.56\"/>\n<polygon fill=\"black\" stroke=\"black\" points=\"110.97,-218.16 104.52,-209.76 104.32,-220.35 110.97,-218.16\"/>\n<text text-anchor=\"middle\" x=\"118.5\" y=\"-231.8\" font-family=\"Times New Roman,serif\" font-size=\"14.00\">1</text>\n</g>\n<!-- F -->\n<g id=\"node3\" class=\"node\">\n<title>F</title>\n<ellipse fill=\"#b2dfee\" stroke=\"black\" cx=\"27\" cy=\"-105\" rx=\"27\" ry=\"18\"/>\n<text text-anchor=\"middle\" x=\"27\" y=\"-101.3\" font-family=\"Times New Roman,serif\" font-size=\"14.00\">F</text>\n</g>\n<!-- G -->\n<g id=\"node4\" class=\"node\">\n<title>G</title>\n<ellipse fill=\"#b2dfee\" stroke=\"black\" cx=\"134\" cy=\"-18\" rx=\"27\" ry=\"18\"/>\n<text text-anchor=\"middle\" x=\"134\" y=\"-14.3\" font-family=\"Times New Roman,serif\" font-size=\"14.00\">G</text>\n</g>\n<!-- G&#45;&gt;B -->\n<g id=\"edge5\" class=\"edge\">\n<title>G&#45;&gt;B</title>\n<path fill=\"none\" stroke=\"black\" d=\"M134.82,-36.14C136.26,-69.6 138.75,-145.95 135,-210 134.21,-223.49 132.54,-238.41 130.93,-250.83\"/>\n<polygon fill=\"black\" stroke=\"black\" points=\"127.43,-250.62 129.56,-261 134.37,-251.56 127.43,-250.62\"/>\n<text text-anchor=\"middle\" x=\"140.5\" y=\"-144.8\" font-family=\"Times New Roman,serif\" font-size=\"14.00\">2</text>\n</g>\n<!-- E -->\n<g id=\"node5\" class=\"node\">\n<title>E</title>\n<ellipse fill=\"#b2dfee\" stroke=\"black\" cx=\"99\" cy=\"-105\" rx=\"27\" ry=\"18\"/>\n<text text-anchor=\"middle\" x=\"99\" y=\"-101.3\" font-family=\"Times New Roman,serif\" font-size=\"14.00\">E</text>\n</g>\n<!-- E&#45;&gt;G -->\n<g id=\"edge4\" class=\"edge\">\n<title>E&#45;&gt;G</title>\n<path fill=\"none\" stroke=\"black\" d=\"M105.91,-87.21C110.88,-75.14 117.68,-58.64 123.34,-44.89\"/>\n<polygon fill=\"black\" stroke=\"black\" points=\"126.65,-46.05 127.22,-35.47 120.17,-43.38 126.65,-46.05\"/>\n<text text-anchor=\"middle\" x=\"122.5\" y=\"-57.8\" font-family=\"Times New Roman,serif\" font-size=\"14.00\">2</text>\n</g>\n<!-- A -->\n<g id=\"node6\" class=\"node\">\n<title>A</title>\n<ellipse fill=\"#b2dfee\" stroke=\"black\" cx=\"127\" cy=\"-366\" rx=\"27\" ry=\"18\"/>\n<text text-anchor=\"middle\" x=\"127\" y=\"-362.3\" font-family=\"Times New Roman,serif\" font-size=\"14.00\">A</text>\n</g>\n<!-- A&#45;&gt;B -->\n<g id=\"edge2\" class=\"edge\">\n<title>A&#45;&gt;B</title>\n<path fill=\"none\" stroke=\"black\" d=\"M127,-347.8C127,-336.16 127,-320.55 127,-307.24\"/>\n<polygon fill=\"black\" stroke=\"black\" points=\"130.5,-307.18 127,-297.18 123.5,-307.18 130.5,-307.18\"/>\n<text text-anchor=\"middle\" x=\"130.5\" y=\"-318.8\" font-family=\"Times New Roman,serif\" font-size=\"14.00\">0</text>\n</g>\n<!-- D&#45;&gt;F -->\n<g id=\"edge6\" class=\"edge\">\n<title>D&#45;&gt;F</title>\n<path fill=\"none\" stroke=\"black\" d=\"M86.13,-175.8C75.07,-162.75 58.96,-143.74 46.35,-128.85\"/>\n<polygon fill=\"black\" stroke=\"black\" points=\"48.89,-126.43 39.76,-121.06 43.55,-130.96 48.89,-126.43\"/>\n<text text-anchor=\"middle\" x=\"71.5\" y=\"-144.8\" font-family=\"Times New Roman,serif\" font-size=\"14.00\">3</text>\n</g>\n<!-- D&#45;&gt;E -->\n<g id=\"edge1\" class=\"edge\">\n<title>D&#45;&gt;E</title>\n<path fill=\"none\" stroke=\"black\" d=\"M99,-173.8C99,-162.16 99,-146.55 99,-133.24\"/>\n<polygon fill=\"black\" stroke=\"black\" points=\"102.5,-133.18 99,-123.18 95.5,-133.18 102.5,-133.18\"/>\n<text text-anchor=\"middle\" x=\"102.5\" y=\"-144.8\" font-family=\"Times New Roman,serif\" font-size=\"14.00\">4</text>\n</g>\n</g>\n</svg>\n",
      "text/plain": [
       "<graphviz.graphs.Digraph at 0x1ed0ebc58e0>"
      ]
     },
     "execution_count": 36,
     "metadata": {},
     "output_type": "execute_result"
    }
   ],
   "source": [
    "grt = GraphTopo()\n",
    "grt.add_nodes([\"A\", \"B\", \"C\"])\n",
    "grt.add_edges(\n",
    "    [\n",
    "        (\"A\", \"B\"),\n",
    "        (\"B\", \"D\", 1),\n",
    "        (\"D\", \"E\", 4),\n",
    "        (\"D\", \"F\", 3),\n",
    "        (\"E\", \"G\", 2),\n",
    "        (\"G\", \"B\", 2),\n",
    "    ]\n",
    ")\n",
    "grt.visualize()\n"
   ]
  },
  {
   "cell_type": "markdown",
   "id": "04c53e46-005b-4470-95fd-03fc116f2910",
   "metadata": {},
   "source": [
    "The structure above cannot be sorted because of its cycle."
   ]
  },
  {
   "cell_type": "code",
   "execution_count": 37,
   "id": "835020e3-1d30-4446-a2f7-430aec2b8ef7",
   "metadata": {},
   "outputs": [
    {
     "name": "stdout",
     "output_type": "stream",
     "text": [
      "Graph with cycles cannot be sorted topologically.\n"
     ]
    }
   ],
   "source": [
    "try:\n",
    "    grt.topo_sort()\n",
    "except Exception as err:\n",
    "    print(err)\n"
   ]
  },
  {
   "cell_type": "markdown",
   "id": "4e0482e7-54b7-4d2f-83a5-174051730fa2",
   "metadata": {},
   "source": [
    "If we remove one edge, the operation can be performed. "
   ]
  },
  {
   "cell_type": "code",
   "execution_count": 38,
   "id": "2a09f67e-f2ed-44c8-850c-575482ef2a3d",
   "metadata": {},
   "outputs": [
    {
     "data": {
      "text/plain": [
       "['C', 'A', 'B', 'D', 'F', 'E', 'G']"
      ]
     },
     "execution_count": 38,
     "metadata": {},
     "output_type": "execute_result"
    }
   ],
   "source": [
    "grt.del_edge(\"G\", \"B\")\n",
    "topo_sorted = grt.topo_sort()\n",
    "topo_sorted\n"
   ]
  },
  {
   "cell_type": "markdown",
   "id": "8abdda75-3b86-49a1-b9a4-c9d004f13e28",
   "metadata": {},
   "source": [
    "Then, visualize it."
   ]
  },
  {
   "cell_type": "code",
   "execution_count": 39,
   "id": "ea469936-b47c-48f8-9549-dddffad7cd14",
   "metadata": {},
   "outputs": [
    {
     "data": {
      "image/svg+xml": "<?xml version=\"1.0\" encoding=\"UTF-8\" standalone=\"no\"?>\n<!DOCTYPE svg PUBLIC \"-//W3C//DTD SVG 1.1//EN\"\n \"http://www.w3.org/Graphics/SVG/1.1/DTD/svg11.dtd\">\n<!-- Generated by graphviz version 2.50.0 (20211204.2007)\n -->\n<!-- Pages: 1 -->\n<svg width=\"494pt\" height=\"68pt\"\n viewBox=\"0.00 0.00 494.00 67.96\" xmlns=\"http://www.w3.org/2000/svg\" xmlns:xlink=\"http://www.w3.org/1999/xlink\">\n<g id=\"graph0\" class=\"graph\" transform=\"scale(1 1) rotate(0) translate(4 63.96)\">\n<polygon fill=\"white\" stroke=\"transparent\" points=\"-4,4 -4,-63.96 490,-63.96 490,4 -4,4\"/>\n<!-- C -->\n<g id=\"node1\" class=\"node\">\n<title>C</title>\n<ellipse fill=\"#b2dfee\" stroke=\"black\" cx=\"27\" cy=\"-18\" rx=\"27\" ry=\"18\"/>\n<text text-anchor=\"middle\" x=\"27\" y=\"-14.3\" font-family=\"Times New Roman,serif\" font-size=\"14.00\">C</text>\n</g>\n<!-- A -->\n<g id=\"node2\" class=\"node\">\n<title>A</title>\n<ellipse fill=\"#b2dfee\" stroke=\"black\" cx=\"99\" cy=\"-18\" rx=\"27\" ry=\"18\"/>\n<text text-anchor=\"middle\" x=\"99\" y=\"-14.3\" font-family=\"Times New Roman,serif\" font-size=\"14.00\">A</text>\n</g>\n<!-- B -->\n<g id=\"node3\" class=\"node\">\n<title>B</title>\n<ellipse fill=\"#b2dfee\" stroke=\"black\" cx=\"171\" cy=\"-18\" rx=\"27\" ry=\"18\"/>\n<text text-anchor=\"middle\" x=\"171\" y=\"-14.3\" font-family=\"Times New Roman,serif\" font-size=\"14.00\">B</text>\n</g>\n<!-- A&#45;&gt;B -->\n<g id=\"edge2\" class=\"edge\">\n<title>A&#45;&gt;B</title>\n<path fill=\"none\" stroke=\"black\" d=\"M126,-18C128.61,-18 131.23,-18 133.84,-18\"/>\n<polygon fill=\"black\" stroke=\"black\" points=\"133.93,-21.5 143.93,-18 133.93,-14.5 133.93,-21.5\"/>\n</g>\n<!-- D -->\n<g id=\"node4\" class=\"node\">\n<title>D</title>\n<ellipse fill=\"#b2dfee\" stroke=\"black\" cx=\"243\" cy=\"-18\" rx=\"27\" ry=\"18\"/>\n<text text-anchor=\"middle\" x=\"243\" y=\"-14.3\" font-family=\"Times New Roman,serif\" font-size=\"14.00\">D</text>\n</g>\n<!-- B&#45;&gt;D -->\n<g id=\"edge3\" class=\"edge\">\n<title>B&#45;&gt;D</title>\n<path fill=\"none\" stroke=\"black\" d=\"M198,-18C200.61,-18 203.23,-18 205.84,-18\"/>\n<polygon fill=\"black\" stroke=\"black\" points=\"205.93,-21.5 215.93,-18 205.93,-14.5 205.93,-21.5\"/>\n</g>\n<!-- F -->\n<g id=\"node5\" class=\"node\">\n<title>F</title>\n<ellipse fill=\"#b2dfee\" stroke=\"black\" cx=\"315\" cy=\"-18\" rx=\"27\" ry=\"18\"/>\n<text text-anchor=\"middle\" x=\"315\" y=\"-14.3\" font-family=\"Times New Roman,serif\" font-size=\"14.00\">F</text>\n</g>\n<!-- D&#45;&gt;F -->\n<g id=\"edge5\" class=\"edge\">\n<title>D&#45;&gt;F</title>\n<path fill=\"none\" stroke=\"black\" d=\"M270,-18C272.61,-18 275.23,-18 277.84,-18\"/>\n<polygon fill=\"black\" stroke=\"black\" points=\"277.93,-21.5 287.93,-18 277.93,-14.5 277.93,-21.5\"/>\n</g>\n<!-- E -->\n<g id=\"node6\" class=\"node\">\n<title>E</title>\n<ellipse fill=\"#b2dfee\" stroke=\"black\" cx=\"387\" cy=\"-18\" rx=\"27\" ry=\"18\"/>\n<text text-anchor=\"middle\" x=\"387\" y=\"-14.3\" font-family=\"Times New Roman,serif\" font-size=\"14.00\">E</text>\n</g>\n<!-- D&#45;&gt;E -->\n<g id=\"edge1\" class=\"edge\">\n<title>D&#45;&gt;E</title>\n<path fill=\"none\" stroke=\"black\" d=\"M257.22,-33.57C265.37,-41.32 276.29,-49.89 288,-54 310.65,-61.94 319.35,-61.94 342,-54 350.23,-51.11 358.08,-46.02 364.84,-40.55\"/>\n<polygon fill=\"black\" stroke=\"black\" points=\"367.58,-42.8 372.78,-33.57 362.96,-37.54 367.58,-42.8\"/>\n</g>\n<!-- G -->\n<g id=\"node7\" class=\"node\">\n<title>G</title>\n<ellipse fill=\"#b2dfee\" stroke=\"black\" cx=\"459\" cy=\"-18\" rx=\"27\" ry=\"18\"/>\n<text text-anchor=\"middle\" x=\"459\" y=\"-14.3\" font-family=\"Times New Roman,serif\" font-size=\"14.00\">G</text>\n</g>\n<!-- E&#45;&gt;G -->\n<g id=\"edge4\" class=\"edge\">\n<title>E&#45;&gt;G</title>\n<path fill=\"none\" stroke=\"black\" d=\"M414,-18C416.61,-18 419.23,-18 421.84,-18\"/>\n<polygon fill=\"black\" stroke=\"black\" points=\"421.93,-21.5 431.93,-18 421.93,-14.5 421.93,-21.5\"/>\n</g>\n</g>\n</svg>\n",
      "text/plain": [
       "<graphviz.graphs.Digraph at 0x1ed0ebc5b50>"
      ]
     },
     "execution_count": 39,
     "metadata": {},
     "output_type": "execute_result"
    }
   ],
   "source": [
    "grt.vis_line_order(topo_sorted)\n"
   ]
  },
  {
   "cell_type": "markdown",
   "id": "c878c3a9-b692-4c6d-b5cb-469685da2cc0",
   "metadata": {},
   "source": [
    "As it was mentioned, we can visualise only a \"subgraph\" with its connenctions."
   ]
  },
  {
   "cell_type": "code",
   "execution_count": 40,
   "id": "2ce8fe9b-7634-4f82-935f-312ce7d18792",
   "metadata": {},
   "outputs": [
    {
     "data": {
      "image/svg+xml": "<?xml version=\"1.0\" encoding=\"UTF-8\" standalone=\"no\"?>\n<!DOCTYPE svg PUBLIC \"-//W3C//DTD SVG 1.1//EN\"\n \"http://www.w3.org/Graphics/SVG/1.1/DTD/svg11.dtd\">\n<!-- Generated by graphviz version 2.50.0 (20211204.2007)\n -->\n<!-- Pages: 1 -->\n<svg width=\"206pt\" height=\"44pt\"\n viewBox=\"0.00 0.00 206.00 44.00\" xmlns=\"http://www.w3.org/2000/svg\" xmlns:xlink=\"http://www.w3.org/1999/xlink\">\n<g id=\"graph0\" class=\"graph\" transform=\"scale(1 1) rotate(0) translate(4 40)\">\n<polygon fill=\"white\" stroke=\"transparent\" points=\"-4,4 -4,-40 202,-40 202,4 -4,4\"/>\n<!-- A -->\n<g id=\"node1\" class=\"node\">\n<title>A</title>\n<ellipse fill=\"#b2dfee\" stroke=\"black\" cx=\"27\" cy=\"-18\" rx=\"27\" ry=\"18\"/>\n<text text-anchor=\"middle\" x=\"27\" y=\"-14.3\" font-family=\"Times New Roman,serif\" font-size=\"14.00\">A</text>\n</g>\n<!-- B -->\n<g id=\"node3\" class=\"node\">\n<title>B</title>\n<ellipse fill=\"#b2dfee\" stroke=\"black\" cx=\"99\" cy=\"-18\" rx=\"27\" ry=\"18\"/>\n<text text-anchor=\"middle\" x=\"99\" y=\"-14.3\" font-family=\"Times New Roman,serif\" font-size=\"14.00\">B</text>\n</g>\n<!-- A&#45;&gt;B -->\n<g id=\"edge1\" class=\"edge\">\n<title>A&#45;&gt;B</title>\n<path fill=\"none\" stroke=\"black\" d=\"M54,-18C56.61,-18 59.23,-18 61.84,-18\"/>\n<polygon fill=\"black\" stroke=\"black\" points=\"61.93,-21.5 71.93,-18 61.93,-14.5 61.93,-21.5\"/>\n</g>\n<!-- D -->\n<g id=\"node2\" class=\"node\">\n<title>D</title>\n<ellipse fill=\"#b2dfee\" stroke=\"black\" cx=\"171\" cy=\"-18\" rx=\"27\" ry=\"18\"/>\n<text text-anchor=\"middle\" x=\"171\" y=\"-14.3\" font-family=\"Times New Roman,serif\" font-size=\"14.00\">D</text>\n</g>\n<!-- B&#45;&gt;D -->\n<g id=\"edge2\" class=\"edge\">\n<title>B&#45;&gt;D</title>\n<path fill=\"none\" stroke=\"black\" d=\"M126,-18C128.61,-18 131.23,-18 133.84,-18\"/>\n<polygon fill=\"black\" stroke=\"black\" points=\"133.93,-21.5 143.93,-18 133.93,-14.5 133.93,-21.5\"/>\n</g>\n</g>\n</svg>\n",
      "text/plain": [
       "<graphviz.graphs.Digraph at 0x1ed0ebc5760>"
      ]
     },
     "execution_count": 40,
     "metadata": {},
     "output_type": "execute_result"
    }
   ],
   "source": [
    "grt.vis_line_order([\"A\", \"D\", \"B\"])\n"
   ]
  },
  {
   "cell_type": "markdown",
   "id": "3380cf32-01f9-4f4c-a50f-cc7119069477",
   "metadata": {},
   "source": [
    "However, the given nodes must be valid."
   ]
  },
  {
   "cell_type": "code",
   "execution_count": 41,
   "id": "186421df-1bf1-4a4a-9fbb-c8c8ed93ea70",
   "metadata": {},
   "outputs": [
    {
     "name": "stdout",
     "output_type": "stream",
     "text": [
      "'GraphSearch' object has no attribute 'vis_line_order'\n"
     ]
    }
   ],
   "source": [
    "try:\n",
    "    grs.vis_line_order([\"A\", \"foo\", \"B\"])\n",
    "except Exception as err:\n",
    "    print(err)\n"
   ]
  },
  {
   "cell_type": "markdown",
   "id": "08ade510-f5c3-462d-8d0e-3c8494f2924a",
   "metadata": {},
   "source": [
    "-----------------------"
   ]
  },
  {
   "cell_type": "markdown",
   "id": "48a61662-6d0f-4e32-84bf-5161e1af8016",
   "metadata": {
    "tags": []
   },
   "source": [
    "# Task 5"
   ]
  },
  {
   "cell_type": "markdown",
   "id": "33abfb33-9c67-45a9-a209-91577470785a",
   "metadata": {
    "tags": []
   },
   "source": [
    "_**Optimal paths between the nodes**_"
   ]
  },
  {
   "cell_type": "markdown",
   "id": "a0844299-e58e-44b2-9352-d8a8b3eb63a9",
   "metadata": {},
   "source": [
    "-----------------------"
   ]
  },
  {
   "cell_type": "markdown",
   "id": "6e03ae72-a534-46ef-b008-3c2be30572fa",
   "metadata": {},
   "source": [
    "In this task I have added a Dijkstra path finder algorithm. The method which uses it can evaluate the shortest paths to all the nodes, begining from the given one (if only they are connected)."
   ]
  },
  {
   "cell_type": "markdown",
   "id": "a9ddccbe-ca8f-485f-8ebe-6a82736e9037",
   "metadata": {},
   "source": [
    "## Shortest path finder added"
   ]
  },
  {
   "cell_type": "code",
   "execution_count": 42,
   "id": "a18c35e1-f7e7-4134-9bef-9ea2f445ba04",
   "metadata": {},
   "outputs": [],
   "source": [
    "class GraphPaths(GraphTopo):\n",
    "    \"\"\"`GraphBasic` extended with the visualization, traversal, path finding,\n",
    "        sorting methods (along with the custom visualization) and the shortest\n",
    "            paths length evaluation algorithm (Dijkstra; regarding the weights).\n",
    "    \"\"\"\n",
    "\n",
    "    def _dijkstra(self, start_node: Node):\n",
    "        \"\"\"Perform a Dijkstra algorithm and mark all the visited nodes\n",
    "            with the shortest weighted distance from the starting node. \n",
    "\n",
    "        Args:\n",
    "            start_node (Node): Node to start searching from.\n",
    "        \"\"\"\n",
    "        start_node.dist = 0\n",
    "        priors = {node: node.dist for node in self._get_nodes_obj()}\n",
    "        start_node.color = \"b\"\n",
    "        while priors:\n",
    "            curr_node = min(priors.keys(), key=(lambda k: priors[k]))\n",
    "            priors.pop(curr_node)\n",
    "            for neigh_node in curr_node.neighbors:\n",
    "                new_dist = curr_node.dist + curr_node.get_weight(neigh_node)\n",
    "                if new_dist < neigh_node.dist:\n",
    "                    neigh_node.dist = new_dist\n",
    "                    neigh_node.pred = curr_node\n",
    "                    priors[neigh_node] = new_dist\n",
    "                neigh_node.color = \"b\"\n",
    "\n",
    "    def opt_paths_len(self, start_key: Any) -> Dict[Any, float]:\n",
    "        \"\"\"Find the shortest paths to all the nodes starting from the given one.\n",
    "        Consider the connection costs.\n",
    "\n",
    "        Args:\n",
    "            start_key (Any): Key of the node to start searching from.\n",
    "\n",
    "        Raises:\n",
    "            Exception: The start node must be an element of the graph.\n",
    "\n",
    "        Returns:\n",
    "            Dict[Any, float]: Nodes with their shortest path weighted distances.\n",
    "                (`None` if there is no connection)\n",
    "        \"\"\"\n",
    "        start_node = self._get_node_obj(start_key)\n",
    "        if not start_node:\n",
    "            raise Exception(\"Start point is not in the graph.\")\n",
    "        self._reset_hdata()\n",
    "        self._dijkstra(start_node)\n",
    "        distances = {\n",
    "            node.key: node.dist for node in self._get_nodes_obj() if node.color == \"b\"\n",
    "        }\n",
    "        distances_undisc = {\n",
    "            node.key: None for node in self._get_nodes_obj() if node.color != \"b\"\n",
    "        }\n",
    "        distances.update(distances_undisc)\n",
    "        return distances\n"
   ]
  },
  {
   "cell_type": "markdown",
   "id": "65c51b7b-5fbd-423c-81c3-c3fabc707f9c",
   "metadata": {},
   "source": [
    "## Presentation"
   ]
  },
  {
   "cell_type": "markdown",
   "id": "3c716969-ec07-41e9-ab84-30078d3b71cd",
   "metadata": {},
   "source": [
    "We see that the shorter path sometime consists of more nodes and that unconnected nodes have no path length assigned."
   ]
  },
  {
   "cell_type": "code",
   "execution_count": 43,
   "id": "ff3cdf27-a7ad-4907-8efe-da73aa726e8e",
   "metadata": {},
   "outputs": [
    {
     "data": {
      "image/svg+xml": "<?xml version=\"1.0\" encoding=\"UTF-8\" standalone=\"no\"?>\n<!DOCTYPE svg PUBLIC \"-//W3C//DTD SVG 1.1//EN\"\n \"http://www.w3.org/Graphics/SVG/1.1/DTD/svg11.dtd\">\n<!-- Generated by graphviz version 2.50.0 (20211204.2007)\n -->\n<!-- Pages: 1 -->\n<svg width=\"222pt\" height=\"392pt\"\n viewBox=\"0.00 0.00 222.00 392.00\" xmlns=\"http://www.w3.org/2000/svg\" xmlns:xlink=\"http://www.w3.org/1999/xlink\">\n<g id=\"graph0\" class=\"graph\" transform=\"scale(1 1) rotate(0) translate(4 388)\">\n<polygon fill=\"white\" stroke=\"transparent\" points=\"-4,4 -4,-388 218,-388 218,4 -4,4\"/>\n<!-- C -->\n<g id=\"node1\" class=\"node\">\n<title>C</title>\n<ellipse fill=\"#b2dfee\" stroke=\"black\" cx=\"109\" cy=\"-366\" rx=\"27\" ry=\"18\"/>\n<text text-anchor=\"middle\" x=\"109\" y=\"-362.3\" font-family=\"Times New Roman,serif\" font-size=\"14.00\">C</text>\n</g>\n<!-- B -->\n<g id=\"node2\" class=\"node\">\n<title>B</title>\n<ellipse fill=\"#b2dfee\" stroke=\"black\" cx=\"145\" cy=\"-279\" rx=\"27\" ry=\"18\"/>\n<text text-anchor=\"middle\" x=\"145\" y=\"-275.3\" font-family=\"Times New Roman,serif\" font-size=\"14.00\">B</text>\n</g>\n<!-- D -->\n<g id=\"node7\" class=\"node\">\n<title>D</title>\n<ellipse fill=\"#b2dfee\" stroke=\"black\" cx=\"99\" cy=\"-192\" rx=\"27\" ry=\"18\"/>\n<text text-anchor=\"middle\" x=\"99\" y=\"-188.3\" font-family=\"Times New Roman,serif\" font-size=\"14.00\">D</text>\n</g>\n<!-- B&#45;&gt;D -->\n<g id=\"edge5\" class=\"edge\">\n<title>B&#45;&gt;D</title>\n<path fill=\"none\" stroke=\"black\" d=\"M133.95,-262.28C129.98,-256.36 125.6,-249.49 122,-243 117.72,-235.28 113.53,-226.61 109.93,-218.69\"/>\n<polygon fill=\"black\" stroke=\"black\" points=\"113.11,-217.24 105.85,-209.52 106.71,-220.08 113.11,-217.24\"/>\n<text text-anchor=\"middle\" x=\"131\" y=\"-231.8\" font-family=\"Times New Roman,serif\" font-size=\"14.00\">1.5</text>\n</g>\n<!-- F -->\n<g id=\"node3\" class=\"node\">\n<title>F</title>\n<ellipse fill=\"#b2dfee\" stroke=\"black\" cx=\"27\" cy=\"-105\" rx=\"27\" ry=\"18\"/>\n<text text-anchor=\"middle\" x=\"27\" y=\"-101.3\" font-family=\"Times New Roman,serif\" font-size=\"14.00\">F</text>\n</g>\n<!-- G -->\n<g id=\"node4\" class=\"node\">\n<title>G</title>\n<ellipse fill=\"#b2dfee\" stroke=\"black\" cx=\"154\" cy=\"-18\" rx=\"27\" ry=\"18\"/>\n<text text-anchor=\"middle\" x=\"154\" y=\"-14.3\" font-family=\"Times New Roman,serif\" font-size=\"14.00\">G</text>\n</g>\n<!-- G&#45;&gt;B -->\n<g id=\"edge2\" class=\"edge\">\n<title>G&#45;&gt;B</title>\n<path fill=\"none\" stroke=\"black\" d=\"M153.4,-36.32C151.87,-80.38 147.81,-197.01 145.96,-250.49\"/>\n<polygon fill=\"black\" stroke=\"black\" points=\"142.45,-250.49 145.6,-260.6 149.45,-250.73 142.45,-250.49\"/>\n<text text-anchor=\"middle\" x=\"153.5\" y=\"-144.8\" font-family=\"Times New Roman,serif\" font-size=\"14.00\">6</text>\n</g>\n<!-- E -->\n<g id=\"node5\" class=\"node\">\n<title>E</title>\n<ellipse fill=\"#b2dfee\" stroke=\"black\" cx=\"99\" cy=\"-105\" rx=\"27\" ry=\"18\"/>\n<text text-anchor=\"middle\" x=\"99\" y=\"-101.3\" font-family=\"Times New Roman,serif\" font-size=\"14.00\">E</text>\n</g>\n<!-- E&#45;&gt;G -->\n<g id=\"edge1\" class=\"edge\">\n<title>E&#45;&gt;G</title>\n<path fill=\"none\" stroke=\"black\" d=\"M105.24,-87.11C109.31,-77.08 115.13,-64.35 122,-54 125,-49.49 128.57,-44.98 132.22,-40.77\"/>\n<polygon fill=\"black\" stroke=\"black\" points=\"135.04,-42.88 139.21,-33.14 129.88,-38.15 135.04,-42.88\"/>\n<text text-anchor=\"middle\" x=\"131\" y=\"-57.8\" font-family=\"Times New Roman,serif\" font-size=\"14.00\">1.6</text>\n</g>\n<!-- A -->\n<g id=\"node6\" class=\"node\">\n<title>A</title>\n<ellipse fill=\"#b2dfee\" stroke=\"black\" cx=\"181\" cy=\"-366\" rx=\"27\" ry=\"18\"/>\n<text text-anchor=\"middle\" x=\"181\" y=\"-362.3\" font-family=\"Times New Roman,serif\" font-size=\"14.00\">A</text>\n</g>\n<!-- A&#45;&gt;B -->\n<g id=\"edge4\" class=\"edge\">\n<title>A&#45;&gt;B</title>\n<path fill=\"none\" stroke=\"black\" d=\"M173.89,-348.21C168.78,-336.14 161.79,-319.64 155.97,-305.89\"/>\n<polygon fill=\"black\" stroke=\"black\" points=\"159.1,-304.31 151.98,-296.47 152.65,-307.04 159.1,-304.31\"/>\n<text text-anchor=\"middle\" x=\"169.5\" y=\"-318.8\" font-family=\"Times New Roman,serif\" font-size=\"14.00\">1</text>\n</g>\n<!-- A&#45;&gt;G -->\n<g id=\"edge6\" class=\"edge\">\n<title>A&#45;&gt;G</title>\n<path fill=\"none\" stroke=\"black\" d=\"M187.01,-348.31C192.58,-331.35 200,-304.19 200,-280 200,-280 200,-280 200,-104 200,-80.71 186.48,-57.69 174.09,-41.49\"/>\n<polygon fill=\"black\" stroke=\"black\" points=\"176.8,-39.27 167.8,-33.67 171.35,-43.66 176.8,-39.27\"/>\n<text text-anchor=\"middle\" x=\"207\" y=\"-188.3\" font-family=\"Times New Roman,serif\" font-size=\"14.00\">20</text>\n</g>\n<!-- D&#45;&gt;F -->\n<g id=\"edge7\" class=\"edge\">\n<title>D&#45;&gt;F</title>\n<path fill=\"none\" stroke=\"black\" d=\"M86.13,-175.8C75.07,-162.75 58.96,-143.74 46.35,-128.85\"/>\n<polygon fill=\"black\" stroke=\"black\" points=\"48.89,-126.43 39.76,-121.06 43.55,-130.96 48.89,-126.43\"/>\n<text text-anchor=\"middle\" x=\"71.5\" y=\"-144.8\" font-family=\"Times New Roman,serif\" font-size=\"14.00\">3</text>\n</g>\n<!-- D&#45;&gt;E -->\n<g id=\"edge3\" class=\"edge\">\n<title>D&#45;&gt;E</title>\n<path fill=\"none\" stroke=\"black\" d=\"M99,-173.8C99,-162.16 99,-146.55 99,-133.24\"/>\n<polygon fill=\"black\" stroke=\"black\" points=\"102.5,-133.18 99,-123.18 95.5,-133.18 102.5,-133.18\"/>\n<text text-anchor=\"middle\" x=\"102.5\" y=\"-144.8\" font-family=\"Times New Roman,serif\" font-size=\"14.00\">1</text>\n</g>\n</g>\n</svg>\n",
      "text/plain": [
       "<graphviz.graphs.Digraph at 0x1ed0de2ab20>"
      ]
     },
     "execution_count": 43,
     "metadata": {},
     "output_type": "execute_result"
    }
   ],
   "source": [
    "grp = GraphPaths()\n",
    "grp.add_node(\"C\")\n",
    "grp.add_edges(\n",
    "    [\n",
    "        (\"A\", \"B\", 1),\n",
    "        (\"B\", \"D\", 1.5),\n",
    "        (\"D\", \"E\", 1),\n",
    "        (\"D\", \"F\", 3),\n",
    "        (\"E\", \"G\", 1.6),\n",
    "        (\"G\", \"B\", 6),\n",
    "        (\"A\", \"G\", 20),\n",
    "    ]\n",
    ")\n",
    "grp.visualize()\n"
   ]
  },
  {
   "cell_type": "markdown",
   "id": "edbafa0e-c438-41d8-98ce-9e3f723cf728",
   "metadata": {},
   "source": [
    "And:"
   ]
  },
  {
   "cell_type": "code",
   "execution_count": 44,
   "id": "51e57fca-0938-4cb5-83ca-b8b738685c4b",
   "metadata": {},
   "outputs": [
    {
     "data": {
      "text/plain": [
       "{'G': 4.1, 'B': 0, 'F': 4.5, 'E': 2.5, 'D': 1.5, 'C': None, 'A': None}"
      ]
     },
     "execution_count": 44,
     "metadata": {},
     "output_type": "execute_result"
    }
   ],
   "source": [
    "grp.opt_paths_len(\"B\")\n"
   ]
  },
  {
   "cell_type": "markdown",
   "id": "1f4de15d-a1e2-436c-9cac-cbe948027ae1",
   "metadata": {},
   "source": [
    "-----------------------"
   ]
  },
  {
   "cell_type": "markdown",
   "id": "be8498bf-c3f5-420c-96d3-172a06960c2c",
   "metadata": {
    "tags": []
   },
   "source": [
    "# Final `Graph` class"
   ]
  },
  {
   "cell_type": "markdown",
   "id": "5dfbd0b1-47cf-4051-92b5-b0ffe138c6b2",
   "metadata": {},
   "source": [
    "-----------------------"
   ]
  },
  {
   "cell_type": "markdown",
   "id": "5aaa40cb-90b2-4442-ad82-de08199d81c7",
   "metadata": {},
   "source": [
    "A `Graph` class will be used in the next tasks, so there is the final inheriting product with a simple, ulitmate name."
   ]
  },
  {
   "cell_type": "code",
   "execution_count": 45,
   "id": "00652345-d88d-4d02-bf34-c63d8e901c22",
   "metadata": {},
   "outputs": [],
   "source": [
    "class Graph(GraphPaths):\n",
    "    \"\"\"A graph class with the complex node management support,\n",
    "        various searching, sorting and visualization methods and\n",
    "        enabling to find the shortest paths and the shortest weighted distances.\n",
    "\n",
    "    Inherits from the sequence of graph classes and states for a final product.\n",
    "\n",
    "    Attributes:\n",
    "        nodes (dict): Node keys and references to their objects.\n",
    "        node_count (int): Current number of nodes.\n",
    "        edge_count (int): Current number of edges.\n",
    "        directed (bool): Information about being a directed/undirected graph.\n",
    "        _time (int): Simple time counter to keep the searching order.\n",
    "        _has_cycles (bool): Information if any edge cycles are in the graph. \n",
    "\n",
    "    \"\"\"\n",
    "    pass\n"
   ]
  },
  {
   "cell_type": "markdown",
   "id": "175c3fc5-c4f2-4461-ab95-3091ddb094bd",
   "metadata": {},
   "source": [
    "-----------------------"
   ]
  },
  {
   "cell_type": "markdown",
   "id": "b325656b-a397-497a-b9dc-0584d7977b1a",
   "metadata": {
    "tags": []
   },
   "source": [
    "# Task 6"
   ]
  },
  {
   "cell_type": "markdown",
   "id": "a5505972-9d0a-4982-9212-cf1928c9072b",
   "metadata": {
    "tags": []
   },
   "source": [
    "_**\"Missionaries and cannibals\" problem**_"
   ]
  },
  {
   "cell_type": "markdown",
   "id": "68bae7a2-39e2-4892-b6e2-53dd45aac70e",
   "metadata": {},
   "source": [
    "-----------------------"
   ]
  },
  {
   "cell_type": "markdown",
   "id": "c7824a2a-1237-47c1-844e-c35ef77ba0d6",
   "metadata": {},
   "source": [
    "## Riversides represenation with missionaries, cannibals and a boat"
   ]
  },
  {
   "cell_type": "markdown",
   "id": "ce7d2abb-7123-4d27-8ef0-34ec752e8cd4",
   "metadata": {},
   "source": [
    "The situation is represented by the class. We have got 3 missionaries and 3 cannibals, distributed on two sides and the boat can be also on the left or right side.\n",
    "\n",
    "We can transit one or two people to the other side and check if the missionaries are safe from being eaten.\n",
    "\n",
    "Hashing is also supported, because it is essential to compare the states later."
   ]
  },
  {
   "cell_type": "code",
   "execution_count": 133,
   "id": "11268e7a-5108-4547-9753-a17cb2225b03",
   "metadata": {},
   "outputs": [],
   "source": [
    "class Riversides:\n",
    "    \"\"\"[summary]\n",
    "    \"\"\"\n",
    "    def __init__(\n",
    "        self,\n",
    "        left_mis: int = 3,\n",
    "        left_can: int = 3,\n",
    "        right_mis: int = 0,\n",
    "        right_can: int = 0,\n",
    "        boat_left: str = True,\n",
    "    ):\n",
    "        groups = [left_mis, left_can, right_mis, right_can]\n",
    "        if not all(map(lambda grp: isinstance(grp, int), groups)):\n",
    "            raise TypeError(\"Volumes have to be integers.\")\n",
    "        if all([0 <= grp <= 3 for grp in groups]):\n",
    "            self._left_mis = left_mis\n",
    "            self._left_can = left_can\n",
    "            self._right_mis = right_mis\n",
    "            self._right_can = right_can\n",
    "            self._boat_left = boat_left\n",
    "        else:\n",
    "            raise Exception(\"Invalid volumes.\")\n",
    "\n",
    "    def _transit(self, boat=Tuple[int]) -> Optional[Riversides]:\n",
    "        if self._boat_left:\n",
    "            new_left_mis = self._left_mis - boat[0]\n",
    "            new_left_can = self._left_can - boat[1]\n",
    "            new_right_mis = self._right_mis + boat[0]\n",
    "            new_right_can = self._right_can + boat[1]\n",
    "        else:\n",
    "            new_left_mis = self._left_mis + boat[0]\n",
    "            new_left_can = self._left_can + boat[1]\n",
    "            new_right_mis = self._right_mis - boat[0]\n",
    "            new_right_can = self._right_can - boat[1]\n",
    "\n",
    "        groups = [new_left_mis, new_left_can, new_right_mis, new_right_can]\n",
    "        if all([0 <= grp <= 3 for grp in groups]):\n",
    "            return Riversides(\n",
    "                new_left_mis,\n",
    "                new_left_can,\n",
    "                new_right_mis,\n",
    "                new_right_can,\n",
    "                not self._boat_left,\n",
    "            )\n",
    "        else:\n",
    "            return None\n",
    "\n",
    "    def do_actions(self) -> List[Riversides]:\n",
    "        transit_options = [(1, 1), (2, 0), (0, 2), (1, 0), (0, 1)]\n",
    "        moves = [self._transit(boat) for boat in transit_options]\n",
    "        legal_moves = list(filter(None, moves))\n",
    "        return legal_moves\n",
    "\n",
    "    def is_safe(self) -> bool:\n",
    "        condit_left = self._left_mis >= self._left_can or not self._left_mis\n",
    "        condit_right = self._right_mis >= self._right_can or not self._right_mis\n",
    "        if condit_left and condit_right:\n",
    "            return True\n",
    "        return False\n",
    "\n",
    "    def __str__(self) -> str:\n",
    "        return \"M-{lm} C-{lc}; M-{rm} C-{rc}\".format(\n",
    "            lm=str(self._left_mis),\n",
    "            lc=str(self._left_can),\n",
    "            rm=str(self._right_mis),\n",
    "            rc=str(self._right_can),\n",
    "        )\n",
    "\n",
    "    def __repr__(self) -> str:\n",
    "        return \"Riversides(left({lm}, {lc}), right({rm}, {rc}))\".format(\n",
    "            lm=str(self._left_mis),\n",
    "            lc=str(self._left_can),\n",
    "            rm=str(self._right_mis),\n",
    "            rc=str(self._right_can),\n",
    "        )\n",
    "\n",
    "    def __eq__(self, other):\n",
    "        if type(other) is type(self):\n",
    "            condits = [\n",
    "                self._left_mis == other._left_mis,\n",
    "                self._left_can == other._left_can,\n",
    "                self._right_mis == other._right_mis,\n",
    "                self._right_can == other._right_can,\n",
    "                self._boat_left == other._boat_left,\n",
    "            ]\n",
    "            return all(condits)\n",
    "        else:\n",
    "            return False\n",
    "\n",
    "    def __hash__(self):\n",
    "        return hash(\n",
    "            (\n",
    "                self._left_mis,\n",
    "                self._left_can,\n",
    "                self._right_mis,\n",
    "                self._right_can,\n",
    "                self._boat_left,\n",
    "            )\n",
    "        )\n"
   ]
  },
  {
   "cell_type": "markdown",
   "id": "78e9bfe6-026b-441f-b770-b34e0115afe5",
   "metadata": {},
   "source": [
    "## Solving functions"
   ]
  },
  {
   "cell_type": "markdown",
   "id": "2f3acc24-cf0d-4b17-85b7-9c6eb90330ad",
   "metadata": {},
   "source": [
    "At firtst the graph is built. For each state the new possible states are evaluated and if missionaries are alive we continue that process until we are run out of the new options."
   ]
  },
  {
   "cell_type": "code",
   "execution_count": 134,
   "id": "435371c1-9f49-4213-8890-bae33526563b",
   "metadata": {},
   "outputs": [],
   "source": [
    "def river_build_graph() -> Graph:\n",
    "    river_graph = Graph()\n",
    "    init_condit = Riversides()\n",
    "    river_graph.add_node(init_condit)\n",
    "\n",
    "    def branch(curr_state: Riversides):\n",
    "        new_states = curr_state.do_actions()\n",
    "        for state in new_states:\n",
    "            is_new = not (state in river_graph.get_nodes())\n",
    "            river_graph.add_edge(curr_state, state, 1)\n",
    "            if is_new and state.is_safe():\n",
    "                branch(state)\n",
    "\n",
    "    branch(init_condit)\n",
    "    return river_graph\n"
   ]
  },
  {
   "cell_type": "markdown",
   "id": "ba082be6-e533-41fe-a928-c448246310fd",
   "metadata": {},
   "source": [
    "Then the path have to be found."
   ]
  },
  {
   "cell_type": "code",
   "execution_count": 135,
   "id": "5a947ef0-4eba-4b06-9202-991d05a9f33c",
   "metadata": {},
   "outputs": [],
   "source": [
    "def find_river_steps() -> List[Riversides]:\n",
    "    river_graph = river_build_graph()\n",
    "    std_init = Riversides()\n",
    "    path = None\n",
    "    for node in river_graph.get_nodes():\n",
    "        if node == Riversides(0, 0, 3, 3, False):\n",
    "            path = river_graph.find_path(std_init, node)\n",
    "    return path\n"
   ]
  },
  {
   "cell_type": "markdown",
   "id": "72228bd4-65d5-408f-8352-02648a1ce27e",
   "metadata": {},
   "source": [
    "## Visualization"
   ]
  },
  {
   "cell_type": "markdown",
   "id": "453ff4e3-58df-4c9a-94df-fb2e9e0f16c6",
   "metadata": {},
   "source": [
    "Before the solution I show the graph representation of the problem."
   ]
  },
  {
   "cell_type": "code",
   "execution_count": 136,
   "id": "a1933af0-1df6-4b4d-b2ca-bae2fd191f13",
   "metadata": {},
   "outputs": [
    {
     "data": {
      "image/svg+xml": "<?xml version=\"1.0\" encoding=\"UTF-8\" standalone=\"no\"?>\n<!DOCTYPE svg PUBLIC \"-//W3C//DTD SVG 1.1//EN\"\n \"http://www.w3.org/Graphics/SVG/1.1/DTD/svg11.dtd\">\n<!-- Generated by graphviz version 2.50.0 (20211204.2007)\n -->\n<!-- Pages: 1 -->\n<svg width=\"1056pt\" height=\"740pt\"\n viewBox=\"0.00 0.00 1055.99 740.00\" xmlns=\"http://www.w3.org/2000/svg\" xmlns:xlink=\"http://www.w3.org/1999/xlink\">\n<g id=\"graph0\" class=\"graph\" transform=\"scale(1 1) rotate(0) translate(4 736)\">\n<polygon fill=\"white\" stroke=\"transparent\" points=\"-4,4 -4,-736 1051.99,-736 1051.99,4 -4,4\"/>\n<!-- M&#45;3 C&#45;1; M&#45;0 C&#45;2 -->\n<g id=\"node1\" class=\"node\">\n<title>M&#45;3 C&#45;1; M&#45;0 C&#45;2</title>\n<ellipse fill=\"#b2dfee\" stroke=\"black\" cx=\"387\" cy=\"-714\" rx=\"77.99\" ry=\"18\"/>\n<text text-anchor=\"middle\" x=\"387\" y=\"-710.3\" font-family=\"Times New Roman,serif\" font-size=\"14.00\">M&#45;3 C&#45;1; M&#45;0 C&#45;2</text>\n</g>\n<!-- M&#45;2 C&#45;1; M&#45;1 C&#45;2 -->\n<g id=\"node5\" class=\"node\">\n<title>M&#45;2 C&#45;1; M&#45;1 C&#45;2</title>\n<ellipse fill=\"#b2dfee\" stroke=\"black\" cx=\"106\" cy=\"-105\" rx=\"77.99\" ry=\"18\"/>\n<text text-anchor=\"middle\" x=\"106\" y=\"-101.3\" font-family=\"Times New Roman,serif\" font-size=\"14.00\">M&#45;2 C&#45;1; M&#45;1 C&#45;2</text>\n</g>\n<!-- M&#45;3 C&#45;1; M&#45;0 C&#45;2&#45;&gt;M&#45;2 C&#45;1; M&#45;1 C&#45;2 -->\n<g id=\"edge33\" class=\"edge\">\n<title>M&#45;3 C&#45;1; M&#45;0 C&#45;2&#45;&gt;M&#45;2 C&#45;1; M&#45;1 C&#45;2</title>\n<path fill=\"none\" stroke=\"black\" d=\"M313.01,-708.06C218.78,-699.7 68,-678.44 68,-628 68,-628 68,-628 68,-191 68,-169.79 77.99,-147.98 87.72,-131.77\"/>\n<polygon fill=\"black\" stroke=\"black\" points=\"90.94,-133.24 93.35,-122.92 85.03,-129.48 90.94,-133.24\"/>\n<text text-anchor=\"middle\" x=\"71.5\" y=\"-405.8\" font-family=\"Times New Roman,serif\" font-size=\"14.00\">1</text>\n</g>\n<!-- M&#45;3 C&#45;2; M&#45;0 C&#45;1 -->\n<g id=\"node6\" class=\"node\">\n<title>M&#45;3 C&#45;2; M&#45;0 C&#45;1</title>\n<ellipse fill=\"#b2dfee\" stroke=\"black\" cx=\"387\" cy=\"-627\" rx=\"77.99\" ry=\"18\"/>\n<text text-anchor=\"middle\" x=\"387\" y=\"-623.3\" font-family=\"Times New Roman,serif\" font-size=\"14.00\">M&#45;3 C&#45;2; M&#45;0 C&#45;1</text>\n</g>\n<!-- M&#45;3 C&#45;1; M&#45;0 C&#45;2&#45;&gt;M&#45;3 C&#45;2; M&#45;0 C&#45;1 -->\n<g id=\"edge26\" class=\"edge\">\n<title>M&#45;3 C&#45;1; M&#45;0 C&#45;2&#45;&gt;M&#45;3 C&#45;2; M&#45;0 C&#45;1</title>\n<path fill=\"none\" stroke=\"black\" d=\"M380.06,-695.98C376.94,-686.35 374.3,-674.07 376,-663 376.41,-660.32 376.99,-657.56 377.67,-654.83\"/>\n<polygon fill=\"black\" stroke=\"black\" points=\"381.04,-655.78 380.45,-645.2 374.31,-653.83 381.04,-655.78\"/>\n<text text-anchor=\"middle\" x=\"379.5\" y=\"-666.8\" font-family=\"Times New Roman,serif\" font-size=\"14.00\">1</text>\n</g>\n<!-- M&#45;1 C&#45;1; M&#45;2 C&#45;2 -->\n<g id=\"node8\" class=\"node\">\n<title>M&#45;1 C&#45;1; M&#45;2 C&#45;2</title>\n<ellipse fill=\"#b2dfee\" stroke=\"black\" cx=\"712\" cy=\"-192\" rx=\"77.99\" ry=\"18\"/>\n<text text-anchor=\"middle\" x=\"712\" y=\"-188.3\" font-family=\"Times New Roman,serif\" font-size=\"14.00\">M&#45;1 C&#45;1; M&#45;2 C&#45;2</text>\n</g>\n<!-- M&#45;3 C&#45;1; M&#45;0 C&#45;2&#45;&gt;M&#45;1 C&#45;1; M&#45;2 C&#45;2 -->\n<g id=\"edge9\" class=\"edge\">\n<title>M&#45;3 C&#45;1; M&#45;0 C&#45;2&#45;&gt;M&#45;1 C&#45;1; M&#45;2 C&#45;2</title>\n<path fill=\"none\" stroke=\"black\" d=\"M462.29,-709.14C613.77,-700.36 941,-675.86 941,-628 941,-628 941,-628 941,-408.5 941,-379.57 935.09,-370.57 917,-348 910.7,-340.14 848.78,-304.45 842,-297 818.43,-271.11 830.42,-250.97 804,-228 795.03,-220.21 784.15,-214.06 773.05,-209.25\"/>\n<polygon fill=\"black\" stroke=\"black\" points=\"774.3,-205.98 763.72,-205.51 771.7,-212.48 774.3,-205.98\"/>\n<text text-anchor=\"middle\" x=\"944.5\" y=\"-449.3\" font-family=\"Times New Roman,serif\" font-size=\"14.00\">1</text>\n</g>\n<!-- M&#45;2 C&#45;0; M&#45;1 C&#45;3 -->\n<g id=\"node11\" class=\"node\">\n<title>M&#45;2 C&#45;0; M&#45;1 C&#45;3</title>\n<ellipse fill=\"#b2dfee\" stroke=\"black\" cx=\"212\" cy=\"-18\" rx=\"77.99\" ry=\"18\"/>\n<text text-anchor=\"middle\" x=\"212\" y=\"-14.3\" font-family=\"Times New Roman,serif\" font-size=\"14.00\">M&#45;2 C&#45;0; M&#45;1 C&#45;3</text>\n</g>\n<!-- M&#45;3 C&#45;1; M&#45;0 C&#45;2&#45;&gt;M&#45;2 C&#45;0; M&#45;1 C&#45;3 -->\n<g id=\"edge53\" class=\"edge\">\n<title>M&#45;3 C&#45;1; M&#45;0 C&#45;2&#45;&gt;M&#45;2 C&#45;0; M&#45;1 C&#45;3</title>\n<path fill=\"none\" stroke=\"black\" d=\"M309.61,-711.53C196.68,-707.24 0,-690.77 0,-628 0,-628 0,-628 0,-104 0,-47.4 65.91,-27.49 124.23,-20.95\"/>\n<polygon fill=\"black\" stroke=\"black\" points=\"124.66,-24.43 134.26,-19.95 123.96,-17.46 124.66,-24.43\"/>\n<text text-anchor=\"middle\" x=\"3.5\" y=\"-362.3\" font-family=\"Times New Roman,serif\" font-size=\"14.00\">1</text>\n</g>\n<!-- M&#45;3 C&#45;0; M&#45;0 C&#45;3 -->\n<g id=\"node12\" class=\"node\">\n<title>M&#45;3 C&#45;0; M&#45;0 C&#45;3</title>\n<ellipse fill=\"#b2dfee\" stroke=\"black\" cx=\"228\" cy=\"-540\" rx=\"77.99\" ry=\"18\"/>\n<text text-anchor=\"middle\" x=\"228\" y=\"-536.3\" font-family=\"Times New Roman,serif\" font-size=\"14.00\">M&#45;3 C&#45;0; M&#45;0 C&#45;3</text>\n</g>\n<!-- M&#45;3 C&#45;1; M&#45;0 C&#45;2&#45;&gt;M&#45;3 C&#45;0; M&#45;0 C&#45;3 -->\n<g id=\"edge40\" class=\"edge\">\n<title>M&#45;3 C&#45;1; M&#45;0 C&#45;2&#45;&gt;M&#45;3 C&#45;0; M&#45;0 C&#45;3</title>\n<path fill=\"none\" stroke=\"black\" d=\"M359.3,-696.99C339.31,-684.53 312.53,-665.9 293,-645 271.09,-621.56 252.45,-589.67 240.83,-567.41\"/>\n<polygon fill=\"black\" stroke=\"black\" points=\"243.8,-565.54 236.14,-558.22 237.56,-568.72 243.8,-565.54\"/>\n<text text-anchor=\"middle\" x=\"296.5\" y=\"-623.3\" font-family=\"Times New Roman,serif\" font-size=\"14.00\">1</text>\n</g>\n<!-- M&#45;3 C&#45;3; M&#45;0 C&#45;0 -->\n<g id=\"node16\" class=\"node\">\n<title>M&#45;3 C&#45;3; M&#45;0 C&#45;0</title>\n<ellipse fill=\"#b2dfee\" stroke=\"black\" cx=\"526\" cy=\"-540\" rx=\"77.99\" ry=\"18\"/>\n<text text-anchor=\"middle\" x=\"526\" y=\"-536.3\" font-family=\"Times New Roman,serif\" font-size=\"14.00\">M&#45;3 C&#45;3; M&#45;0 C&#45;0</text>\n</g>\n<!-- M&#45;3 C&#45;1; M&#45;0 C&#45;2&#45;&gt;M&#45;3 C&#45;3; M&#45;0 C&#45;0 -->\n<g id=\"edge7\" class=\"edge\">\n<title>M&#45;3 C&#45;1; M&#45;0 C&#45;2&#45;&gt;M&#45;3 C&#45;3; M&#45;0 C&#45;0</title>\n<path fill=\"none\" stroke=\"black\" d=\"M451.67,-703.76C481.7,-698.04 512.79,-689.55 522,-678 546.68,-647.05 540.97,-598.46 533.95,-568.23\"/>\n<polygon fill=\"black\" stroke=\"black\" points=\"537.3,-567.2 531.46,-558.37 530.51,-568.92 537.3,-567.2\"/>\n<text text-anchor=\"middle\" x=\"542.5\" y=\"-623.3\" font-family=\"Times New Roman,serif\" font-size=\"14.00\">1</text>\n</g>\n<!-- M&#45;0 C&#45;2; M&#45;3 C&#45;1 -->\n<g id=\"node2\" class=\"node\">\n<title>M&#45;0 C&#45;2; M&#45;3 C&#45;1</title>\n<ellipse fill=\"#b2dfee\" stroke=\"black\" cx=\"466\" cy=\"-366\" rx=\"77.99\" ry=\"18\"/>\n<text text-anchor=\"middle\" x=\"466\" y=\"-362.3\" font-family=\"Times New Roman,serif\" font-size=\"14.00\">M&#45;0 C&#45;2; M&#45;3 C&#45;1</text>\n</g>\n<!-- M&#45;1 C&#45;2; M&#45;2 C&#45;1 -->\n<g id=\"node3\" class=\"node\">\n<title>M&#45;1 C&#45;2; M&#45;2 C&#45;1</title>\n<ellipse fill=\"#b2dfee\" stroke=\"black\" cx=\"796\" cy=\"-105\" rx=\"77.99\" ry=\"18\"/>\n<text text-anchor=\"middle\" x=\"796\" y=\"-101.3\" font-family=\"Times New Roman,serif\" font-size=\"14.00\">M&#45;1 C&#45;2; M&#45;2 C&#45;1</text>\n</g>\n<!-- M&#45;0 C&#45;2; M&#45;3 C&#45;1&#45;&gt;M&#45;1 C&#45;2; M&#45;2 C&#45;1 -->\n<g id=\"edge13\" class=\"edge\">\n<title>M&#45;0 C&#45;2; M&#45;3 C&#45;1&#45;&gt;M&#45;1 C&#45;2; M&#45;2 C&#45;1</title>\n<path fill=\"none\" stroke=\"black\" d=\"M504.46,-350.31C519.44,-344.34 536.67,-337.17 552,-330 611.26,-302.3 623.09,-289.42 682,-261 694.77,-254.84 791.23,-221.86 799,-210 813.87,-187.3 810.25,-155.43 804.73,-132.97\"/>\n<polygon fill=\"black\" stroke=\"black\" points=\"808.04,-131.81 802.03,-123.08 801.29,-133.65 808.04,-131.81\"/>\n<text text-anchor=\"middle\" x=\"768.5\" y=\"-231.8\" font-family=\"Times New Roman,serif\" font-size=\"14.00\">1</text>\n</g>\n<!-- M&#45;1 C&#45;3; M&#45;2 C&#45;0 -->\n<g id=\"node4\" class=\"node\">\n<title>M&#45;1 C&#45;3; M&#45;2 C&#45;0</title>\n<ellipse fill=\"#b2dfee\" stroke=\"black\" cx=\"970\" cy=\"-105\" rx=\"77.99\" ry=\"18\"/>\n<text text-anchor=\"middle\" x=\"970\" y=\"-101.3\" font-family=\"Times New Roman,serif\" font-size=\"14.00\">M&#45;1 C&#45;3; M&#45;2 C&#45;0</text>\n</g>\n<!-- M&#45;0 C&#45;2; M&#45;3 C&#45;1&#45;&gt;M&#45;1 C&#45;3; M&#45;2 C&#45;0 -->\n<g id=\"edge4\" class=\"edge\">\n<title>M&#45;0 C&#45;2; M&#45;3 C&#45;1&#45;&gt;M&#45;1 C&#45;3; M&#45;2 C&#45;0</title>\n<path fill=\"none\" stroke=\"black\" d=\"M528.72,-355.2C557.43,-349.61 591.55,-341.41 621,-330 752.23,-279.17 886.52,-175.37 942.7,-129.12\"/>\n<polygon fill=\"black\" stroke=\"black\" points=\"945.26,-131.55 950.72,-122.47 940.79,-126.16 945.26,-131.55\"/>\n<text text-anchor=\"middle\" x=\"810.5\" y=\"-231.8\" font-family=\"Times New Roman,serif\" font-size=\"14.00\">1</text>\n</g>\n<!-- M&#45;0 C&#45;1; M&#45;3 C&#45;2 -->\n<g id=\"node9\" class=\"node\">\n<title>M&#45;0 C&#45;1; M&#45;3 C&#45;2</title>\n<ellipse fill=\"#b2dfee\" stroke=\"black\" cx=\"476\" cy=\"-279\" rx=\"77.99\" ry=\"18\"/>\n<text text-anchor=\"middle\" x=\"476\" y=\"-275.3\" font-family=\"Times New Roman,serif\" font-size=\"14.00\">M&#45;0 C&#45;1; M&#45;3 C&#45;2</text>\n</g>\n<!-- M&#45;0 C&#45;2; M&#45;3 C&#45;1&#45;&gt;M&#45;0 C&#45;1; M&#45;3 C&#45;2 -->\n<g id=\"edge32\" class=\"edge\">\n<title>M&#45;0 C&#45;2; M&#45;3 C&#45;1&#45;&gt;M&#45;0 C&#45;1; M&#45;3 C&#45;2</title>\n<path fill=\"none\" stroke=\"black\" d=\"M460.5,-347.74C458.18,-338.04 456.52,-325.76 459,-315 459.67,-312.1 460.61,-309.16 461.71,-306.28\"/>\n<polygon fill=\"black\" stroke=\"black\" points=\"465.03,-307.43 465.9,-296.87 458.63,-304.58 465.03,-307.43\"/>\n<text text-anchor=\"middle\" x=\"462.5\" y=\"-318.8\" font-family=\"Times New Roman,serif\" font-size=\"14.00\">1</text>\n</g>\n<!-- M&#45;2 C&#45;2; M&#45;1 C&#45;1 -->\n<g id=\"node10\" class=\"node\">\n<title>M&#45;2 C&#45;2; M&#45;1 C&#45;1</title>\n<ellipse fill=\"#b2dfee\" stroke=\"black\" cx=\"496\" cy=\"-453\" rx=\"77.99\" ry=\"18\"/>\n<text text-anchor=\"middle\" x=\"496\" y=\"-449.3\" font-family=\"Times New Roman,serif\" font-size=\"14.00\">M&#45;2 C&#45;2; M&#45;1 C&#45;1</text>\n</g>\n<!-- M&#45;0 C&#45;2; M&#45;3 C&#45;1&#45;&gt;M&#45;2 C&#45;2; M&#45;1 C&#45;1 -->\n<g id=\"edge14\" class=\"edge\">\n<title>M&#45;0 C&#45;2; M&#45;3 C&#45;1&#45;&gt;M&#45;2 C&#45;2; M&#45;1 C&#45;1</title>\n<path fill=\"none\" stroke=\"black\" d=\"M472.06,-384.18C476.21,-395.92 481.79,-411.73 486.52,-425.13\"/>\n<polygon fill=\"black\" stroke=\"black\" points=\"483.3,-426.53 489.93,-434.8 489.9,-424.2 483.3,-426.53\"/>\n<text text-anchor=\"middle\" x=\"485.5\" y=\"-405.8\" font-family=\"Times New Roman,serif\" font-size=\"14.00\">1</text>\n</g>\n<!-- M&#45;0 C&#45;0; M&#45;3 C&#45;3 -->\n<g id=\"node14\" class=\"node\">\n<title>M&#45;0 C&#45;0; M&#45;3 C&#45;3</title>\n<ellipse fill=\"#b2dfee\" stroke=\"black\" cx=\"541\" cy=\"-105\" rx=\"77.99\" ry=\"18\"/>\n<text text-anchor=\"middle\" x=\"541\" y=\"-101.3\" font-family=\"Times New Roman,serif\" font-size=\"14.00\">M&#45;0 C&#45;0; M&#45;3 C&#45;3</text>\n</g>\n<!-- M&#45;0 C&#45;2; M&#45;3 C&#45;1&#45;&gt;M&#45;0 C&#45;0; M&#45;3 C&#45;3 -->\n<g id=\"edge45\" class=\"edge\">\n<title>M&#45;0 C&#45;2; M&#45;3 C&#45;1&#45;&gt;M&#45;0 C&#45;0; M&#45;3 C&#45;3</title>\n<path fill=\"none\" stroke=\"black\" d=\"M499.11,-349.68C520.48,-338.13 547.14,-320.29 563,-297 576.89,-276.6 573.09,-267.51 576,-243 580.66,-203.7 565.58,-159.57 553.76,-132.28\"/>\n<polygon fill=\"black\" stroke=\"black\" points=\"556.89,-130.71 549.6,-123.03 550.51,-133.58 556.89,-130.71\"/>\n<text text-anchor=\"middle\" x=\"579.5\" y=\"-231.8\" font-family=\"Times New Roman,serif\" font-size=\"14.00\">1</text>\n</g>\n<!-- M&#45;0 C&#45;3; M&#45;3 C&#45;0 -->\n<g id=\"node15\" class=\"node\">\n<title>M&#45;0 C&#45;3; M&#45;3 C&#45;0</title>\n<ellipse fill=\"#b2dfee\" stroke=\"black\" cx=\"328\" cy=\"-192\" rx=\"77.99\" ry=\"18\"/>\n<text text-anchor=\"middle\" x=\"328\" y=\"-188.3\" font-family=\"Times New Roman,serif\" font-size=\"14.00\">M&#45;0 C&#45;3; M&#45;3 C&#45;0</text>\n</g>\n<!-- M&#45;0 C&#45;2; M&#45;3 C&#45;1&#45;&gt;M&#45;0 C&#45;3; M&#45;3 C&#45;0 -->\n<g id=\"edge47\" class=\"edge\">\n<title>M&#45;0 C&#45;2; M&#45;3 C&#45;1&#45;&gt;M&#45;0 C&#45;3; M&#45;3 C&#45;0</title>\n<path fill=\"none\" stroke=\"black\" d=\"M440.89,-348.83C422.85,-336.3 398.85,-317.64 382,-297 362.7,-273.36 347.48,-241.71 338.18,-219.56\"/>\n<polygon fill=\"black\" stroke=\"black\" points=\"341.34,-218.05 334.33,-210.11 334.86,-220.69 341.34,-218.05\"/>\n<text text-anchor=\"middle\" x=\"385.5\" y=\"-275.3\" font-family=\"Times New Roman,serif\" font-size=\"14.00\">1</text>\n</g>\n<!-- M&#45;3 C&#45;2; M&#45;0 C&#45;1&#45;&gt;M&#45;3 C&#45;1; M&#45;0 C&#45;2 -->\n<g id=\"edge11\" class=\"edge\">\n<title>M&#45;3 C&#45;2; M&#45;0 C&#45;1&#45;&gt;M&#45;3 C&#45;1; M&#45;0 C&#45;2</title>\n<path fill=\"none\" stroke=\"black\" d=\"M387,-645.18C387,-656.81 387,-672.42 387,-685.73\"/>\n<polygon fill=\"black\" stroke=\"black\" points=\"383.5,-685.8 387,-695.8 390.5,-685.8 383.5,-685.8\"/>\n<text text-anchor=\"middle\" x=\"390.5\" y=\"-666.8\" font-family=\"Times New Roman,serif\" font-size=\"14.00\">1</text>\n</g>\n<!-- M&#45;3 C&#45;2; M&#45;0 C&#45;1&#45;&gt;M&#45;1 C&#45;2; M&#45;2 C&#45;1 -->\n<g id=\"edge51\" class=\"edge\">\n<title>M&#45;3 C&#45;2; M&#45;0 C&#45;1&#45;&gt;M&#45;1 C&#45;2; M&#45;2 C&#45;1</title>\n<path fill=\"none\" stroke=\"black\" d=\"M439.8,-613.75C486.38,-602.09 555.6,-582.68 613,-558 739.38,-503.66 780.62,-489.43 869,-384 938.45,-301.15 923.16,-227.27 858,-141 853.8,-135.43 848.43,-130.62 842.62,-126.5\"/>\n<polygon fill=\"black\" stroke=\"black\" points=\"844.2,-123.35 833.88,-120.95 840.45,-129.26 844.2,-123.35\"/>\n<text text-anchor=\"middle\" x=\"896.5\" y=\"-362.3\" font-family=\"Times New Roman,serif\" font-size=\"14.00\">1</text>\n</g>\n<!-- M&#45;3 C&#45;2; M&#45;0 C&#45;1&#45;&gt;M&#45;2 C&#45;1; M&#45;1 C&#45;2 -->\n<g id=\"edge46\" class=\"edge\">\n<title>M&#45;3 C&#45;2; M&#45;0 C&#45;1&#45;&gt;M&#45;2 C&#45;1; M&#45;1 C&#45;2</title>\n<path fill=\"none\" stroke=\"black\" d=\"M377.95,-609.07C365.71,-587.21 342.24,-548.8 315,-522 239.58,-447.78 166.85,-479.36 121,-384 80.62,-300.02 92.55,-184.87 100.91,-133.12\"/>\n<polygon fill=\"black\" stroke=\"black\" points=\"104.39,-133.52 102.61,-123.07 97.49,-132.34 104.39,-133.52\"/>\n<text text-anchor=\"middle\" x=\"124.5\" y=\"-362.3\" font-family=\"Times New Roman,serif\" font-size=\"14.00\">1</text>\n</g>\n<!-- M&#45;3 C&#45;2; M&#45;0 C&#45;1&#45;&gt;M&#45;2 C&#45;2; M&#45;1 C&#45;1 -->\n<g id=\"edge6\" class=\"edge\">\n<title>M&#45;3 C&#45;2; M&#45;0 C&#45;1&#45;&gt;M&#45;2 C&#45;2; M&#45;1 C&#45;1</title>\n<path fill=\"none\" stroke=\"black\" d=\"M385.63,-608.98C384.68,-587.36 385.69,-549.55 401,-522 412.49,-501.34 433.2,-485.4 452.37,-474.16\"/>\n<polygon fill=\"black\" stroke=\"black\" points=\"454.28,-477.1 461.31,-469.17 450.87,-470.99 454.28,-477.1\"/>\n<text text-anchor=\"middle\" x=\"404.5\" y=\"-536.3\" font-family=\"Times New Roman,serif\" font-size=\"14.00\">1</text>\n</g>\n<!-- M&#45;3 C&#45;2; M&#45;0 C&#45;1&#45;&gt;M&#45;3 C&#45;0; M&#45;0 C&#45;3 -->\n<g id=\"edge35\" class=\"edge\">\n<title>M&#45;3 C&#45;2; M&#45;0 C&#45;1&#45;&gt;M&#45;3 C&#45;0; M&#45;0 C&#45;3</title>\n<path fill=\"none\" stroke=\"black\" d=\"M353.71,-610.57C341.43,-604.68 327.47,-597.75 315,-591 303.61,-584.83 301.2,-582.52 290,-576 282.08,-571.39 273.55,-566.52 265.43,-561.92\"/>\n<polygon fill=\"black\" stroke=\"black\" points=\"266.92,-558.74 256.49,-556.87 263.48,-564.83 266.92,-558.74\"/>\n<text text-anchor=\"middle\" x=\"318.5\" y=\"-579.8\" font-family=\"Times New Roman,serif\" font-size=\"14.00\">1</text>\n</g>\n<!-- M&#45;3 C&#45;2; M&#45;0 C&#45;1&#45;&gt;M&#45;3 C&#45;3; M&#45;0 C&#45;0 -->\n<g id=\"edge38\" class=\"edge\">\n<title>M&#45;3 C&#45;2; M&#45;0 C&#45;1&#45;&gt;M&#45;3 C&#45;3; M&#45;0 C&#45;0</title>\n<path fill=\"none\" stroke=\"black\" d=\"M424.79,-611.09C437.6,-605.45 451.75,-598.55 464,-591 476.57,-583.25 489.44,-573.26 500.17,-564.26\"/>\n<polygon fill=\"black\" stroke=\"black\" points=\"502.61,-566.78 507.92,-557.62 498.05,-561.47 502.61,-566.78\"/>\n<text text-anchor=\"middle\" x=\"488.5\" y=\"-579.8\" font-family=\"Times New Roman,serif\" font-size=\"14.00\">1</text>\n</g>\n<!-- M&#45;2 C&#45;3; M&#45;1 C&#45;0 -->\n<g id=\"node7\" class=\"node\">\n<title>M&#45;2 C&#45;3; M&#45;1 C&#45;0</title>\n<ellipse fill=\"#b2dfee\" stroke=\"black\" cx=\"754\" cy=\"-366\" rx=\"77.99\" ry=\"18\"/>\n<text text-anchor=\"middle\" x=\"754\" y=\"-362.3\" font-family=\"Times New Roman,serif\" font-size=\"14.00\">M&#45;2 C&#45;3; M&#45;1 C&#45;0</text>\n</g>\n<!-- M&#45;1 C&#45;1; M&#45;2 C&#45;2&#45;&gt;M&#45;3 C&#45;1; M&#45;0 C&#45;2 -->\n<g id=\"edge52\" class=\"edge\">\n<title>M&#45;1 C&#45;1; M&#45;2 C&#45;2&#45;&gt;M&#45;3 C&#45;1; M&#45;0 C&#45;2</title>\n<path fill=\"none\" stroke=\"black\" d=\"M767.88,-204.61C786.58,-209.98 806.98,-217.56 824,-228 942.07,-300.46 984,-356.97 984,-495.5 984,-628 984,-628 984,-628 984,-690.32 914.04,-665.43 853,-678 723.24,-704.71 569.4,-711.59 475.01,-713.06\"/>\n<polygon fill=\"black\" stroke=\"black\" points=\"474.89,-709.57 464.94,-713.2 474.98,-716.57 474.89,-709.57\"/>\n<text text-anchor=\"middle\" x=\"986.5\" y=\"-449.3\" font-family=\"Times New Roman,serif\" font-size=\"14.00\">1</text>\n</g>\n<!-- M&#45;1 C&#45;1; M&#45;2 C&#45;2&#45;&gt;M&#45;1 C&#45;2; M&#45;2 C&#45;1 -->\n<g id=\"edge3\" class=\"edge\">\n<title>M&#45;1 C&#45;1; M&#45;2 C&#45;2&#45;&gt;M&#45;1 C&#45;2; M&#45;2 C&#45;1</title>\n<path fill=\"none\" stroke=\"black\" d=\"M728.6,-174.21C741.02,-161.63 758.2,-144.25 772.1,-130.18\"/>\n<polygon fill=\"black\" stroke=\"black\" points=\"774.9,-132.33 779.44,-122.76 769.92,-127.41 774.9,-132.33\"/>\n<text text-anchor=\"middle\" x=\"762.5\" y=\"-144.8\" font-family=\"Times New Roman,serif\" font-size=\"14.00\">1</text>\n</g>\n<!-- M&#45;1 C&#45;1; M&#45;2 C&#45;2&#45;&gt;M&#45;1 C&#45;3; M&#45;2 C&#45;0 -->\n<g id=\"edge27\" class=\"edge\">\n<title>M&#45;1 C&#45;1; M&#45;2 C&#45;2&#45;&gt;M&#45;1 C&#45;3; M&#45;2 C&#45;0</title>\n<path fill=\"none\" stroke=\"black\" d=\"M754.89,-176.87C799.53,-162.16 869.49,-139.11 917.43,-123.32\"/>\n<polygon fill=\"black\" stroke=\"black\" points=\"918.6,-126.62 927,-120.17 916.41,-119.97 918.6,-126.62\"/>\n<text text-anchor=\"middle\" x=\"859.5\" y=\"-144.8\" font-family=\"Times New Roman,serif\" font-size=\"14.00\">1</text>\n</g>\n<!-- M&#45;1 C&#45;1; M&#45;2 C&#45;2&#45;&gt;M&#45;2 C&#45;1; M&#45;1 C&#45;2 -->\n<g id=\"edge12\" class=\"edge\">\n<title>M&#45;1 C&#45;1; M&#45;2 C&#45;2&#45;&gt;M&#45;2 C&#45;1; M&#45;1 C&#45;2</title>\n<path fill=\"none\" stroke=\"black\" d=\"M657.82,-178.89C606.17,-167.72 526.11,-151.33 456,-141 365.31,-127.64 260.63,-117.91 189.55,-112.15\"/>\n<polygon fill=\"black\" stroke=\"black\" points=\"189.56,-108.64 179.31,-111.33 189,-115.62 189.56,-108.64\"/>\n<text text-anchor=\"middle\" x=\"543.5\" y=\"-144.8\" font-family=\"Times New Roman,serif\" font-size=\"14.00\">1</text>\n</g>\n<!-- M&#45;1 C&#45;1; M&#45;2 C&#45;2&#45;&gt;M&#45;0 C&#45;1; M&#45;3 C&#45;2 -->\n<g id=\"edge22\" class=\"edge\">\n<title>M&#45;1 C&#45;1; M&#45;2 C&#45;2&#45;&gt;M&#45;0 C&#45;1; M&#45;3 C&#45;2</title>\n<path fill=\"none\" stroke=\"black\" d=\"M652.44,-203.68C626.82,-209.31 596.87,-217.31 571,-228 559.02,-232.95 557.36,-236.76 546,-243 536.89,-248 526.97,-253.14 517.54,-257.89\"/>\n<polygon fill=\"black\" stroke=\"black\" points=\"515.72,-254.89 508.33,-262.48 518.84,-261.15 515.72,-254.89\"/>\n<text text-anchor=\"middle\" x=\"574.5\" y=\"-231.8\" font-family=\"Times New Roman,serif\" font-size=\"14.00\">1</text>\n</g>\n<!-- M&#45;1 C&#45;1; M&#45;2 C&#45;2&#45;&gt;M&#45;2 C&#45;2; M&#45;1 C&#45;1 -->\n<g id=\"edge42\" class=\"edge\">\n<title>M&#45;1 C&#45;1; M&#45;2 C&#45;2&#45;&gt;M&#45;2 C&#45;2; M&#45;1 C&#45;1</title>\n<path fill=\"none\" stroke=\"black\" d=\"M697.98,-209.88C670.3,-243.2 606.66,-319.76 553,-384 541.01,-398.35 527.57,-414.39 516.76,-427.28\"/>\n<polygon fill=\"black\" stroke=\"black\" points=\"513.82,-425.34 510.07,-435.25 519.18,-429.84 513.82,-425.34\"/>\n<text text-anchor=\"middle\" x=\"613.5\" y=\"-318.8\" font-family=\"Times New Roman,serif\" font-size=\"14.00\">1</text>\n</g>\n<!-- M&#45;1 C&#45;0; M&#45;2 C&#45;3 -->\n<g id=\"node13\" class=\"node\">\n<title>M&#45;1 C&#45;0; M&#45;2 C&#45;3</title>\n<ellipse fill=\"#b2dfee\" stroke=\"black\" cx=\"646\" cy=\"-18\" rx=\"77.99\" ry=\"18\"/>\n<text text-anchor=\"middle\" x=\"646\" y=\"-14.3\" font-family=\"Times New Roman,serif\" font-size=\"14.00\">M&#45;1 C&#45;0; M&#45;2 C&#45;3</text>\n</g>\n<!-- M&#45;1 C&#45;1; M&#45;2 C&#45;2&#45;&gt;M&#45;1 C&#45;0; M&#45;2 C&#45;3 -->\n<g id=\"edge18\" class=\"edge\">\n<title>M&#45;1 C&#45;1; M&#45;2 C&#45;2&#45;&gt;M&#45;1 C&#45;0; M&#45;2 C&#45;3</title>\n<path fill=\"none\" stroke=\"black\" d=\"M705.43,-173.88C693.92,-143.87 670.01,-81.58 656.29,-45.81\"/>\n<polygon fill=\"black\" stroke=\"black\" points=\"659.39,-44.13 652.54,-36.05 652.86,-46.64 659.39,-44.13\"/>\n<text text-anchor=\"middle\" x=\"688.5\" y=\"-101.3\" font-family=\"Times New Roman,serif\" font-size=\"14.00\">1</text>\n</g>\n<!-- M&#45;1 C&#45;1; M&#45;2 C&#45;2&#45;&gt;M&#45;0 C&#45;0; M&#45;3 C&#45;3 -->\n<g id=\"edge43\" class=\"edge\">\n<title>M&#45;1 C&#45;1; M&#45;2 C&#45;2&#45;&gt;M&#45;0 C&#45;0; M&#45;3 C&#45;3</title>\n<path fill=\"none\" stroke=\"black\" d=\"M668.6,-176.81C652.69,-171.05 634.73,-163.89 619,-156 614.2,-153.59 593.18,-140.09 574.17,-127.72\"/>\n<polygon fill=\"black\" stroke=\"black\" points=\"575.93,-124.69 565.64,-122.17 572.11,-130.56 575.93,-124.69\"/>\n<text text-anchor=\"middle\" x=\"622.5\" y=\"-144.8\" font-family=\"Times New Roman,serif\" font-size=\"14.00\">1</text>\n</g>\n<!-- M&#45;0 C&#45;1; M&#45;3 C&#45;2&#45;&gt;M&#45;0 C&#45;2; M&#45;3 C&#45;1 -->\n<g id=\"edge21\" class=\"edge\">\n<title>M&#45;0 C&#45;1; M&#45;3 C&#45;2&#45;&gt;M&#45;0 C&#45;2; M&#45;3 C&#45;1</title>\n<path fill=\"none\" stroke=\"black\" d=\"M473.98,-297.18C472.61,-308.81 470.77,-324.42 469.21,-337.73\"/>\n<polygon fill=\"black\" stroke=\"black\" points=\"465.72,-337.46 468.02,-347.8 472.67,-338.28 465.72,-337.46\"/>\n<text text-anchor=\"middle\" x=\"474.5\" y=\"-318.8\" font-family=\"Times New Roman,serif\" font-size=\"14.00\">1</text>\n</g>\n<!-- M&#45;0 C&#45;1; M&#45;3 C&#45;2&#45;&gt;M&#45;1 C&#45;2; M&#45;2 C&#45;1 -->\n<g id=\"edge29\" class=\"edge\">\n<title>M&#45;0 C&#45;1; M&#45;3 C&#45;2&#45;&gt;M&#45;1 C&#45;2; M&#45;2 C&#45;1</title>\n<path fill=\"none\" stroke=\"black\" d=\"M495.13,-261.42C533.25,-228.68 617.92,-157.46 652,-141 673.89,-130.43 699.25,-122.89 722.52,-117.59\"/>\n<polygon fill=\"black\" stroke=\"black\" points=\"723.32,-121 732.35,-115.45 721.83,-114.16 723.32,-121\"/>\n<text text-anchor=\"middle\" x=\"604.5\" y=\"-188.3\" font-family=\"Times New Roman,serif\" font-size=\"14.00\">1</text>\n</g>\n<!-- M&#45;0 C&#45;1; M&#45;3 C&#45;2&#45;&gt;M&#45;2 C&#45;1; M&#45;1 C&#45;2 -->\n<g id=\"edge28\" class=\"edge\">\n<title>M&#45;0 C&#45;1; M&#45;3 C&#45;2&#45;&gt;M&#45;2 C&#45;1; M&#45;1 C&#45;2</title>\n<path fill=\"none\" stroke=\"black\" d=\"M470.86,-261.02C462.86,-237.63 445.14,-195.91 415,-174 378.57,-147.52 262.02,-127.06 182.94,-115.78\"/>\n<polygon fill=\"black\" stroke=\"black\" points=\"183.4,-112.31 173.01,-114.38 182.42,-119.24 183.4,-112.31\"/>\n<text text-anchor=\"middle\" x=\"449.5\" y=\"-188.3\" font-family=\"Times New Roman,serif\" font-size=\"14.00\">1</text>\n</g>\n<!-- M&#45;0 C&#45;1; M&#45;3 C&#45;2&#45;&gt;M&#45;1 C&#45;1; M&#45;2 C&#45;2 -->\n<g id=\"edge2\" class=\"edge\">\n<title>M&#45;0 C&#45;1; M&#45;3 C&#45;2&#45;&gt;M&#45;1 C&#45;1; M&#45;2 C&#45;2</title>\n<path fill=\"none\" stroke=\"black\" d=\"M531.93,-266.37C556.05,-260.56 584.33,-252.7 609,-243 622.14,-237.83 624.38,-234.32 637,-228 647.23,-222.88 658.35,-217.56 668.82,-212.65\"/>\n<polygon fill=\"black\" stroke=\"black\" points=\"670.62,-215.68 678.21,-208.29 667.67,-209.33 670.62,-215.68\"/>\n<text text-anchor=\"middle\" x=\"640.5\" y=\"-231.8\" font-family=\"Times New Roman,serif\" font-size=\"14.00\">1</text>\n</g>\n<!-- M&#45;0 C&#45;1; M&#45;3 C&#45;2&#45;&gt;M&#45;0 C&#45;0; M&#45;3 C&#45;3 -->\n<g id=\"edge16\" class=\"edge\">\n<title>M&#45;0 C&#45;1; M&#45;3 C&#45;2&#45;&gt;M&#45;0 C&#45;0; M&#45;3 C&#45;3</title>\n<path fill=\"none\" stroke=\"black\" d=\"M486.68,-260.91C489.92,-255.33 493.33,-249.01 496,-243 512.41,-206.08 526.01,-161.26 533.83,-133.18\"/>\n<polygon fill=\"black\" stroke=\"black\" points=\"537.27,-133.86 536.53,-123.29 530.52,-132.01 537.27,-133.86\"/>\n<text text-anchor=\"middle\" x=\"524.5\" y=\"-188.3\" font-family=\"Times New Roman,serif\" font-size=\"14.00\">1</text>\n</g>\n<!-- M&#45;0 C&#45;1; M&#45;3 C&#45;2&#45;&gt;M&#45;0 C&#45;3; M&#45;3 C&#45;0 -->\n<g id=\"edge31\" class=\"edge\">\n<title>M&#45;0 C&#45;1; M&#45;3 C&#45;2&#45;&gt;M&#45;0 C&#45;3; M&#45;3 C&#45;0</title>\n<path fill=\"none\" stroke=\"black\" d=\"M428.91,-264.51C413.37,-259.02 396.39,-251.85 382,-243 370.61,-235.99 359.5,-226.35 350.36,-217.41\"/>\n<polygon fill=\"black\" stroke=\"black\" points=\"352.69,-214.78 343.17,-210.13 347.71,-219.7 352.69,-214.78\"/>\n<text text-anchor=\"middle\" x=\"385.5\" y=\"-231.8\" font-family=\"Times New Roman,serif\" font-size=\"14.00\">1</text>\n</g>\n<!-- M&#45;2 C&#45;2; M&#45;1 C&#45;1&#45;&gt;M&#45;0 C&#45;2; M&#45;3 C&#45;1 -->\n<g id=\"edge24\" class=\"edge\">\n<title>M&#45;2 C&#45;2; M&#45;1 C&#45;1&#45;&gt;M&#45;0 C&#45;2; M&#45;3 C&#45;1</title>\n<path fill=\"none\" stroke=\"black\" d=\"M479.72,-435.09C475.48,-429.71 471.42,-423.47 469,-417 466.35,-409.92 465.15,-401.87 464.73,-394.34\"/>\n<polygon fill=\"black\" stroke=\"black\" points=\"468.22,-394.13 464.57,-384.18 461.22,-394.23 468.22,-394.13\"/>\n<text text-anchor=\"middle\" x=\"472.5\" y=\"-405.8\" font-family=\"Times New Roman,serif\" font-size=\"14.00\">1</text>\n</g>\n<!-- M&#45;2 C&#45;2; M&#45;1 C&#45;1&#45;&gt;M&#45;1 C&#45;2; M&#45;2 C&#45;1 -->\n<g id=\"edge15\" class=\"edge\">\n<title>M&#45;2 C&#45;2; M&#45;1 C&#45;1&#45;&gt;M&#45;1 C&#45;2; M&#45;2 C&#45;1</title>\n<path fill=\"none\" stroke=\"black\" d=\"M552.87,-440.54C571.11,-435.22 590.78,-427.63 607,-417 640.99,-394.72 636.75,-375.14 667,-348 727.84,-293.41 770.76,-309.71 818,-243 844.91,-204.99 862.68,-182.73 842,-141 839.78,-136.52 836.67,-132.45 833.12,-128.81\"/>\n<polygon fill=\"black\" stroke=\"black\" points=\"835.14,-125.93 825.32,-121.94 830.51,-131.18 835.14,-125.93\"/>\n<text text-anchor=\"middle\" x=\"806.5\" y=\"-275.3\" font-family=\"Times New Roman,serif\" font-size=\"14.00\">1</text>\n</g>\n<!-- M&#45;2 C&#45;2; M&#45;1 C&#45;1&#45;&gt;M&#45;2 C&#45;1; M&#45;1 C&#45;2 -->\n<g id=\"edge5\" class=\"edge\">\n<title>M&#45;2 C&#45;2; M&#45;1 C&#45;1&#45;&gt;M&#45;2 C&#45;1; M&#45;1 C&#45;2</title>\n<path fill=\"none\" stroke=\"black\" d=\"M420.6,-448.38C331.7,-443.4 193.72,-433.18 176,-417 83.55,-332.62 155.83,-260.93 120,-141 119.17,-138.24 118.22,-135.39 117.2,-132.57\"/>\n<polygon fill=\"black\" stroke=\"black\" points=\"120.47,-131.3 113.61,-123.23 113.93,-133.82 120.47,-131.3\"/>\n<text text-anchor=\"middle\" x=\"132.5\" y=\"-275.3\" font-family=\"Times New Roman,serif\" font-size=\"14.00\">1</text>\n</g>\n<!-- M&#45;2 C&#45;2; M&#45;1 C&#45;1&#45;&gt;M&#45;3 C&#45;2; M&#45;0 C&#45;1 -->\n<g id=\"edge1\" class=\"edge\">\n<title>M&#45;2 C&#45;2; M&#45;1 C&#45;1&#45;&gt;M&#45;3 C&#45;2; M&#45;0 C&#45;1</title>\n<path fill=\"none\" stroke=\"black\" d=\"M477.05,-470.73C463.22,-483.68 444.74,-502.63 432,-522 415.95,-546.41 403.38,-577.49 395.65,-599.29\"/>\n<polygon fill=\"black\" stroke=\"black\" points=\"392.29,-598.29 392.35,-608.89 398.91,-600.57 392.29,-598.29\"/>\n<text text-anchor=\"middle\" x=\"435.5\" y=\"-536.3\" font-family=\"Times New Roman,serif\" font-size=\"14.00\">1</text>\n</g>\n<!-- M&#45;2 C&#45;2; M&#45;1 C&#45;1&#45;&gt;M&#45;2 C&#45;3; M&#45;1 C&#45;0 -->\n<g id=\"edge41\" class=\"edge\">\n<title>M&#45;2 C&#45;2; M&#45;1 C&#45;1&#45;&gt;M&#45;2 C&#45;3; M&#45;1 C&#45;0</title>\n<path fill=\"none\" stroke=\"black\" d=\"M560.67,-442.85C591.89,-437.31 629.52,-428.96 662,-417 682.15,-409.58 703.29,-398.36 720.22,-388.43\"/>\n<polygon fill=\"black\" stroke=\"black\" points=\"722.38,-391.22 729.16,-383.08 718.78,-385.21 722.38,-391.22\"/>\n<text text-anchor=\"middle\" x=\"696.5\" y=\"-405.8\" font-family=\"Times New Roman,serif\" font-size=\"14.00\">1</text>\n</g>\n<!-- M&#45;2 C&#45;2; M&#45;1 C&#45;1&#45;&gt;M&#45;1 C&#45;1; M&#45;2 C&#45;2 -->\n<g id=\"edge25\" class=\"edge\">\n<title>M&#45;2 C&#45;2; M&#45;1 C&#45;1&#45;&gt;M&#45;1 C&#45;1; M&#45;2 C&#45;2</title>\n<path fill=\"none\" stroke=\"black\" d=\"M545.03,-438.88C559.18,-433.59 574.01,-426.44 586,-417 615.35,-393.89 606.35,-373.13 634,-348 646.08,-337.02 655.6,-342.57 666,-330 692.49,-297.98 703.96,-250.03 708.76,-220.18\"/>\n<polygon fill=\"black\" stroke=\"black\" points=\"712.25,-220.46 710.24,-210.06 705.32,-219.45 712.25,-220.46\"/>\n<text text-anchor=\"middle\" x=\"679.5\" y=\"-318.8\" font-family=\"Times New Roman,serif\" font-size=\"14.00\">1</text>\n</g>\n<!-- M&#45;2 C&#45;2; M&#45;1 C&#45;1&#45;&gt;M&#45;2 C&#45;0; M&#45;1 C&#45;3 -->\n<g id=\"edge34\" class=\"edge\">\n<title>M&#45;2 C&#45;2; M&#45;1 C&#45;1&#45;&gt;M&#45;2 C&#45;0; M&#45;1 C&#45;3</title>\n<path fill=\"none\" stroke=\"black\" d=\"M467.22,-436.18C443.29,-422.8 408.49,-402.86 379,-384 304.87,-336.58 277.7,-322.51 240,-243 208.97,-177.54 208.15,-89.84 210.09,-46.13\"/>\n<polygon fill=\"black\" stroke=\"black\" points=\"213.6,-46.18 210.63,-36.01 206.61,-45.81 213.6,-46.18\"/>\n<text text-anchor=\"middle\" x=\"243.5\" y=\"-231.8\" font-family=\"Times New Roman,serif\" font-size=\"14.00\">1</text>\n</g>\n<!-- M&#45;2 C&#45;2; M&#45;1 C&#45;1&#45;&gt;M&#45;3 C&#45;3; M&#45;0 C&#45;0 -->\n<g id=\"edge37\" class=\"edge\">\n<title>M&#45;2 C&#45;2; M&#45;1 C&#45;1&#45;&gt;M&#45;3 C&#45;3; M&#45;0 C&#45;0</title>\n<path fill=\"none\" stroke=\"black\" d=\"M502.06,-471.18C506.21,-482.92 511.79,-498.73 516.52,-512.13\"/>\n<polygon fill=\"black\" stroke=\"black\" points=\"513.3,-513.53 519.93,-521.8 519.9,-511.2 513.3,-513.53\"/>\n<text text-anchor=\"middle\" x=\"515.5\" y=\"-492.8\" font-family=\"Times New Roman,serif\" font-size=\"14.00\">1</text>\n</g>\n<!-- M&#45;3 C&#45;0; M&#45;0 C&#45;3&#45;&gt;M&#45;3 C&#45;1; M&#45;0 C&#45;2 -->\n<g id=\"edge36\" class=\"edge\">\n<title>M&#45;3 C&#45;0; M&#45;0 C&#45;3&#45;&gt;M&#45;3 C&#45;1; M&#45;0 C&#45;2</title>\n<path fill=\"none\" stroke=\"black\" d=\"M222.03,-558.39C212.94,-588.42 200.15,-649.51 235,-678 253.71,-693.3 277.85,-702.18 301.36,-707.26\"/>\n<polygon fill=\"black\" stroke=\"black\" points=\"300.89,-710.74 311.38,-709.22 302.23,-703.87 300.89,-710.74\"/>\n<text text-anchor=\"middle\" x=\"218.5\" y=\"-623.3\" font-family=\"Times New Roman,serif\" font-size=\"14.00\">1</text>\n</g>\n<!-- M&#45;3 C&#45;0; M&#45;0 C&#45;3&#45;&gt;M&#45;3 C&#45;2; M&#45;0 C&#45;1 -->\n<g id=\"edge30\" class=\"edge\">\n<title>M&#45;3 C&#45;0; M&#45;0 C&#45;3&#45;&gt;M&#45;3 C&#45;2; M&#45;0 C&#45;1</title>\n<path fill=\"none\" stroke=\"black\" d=\"M243.62,-557.74C254.39,-568.47 269.51,-582.02 285,-591 298.03,-598.55 312.94,-604.81 327.27,-609.85\"/>\n<polygon fill=\"black\" stroke=\"black\" points=\"326.46,-613.27 337.06,-613.14 328.69,-606.64 326.46,-613.27\"/>\n<text text-anchor=\"middle\" x=\"288.5\" y=\"-579.8\" font-family=\"Times New Roman,serif\" font-size=\"14.00\">1</text>\n</g>\n<!-- M&#45;0 C&#45;0; M&#45;3 C&#45;3&#45;&gt;M&#45;0 C&#45;2; M&#45;3 C&#45;1 -->\n<g id=\"edge54\" class=\"edge\">\n<title>M&#45;0 C&#45;0; M&#45;3 C&#45;3&#45;&gt;M&#45;0 C&#45;2; M&#45;3 C&#45;1</title>\n<path fill=\"none\" stroke=\"black\" d=\"M469.3,-112.12C389.81,-120.56 269.04,-138.9 241,-174 231.01,-186.5 233.98,-195.62 241,-210 279.09,-287.96 321.48,-283.91 395,-330 403.65,-335.42 413.25,-340.64 422.53,-345.32\"/>\n<polygon fill=\"black\" stroke=\"black\" points=\"421.13,-348.53 431.65,-349.81 424.22,-342.25 421.13,-348.53\"/>\n<text text-anchor=\"middle\" x=\"263.5\" y=\"-231.8\" font-family=\"Times New Roman,serif\" font-size=\"14.00\">1</text>\n</g>\n<!-- M&#45;0 C&#45;0; M&#45;3 C&#45;3&#45;&gt;M&#45;1 C&#45;1; M&#45;2 C&#45;2 -->\n<g id=\"edge39\" class=\"edge\">\n<title>M&#45;0 C&#45;0; M&#45;3 C&#45;3&#45;&gt;M&#45;1 C&#45;1; M&#45;2 C&#45;2</title>\n<path fill=\"none\" stroke=\"black\" d=\"M580.49,-120.68C595.29,-126.54 612.12,-133.64 627,-141 644.32,-149.56 662.89,-160.29 678.24,-169.61\"/>\n<polygon fill=\"black\" stroke=\"black\" points=\"676.52,-172.66 686.87,-174.91 680.18,-166.7 676.52,-172.66\"/>\n<text text-anchor=\"middle\" x=\"656.5\" y=\"-144.8\" font-family=\"Times New Roman,serif\" font-size=\"14.00\">1</text>\n</g>\n<!-- M&#45;0 C&#45;0; M&#45;3 C&#45;3&#45;&gt;M&#45;0 C&#45;1; M&#45;3 C&#45;2 -->\n<g id=\"edge49\" class=\"edge\">\n<title>M&#45;0 C&#45;0; M&#45;3 C&#45;3&#45;&gt;M&#45;0 C&#45;1; M&#45;3 C&#45;2</title>\n<path fill=\"none\" stroke=\"black\" d=\"M527.86,-122.96C518.23,-136.18 505.58,-155.37 498,-174 487.83,-199.01 482.1,-229.4 479.06,-250.85\"/>\n<polygon fill=\"black\" stroke=\"black\" points=\"475.57,-250.51 477.73,-260.89 482.51,-251.43 475.57,-250.51\"/>\n<text text-anchor=\"middle\" x=\"501.5\" y=\"-188.3\" font-family=\"Times New Roman,serif\" font-size=\"14.00\">1</text>\n</g>\n<!-- M&#45;0 C&#45;0; M&#45;3 C&#45;3&#45;&gt;M&#45;2 C&#45;0; M&#45;1 C&#45;3 -->\n<g id=\"edge50\" class=\"edge\">\n<title>M&#45;0 C&#45;0; M&#45;3 C&#45;3&#45;&gt;M&#45;2 C&#45;0; M&#45;1 C&#45;3</title>\n<path fill=\"none\" stroke=\"black\" d=\"M491.03,-91.09C432.16,-75.88 334.45,-50.64 271.66,-34.41\"/>\n<polygon fill=\"black\" stroke=\"black\" points=\"272.46,-31 261.9,-31.89 270.7,-37.78 272.46,-31\"/>\n<text text-anchor=\"middle\" x=\"399.5\" y=\"-57.8\" font-family=\"Times New Roman,serif\" font-size=\"14.00\">1</text>\n</g>\n<!-- M&#45;0 C&#45;0; M&#45;3 C&#45;3&#45;&gt;M&#45;1 C&#45;0; M&#45;2 C&#45;3 -->\n<g id=\"edge10\" class=\"edge\">\n<title>M&#45;0 C&#45;0; M&#45;3 C&#45;3&#45;&gt;M&#45;1 C&#45;0; M&#45;2 C&#45;3</title>\n<path fill=\"none\" stroke=\"black\" d=\"M561.25,-87.61C577.27,-74.64 599.83,-56.38 617.65,-41.95\"/>\n<polygon fill=\"black\" stroke=\"black\" points=\"619.89,-44.64 625.46,-35.63 615.48,-39.2 619.89,-44.64\"/>\n<text text-anchor=\"middle\" x=\"602.5\" y=\"-57.8\" font-family=\"Times New Roman,serif\" font-size=\"14.00\">1</text>\n</g>\n<!-- M&#45;0 C&#45;3; M&#45;3 C&#45;0&#45;&gt;M&#45;0 C&#45;2; M&#45;3 C&#45;1 -->\n<g id=\"edge8\" class=\"edge\">\n<title>M&#45;0 C&#45;3; M&#45;3 C&#45;0&#45;&gt;M&#45;0 C&#45;2; M&#45;3 C&#45;1</title>\n<path fill=\"none\" stroke=\"black\" d=\"M319.15,-210.36C305.23,-240.34 283.19,-301.37 318,-330 335.85,-344.68 358.8,-353.41 381.28,-358.55\"/>\n<polygon fill=\"black\" stroke=\"black\" points=\"380.7,-362.01 391.21,-360.6 382.12,-355.15 380.7,-362.01\"/>\n<text text-anchor=\"middle\" x=\"305.5\" y=\"-275.3\" font-family=\"Times New Roman,serif\" font-size=\"14.00\">1</text>\n</g>\n<!-- M&#45;0 C&#45;3; M&#45;3 C&#45;0&#45;&gt;M&#45;0 C&#45;1; M&#45;3 C&#45;2 -->\n<g id=\"edge23\" class=\"edge\">\n<title>M&#45;0 C&#45;3; M&#45;3 C&#45;0&#45;&gt;M&#45;0 C&#45;1; M&#45;3 C&#45;2</title>\n<path fill=\"none\" stroke=\"black\" d=\"M355.71,-208.92C379.35,-222.49 413.5,-242.11 439.38,-256.97\"/>\n<polygon fill=\"black\" stroke=\"black\" points=\"437.75,-260.07 448.16,-262.01 441.23,-254 437.75,-260.07\"/>\n<text text-anchor=\"middle\" x=\"413.5\" y=\"-231.8\" font-family=\"Times New Roman,serif\" font-size=\"14.00\">1</text>\n</g>\n<!-- M&#45;3 C&#45;3; M&#45;0 C&#45;0&#45;&gt;M&#45;3 C&#45;1; M&#45;0 C&#45;2 -->\n<g id=\"edge20\" class=\"edge\">\n<title>M&#45;3 C&#45;3; M&#45;0 C&#45;0&#45;&gt;M&#45;3 C&#45;1; M&#45;0 C&#45;2</title>\n<path fill=\"none\" stroke=\"black\" d=\"M520.12,-558.18C512.08,-579.98 496.11,-617.97 474,-645 459.43,-662.82 439.39,-678.88 422.21,-690.92\"/>\n<polygon fill=\"black\" stroke=\"black\" points=\"419.83,-688.3 413.54,-696.83 423.77,-694.09 419.83,-688.3\"/>\n<text text-anchor=\"middle\" x=\"500.5\" y=\"-623.3\" font-family=\"Times New Roman,serif\" font-size=\"14.00\">1</text>\n</g>\n<!-- M&#45;3 C&#45;3; M&#45;0 C&#45;0&#45;&gt;M&#45;1 C&#45;3; M&#45;2 C&#45;0 -->\n<g id=\"edge17\" class=\"edge\">\n<title>M&#45;3 C&#45;3; M&#45;0 C&#45;0&#45;&gt;M&#45;1 C&#45;3; M&#45;2 C&#45;0</title>\n<path fill=\"none\" stroke=\"black\" d=\"M577.61,-526.38C646.64,-506.97 768.69,-463.45 841,-384 910.84,-307.27 949.13,-186.13 963.41,-132.76\"/>\n<polygon fill=\"black\" stroke=\"black\" points=\"966.82,-133.58 965.95,-123.02 960.04,-131.82 966.82,-133.58\"/>\n<text text-anchor=\"middle\" x=\"892.5\" y=\"-318.8\" font-family=\"Times New Roman,serif\" font-size=\"14.00\">1</text>\n</g>\n<!-- M&#45;3 C&#45;3; M&#45;0 C&#45;0&#45;&gt;M&#45;3 C&#45;2; M&#45;0 C&#45;1 -->\n<g id=\"edge19\" class=\"edge\">\n<title>M&#45;3 C&#45;3; M&#45;0 C&#45;0&#45;&gt;M&#45;3 C&#45;2; M&#45;0 C&#45;1</title>\n<path fill=\"none\" stroke=\"black\" d=\"M494.19,-556.58C482.91,-562.38 470.23,-569.21 459,-576 444.93,-584.51 429.91,-594.75 417.25,-603.74\"/>\n<polygon fill=\"black\" stroke=\"black\" points=\"414.99,-601.05 408.9,-609.72 419.07,-606.74 414.99,-601.05\"/>\n<text text-anchor=\"middle\" x=\"462.5\" y=\"-579.8\" font-family=\"Times New Roman,serif\" font-size=\"14.00\">1</text>\n</g>\n<!-- M&#45;3 C&#45;3; M&#45;0 C&#45;0&#45;&gt;M&#45;2 C&#45;3; M&#45;1 C&#45;0 -->\n<g id=\"edge48\" class=\"edge\">\n<title>M&#45;3 C&#45;3; M&#45;0 C&#45;0&#45;&gt;M&#45;2 C&#45;3; M&#45;1 C&#45;0</title>\n<path fill=\"none\" stroke=\"black\" d=\"M552.42,-523.05C588.17,-501 653.28,-459.13 704,-417 713.4,-409.19 723.05,-399.9 731.33,-391.45\"/>\n<polygon fill=\"black\" stroke=\"black\" points=\"734.09,-393.63 738.51,-384 729.05,-388.78 734.09,-393.63\"/>\n<text text-anchor=\"middle\" x=\"684.5\" y=\"-449.3\" font-family=\"Times New Roman,serif\" font-size=\"14.00\">1</text>\n</g>\n<!-- M&#45;3 C&#45;3; M&#45;0 C&#45;0&#45;&gt;M&#45;2 C&#45;2; M&#45;1 C&#45;1 -->\n<g id=\"edge44\" class=\"edge\">\n<title>M&#45;3 C&#45;3; M&#45;0 C&#45;0&#45;&gt;M&#45;2 C&#45;2; M&#45;1 C&#45;1</title>\n<path fill=\"none\" stroke=\"black\" d=\"M509.72,-522.09C505.48,-516.71 501.42,-510.47 499,-504 496.35,-496.92 495.15,-488.87 494.73,-481.34\"/>\n<polygon fill=\"black\" stroke=\"black\" points=\"498.22,-481.13 494.57,-471.18 491.22,-481.23 498.22,-481.13\"/>\n<text text-anchor=\"middle\" x=\"502.5\" y=\"-492.8\" font-family=\"Times New Roman,serif\" font-size=\"14.00\">1</text>\n</g>\n</g>\n</svg>\n",
      "text/plain": [
       "<graphviz.graphs.Digraph at 0x1a0741cba00>"
      ]
     },
     "execution_count": 136,
     "metadata": {},
     "output_type": "execute_result"
    }
   ],
   "source": [
    "river_graph = river_build_graph()\n",
    "river_graph.visualize()\n"
   ]
  },
  {
   "cell_type": "markdown",
   "id": "3018c533-63c2-4729-8b95-d5b8186698bf",
   "metadata": {},
   "source": [
    "## Solution"
   ]
  },
  {
   "cell_type": "code",
   "execution_count": 139,
   "id": "56074bf4-79dd-48da-bd71-7c5bd3a06160",
   "metadata": {},
   "outputs": [
    {
     "data": {
      "text/plain": [
       "[Riverside(left(3, 3), right(0, 0)),\n",
       " Riverside(left(2, 2), right(1, 1)),\n",
       " Riverside(left(3, 2), right(0, 1)),\n",
       " Riverside(left(3, 0), right(0, 3)),\n",
       " Riverside(left(3, 1), right(0, 2)),\n",
       " Riverside(left(1, 1), right(2, 2)),\n",
       " Riverside(left(2, 2), right(1, 1)),\n",
       " Riverside(left(0, 2), right(3, 1)),\n",
       " Riverside(left(0, 3), right(3, 0)),\n",
       " Riverside(left(0, 1), right(3, 2)),\n",
       " Riverside(left(1, 1), right(2, 2)),\n",
       " Riverside(left(0, 0), right(3, 3))]"
      ]
     },
     "execution_count": 139,
     "metadata": {},
     "output_type": "execute_result"
    }
   ],
   "source": [
    "find_river_steps()\n"
   ]
  },
  {
   "cell_type": "markdown",
   "id": "12188457-543e-464e-85eb-9826bcc47a77",
   "metadata": {},
   "source": [
    "Having named a missionary as \"M\" and a cannibal as \"C\", for example the shortest solution is to move:\n",
    "\n",
    "* $\\rightarrow\\quad$ M and C\n",
    "* $\\leftarrow\\quad$ M\n",
    "* $\\rightarrow\\quad$ C and C\n",
    "* $\\leftarrow\\quad$ C\n",
    "* $\\rightarrow\\quad$ M and M\n",
    "* $\\leftarrow\\quad$M and C\n",
    "* $\\rightarrow\\quad$ M and M\n",
    "* $\\leftarrow\\quad$ C\n",
    "* $\\rightarrow\\quad$ C and C\n",
    "* $\\leftarrow\\quad$ M\n",
    "* $\\rightarrow\\quad$ M and C\n"
   ]
  },
  {
   "cell_type": "markdown",
   "id": "4396b051-5a8e-4ea8-82dd-02e82e0e5472",
   "metadata": {},
   "source": [
    "-----------------------"
   ]
  },
  {
   "cell_type": "markdown",
   "id": "df73b8bd-9ed7-4601-83bd-5e6258238a4a",
   "metadata": {
    "tags": []
   },
   "source": [
    "# Task 7"
   ]
  },
  {
   "cell_type": "markdown",
   "id": "144e88f2-c93f-4c86-b851-f043842045d1",
   "metadata": {
    "tags": []
   },
   "source": [
    "_**\"Water in buckets\" problem**_"
   ]
  },
  {
   "cell_type": "markdown",
   "id": "bf66c87a-133a-4e61-800b-38693eaf4cec",
   "metadata": {},
   "source": [
    "-----------------------"
   ]
  },
  {
   "cell_type": "markdown",
   "id": "835a66ef-9296-46cf-8ed0-fa44200f9a1d",
   "metadata": {},
   "source": [
    "## Buckets representation "
   ]
  },
  {
   "cell_type": "markdown",
   "id": "13b7f7b5-c8e7-40c9-b7af-7fd317de5e8e",
   "metadata": {
    "tags": []
   },
   "source": [
    "For creating the current state volumes and maximal volumes in both buckets must be given. There are also six action possibilites to do with the water:\n",
    "\n",
    "* filling the bucket,\n",
    "* emptying the bucket,\n",
    "* pouring the water from one to another.\n",
    "\n",
    "We can also check the total volume in the system. The rest of the class is similar to the one in the task before."
   ]
  },
  {
   "cell_type": "code",
   "execution_count": 140,
   "id": "7e89d703-b52e-457b-9ef7-b3b1b0d7e999",
   "metadata": {},
   "outputs": [],
   "source": [
    "class TwoBucketSet:\n",
    "    def __init__(self, left: int, right: int, left_max: int, right_max: int):\n",
    "        if not all(\n",
    "            map(lambda v: isinstance(v, int), [\n",
    "                left, right, left_max, right_max])\n",
    "        ):\n",
    "            raise TypeError(\"Volumes have to be integers.\")\n",
    "        if 0 <= left <= left_max and 0 <= right <= right_max:\n",
    "            self._left = left\n",
    "            self._right = right\n",
    "            self._left_max = left_max\n",
    "            self._right_max = right_max\n",
    "        else:\n",
    "            raise Exception(\"Invalid volumes.\")\n",
    "\n",
    "    def fill_left(self) -> Optional[TwoBucketSet]:\n",
    "        if self._left != self._left_max:\n",
    "            return TwoBucketSet(\n",
    "                self._left_max,\n",
    "                self._right,\n",
    "                self._left_max,\n",
    "                self._right_max,\n",
    "            )\n",
    "        else:\n",
    "            return None\n",
    "\n",
    "    def fill_right(self) -> Optional[TwoBucketSet]:\n",
    "        if self._right != self._right_max:\n",
    "            return TwoBucketSet(\n",
    "                self._left,\n",
    "                self._right_max,\n",
    "                self._left_max,\n",
    "                self._right_max,\n",
    "            )\n",
    "        else:\n",
    "            return None\n",
    "\n",
    "    def spill_left(self) -> Optional[TwoBucketSet]:\n",
    "        if self._left != 0:\n",
    "            return TwoBucketSet(0, self._right, self._left_max, self._right_max)\n",
    "        else:\n",
    "            return None\n",
    "\n",
    "    def spill_right(self) -> Optional[TwoBucketSet]:\n",
    "        if self._right != 0:\n",
    "            return TwoBucketSet(self._left, 0, self._left_max, self._right_max)\n",
    "        else:\n",
    "            return None\n",
    "\n",
    "    def pour_to_left(self) -> Optional[TwoBucketSet]:\n",
    "        left_diff = self._left_max - self._left\n",
    "        if left_diff and self._right:\n",
    "            poured = min(left_diff, self._right)\n",
    "            new_left = self._left + poured\n",
    "            new_right = self._right - poured\n",
    "            return TwoBucketSet(new_left, new_right, self._left_max, self._right_max)\n",
    "        else:\n",
    "            return None\n",
    "\n",
    "    def pour_to_right(self) -> Optional[TwoBucketSet]:\n",
    "        right_diff = self._right_max - self._right\n",
    "        if right_diff and self._left:\n",
    "            poured = min(right_diff, self._left)\n",
    "            new_left = self._left - poured\n",
    "            new_right = self._right + poured\n",
    "            return TwoBucketSet(new_left, new_right, self._left_max, self._right_max)\n",
    "        else:\n",
    "            return None\n",
    "\n",
    "    def do_actions(self):\n",
    "        moves = [\n",
    "            self.fill_left(),\n",
    "            self.fill_right(),\n",
    "            self.spill_left(),\n",
    "            self.spill_right(),\n",
    "            self.pour_to_left(),\n",
    "            self.pour_to_right(),\n",
    "        ]\n",
    "        legal_moves = list(filter(None, moves))\n",
    "        return legal_moves\n",
    "\n",
    "    def total_vol(self) -> int:\n",
    "        return self._left + self._right\n",
    "\n",
    "    def __str__(self) -> str:\n",
    "        return \", \".join(map(str, [self._left, self._right]))\n",
    "\n",
    "    def __repr__(self) -> str:\n",
    "        return \"TwoBucketSet(({l}, {r}), of({lm}, {rm}))\".format(\n",
    "            l=str(self._left),\n",
    "            r=str(self._right),\n",
    "            lm=str(self._left_max),\n",
    "            rm=str(self._right_max),\n",
    "        )\n",
    "\n",
    "    def __eq__(self, other):\n",
    "        if type(other) is type(self):\n",
    "            condits = [\n",
    "                self._left == other._left,\n",
    "                self._right == other._right,\n",
    "                self._left_max == other._left_max,\n",
    "                self._right_max == other._right_max,\n",
    "            ]\n",
    "            return all(condits)\n",
    "        else:\n",
    "            return False\n",
    "\n",
    "    def __hash__(self):\n",
    "        return hash((self._left, self._right, self._left_max, self._right_max))\n"
   ]
  },
  {
   "cell_type": "markdown",
   "id": "578a0b2f-5fe9-4ee2-815f-9765d832138a",
   "metadata": {},
   "source": [
    "## Solving functions"
   ]
  },
  {
   "cell_type": "markdown",
   "id": "76d52533-fb13-48c6-981f-76e5dc5a1d6f",
   "metadata": {},
   "source": [
    "These functions are enhanced versions of the ones form the previous task."
   ]
  },
  {
   "cell_type": "code",
   "execution_count": 141,
   "id": "aadedd72-37aa-4e71-8aff-eada4f784b4d",
   "metadata": {},
   "outputs": [],
   "source": [
    "def bucket_build_graph(max_vol_a: int, max_vol_b: int) -> Graph:\n",
    "    bucket_graph = Graph()\n",
    "    init_condit = TwoBucketSet(0, 0, max_vol_a, max_vol_b)\n",
    "    bucket_graph.add_node(init_condit)\n",
    "\n",
    "    def branch(curr_state: TwoBucketSet):\n",
    "        new_states = curr_state.do_actions()\n",
    "        for state in new_states:\n",
    "            is_new = not (state in bucket_graph.get_nodes())\n",
    "            bucket_graph.add_edge(curr_state, state, 1)\n",
    "            if is_new:\n",
    "                branch(state)\n",
    "\n",
    "    branch(init_condit)\n",
    "    return bucket_graph\n"
   ]
  },
  {
   "cell_type": "markdown",
   "id": "4415d879-2d89-45ea-b0de-4a0c20796f7f",
   "metadata": {},
   "source": [
    "However in this case there can be more than one final node (different combination of the same total volume exist):"
   ]
  },
  {
   "cell_type": "code",
   "execution_count": 142,
   "id": "a04e138d-1880-4828-b2d5-28d0380b731e",
   "metadata": {},
   "outputs": [],
   "source": [
    "def find_bucket_steps(\n",
    "    max_vol_a: int, max_vol_b: int, des_vol: int\n",
    ") -> List[TwoBucketSet]:\n",
    "    bucket_graph = bucket_build_graph(max_vol_a, max_vol_b)\n",
    "    paths = []\n",
    "    std_init = TwoBucketSet(0, 0, max_vol_a, max_vol_b)\n",
    "    for node in bucket_graph.get_nodes():\n",
    "        if node.total_vol() == des_vol:\n",
    "            paths.append(bucket_graph.find_path(std_init, node))\n",
    "    if paths:\n",
    "        opt_path = sorted(paths, key=len)[0]\n",
    "        return opt_path\n",
    "    else:\n",
    "        return None\n"
   ]
  },
  {
   "cell_type": "markdown",
   "id": "889d8000-8e20-496a-8960-43abaa9a1daf",
   "metadata": {},
   "source": [
    "## Visualization"
   ]
  },
  {
   "cell_type": "markdown",
   "id": "167ba20e-46ea-463c-ac67-015a581d1349",
   "metadata": {},
   "source": [
    "Before the function is called, we assign the capacities and the desired volume. "
   ]
  },
  {
   "cell_type": "code",
   "execution_count": null,
   "id": "726ff94e-26c7-4599-a131-070f70710685",
   "metadata": {},
   "outputs": [],
   "source": [
    "MAX_VOL_A = 3\n",
    "MAX_VOL_B = 4\n",
    "DES_VOL = 2\n"
   ]
  },
  {
   "cell_type": "markdown",
   "id": "11b33608-1439-4fa5-a01e-dc8080d69b22",
   "metadata": {},
   "source": [
    "Ad the rest is just analogous."
   ]
  },
  {
   "cell_type": "code",
   "execution_count": 144,
   "id": "565c5c8f-bb8e-409b-b8fb-5fba5bca117d",
   "metadata": {},
   "outputs": [
    {
     "data": {
      "image/svg+xml": "<?xml version=\"1.0\" encoding=\"UTF-8\" standalone=\"no\"?>\n<!DOCTYPE svg PUBLIC \"-//W3C//DTD SVG 1.1//EN\"\n \"http://www.w3.org/Graphics/SVG/1.1/DTD/svg11.dtd\">\n<!-- Generated by graphviz version 2.50.0 (20211204.2007)\n -->\n<!-- Pages: 1 -->\n<svg width=\"832pt\" height=\"1175pt\"\n viewBox=\"0.00 0.00 832.00 1175.00\" xmlns=\"http://www.w3.org/2000/svg\" xmlns:xlink=\"http://www.w3.org/1999/xlink\">\n<g id=\"graph0\" class=\"graph\" transform=\"scale(1 1) rotate(0) translate(4 1171)\">\n<polygon fill=\"white\" stroke=\"transparent\" points=\"-4,4 -4,-1171 828,-1171 828,4 -4,4\"/>\n<!-- 0, 1 -->\n<g id=\"node1\" class=\"node\">\n<title>0, 1</title>\n<ellipse fill=\"#b2dfee\" stroke=\"black\" cx=\"350\" cy=\"-1149\" rx=\"27\" ry=\"18\"/>\n<text text-anchor=\"middle\" x=\"350\" y=\"-1145.3\" font-family=\"Times New Roman,serif\" font-size=\"14.00\">0, 1</text>\n</g>\n<!-- 3, 1 -->\n<g id=\"node6\" class=\"node\">\n<title>3, 1</title>\n<ellipse fill=\"#b2dfee\" stroke=\"black\" cx=\"360\" cy=\"-1062\" rx=\"27\" ry=\"18\"/>\n<text text-anchor=\"middle\" x=\"360\" y=\"-1058.3\" font-family=\"Times New Roman,serif\" font-size=\"14.00\">3, 1</text>\n</g>\n<!-- 0, 1&#45;&gt;3, 1 -->\n<g id=\"edge20\" class=\"edge\">\n<title>0, 1&#45;&gt;3, 1</title>\n<path fill=\"none\" stroke=\"black\" d=\"M341.81,-1131.69C337.93,-1121.87 334.79,-1109.15 338,-1098 339.11,-1094.15 340.78,-1090.32 342.71,-1086.68\"/>\n<polygon fill=\"black\" stroke=\"black\" points=\"345.71,-1088.49 347.9,-1078.12 339.72,-1084.86 345.71,-1088.49\"/>\n<text text-anchor=\"middle\" x=\"341.5\" y=\"-1101.8\" font-family=\"Times New Roman,serif\" font-size=\"14.00\">1</text>\n</g>\n<!-- 1, 0 -->\n<g id=\"node9\" class=\"node\">\n<title>1, 0</title>\n<ellipse fill=\"#b2dfee\" stroke=\"black\" cx=\"531\" cy=\"-105\" rx=\"27\" ry=\"18\"/>\n<text text-anchor=\"middle\" x=\"531\" y=\"-101.3\" font-family=\"Times New Roman,serif\" font-size=\"14.00\">1, 0</text>\n</g>\n<!-- 0, 1&#45;&gt;1, 0 -->\n<g id=\"edge47\" class=\"edge\">\n<title>0, 1&#45;&gt;1, 0</title>\n<path fill=\"none\" stroke=\"black\" d=\"M377.16,-1148.42C471.46,-1149.17 779,-1145.29 779,-1063 779,-1063 779,-1063 779,-191 779,-146.84 636.52,-120.79 567.55,-110.77\"/>\n<polygon fill=\"black\" stroke=\"black\" points=\"567.93,-107.29 557.54,-109.35 566.95,-114.22 567.93,-107.29\"/>\n<text text-anchor=\"middle\" x=\"782.5\" y=\"-623.3\" font-family=\"Times New Roman,serif\" font-size=\"14.00\">1</text>\n</g>\n<!-- 0, 0 -->\n<g id=\"node13\" class=\"node\">\n<title>0, 0</title>\n<ellipse fill=\"#b2dfee\" stroke=\"black\" cx=\"619\" cy=\"-18\" rx=\"27\" ry=\"18\"/>\n<text text-anchor=\"middle\" x=\"619\" y=\"-14.3\" font-family=\"Times New Roman,serif\" font-size=\"14.00\">0, 0</text>\n</g>\n<!-- 0, 1&#45;&gt;0, 0 -->\n<g id=\"edge33\" class=\"edge\">\n<title>0, 1&#45;&gt;0, 0</title>\n<path fill=\"none\" stroke=\"black\" d=\"M376.99,-1147.58C455.48,-1146.06 682.36,-1139.44 751,-1113 785.34,-1099.77 817,-1099.8 817,-1063 817,-1063 817,-1063 817,-104 817,-34.8 713.61,-21.22 656.26,-19.02\"/>\n<polygon fill=\"black\" stroke=\"black\" points=\"656.21,-15.52 646.12,-18.73 656.01,-22.51 656.21,-15.52\"/>\n<text text-anchor=\"middle\" x=\"820.5\" y=\"-579.8\" font-family=\"Times New Roman,serif\" font-size=\"14.00\">1</text>\n</g>\n<!-- 0, 4 -->\n<g id=\"node14\" class=\"node\">\n<title>0, 4</title>\n<ellipse fill=\"#b2dfee\" stroke=\"black\" cx=\"291\" cy=\"-975\" rx=\"27\" ry=\"18\"/>\n<text text-anchor=\"middle\" x=\"291\" y=\"-971.3\" font-family=\"Times New Roman,serif\" font-size=\"14.00\">0, 4</text>\n</g>\n<!-- 0, 1&#45;&gt;0, 4 -->\n<g id=\"edge44\" class=\"edge\">\n<title>0, 1&#45;&gt;0, 4</title>\n<path fill=\"none\" stroke=\"black\" d=\"M341.41,-1131.7C338.37,-1125.84 334.98,-1119.15 332,-1113 324.98,-1098.5 322.31,-1095.21 317,-1080 308.08,-1054.45 300.9,-1024.36 296.37,-1003.14\"/>\n<polygon fill=\"black\" stroke=\"black\" points=\"299.77,-1002.29 294.3,-993.21 292.91,-1003.71 299.77,-1002.29\"/>\n<text text-anchor=\"middle\" x=\"320.5\" y=\"-1058.3\" font-family=\"Times New Roman,serif\" font-size=\"14.00\">1</text>\n</g>\n<!-- 3, 2 -->\n<g id=\"node2\" class=\"node\">\n<title>3, 2</title>\n<ellipse fill=\"#b2dfee\" stroke=\"black\" cx=\"481\" cy=\"-279\" rx=\"27\" ry=\"18\"/>\n<text text-anchor=\"middle\" x=\"481\" y=\"-275.3\" font-family=\"Times New Roman,serif\" font-size=\"14.00\">3, 2</text>\n</g>\n<!-- 1, 4 -->\n<g id=\"node3\" class=\"node\">\n<title>1, 4</title>\n<ellipse fill=\"#b2dfee\" stroke=\"black\" cx=\"488\" cy=\"-192\" rx=\"27\" ry=\"18\"/>\n<text text-anchor=\"middle\" x=\"488\" y=\"-188.3\" font-family=\"Times New Roman,serif\" font-size=\"14.00\">1, 4</text>\n</g>\n<!-- 3, 2&#45;&gt;1, 4 -->\n<g id=\"edge35\" class=\"edge\">\n<title>3, 2&#45;&gt;1, 4</title>\n<path fill=\"none\" stroke=\"black\" d=\"M482.42,-260.8C483.37,-249.16 484.66,-233.55 485.76,-220.24\"/>\n<polygon fill=\"black\" stroke=\"black\" points=\"489.25,-220.43 486.59,-210.18 482.28,-219.85 489.25,-220.43\"/>\n<text text-anchor=\"middle\" x=\"487.5\" y=\"-231.8\" font-family=\"Times New Roman,serif\" font-size=\"14.00\">1</text>\n</g>\n<!-- 3, 4 -->\n<g id=\"node4\" class=\"node\">\n<title>3, 4</title>\n<ellipse fill=\"#b2dfee\" stroke=\"black\" cx=\"376\" cy=\"-888\" rx=\"27\" ry=\"18\"/>\n<text text-anchor=\"middle\" x=\"376\" y=\"-884.3\" font-family=\"Times New Roman,serif\" font-size=\"14.00\">3, 4</text>\n</g>\n<!-- 3, 2&#45;&gt;3, 4 -->\n<g id=\"edge9\" class=\"edge\">\n<title>3, 2&#45;&gt;3, 4</title>\n<path fill=\"none\" stroke=\"black\" d=\"M491.67,-295.79C495.15,-301.6 498.7,-308.39 501,-315 505.87,-329.01 503.97,-333.31 506,-348 525.68,-490.64 546,-525.51 546,-669.5 546,-802 546,-802 546,-802 546,-860.99 463.09,-879.05 413.07,-884.57\"/>\n<polygon fill=\"black\" stroke=\"black\" points=\"412.55,-881.1 402.94,-885.57 413.23,-888.07 412.55,-881.1\"/>\n<text text-anchor=\"middle\" x=\"546.5\" y=\"-579.8\" font-family=\"Times New Roman,serif\" font-size=\"14.00\">1</text>\n</g>\n<!-- 0, 2 -->\n<g id=\"node7\" class=\"node\">\n<title>0, 2</title>\n<ellipse fill=\"#b2dfee\" stroke=\"black\" cx=\"442\" cy=\"-366\" rx=\"27\" ry=\"18\"/>\n<text text-anchor=\"middle\" x=\"442\" y=\"-362.3\" font-family=\"Times New Roman,serif\" font-size=\"14.00\">0, 2</text>\n</g>\n<!-- 3, 2&#45;&gt;0, 2 -->\n<g id=\"edge37\" class=\"edge\">\n<title>3, 2&#45;&gt;0, 2</title>\n<path fill=\"none\" stroke=\"black\" d=\"M473.5,-296.34C467.9,-308.56 460.13,-325.49 453.71,-339.49\"/>\n<polygon fill=\"black\" stroke=\"black\" points=\"450.51,-338.06 449.52,-348.61 456.87,-340.98 450.51,-338.06\"/>\n<text text-anchor=\"middle\" x=\"466.5\" y=\"-318.8\" font-family=\"Times New Roman,serif\" font-size=\"14.00\">1</text>\n</g>\n<!-- 3, 0 -->\n<g id=\"node12\" class=\"node\">\n<title>3, 0</title>\n<ellipse fill=\"#b2dfee\" stroke=\"black\" cx=\"435\" cy=\"-801\" rx=\"27\" ry=\"18\"/>\n<text text-anchor=\"middle\" x=\"435\" y=\"-797.3\" font-family=\"Times New Roman,serif\" font-size=\"14.00\">3, 0</text>\n</g>\n<!-- 3, 2&#45;&gt;3, 0 -->\n<g id=\"edge36\" class=\"edge\">\n<title>3, 2&#45;&gt;3, 0</title>\n<path fill=\"none\" stroke=\"black\" d=\"M483.59,-297.01C490.35,-342.94 508,-473.36 508,-582.5 508,-715 508,-715 508,-715 508,-743.72 483.71,-767.59 463.16,-782.65\"/>\n<polygon fill=\"black\" stroke=\"black\" points=\"461.16,-779.77 454.95,-788.36 465.16,-785.52 461.16,-779.77\"/>\n<text text-anchor=\"middle\" x=\"510.5\" y=\"-536.3\" font-family=\"Times New Roman,serif\" font-size=\"14.00\">1</text>\n</g>\n<!-- 1, 4&#45;&gt;3, 2 -->\n<g id=\"edge3\" class=\"edge\">\n<title>1, 4&#45;&gt;3, 2</title>\n<path fill=\"none\" stroke=\"black\" d=\"M481.11,-209.44C479.04,-215.21 477.03,-221.79 476,-228 474.77,-235.37 474.92,-243.4 475.67,-250.83\"/>\n<polygon fill=\"black\" stroke=\"black\" points=\"472.21,-251.37 477.04,-260.8 479.15,-250.42 472.21,-251.37\"/>\n<text text-anchor=\"middle\" x=\"479.5\" y=\"-231.8\" font-family=\"Times New Roman,serif\" font-size=\"14.00\">1</text>\n</g>\n<!-- 1, 4&#45;&gt;3, 4 -->\n<g id=\"edge48\" class=\"edge\">\n<title>1, 4&#45;&gt;3, 4</title>\n<path fill=\"none\" stroke=\"black\" d=\"M500.61,-208.15C518.96,-230.61 553.5,-274.45 578,-315 640.51,-418.45 627,-461.63 627,-582.5 627,-802 627,-802 627,-802 627,-846.75 482.09,-872.57 412.48,-882.39\"/>\n<polygon fill=\"black\" stroke=\"black\" points=\"411.82,-878.95 402.39,-883.78 412.77,-885.88 411.82,-878.95\"/>\n<text text-anchor=\"middle\" x=\"630.5\" y=\"-536.3\" font-family=\"Times New Roman,serif\" font-size=\"14.00\">1</text>\n</g>\n<!-- 1, 4&#45;&gt;1, 0 -->\n<g id=\"edge19\" class=\"edge\">\n<title>1, 4&#45;&gt;1, 0</title>\n<path fill=\"none\" stroke=\"black\" d=\"M486.3,-173.96C486.03,-163.88 486.98,-151.15 492,-141 494.97,-135.01 499.44,-129.57 504.32,-124.86\"/>\n<polygon fill=\"black\" stroke=\"black\" points=\"506.88,-127.28 512.15,-118.1 502.3,-121.99 506.88,-127.28\"/>\n<text text-anchor=\"middle\" x=\"495.5\" y=\"-144.8\" font-family=\"Times New Roman,serif\" font-size=\"14.00\">1</text>\n</g>\n<!-- 1, 4&#45;&gt;0, 4 -->\n<g id=\"edge16\" class=\"edge\">\n<title>1, 4&#45;&gt;0, 4</title>\n<path fill=\"none\" stroke=\"black\" d=\"M461.09,-193.49C376.56,-195.76 122,-208.36 122,-278 122,-889 122,-889 122,-889 122,-947.72 204.43,-965.88 254.15,-971.49\"/>\n<polygon fill=\"black\" stroke=\"black\" points=\"253.92,-974.99 264.22,-972.51 254.62,-968.02 253.92,-974.99\"/>\n<text text-anchor=\"middle\" x=\"125.5\" y=\"-579.8\" font-family=\"Times New Roman,serif\" font-size=\"14.00\">1</text>\n</g>\n<!-- 3, 4&#45;&gt;3, 0 -->\n<g id=\"edge23\" class=\"edge\">\n<title>3, 4&#45;&gt;3, 0</title>\n<path fill=\"none\" stroke=\"black\" d=\"M382.7,-870.52C387.17,-860.41 393.58,-847.45 401,-837 404.31,-832.34 408.24,-827.7 412.23,-823.4\"/>\n<polygon fill=\"black\" stroke=\"black\" points=\"414.88,-825.69 419.36,-816.09 409.87,-820.8 414.88,-825.69\"/>\n<text text-anchor=\"middle\" x=\"404.5\" y=\"-840.8\" font-family=\"Times New Roman,serif\" font-size=\"14.00\">1</text>\n</g>\n<!-- 3, 4&#45;&gt;0, 4 -->\n<g id=\"edge5\" class=\"edge\">\n<title>3, 4&#45;&gt;0, 4</title>\n<path fill=\"none\" stroke=\"black\" d=\"M356.73,-900.64C347.21,-906.9 335.89,-915.15 327,-924 319.35,-931.62 312.14,-941 306.2,-949.58\"/>\n<polygon fill=\"black\" stroke=\"black\" points=\"303.15,-947.85 300.52,-958.11 308.98,-951.73 303.15,-947.85\"/>\n<text text-anchor=\"middle\" x=\"330.5\" y=\"-927.8\" font-family=\"Times New Roman,serif\" font-size=\"14.00\">1</text>\n</g>\n<!-- 2, 0 -->\n<g id=\"node5\" class=\"node\">\n<title>2, 0</title>\n<ellipse fill=\"#b2dfee\" stroke=\"black\" cx=\"427\" cy=\"-453\" rx=\"27\" ry=\"18\"/>\n<text text-anchor=\"middle\" x=\"427\" y=\"-449.3\" font-family=\"Times New Roman,serif\" font-size=\"14.00\">2, 0</text>\n</g>\n<!-- 2, 0&#45;&gt;0, 2 -->\n<g id=\"edge26\" class=\"edge\">\n<title>2, 0&#45;&gt;0, 2</title>\n<path fill=\"none\" stroke=\"black\" d=\"M430.04,-434.8C432.09,-423.16 434.84,-407.55 437.19,-394.24\"/>\n<polygon fill=\"black\" stroke=\"black\" points=\"440.68,-394.63 438.97,-384.18 433.78,-393.41 440.68,-394.63\"/>\n<text text-anchor=\"middle\" x=\"438.5\" y=\"-405.8\" font-family=\"Times New Roman,serif\" font-size=\"14.00\">1</text>\n</g>\n<!-- 2, 4 -->\n<g id=\"node8\" class=\"node\">\n<title>2, 4</title>\n<ellipse fill=\"#b2dfee\" stroke=\"black\" cx=\"379\" cy=\"-540\" rx=\"27\" ry=\"18\"/>\n<text text-anchor=\"middle\" x=\"379\" y=\"-536.3\" font-family=\"Times New Roman,serif\" font-size=\"14.00\">2, 4</text>\n</g>\n<!-- 2, 0&#45;&gt;2, 4 -->\n<g id=\"edge42\" class=\"edge\">\n<title>2, 0&#45;&gt;2, 4</title>\n<path fill=\"none\" stroke=\"black\" d=\"M419.37,-470.47C414.64,-480.34 408.3,-493.07 402,-504 399.98,-507.51 397.74,-511.16 395.49,-514.71\"/>\n<polygon fill=\"black\" stroke=\"black\" points=\"392.47,-512.93 389.94,-523.22 398.33,-516.75 392.47,-512.93\"/>\n<text text-anchor=\"middle\" x=\"413.5\" y=\"-492.8\" font-family=\"Times New Roman,serif\" font-size=\"14.00\">1</text>\n</g>\n<!-- 2, 0&#45;&gt;3, 0 -->\n<g id=\"edge30\" class=\"edge\">\n<title>2, 0&#45;&gt;3, 0</title>\n<path fill=\"none\" stroke=\"black\" d=\"M427.93,-471.01C430.36,-516.34 436.85,-643.82 439,-750 439.14,-756.67 439.38,-758.34 439,-765 438.85,-767.56 438.65,-770.23 438.41,-772.89\"/>\n<polygon fill=\"black\" stroke=\"black\" points=\"434.91,-772.63 437.34,-782.94 441.88,-773.37 434.91,-772.63\"/>\n<text text-anchor=\"middle\" x=\"438.5\" y=\"-623.3\" font-family=\"Times New Roman,serif\" font-size=\"14.00\">1</text>\n</g>\n<!-- 2, 0&#45;&gt;0, 0 -->\n<g id=\"edge4\" class=\"edge\">\n<title>2, 0&#45;&gt;0, 0</title>\n<path fill=\"none\" stroke=\"black\" d=\"M449.89,-443.45C508.07,-420.07 657,-349.22 657,-236.5 657,-236.5 657,-236.5 657,-104 657,-81.91 646.17,-59.17 636.07,-42.78\"/>\n<polygon fill=\"black\" stroke=\"black\" points=\"638.99,-40.85 630.61,-34.37 633.12,-44.67 638.99,-40.85\"/>\n<text text-anchor=\"middle\" x=\"660.5\" y=\"-231.8\" font-family=\"Times New Roman,serif\" font-size=\"14.00\">1</text>\n</g>\n<!-- 3, 1&#45;&gt;0, 1 -->\n<g id=\"edge38\" class=\"edge\">\n<title>3, 1&#45;&gt;0, 1</title>\n<path fill=\"none\" stroke=\"black\" d=\"M357.98,-1080.18C356.61,-1091.81 354.77,-1107.42 353.21,-1120.73\"/>\n<polygon fill=\"black\" stroke=\"black\" points=\"349.72,-1120.46 352.02,-1130.8 356.67,-1121.28 349.72,-1120.46\"/>\n<text text-anchor=\"middle\" x=\"358.5\" y=\"-1101.8\" font-family=\"Times New Roman,serif\" font-size=\"14.00\">1</text>\n</g>\n<!-- 3, 1&#45;&gt;3, 4 -->\n<g id=\"edge10\" class=\"edge\">\n<title>3, 1&#45;&gt;3, 4</title>\n<path fill=\"none\" stroke=\"black\" d=\"M361.59,-1043.88C364.37,-1014 370.13,-952.11 373.46,-916.27\"/>\n<polygon fill=\"black\" stroke=\"black\" points=\"376.97,-916.33 374.41,-906.05 370,-915.68 376.97,-916.33\"/>\n<text text-anchor=\"middle\" x=\"372.5\" y=\"-971.3\" font-family=\"Times New Roman,serif\" font-size=\"14.00\">1</text>\n</g>\n<!-- 3, 1&#45;&gt;3, 0 -->\n<g id=\"edge46\" class=\"edge\">\n<title>3, 1&#45;&gt;3, 0</title>\n<path fill=\"none\" stroke=\"black\" d=\"M369.1,-1044.93C372.18,-1039.08 375.48,-1032.35 378,-1026 407.65,-951.2 411.27,-930.7 428,-852 429.56,-844.66 430.86,-836.63 431.9,-829.2\"/>\n<polygon fill=\"black\" stroke=\"black\" points=\"435.38,-829.6 433.19,-819.23 428.44,-828.69 435.38,-829.6\"/>\n<text text-anchor=\"middle\" x=\"415.5\" y=\"-927.8\" font-family=\"Times New Roman,serif\" font-size=\"14.00\">1</text>\n</g>\n<!-- 3, 1&#45;&gt;0, 4 -->\n<g id=\"edge27\" class=\"edge\">\n<title>3, 1&#45;&gt;0, 4</title>\n<path fill=\"none\" stroke=\"black\" d=\"M345.42,-1046.41C339.51,-1040.27 332.74,-1032.96 327,-1026 320.23,-1017.8 313.29,-1008.42 307.33,-1000.02\"/>\n<polygon fill=\"black\" stroke=\"black\" points=\"310.12,-997.9 301.52,-991.71 304.38,-1001.91 310.12,-997.9\"/>\n<text text-anchor=\"middle\" x=\"330.5\" y=\"-1014.8\" font-family=\"Times New Roman,serif\" font-size=\"14.00\">1</text>\n</g>\n<!-- 0, 2&#45;&gt;3, 2 -->\n<g id=\"edge45\" class=\"edge\">\n<title>0, 2&#45;&gt;3, 2</title>\n<path fill=\"none\" stroke=\"black\" d=\"M441.44,-347.6C441.76,-337.64 443.26,-325.14 448,-315 450.39,-309.89 453.81,-305.05 457.56,-300.68\"/>\n<polygon fill=\"black\" stroke=\"black\" points=\"460.15,-303.04 464.5,-293.38 455.07,-298.22 460.15,-303.04\"/>\n<text text-anchor=\"middle\" x=\"451.5\" y=\"-318.8\" font-family=\"Times New Roman,serif\" font-size=\"14.00\">1</text>\n</g>\n<!-- 0, 2&#45;&gt;2, 0 -->\n<g id=\"edge7\" class=\"edge\">\n<title>0, 2&#45;&gt;2, 0</title>\n<path fill=\"none\" stroke=\"black\" d=\"M430.77,-382.62C427.24,-388.42 423.8,-395.24 422,-402 420.05,-409.34 420.01,-417.46 420.79,-424.99\"/>\n<polygon fill=\"black\" stroke=\"black\" points=\"417.37,-425.74 422.35,-435.09 424.29,-424.68 417.37,-425.74\"/>\n<text text-anchor=\"middle\" x=\"425.5\" y=\"-405.8\" font-family=\"Times New Roman,serif\" font-size=\"14.00\">1</text>\n</g>\n<!-- 0, 2&#45;&gt;0, 0 -->\n<g id=\"edge29\" class=\"edge\">\n<title>0, 2&#45;&gt;0, 0</title>\n<path fill=\"none\" stroke=\"black\" d=\"M468.88,-364.04C518.4,-360.69 619,-345.79 619,-280 619,-280 619,-280 619,-104 619,-84.75 619,-63.05 619,-46.4\"/>\n<polygon fill=\"black\" stroke=\"black\" points=\"622.5,-46.26 619,-36.26 615.5,-46.26 622.5,-46.26\"/>\n<text text-anchor=\"middle\" x=\"622.5\" y=\"-188.3\" font-family=\"Times New Roman,serif\" font-size=\"14.00\">1</text>\n</g>\n<!-- 0, 2&#45;&gt;0, 4 -->\n<g id=\"edge12\" class=\"edge\">\n<title>0, 2&#45;&gt;0, 4</title>\n<path fill=\"none\" stroke=\"black\" d=\"M415.22,-369.31C344.82,-376.11 160,-399.01 160,-452 160,-889 160,-889 160,-889 160,-934.54 216.41,-956.92 255.2,-966.92\"/>\n<polygon fill=\"black\" stroke=\"black\" points=\"254.58,-970.37 265.12,-969.31 256.22,-963.56 254.58,-970.37\"/>\n<text text-anchor=\"middle\" x=\"163.5\" y=\"-666.8\" font-family=\"Times New Roman,serif\" font-size=\"14.00\">1</text>\n</g>\n<!-- 2, 4&#45;&gt;3, 4 -->\n<g id=\"edge11\" class=\"edge\">\n<title>2, 4&#45;&gt;3, 4</title>\n<path fill=\"none\" stroke=\"black\" d=\"M352.97,-545.3C313.74,-553.42 244,-575.04 244,-626 244,-802 244,-802 244,-802 244,-848.01 301.39,-870.3 340.49,-880.15\"/>\n<polygon fill=\"black\" stroke=\"black\" points=\"339.7,-883.56 350.24,-882.44 341.3,-876.74 339.7,-883.56\"/>\n<text text-anchor=\"middle\" x=\"247.5\" y=\"-710.3\" font-family=\"Times New Roman,serif\" font-size=\"14.00\">1</text>\n</g>\n<!-- 2, 4&#45;&gt;2, 0 -->\n<g id=\"edge22\" class=\"edge\">\n<title>2, 4&#45;&gt;2, 0</title>\n<path fill=\"none\" stroke=\"black\" d=\"M382.5,-522.04C385.03,-511.99 389.06,-499.25 395,-489 397.67,-484.4 401.02,-479.89 404.56,-475.72\"/>\n<polygon fill=\"black\" stroke=\"black\" points=\"407.27,-477.94 411.42,-468.19 402.1,-473.22 407.27,-477.94\"/>\n<text text-anchor=\"middle\" x=\"398.5\" y=\"-492.8\" font-family=\"Times New Roman,serif\" font-size=\"14.00\">1</text>\n</g>\n<!-- 3, 3 -->\n<g id=\"node10\" class=\"node\">\n<title>3, 3</title>\n<ellipse fill=\"#b2dfee\" stroke=\"black\" cx=\"377\" cy=\"-627\" rx=\"27\" ry=\"18\"/>\n<text text-anchor=\"middle\" x=\"377\" y=\"-623.3\" font-family=\"Times New Roman,serif\" font-size=\"14.00\">3, 3</text>\n</g>\n<!-- 2, 4&#45;&gt;3, 3 -->\n<g id=\"edge15\" class=\"edge\">\n<title>2, 4&#45;&gt;3, 3</title>\n<path fill=\"none\" stroke=\"black\" d=\"M366.35,-556.05C362.21,-561.9 358.13,-568.89 356,-576 353.44,-584.56 355.66,-593.64 359.47,-601.68\"/>\n<polygon fill=\"black\" stroke=\"black\" points=\"356.52,-603.57 364.48,-610.55 362.61,-600.12 356.52,-603.57\"/>\n<text text-anchor=\"middle\" x=\"359.5\" y=\"-579.8\" font-family=\"Times New Roman,serif\" font-size=\"14.00\">1</text>\n</g>\n<!-- 2, 4&#45;&gt;0, 4 -->\n<g id=\"edge17\" class=\"edge\">\n<title>2, 4&#45;&gt;0, 4</title>\n<path fill=\"none\" stroke=\"black\" d=\"M351.9,-541.71C301.41,-544.64 198,-558.82 198,-626 198,-889 198,-889 198,-889 198,-922.85 231.98,-946.84 258.87,-960.51\"/>\n<polygon fill=\"black\" stroke=\"black\" points=\"257.48,-963.73 268.01,-964.92 260.52,-957.43 257.48,-963.73\"/>\n<text text-anchor=\"middle\" x=\"201.5\" y=\"-753.8\" font-family=\"Times New Roman,serif\" font-size=\"14.00\">1</text>\n</g>\n<!-- 1, 0&#45;&gt;0, 1 -->\n<g id=\"edge6\" class=\"edge\">\n<title>1, 0&#45;&gt;0, 1</title>\n<path fill=\"none\" stroke=\"black\" d=\"M503.71,-105.36C406.66,-103.8 84,-105.09 84,-191 84,-628 84,-628 84,-628 84,-725.26 46,-746.24 46,-843.5 46,-1063 46,-1063 46,-1063 46,-1117.87 232.03,-1138.91 313.04,-1145.47\"/>\n<polygon fill=\"black\" stroke=\"black\" points=\"313.05,-1148.98 323.29,-1146.27 313.59,-1142 313.05,-1148.98\"/>\n<text text-anchor=\"middle\" x=\"87.5\" y=\"-623.3\" font-family=\"Times New Roman,serif\" font-size=\"14.00\">1</text>\n</g>\n<!-- 1, 0&#45;&gt;1, 4 -->\n<g id=\"edge40\" class=\"edge\">\n<title>1, 0&#45;&gt;1, 4</title>\n<path fill=\"none\" stroke=\"black\" d=\"M522.73,-122.34C516.55,-134.56 507.99,-151.49 500.91,-165.49\"/>\n<polygon fill=\"black\" stroke=\"black\" points=\"497.68,-164.11 496.29,-174.61 503.93,-167.27 497.68,-164.11\"/>\n<text text-anchor=\"middle\" x=\"515.5\" y=\"-144.8\" font-family=\"Times New Roman,serif\" font-size=\"14.00\">1</text>\n</g>\n<!-- 1, 0&#45;&gt;3, 0 -->\n<g id=\"edge14\" class=\"edge\">\n<title>1, 0&#45;&gt;3, 0</title>\n<path fill=\"none\" stroke=\"black\" d=\"M535.82,-122.85C555.03,-192.83 622.13,-466.7 560,-678 547.03,-722.12 538.14,-734.19 504,-765 493.53,-774.44 480.05,-782.03 467.79,-787.69\"/>\n<polygon fill=\"black\" stroke=\"black\" points=\"466.07,-784.62 458.29,-791.81 468.86,-791.04 466.07,-784.62\"/>\n<text text-anchor=\"middle\" x=\"588.5\" y=\"-449.3\" font-family=\"Times New Roman,serif\" font-size=\"14.00\">1</text>\n</g>\n<!-- 1, 0&#45;&gt;0, 0 -->\n<g id=\"edge18\" class=\"edge\">\n<title>1, 0&#45;&gt;0, 0</title>\n<path fill=\"none\" stroke=\"black\" d=\"M545.93,-89.58C559.92,-76.07 581.01,-55.7 596.94,-40.31\"/>\n<polygon fill=\"black\" stroke=\"black\" points=\"599.53,-42.67 604.29,-33.21 594.67,-37.64 599.53,-42.67\"/>\n<text text-anchor=\"middle\" x=\"583.5\" y=\"-57.8\" font-family=\"Times New Roman,serif\" font-size=\"14.00\">1</text>\n</g>\n<!-- 3, 3&#45;&gt;3, 4 -->\n<g id=\"edge24\" class=\"edge\">\n<title>3, 3&#45;&gt;3, 4</title>\n<path fill=\"none\" stroke=\"black\" d=\"M364.16,-643.3C346.68,-665.24 316.28,-707.7 305,-750 293.3,-793.87 328.21,-839.69 353.14,-865.66\"/>\n<polygon fill=\"black\" stroke=\"black\" points=\"350.96,-868.43 360.49,-873.06 355.93,-863.5 350.96,-868.43\"/>\n<text text-anchor=\"middle\" x=\"308.5\" y=\"-753.8\" font-family=\"Times New Roman,serif\" font-size=\"14.00\">1</text>\n</g>\n<!-- 3, 3&#45;&gt;2, 4 -->\n<g id=\"edge28\" class=\"edge\">\n<title>3, 3&#45;&gt;2, 4</title>\n<path fill=\"none\" stroke=\"black\" d=\"M377.4,-608.8C377.68,-597.16 378.05,-581.55 378.36,-568.24\"/>\n<polygon fill=\"black\" stroke=\"black\" points=\"381.86,-568.26 378.6,-558.18 374.86,-568.09 381.86,-568.26\"/>\n<text text-anchor=\"middle\" x=\"381.5\" y=\"-579.8\" font-family=\"Times New Roman,serif\" font-size=\"14.00\">1</text>\n</g>\n<!-- 0, 3 -->\n<g id=\"node11\" class=\"node\">\n<title>0, 3</title>\n<ellipse fill=\"#b2dfee\" stroke=\"black\" cx=\"372\" cy=\"-714\" rx=\"27\" ry=\"18\"/>\n<text text-anchor=\"middle\" x=\"372\" y=\"-710.3\" font-family=\"Times New Roman,serif\" font-size=\"14.00\">0, 3</text>\n</g>\n<!-- 3, 3&#45;&gt;0, 3 -->\n<g id=\"edge31\" class=\"edge\">\n<title>3, 3&#45;&gt;0, 3</title>\n<path fill=\"none\" stroke=\"black\" d=\"M369.54,-644.39C367.29,-650.15 365.12,-656.75 364,-663 362.63,-670.61 363.15,-678.9 364.42,-686.5\"/>\n<polygon fill=\"black\" stroke=\"black\" points=\"361,-687.26 366.51,-696.31 367.85,-685.8 361,-687.26\"/>\n<text text-anchor=\"middle\" x=\"367.5\" y=\"-666.8\" font-family=\"Times New Roman,serif\" font-size=\"14.00\">1</text>\n</g>\n<!-- 3, 3&#45;&gt;3, 0 -->\n<g id=\"edge13\" class=\"edge\">\n<title>3, 3&#45;&gt;3, 0</title>\n<path fill=\"none\" stroke=\"black\" d=\"M385.33,-644.16C392.1,-657.73 401.54,-677.78 408,-696 417.07,-721.57 424.55,-751.65 429.32,-772.86\"/>\n<polygon fill=\"black\" stroke=\"black\" points=\"425.93,-773.78 431.5,-782.79 432.77,-772.28 425.93,-773.78\"/>\n<text text-anchor=\"middle\" x=\"421.5\" y=\"-710.3\" font-family=\"Times New Roman,serif\" font-size=\"14.00\">1</text>\n</g>\n<!-- 0, 3&#45;&gt;3, 3 -->\n<g id=\"edge32\" class=\"edge\">\n<title>0, 3&#45;&gt;3, 3</title>\n<path fill=\"none\" stroke=\"black\" d=\"M373.01,-695.8C373.7,-684.16 374.61,-668.55 375.4,-655.24\"/>\n<polygon fill=\"black\" stroke=\"black\" points=\"378.9,-655.36 375.99,-645.18 371.91,-654.95 378.9,-655.36\"/>\n<text text-anchor=\"middle\" x=\"377.5\" y=\"-666.8\" font-family=\"Times New Roman,serif\" font-size=\"14.00\">1</text>\n</g>\n<!-- 0, 3&#45;&gt;3, 0 -->\n<g id=\"edge39\" class=\"edge\">\n<title>0, 3&#45;&gt;3, 0</title>\n<path fill=\"none\" stroke=\"black\" d=\"M383.48,-730.49C392.96,-743.28 406.58,-761.65 417.43,-776.29\"/>\n<polygon fill=\"black\" stroke=\"black\" points=\"414.68,-778.46 423.44,-784.41 420.3,-774.29 414.68,-778.46\"/>\n<text text-anchor=\"middle\" x=\"410.5\" y=\"-753.8\" font-family=\"Times New Roman,serif\" font-size=\"14.00\">1</text>\n</g>\n<!-- 0, 3&#45;&gt;0, 0 -->\n<g id=\"edge43\" class=\"edge\">\n<title>0, 3&#45;&gt;0, 0</title>\n<path fill=\"none\" stroke=\"black\" d=\"M391.6,-701.57C395.62,-699.52 399.88,-697.55 404,-696 528.35,-649.34 695,-760.82 695,-628 695,-628 695,-628 695,-104 695,-74.6 669.41,-50.7 647.93,-35.82\"/>\n<polygon fill=\"black\" stroke=\"black\" points=\"649.65,-32.75 639.37,-30.19 645.8,-38.6 649.65,-32.75\"/>\n<text text-anchor=\"middle\" x=\"698.5\" y=\"-362.3\" font-family=\"Times New Roman,serif\" font-size=\"14.00\">1</text>\n</g>\n<!-- 0, 3&#45;&gt;0, 4 -->\n<g id=\"edge2\" class=\"edge\">\n<title>0, 3&#45;&gt;0, 4</title>\n<path fill=\"none\" stroke=\"black\" d=\"M366.77,-731.72C353.08,-775.51 316.06,-893.85 299.37,-947.24\"/>\n<polygon fill=\"black\" stroke=\"black\" points=\"295.96,-946.42 296.31,-957.01 302.64,-948.51 295.96,-946.42\"/>\n<text text-anchor=\"middle\" x=\"336.5\" y=\"-840.8\" font-family=\"Times New Roman,serif\" font-size=\"14.00\">1</text>\n</g>\n<!-- 3, 0&#45;&gt;3, 4 -->\n<g id=\"edge49\" class=\"edge\">\n<title>3, 0&#45;&gt;3, 4</title>\n<path fill=\"none\" stroke=\"black\" d=\"M427.44,-818.36C422.49,-828.42 415.54,-841.39 408,-852 404.86,-856.42 401.22,-860.88 397.55,-865.06\"/>\n<polygon fill=\"black\" stroke=\"black\" points=\"394.73,-862.96 390.55,-872.7 399.89,-867.69 394.73,-862.96\"/>\n<text text-anchor=\"middle\" x=\"420.5\" y=\"-840.8\" font-family=\"Times New Roman,serif\" font-size=\"14.00\">1</text>\n</g>\n<!-- 3, 0&#45;&gt;0, 3 -->\n<g id=\"edge25\" class=\"edge\">\n<title>3, 0&#45;&gt;0, 3</title>\n<path fill=\"none\" stroke=\"black\" d=\"M412.58,-790.74C401.37,-784.97 388.61,-776.44 381,-765 376.52,-758.26 374.09,-749.93 372.82,-742.01\"/>\n<polygon fill=\"black\" stroke=\"black\" points=\"376.3,-741.57 371.75,-732.01 369.34,-742.32 376.3,-741.57\"/>\n<text text-anchor=\"middle\" x=\"384.5\" y=\"-753.8\" font-family=\"Times New Roman,serif\" font-size=\"14.00\">1</text>\n</g>\n<!-- 3, 0&#45;&gt;0, 0 -->\n<g id=\"edge8\" class=\"edge\">\n<title>3, 0&#45;&gt;0, 0</title>\n<path fill=\"none\" stroke=\"black\" d=\"M461.71,-798.12C534.85,-792.25 733,-771.15 733,-715 733,-715 733,-715 733,-104 733,-63.78 686.83,-40.33 653.25,-28.59\"/>\n<polygon fill=\"black\" stroke=\"black\" points=\"654.33,-25.26 643.74,-25.45 652.14,-31.91 654.33,-25.26\"/>\n<text text-anchor=\"middle\" x=\"736.5\" y=\"-405.8\" font-family=\"Times New Roman,serif\" font-size=\"14.00\">1</text>\n</g>\n<!-- 0, 0&#45;&gt;3, 0 -->\n<g id=\"edge34\" class=\"edge\">\n<title>0, 0&#45;&gt;3, 0</title>\n<path fill=\"none\" stroke=\"black\" d=\"M592.2,-20.79C518.29,-26.45 317,-47.08 317,-104 317,-671.5 317,-671.5 317,-671.5 317,-719.27 331.46,-736.77 370,-765 380.58,-772.75 393.09,-779.9 404.3,-785.69\"/>\n<polygon fill=\"black\" stroke=\"black\" points=\"402.82,-788.86 413.33,-790.21 405.96,-782.6 402.82,-788.86\"/>\n<text text-anchor=\"middle\" x=\"320.5\" y=\"-405.8\" font-family=\"Times New Roman,serif\" font-size=\"14.00\">1</text>\n</g>\n<!-- 0, 0&#45;&gt;0, 4 -->\n<g id=\"edge21\" class=\"edge\">\n<title>0, 0&#45;&gt;0, 4</title>\n<path fill=\"none\" stroke=\"black\" d=\"M592.14,-20.06C477.88,-24.9 38,-47.23 38,-104 38,-584.5 38,-584.5 38,-584.5 38,-921.06 98.58,-911.11 133,-939 151.37,-953.89 213.91,-964.33 254.58,-969.74\"/>\n<polygon fill=\"black\" stroke=\"black\" points=\"254.29,-973.23 264.66,-971.03 255.18,-966.29 254.29,-973.23\"/>\n<text text-anchor=\"middle\" x=\"41.5\" y=\"-492.8\" font-family=\"Times New Roman,serif\" font-size=\"14.00\">1</text>\n</g>\n<!-- 0, 4&#45;&gt;3, 4 -->\n<g id=\"edge1\" class=\"edge\">\n<title>0, 4&#45;&gt;3, 4</title>\n<path fill=\"none\" stroke=\"black\" d=\"M307.83,-960.55C315.44,-954.25 324.4,-946.49 332,-939 340.49,-930.64 349.28,-920.9 356.74,-912.26\"/>\n<polygon fill=\"black\" stroke=\"black\" points=\"359.63,-914.27 363.44,-904.38 354.3,-909.73 359.63,-914.27\"/>\n<text text-anchor=\"middle\" x=\"348.5\" y=\"-927.8\" font-family=\"Times New Roman,serif\" font-size=\"14.00\">1</text>\n</g>\n<!-- 0, 4&#45;&gt;3, 1 -->\n<g id=\"edge41\" class=\"edge\">\n<title>0, 4&#45;&gt;3, 1</title>\n<path fill=\"none\" stroke=\"black\" d=\"M308.6,-988.75C316.36,-994.91 325.23,-1002.75 332,-1011 337.99,-1018.3 343.38,-1027.05 347.8,-1035.18\"/>\n<polygon fill=\"black\" stroke=\"black\" points=\"344.82,-1037.04 352.52,-1044.32 351.04,-1033.83 344.82,-1037.04\"/>\n<text text-anchor=\"middle\" x=\"344.5\" y=\"-1014.8\" font-family=\"Times New Roman,serif\" font-size=\"14.00\">1</text>\n</g>\n<!-- 0, 4&#45;&gt;0, 0 -->\n<g id=\"edge50\" class=\"edge\">\n<title>0, 4&#45;&gt;0, 0</title>\n<path fill=\"none\" stroke=\"black\" d=\"M264.15,-971.93C192.11,-965.64 0,-943.74 0,-889 0,-889 0,-889 0,-104 0,-80.31 34.94,-70.29 106,-54 196.66,-33.22 479.61,-23.08 581.76,-20.03\"/>\n<polygon fill=\"black\" stroke=\"black\" points=\"582.01,-23.52 591.9,-19.73 581.81,-16.52 582.01,-23.52\"/>\n<text text-anchor=\"middle\" x=\"3.5\" y=\"-492.8\" font-family=\"Times New Roman,serif\" font-size=\"14.00\">1</text>\n</g>\n</g>\n</svg>\n",
      "text/plain": [
       "<graphviz.graphs.Digraph at 0x1a073bac9d0>"
      ]
     },
     "execution_count": 144,
     "metadata": {},
     "output_type": "execute_result"
    }
   ],
   "source": [
    "bucket_graph = bucket_build_graph(MAX_VOL_A, MAX_VOL_B)\n",
    "bucket_graph.visualize()\n"
   ]
  },
  {
   "cell_type": "markdown",
   "id": "aa4965fe-d7d9-4a35-864b-a3bebd7a49a1",
   "metadata": {},
   "source": [
    "## Solution"
   ]
  },
  {
   "cell_type": "code",
   "execution_count": 145,
   "id": "ce55bfa0-87d3-440d-9742-7b93fbe78be9",
   "metadata": {},
   "outputs": [
    {
     "data": {
      "text/plain": [
       "[TwoBucketSet((0, 0), of(3, 4)),\n",
       " TwoBucketSet((3, 0), of(3, 4)),\n",
       " TwoBucketSet((0, 3), of(3, 4)),\n",
       " TwoBucketSet((3, 3), of(3, 4)),\n",
       " TwoBucketSet((2, 4), of(3, 4)),\n",
       " TwoBucketSet((2, 0), of(3, 4))]"
      ]
     },
     "execution_count": 145,
     "metadata": {},
     "output_type": "execute_result"
    }
   ],
   "source": [
    "find_bucket_steps(MAX_VOL_A, MAX_VOL_B, DES_VOL)\n"
   ]
  },
  {
   "cell_type": "markdown",
   "id": "e2d0c657-2453-4ea9-8feb-4f109ce2eaec",
   "metadata": {},
   "source": [
    "That means we can e.g.:\n",
    "\n",
    "* Fill the 3l bucket,\n",
    "* Pour this water to the 4l bucket,\n",
    "* Fill the 3l bucket again,\n",
    "* Pour the water to the 4l bucket (now we pour only 1l),\n",
    "* Spill the water from the 4l bucket.\n",
    "\n",
    "The amount which stays in the system is 2l - that is the end. Moreover, there is also no shorter path."
   ]
  },
  {
   "cell_type": "markdown",
   "id": "15a5748e-e1f2-4a12-8bee-bdd7e1de6f38",
   "metadata": {},
   "source": [
    "-----------------------"
   ]
  },
  {
   "cell_type": "markdown",
   "id": "6f4fc1d4-46e6-4178-9aa5-6501d4bd8a5f",
   "metadata": {
    "tags": []
   },
   "source": [
    "# References"
   ]
  },
  {
   "cell_type": "markdown",
   "id": "78cfe863-03ea-4a39-887e-5bdddeaaa94d",
   "metadata": {},
   "source": [
    "-----------------------"
   ]
  },
  {
   "cell_type": "markdown",
   "id": "eddf232a-4010-4bf8-9434-91db13c585a8",
   "metadata": {},
   "source": [
    "<a id=\"ref1\">[1]</a> J. Szwabiński, *Wykład 10 - Grafy i podstawowe algorytmy grafowe*,  *Algorytmy i struktury danych*, p. 2-16. [accessed: 24.01.2022]. Link: http://prac.im.pwr.wroc.pl/~szwabin/assets/algo/lectures/10.pdf.\n",
    "\n",
    "<a id=\"ref2\">[2]</a> J. Szwabiński, *Wykład 11 - Grafy i podstawowe algorytmy grafowe (ciąg dalszy)*,  *Algorytmy i struktury danych*, p. 9-19. [accessed: 24.01.2022]. Link: http://prac.im.pwr.wroc.pl/~szwabin/assets/algo/lectures/11.pdf.\n"
   ]
  },
  {
   "cell_type": "markdown",
   "id": "ac797673-76c5-4fe5-a335-336ea5ef5a1a",
   "metadata": {},
   "source": [
    "-----------------------"
   ]
  }
 ],
 "metadata": {
  "kernelspec": {
   "display_name": "Python 3 (ipykernel)",
   "language": "python",
   "name": "python3"
  },
  "language_info": {
   "codemirror_mode": {
    "name": "ipython",
    "version": 3
   },
   "file_extension": ".py",
   "mimetype": "text/x-python",
   "name": "python",
   "nbconvert_exporter": "python",
   "pygments_lexer": "ipython3",
   "version": "3.9.7"
  }
 },
 "nbformat": 4,
 "nbformat_minor": 5
}
