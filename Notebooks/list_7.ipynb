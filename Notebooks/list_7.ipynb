{
 "cells": [
  {
   "cell_type": "markdown",
   "id": "03660741-a425-4e95-8fc8-34c98ff880fa",
   "metadata": {},
   "source": [
    "**List 7** - Algorithms and Data Structures 2021/22, WUST - F13\n",
    "\n",
    "*Author:* Mateusz Machaj, 262288\n",
    "\n",
    "*Date:* 24.01.2022"
   ]
  },
  {
   "cell_type": "markdown",
   "id": "884c995e-1b97-4848-bd8a-719c0b593df5",
   "metadata": {
    "tags": []
   },
   "source": [
    "# Import"
   ]
  },
  {
   "cell_type": "markdown",
   "id": "d5994cb1-b6fe-46e8-a3cf-fed2bd7679a9",
   "metadata": {},
   "source": [
    "There are the imports I use. `graphviz` have to be installed both in Python (`pip install graphviz`) and on OS (`winget install graphviz` for Windows), with added executable file to the *PATH*."
   ]
  },
  {
   "cell_type": "code",
   "execution_count": 1,
   "id": "c166f461-197a-4392-bf5b-0283222931d2",
   "metadata": {},
   "outputs": [],
   "source": [
    "from __future__ import annotations\n",
    "\n",
    "import queue\n",
    "import sys\n",
    "import warnings\n",
    "from typing import Any, List, Optional, Set, Tuple, Union\n",
    "\n",
    "# grapviz have to be installed in Program Files and added to the PATH\n",
    "import graphviz"
   ]
  },
  {
   "cell_type": "markdown",
   "id": "56c7d84d-d145-4ddc-a2ef-d46d71c63c77",
   "metadata": {},
   "source": [
    "The following lines are to change the warning message format and skip the traceback info."
   ]
  },
  {
   "cell_type": "code",
   "execution_count": 2,
   "id": "055c3de3-b119-438b-85a9-6084540be1ba",
   "metadata": {},
   "outputs": [],
   "source": [
    "def no_traceback_warning(\n",
    "    message, category, filename=None, lineno=None, file=None, line=None\n",
    "):\n",
    "    return \"{cat}: {mess}\\n\".format(cat=category.__name__, mess=message)\n",
    "\n",
    "\n",
    "warnings.formatwarning = no_traceback_warning"
   ]
  },
  {
   "cell_type": "markdown",
   "id": "de85a3aa-3653-4dee-ad0e-918f26b67be8",
   "metadata": {},
   "source": [
    "Moreover, a hashable checker. It is not explcitely avaliable in pure Python."
   ]
  },
  {
   "cell_type": "code",
   "execution_count": 3,
   "id": "c07e1796-2e32-40e1-ac4d-fb98951619eb",
   "metadata": {},
   "outputs": [],
   "source": [
    "def hashable(variable):\n",
    "    try:\n",
    "        hash(variable)\n",
    "    except TypeError:\n",
    "        return False\n",
    "    return True"
   ]
  },
  {
   "cell_type": "markdown",
   "id": "37b08130-f8c2-4b96-a022-3deac7501841",
   "metadata": {},
   "source": [
    "-----------------------"
   ]
  },
  {
   "cell_type": "markdown",
   "id": "cfc44c08-925d-460e-9ba3-cac16a3e4ebb",
   "metadata": {
    "tags": []
   },
   "source": [
    "# Task 1"
   ]
  },
  {
   "cell_type": "markdown",
   "id": "c16b2c9d-ec54-4028-b350-7a972f54499a",
   "metadata": {
    "tags": []
   },
   "source": [
    "_**Graph class implementation**_"
   ]
  },
  {
   "cell_type": "markdown",
   "id": "756ae7c3-1b11-452a-ac3e-e80ad5befc86",
   "metadata": {},
   "source": [
    "-----------------------"
   ]
  },
  {
   "cell_type": "markdown",
   "id": "c895d1ac-1892-45c1-90a4-a7afbeb56abc",
   "metadata": {},
   "source": [
    "The basic graph with the methods from the lecture [[1]](#ref1) is consists of the nodes. These classes are partially copied from the referenced lecture. However, there are some changes and I have added node and edge deletion. There is also an option to create **directed** or **undirected** graph.\n",
    "\n",
    "In the second one we cannot connect one node with itself (by edge), because that is the rule from definition. The first option allows it though.\n",
    "\n",
    "In my implementation adding a node with the key that already exist does not affect the structure. Nothing changes. Similarly, adding the existing edge only updates its weight. "
   ]
  },
  {
   "cell_type": "markdown",
   "id": "5cadb331-5ca9-4480-b6b8-44ef084ad441",
   "metadata": {},
   "source": [
    "## Node"
   ]
  },
  {
   "cell_type": "markdown",
   "id": "5d63bbc1-0e2c-4228-bab4-ef3c45c33dec",
   "metadata": {},
   "source": [
    "I begin with creating the node class used later in the graph. It will contain also the features required for searching algorithms in the next tasks."
   ]
  },
  {
   "cell_type": "markdown",
   "id": "c06bc0b1-9224-4a0d-90f1-7848ac7be063",
   "metadata": {},
   "source": [
    "I do not use unncessary `get` and `set` methods for attributes, because the code is written with respect to Python conventions."
   ]
  },
  {
   "cell_type": "code",
   "execution_count": 4,
   "id": "1b151235-a86f-4b9d-9277-f81bb2367fc9",
   "metadata": {},
   "outputs": [],
   "source": [
    "class Node:\n",
    "    def __init__(self, key: Any):\n",
    "        self.key = key\n",
    "        self.neighbors = dict()\n",
    "        self.neighbor_for = set()\n",
    "\n",
    "        self.dist = sys.maxsize  # \"infinity\"\n",
    "        self.color = \"w\"\n",
    "        self.pred = None\n",
    "        self.disc = 0\n",
    "        self.fin = 0\n",
    "\n",
    "    def reset(self):\n",
    "        self.dist = sys.maxsize\n",
    "        self.color = \"w\"\n",
    "        self.pred = None\n",
    "        self.disc = 0\n",
    "        self.fin = 0\n",
    "\n",
    "    def add_neighbor(self, neighbor: Node, weight: float = 0):\n",
    "        self.neighbors[neighbor] = weight\n",
    "        neighbor.neighbor_for.add(self)\n",
    "\n",
    "    def rem_neighbor(self, neighbor: Node) -> Optional[Node]:\n",
    "        popped = self.neighbors.pop(neighbor, None)\n",
    "        if popped is None:\n",
    "            return False\n",
    "        else:\n",
    "            neighbor.neighbor_for.remove(self)\n",
    "            return True\n",
    "\n",
    "    def get_weight(self, neighbor: Node) -> float:\n",
    "        try:\n",
    "            weight = self.neighbors[neighbor]\n",
    "        except KeyError as key:\n",
    "            raise Exception(\n",
    "                'Node \"{key}\" is not a neighbor of this node.'.format(key=key)\n",
    "            )\n",
    "        else:\n",
    "            return weight\n",
    "\n",
    "    def __str__(self):\n",
    "        return (\n",
    "            str(self.key)\n",
    "            + \";color \"\n",
    "            + self.color\n",
    "            + \";discovery \"\n",
    "            + str(self.disc)\n",
    "            + \";finish \"\n",
    "            + str(self.fin)\n",
    "            + \";distance \"\n",
    "            + str(self.dist)\n",
    "            + \";predecessor \\n\\t[\"\n",
    "            + str(self.pred)\n",
    "            + \"]\\n\"\n",
    "        )"
   ]
  },
  {
   "cell_type": "markdown",
   "id": "2180d17f-b28b-4c64-adf1-2d9ae5170313",
   "metadata": {},
   "source": [
    "## Graph"
   ]
  },
  {
   "cell_type": "markdown",
   "id": "c9890399-60a0-4725-9899-9fa75e9e2fb7",
   "metadata": {},
   "source": [
    "The following class is only the basic graph version supporting:\n",
    "\n",
    "- **directed** and **undirected** graph versions;\n",
    "- **node** and **edge** addition - as one element or by a list,\n",
    "- **node** and **edge** deletion - as one element or by a list,\n",
    "- getting **nodes** and **edges** listed,\n",
    "- getting **node's** object by key,\n",
    "- `in` operator for node keys,\n",
    "- checking the size (number of nodes and number of edges)\n",
    "- iteration.\n",
    "\n",
    "Each edge is weighted (in case the weight is not given it defaults to 0). Nodes can have alphaumeric or string keys but do not contain additional value data. "
   ]
  },
  {
   "cell_type": "markdown",
   "id": "5644fa56-dbc1-4962-9a1b-1b7cef167c61",
   "metadata": {},
   "source": [
    "<u>IMPORTANT:</u> Getting node's object is an internal method becouse is should not be allowed for the class user to easily manipulate the graph components."
   ]
  },
  {
   "cell_type": "code",
   "execution_count": 5,
   "id": "a6c446b5-e3fe-4aae-aeee-fe7fcef956c9",
   "metadata": {},
   "outputs": [],
   "source": [
    "class GraphBasic:\n",
    "    def __init__(self, directed: bool = True):\n",
    "        self.nodes = dict()\n",
    "        self.node_count = 0\n",
    "        self.edge_count = 0\n",
    "        self.directed = directed\n",
    "\n",
    "    def __contains__(self, key: Any) -> bool:\n",
    "        return key in self.nodes\n",
    "\n",
    "    def _get_node_obj(self, key: float) -> Optional[Node]:\n",
    "        try:\n",
    "            des_node = self.nodes[key]\n",
    "        except KeyError:\n",
    "            return None\n",
    "        else:\n",
    "            return des_node\n",
    "\n",
    "    def get_nodes(self) -> Set[Any]:\n",
    "        return set(self.nodes.keys())\n",
    "\n",
    "    def _get_nodes_obj(self) -> Set[Node]:\n",
    "        return set(self.nodes.values())\n",
    "\n",
    "    def get_edges(\n",
    "        self,\n",
    "    ) -> Union[Set[Tuple[Any, Any, float]], Set[Tuple[Set[Any, Any], float]]]:\n",
    "        edge_set = set()\n",
    "\n",
    "        def edge_tup_repr(from_key, to_info):\n",
    "            if self.directed:\n",
    "                return (from_key, to_info[0].key), to_info[1]\n",
    "            else:\n",
    "                return frozenset({from_key, to_info[0].key}), to_info[1]\n",
    "\n",
    "        for key, node in self.nodes.items():\n",
    "            edges_pr = map(\n",
    "                lambda to_info: edge_tup_repr(key, to_info), node.neighbors.items()\n",
    "            )\n",
    "            new_edges = set(edges_pr)\n",
    "            edge_set.update(new_edges)\n",
    "\n",
    "        return edge_set\n",
    "\n",
    "    def add_node(self, key: Any) -> Node:\n",
    "        if not hashable(key):\n",
    "            raise TypeError(\"Each key has to be hashable.\")\n",
    "        if key not in self:\n",
    "            new_node = Node(key)\n",
    "            self.nodes[key] = new_node\n",
    "            self.node_count += 1\n",
    "            return new_node\n",
    "        else:\n",
    "            warnings.warn(\n",
    "                'Key \"{key}\" was already in the graph. Foregoing neighbors are keeped.'.format(\n",
    "                    key=key\n",
    "                ),\n",
    "                category=DeprecationWarning,\n",
    "            )\n",
    "            return self.nodes[key]\n",
    "\n",
    "    def add_edge(\n",
    "        self,\n",
    "        from_key: Any,\n",
    "        to_key: Any,\n",
    "        weight: float = 0,\n",
    "    ):\n",
    "        if not hashable(from_key) or not hashable(to_key):\n",
    "            raise TypeError(\"Each key has to be hashable.\")\n",
    "        if not self.directed and from_key == to_key:\n",
    "            raise ValueError(\n",
    "                'Creating \"{key}\"-\"{key}\" edge failed. Undirected graph cannot contain self connecting nodes.'.format(\n",
    "                    key=from_key\n",
    "                )\n",
    "            )\n",
    "\n",
    "        for key in [from_key, to_key]:\n",
    "            if key not in self:\n",
    "                self.add_node(key)\n",
    "\n",
    "        from_node = self.nodes[from_key]\n",
    "        to_node = self.nodes[to_key]\n",
    "        if not (to_node in from_node.neighbors):\n",
    "            self.edge_count += 1\n",
    "        from_node.add_neighbor(to_node, weight)\n",
    "\n",
    "        if not self.directed:\n",
    "            to_node.add_neighbor(from_node, weight)\n",
    "\n",
    "    def del_node(self, key: Any):\n",
    "        curr_node = self._get_node_obj(key)\n",
    "        if curr_node is None:\n",
    "            warnings.warn(\n",
    "                'Key \"{key}\" is not in the graph. This node was not deleted.'.format(\n",
    "                    key=key\n",
    "                ),\n",
    "                category=DeprecationWarning,\n",
    "            )\n",
    "        else:\n",
    "            con_nodes = curr_node.neighbor_for.copy()\n",
    "            for node in con_nodes:\n",
    "                node.rem_neighbor(curr_node)\n",
    "            self.nodes.pop(key)\n",
    "            self.node_count -= 1\n",
    "\n",
    "    def del_edge(\n",
    "        self,\n",
    "        from_key: Any,\n",
    "        to_key: Any,\n",
    "    ):\n",
    "        nodes_exist = True\n",
    "        edge_exist = True\n",
    "        for key in [from_key, to_key]:\n",
    "            if key not in self:\n",
    "                nodes_exist = False\n",
    "                warnings.warn(\n",
    "                    'Key \"{key}\" is not in the graph.'.format(key=key),\n",
    "                    category=DeprecationWarning,\n",
    "                )\n",
    "        if nodes_exist:\n",
    "            from_node = self.nodes[from_key]\n",
    "            to_node = self.nodes[to_key]\n",
    "            success = from_node.rem_neighbor(to_node)\n",
    "            self.edge_count -= 1\n",
    "            if not self.directed:\n",
    "                to_node.rem_neighbor(from_node)\n",
    "            if success:\n",
    "                edge_exist = False\n",
    "        if not nodes_exist or not edge_exist:\n",
    "\n",
    "            def relat_symb():\n",
    "                return \"->\" if self.directed else \"<->\"\n",
    "\n",
    "            warnings.warn(\n",
    "                'Nonexistent \"{fr}\"{rel_s}\"{to}\" edge was not deleted.'.format(\n",
    "                    fr=from_key, to=to_key, rel_s=relat_symb()\n",
    "                ),\n",
    "                category=DeprecationWarning,\n",
    "            )\n",
    "\n",
    "    def add_nodes(self, key_list: List[Any]):\n",
    "        for key in key_list:\n",
    "            self.add_node(key)\n",
    "\n",
    "    def add_edges(\n",
    "        self,\n",
    "        edge_list: List[\n",
    "            Tuple[\n",
    "                Any,\n",
    "                Any,\n",
    "                float,\n",
    "            ]\n",
    "        ],\n",
    "    ):\n",
    "        for edge in edge_list:\n",
    "            self.add_edge(*edge)\n",
    "\n",
    "    def del_edges(\n",
    "        self,\n",
    "        edge_list: List[\n",
    "            Tuple[\n",
    "                Any,\n",
    "                Any,\n",
    "            ]\n",
    "        ],\n",
    "    ):\n",
    "        for edge in edge_list:\n",
    "            self.del_edge(*edge)\n",
    "\n",
    "    def del_nodes(self, key_list: List[Any]):\n",
    "        for key in key_list:\n",
    "            self.del_node(key)\n",
    "\n",
    "    def size(self):\n",
    "        return {\"nodes\": self.node_count, \"edges\": self.edge_count}\n",
    "\n",
    "    def __iter__(self):\n",
    "        return iter(self.nodes.values())"
   ]
  },
  {
   "cell_type": "markdown",
   "id": "08fef11c-2c16-4896-9712-81bb814fd4c8",
   "metadata": {},
   "source": [
    "## Presentation"
   ]
  },
  {
   "cell_type": "markdown",
   "id": "75037480-9757-4ba8-9f20-77356a554430",
   "metadata": {},
   "source": [
    "All the features are shown in the next task, because of visualization available."
   ]
  },
  {
   "cell_type": "markdown",
   "id": "d7610415-73f6-4e20-af84-756b9697d0b5",
   "metadata": {},
   "source": [
    "-----------------------"
   ]
  },
  {
   "cell_type": "markdown",
   "id": "8b015254-bddd-467a-92ae-71ce3fd5e0c7",
   "metadata": {
    "tags": []
   },
   "source": [
    "# Task 2"
   ]
  },
  {
   "cell_type": "markdown",
   "id": "b731e41a-279e-4c76-a1b7-9a9d20e6f5b4",
   "metadata": {
    "tags": []
   },
   "source": [
    "_**Graph visualisation in \"dot\"**_"
   ]
  },
  {
   "cell_type": "markdown",
   "id": "39a57426-b109-461d-98d4-4e0e2162317b",
   "metadata": {},
   "source": [
    "-----------------------"
   ]
  },
  {
   "cell_type": "markdown",
   "id": "9f2167a2-54b6-4404-8789-1db3ee337517",
   "metadata": {},
   "source": [
    "The only thing there is the visualization method added. I use `graphviz` library and `dot` language as it was given."
   ]
  },
  {
   "cell_type": "markdown",
   "id": "ab18372e-ae45-40f8-a2c8-dc7ea760bdc9",
   "metadata": {},
   "source": [
    "## Enhanced graph class "
   ]
  },
  {
   "cell_type": "code",
   "execution_count": 6,
   "id": "423cc482-1402-4853-9a75-7e8675c5f1d1",
   "metadata": {},
   "outputs": [],
   "source": [
    "class GraphVis(GraphBasic):\n",
    "    def visualize(self) -> Union[graphviz.graphs.Digraph, graphviz.graphs.Graph]:\n",
    "        if self.directed:\n",
    "            dot = graphviz.Digraph()\n",
    "        else:\n",
    "            dot = graphviz.Graph()\n",
    "        dot.attr(\"node\", style=\"filled\", fillcolor=\"lightblue2\")\n",
    "        for key in self.get_nodes():\n",
    "            dot.node(str(key))\n",
    "        for node_keys, weight in self.get_edges():\n",
    "            from_node, to_node = list(node_keys)\n",
    "            edge_data = list(map(str, [from_node, to_node, weight]))\n",
    "            dot.edge(*edge_data)\n",
    "\n",
    "        return dot"
   ]
  },
  {
   "cell_type": "markdown",
   "id": "a0ad991c-a65d-482f-982f-902c24ed3299",
   "metadata": {},
   "source": [
    "-----------------------"
   ]
  },
  {
   "cell_type": "markdown",
   "id": "eff7a0db-4dfc-4775-8dfa-4208f097e087",
   "metadata": {
    "tags": []
   },
   "source": [
    "# Task 3"
   ]
  },
  {
   "cell_type": "markdown",
   "id": "2fabf55e-dff2-492d-9ae9-9f181764e374",
   "metadata": {
    "tags": []
   },
   "source": [
    "_**Graph searching methods - BFS and DFS**_"
   ]
  },
  {
   "cell_type": "markdown",
   "id": "e7814697-3ab3-4f62-89fd-5b6b5372fce9",
   "metadata": {},
   "source": [
    "-----------------------"
   ]
  },
  {
   "cell_type": "code",
   "execution_count": 7,
   "id": "35c1ca7e-53b1-4cf6-8251-eca04b3e45b2",
   "metadata": {},
   "outputs": [],
   "source": [
    "class GraphSearch(GraphVis):\n",
    "    def __init__(self, directed: bool = True):\n",
    "        super().__init__(directed)\n",
    "        self._time = 0\n",
    "        self._has_cycles = False\n",
    "\n",
    "    def _time_it(self):\n",
    "        self._time += 1\n",
    "        return self._time\n",
    "\n",
    "    def _reset_hdata(self):\n",
    "        self._time = 0\n",
    "        self._has_cycles = False\n",
    "        for node in self._get_nodes_obj():\n",
    "            node.reset()\n",
    "\n",
    "    def _mark_bfs(self, start_node: Node):\n",
    "        start_node.dist = 0\n",
    "        bfs_queue = queue.SimpleQueue()\n",
    "        bfs_queue.put_nowait(start_node)\n",
    "\n",
    "        while not bfs_queue.empty():\n",
    "            curr_node = bfs_queue.get_nowait()\n",
    "            for neigh_node in curr_node.neighbors:\n",
    "                if neigh_node.color == \"w\":\n",
    "                    neigh_node.color = \"g\"\n",
    "                    neigh_node.disc = self._time_it()\n",
    "                    neigh_node.dist = curr_node.dist + 1\n",
    "                    neigh_node.pred = curr_node\n",
    "                    bfs_queue.put_nowait(neigh_node)\n",
    "            curr_node.color = \"b\"\n",
    "            curr_node.fin = self._time_it()\n",
    "\n",
    "    def find_path(self, from_key: Any, to_key: Any) -> List[Any]:\n",
    "        from_node = self._get_node_obj(from_key)\n",
    "        to_node = self._get_node_obj(to_key)\n",
    "        if not (from_node and to_node):\n",
    "            raise Exception(\"Path points are not in the graph.\")\n",
    "        self._reset_hdata()\n",
    "        self._mark_bfs(from_node)\n",
    "        path_list = []\n",
    "        if to_node.pred:\n",
    "            curr_node = to_node\n",
    "            while curr_node:\n",
    "                path_list.append(curr_node.key)\n",
    "                curr_node = curr_node.pred\n",
    "            \n",
    "            self._reset_hdata()\n",
    "            return path_list[::-1]\n",
    "        else:\n",
    "            self._reset_hdata()\n",
    "            raise Exception(\"Given nodes are not connected.\")\n",
    "        \n",
    "\n",
    "    def _mark_dfs(self, start_node: Node):\n",
    "        start_node.color = \"g\"\n",
    "        start_node.disc = self._time_it()\n",
    "        for neigh_node in start_node.neighbors:\n",
    "\n",
    "            # Additional feature - chcecking the cycles OTF\n",
    "            if neigh_node.color == \"g\":\n",
    "                self._has_cycles = True\n",
    "\n",
    "            if neigh_node.color == \"w\":\n",
    "                neigh_node.dist = start_node.dist + 1\n",
    "                neigh_node.pred = start_node\n",
    "                self._mark_dfs(neigh_node)\n",
    "        start_node.color = \"b\"\n",
    "        start_node.fin = self._time_it()"
   ]
  },
  {
   "cell_type": "markdown",
   "id": "e50d0474-05e6-474f-9712-f2d2f495ce02",
   "metadata": {},
   "source": [
    "-----------------------"
   ]
  },
  {
   "cell_type": "markdown",
   "id": "cb71b7dd-f8d8-45e0-955b-8dde26640034",
   "metadata": {
    "tags": []
   },
   "source": [
    "# Task 4"
   ]
  },
  {
   "cell_type": "markdown",
   "id": "d664fb42-b4c8-442c-ae51-6363b9d80acb",
   "metadata": {
    "tags": []
   },
   "source": [
    "_**DFS features modification - topological sorting**_"
   ]
  },
  {
   "cell_type": "markdown",
   "id": "22b65e8d-ee44-4b71-ae19-e8b12a013a6c",
   "metadata": {},
   "source": [
    "-----------------------"
   ]
  },
  {
   "cell_type": "code",
   "execution_count": 8,
   "id": "3062e6bd-cd9e-44ec-91d3-ae520f4df1cd",
   "metadata": {},
   "outputs": [],
   "source": [
    "# note about the separate method"
   ]
  },
  {
   "cell_type": "code",
   "execution_count": 9,
   "id": "66cd03d3-c43e-4cac-9ed9-29eb8b2e8d71",
   "metadata": {},
   "outputs": [],
   "source": [
    "class GraphTopo(GraphSearch):\n",
    "    def topo_sort(self) -> List[Any]:\n",
    "        if not self.directed:\n",
    "            raise Exception(\"Undirected graph cannot be sorted topologically.\")\n",
    "        self._reset_hdata()\n",
    "        visit_times = dict()\n",
    "        for node in self.nodes.values():\n",
    "            if node.color == \"w\":\n",
    "                self._mark_dfs(node)\n",
    "        if self._has_cycles:\n",
    "            raise Exception(\"Graph with cycles cannot be sorted topologically.\")\n",
    "        for key, node in self.nodes.items():\n",
    "            visit_times[node.fin] = key\n",
    "        sorted_visits = sorted(visit_times.items(), reverse=True)\n",
    "        sorted_keys = [tup[1] for tup in sorted_visits]\n",
    "        self._reset_hdata()\n",
    "        return sorted_keys\n",
    "\n",
    "    def vis_line_order(self, subgraph_keys: List[Any]) -> graphviz.graphs.Digraph:\n",
    "        if not self.directed:\n",
    "            raise Exception(\"Undirected graph cannot be visualized this way.\")\n",
    "        for key in subgraph_keys:\n",
    "            if key not in self.get_nodes():\n",
    "                raise Exception(\"Invalid nodes on the list.\")\n",
    "\n",
    "        dot = graphviz.Digraph()\n",
    "        dot.attr(\"node\", style=\"filled\", fillcolor=\"lightblue2\")\n",
    "        for key in subgraph_keys:\n",
    "            dot.node(str(key))\n",
    "        for node_keys, weight in self.get_edges():\n",
    "            from_node, to_node = list(node_keys)\n",
    "            if from_node in subgraph_keys and to_node in subgraph_keys:\n",
    "                edge_data = list(map(str, [from_node, to_node]))\n",
    "                dot.edge(*edge_data, constraint=\"false\")\n",
    "\n",
    "        return dot"
   ]
  },
  {
   "cell_type": "code",
   "execution_count": 10,
   "id": "c2724574-a9fc-45b8-ab4e-34ab7bcdee9f",
   "metadata": {},
   "outputs": [],
   "source": [
    "a = GraphTopo()\n",
    "a.add_node(\"ą\")\n",
    "a.add_edges([(\"a\", \"d\", 3), (\"c\", \"b\", 2), (\"b\", \"a\", 1)])\n",
    "a.add_edges([(\"c\", \"e\"), (\"e\", (2.4, 5), 4), (\"e\", \"g\", 5), (\"e\", \"d\", 5)])"
   ]
  },
  {
   "cell_type": "code",
   "execution_count": 11,
   "id": "812a6a68-2e92-4d2a-9a6c-c4b50b5dda27",
   "metadata": {},
   "outputs": [
    {
     "data": {
      "image/svg+xml": [
       "<?xml version=\"1.0\" encoding=\"UTF-8\" standalone=\"no\"?>\n",
       "<!DOCTYPE svg PUBLIC \"-//W3C//DTD SVG 1.1//EN\"\n",
       " \"http://www.w3.org/Graphics/SVG/1.1/DTD/svg11.dtd\">\n",
       "<!-- Generated by graphviz version 2.50.0 (20211204.2007)\n",
       " -->\n",
       "<!-- Pages: 1 -->\n",
       "<svg width=\"262pt\" height=\"305pt\"\n",
       " viewBox=\"0.00 0.00 262.00 305.00\" xmlns=\"http://www.w3.org/2000/svg\" xmlns:xlink=\"http://www.w3.org/1999/xlink\">\n",
       "<g id=\"graph0\" class=\"graph\" transform=\"scale(1 1) rotate(0) translate(4 301)\">\n",
       "<polygon fill=\"white\" stroke=\"transparent\" points=\"-4,4 -4,-301 258,-301 258,4 -4,4\"/>\n",
       "<!-- e -->\n",
       "<g id=\"node1\" class=\"node\">\n",
       "<title>e</title>\n",
       "<ellipse fill=\"#b2dfee\" stroke=\"black\" cx=\"93\" cy=\"-192\" rx=\"27\" ry=\"18\"/>\n",
       "<text text-anchor=\"middle\" x=\"93\" y=\"-188.3\" font-family=\"Times New Roman,serif\" font-size=\"14.00\">e</text>\n",
       "</g>\n",
       "<!-- d -->\n",
       "<g id=\"node3\" class=\"node\">\n",
       "<title>d</title>\n",
       "<ellipse fill=\"#b2dfee\" stroke=\"black\" cx=\"27\" cy=\"-18\" rx=\"27\" ry=\"18\"/>\n",
       "<text text-anchor=\"middle\" x=\"27\" y=\"-14.3\" font-family=\"Times New Roman,serif\" font-size=\"14.00\">d</text>\n",
       "</g>\n",
       "<!-- e&#45;&gt;d -->\n",
       "<g id=\"edge1\" class=\"edge\">\n",
       "<title>e&#45;&gt;d</title>\n",
       "<path fill=\"none\" stroke=\"black\" d=\"M73.22,-179.32C55.53,-167.61 30.78,-147.78 20,-123 9.27,-98.33 13.36,-67.24 18.68,-45.5\"/>\n",
       "<polygon fill=\"black\" stroke=\"black\" points=\"22.11,-46.22 21.33,-35.66 15.35,-44.4 22.11,-46.22\"/>\n",
       "<text text-anchor=\"middle\" x=\"23.5\" y=\"-101.3\" font-family=\"Times New Roman,serif\" font-size=\"14.00\">5</text>\n",
       "</g>\n",
       "<!-- (2.4, 5) -->\n",
       "<g id=\"node4\" class=\"node\">\n",
       "<title>(2.4, 5)</title>\n",
       "<ellipse fill=\"#b2dfee\" stroke=\"black\" cx=\"73\" cy=\"-105\" rx=\"37.09\" ry=\"18\"/>\n",
       "<text text-anchor=\"middle\" x=\"73\" y=\"-101.3\" font-family=\"Times New Roman,serif\" font-size=\"14.00\">(2.4, 5)</text>\n",
       "</g>\n",
       "<!-- e&#45;&gt;(2.4, 5) -->\n",
       "<g id=\"edge4\" class=\"edge\">\n",
       "<title>e&#45;&gt;(2.4, 5)</title>\n",
       "<path fill=\"none\" stroke=\"black\" d=\"M88.95,-173.8C86.21,-162.16 82.54,-146.55 79.41,-133.24\"/>\n",
       "<polygon fill=\"black\" stroke=\"black\" points=\"82.74,-132.11 77.04,-123.18 75.92,-133.71 82.74,-132.11\"/>\n",
       "<text text-anchor=\"middle\" x=\"88.5\" y=\"-144.8\" font-family=\"Times New Roman,serif\" font-size=\"14.00\">4</text>\n",
       "</g>\n",
       "<!-- g -->\n",
       "<g id=\"node6\" class=\"node\">\n",
       "<title>g</title>\n",
       "<ellipse fill=\"#b2dfee\" stroke=\"black\" cx=\"155\" cy=\"-105\" rx=\"27\" ry=\"18\"/>\n",
       "<text text-anchor=\"middle\" x=\"155\" y=\"-101.3\" font-family=\"Times New Roman,serif\" font-size=\"14.00\">g</text>\n",
       "</g>\n",
       "<!-- e&#45;&gt;g -->\n",
       "<g id=\"edge5\" class=\"edge\">\n",
       "<title>e&#45;&gt;g</title>\n",
       "<path fill=\"none\" stroke=\"black\" d=\"M104.37,-175.41C113.72,-162.59 127.12,-144.22 137.79,-129.6\"/>\n",
       "<polygon fill=\"black\" stroke=\"black\" points=\"140.63,-131.63 143.7,-121.49 134.98,-127.51 140.63,-131.63\"/>\n",
       "<text text-anchor=\"middle\" x=\"130.5\" y=\"-144.8\" font-family=\"Times New Roman,serif\" font-size=\"14.00\">5</text>\n",
       "</g>\n",
       "<!-- c -->\n",
       "<g id=\"node2\" class=\"node\">\n",
       "<title>c</title>\n",
       "<ellipse fill=\"#b2dfee\" stroke=\"black\" cx=\"129\" cy=\"-279\" rx=\"27\" ry=\"18\"/>\n",
       "<text text-anchor=\"middle\" x=\"129\" y=\"-275.3\" font-family=\"Times New Roman,serif\" font-size=\"14.00\">c</text>\n",
       "</g>\n",
       "<!-- c&#45;&gt;e -->\n",
       "<g id=\"edge2\" class=\"edge\">\n",
       "<title>c&#45;&gt;e</title>\n",
       "<path fill=\"none\" stroke=\"black\" d=\"M121.89,-261.21C116.78,-249.14 109.79,-232.64 103.97,-218.89\"/>\n",
       "<polygon fill=\"black\" stroke=\"black\" points=\"107.1,-217.31 99.98,-209.47 100.65,-220.04 107.1,-217.31\"/>\n",
       "<text text-anchor=\"middle\" x=\"116.5\" y=\"-231.8\" font-family=\"Times New Roman,serif\" font-size=\"14.00\">0</text>\n",
       "</g>\n",
       "<!-- b -->\n",
       "<g id=\"node8\" class=\"node\">\n",
       "<title>b</title>\n",
       "<ellipse fill=\"#b2dfee\" stroke=\"black\" cx=\"175\" cy=\"-192\" rx=\"27\" ry=\"18\"/>\n",
       "<text text-anchor=\"middle\" x=\"175\" y=\"-188.3\" font-family=\"Times New Roman,serif\" font-size=\"14.00\">b</text>\n",
       "</g>\n",
       "<!-- c&#45;&gt;b -->\n",
       "<g id=\"edge6\" class=\"edge\">\n",
       "<title>c&#45;&gt;b</title>\n",
       "<path fill=\"none\" stroke=\"black\" d=\"M137.87,-261.61C144.53,-249.3 153.77,-232.23 161.37,-218.19\"/>\n",
       "<polygon fill=\"black\" stroke=\"black\" points=\"164.63,-219.51 166.31,-209.05 158.48,-216.18 164.63,-219.51\"/>\n",
       "<text text-anchor=\"middle\" x=\"157.5\" y=\"-231.8\" font-family=\"Times New Roman,serif\" font-size=\"14.00\">2</text>\n",
       "</g>\n",
       "<!-- a -->\n",
       "<g id=\"node5\" class=\"node\">\n",
       "<title>a</title>\n",
       "<ellipse fill=\"#b2dfee\" stroke=\"black\" cx=\"227\" cy=\"-105\" rx=\"27\" ry=\"18\"/>\n",
       "<text text-anchor=\"middle\" x=\"227\" y=\"-101.3\" font-family=\"Times New Roman,serif\" font-size=\"14.00\">a</text>\n",
       "</g>\n",
       "<!-- a&#45;&gt;d -->\n",
       "<g id=\"edge7\" class=\"edge\">\n",
       "<title>a&#45;&gt;d</title>\n",
       "<path fill=\"none\" stroke=\"black\" d=\"M205.76,-93.76C200.93,-91.49 195.8,-89.13 191,-87 145.67,-66.91 92.55,-45.22 59.34,-31.87\"/>\n",
       "<polygon fill=\"black\" stroke=\"black\" points=\"60.28,-28.48 49.7,-28.01 57.67,-34.98 60.28,-28.48\"/>\n",
       "<text text-anchor=\"middle\" x=\"149.5\" y=\"-57.8\" font-family=\"Times New Roman,serif\" font-size=\"14.00\">3</text>\n",
       "</g>\n",
       "<!-- ą -->\n",
       "<g id=\"node7\" class=\"node\">\n",
       "<title>ą</title>\n",
       "<ellipse fill=\"#b2dfee\" stroke=\"black\" cx=\"201\" cy=\"-279\" rx=\"27\" ry=\"18\"/>\n",
       "<text text-anchor=\"middle\" x=\"201\" y=\"-275.3\" font-family=\"Times New Roman,serif\" font-size=\"14.00\">ą</text>\n",
       "</g>\n",
       "<!-- b&#45;&gt;a -->\n",
       "<g id=\"edge3\" class=\"edge\">\n",
       "<title>b&#45;&gt;a</title>\n",
       "<path fill=\"none\" stroke=\"black\" d=\"M184.78,-175.01C192.41,-162.55 203.13,-145.01 211.87,-130.74\"/>\n",
       "<polygon fill=\"black\" stroke=\"black\" points=\"215.03,-132.27 217.26,-121.92 209.06,-128.62 215.03,-132.27\"/>\n",
       "<text text-anchor=\"middle\" x=\"207.5\" y=\"-144.8\" font-family=\"Times New Roman,serif\" font-size=\"14.00\">1</text>\n",
       "</g>\n",
       "</g>\n",
       "</svg>\n"
      ],
      "text/plain": [
       "<graphviz.graphs.Digraph at 0x25df1e4e880>"
      ]
     },
     "execution_count": 11,
     "metadata": {},
     "output_type": "execute_result"
    }
   ],
   "source": [
    "a.visualize()"
   ]
  },
  {
   "cell_type": "code",
   "execution_count": 12,
   "id": "baac247b-d36e-4f39-9888-d2c86766e5d9",
   "metadata": {},
   "outputs": [
    {
     "data": {
      "text/plain": [
       "['e', 'd']"
      ]
     },
     "execution_count": 12,
     "metadata": {},
     "output_type": "execute_result"
    }
   ],
   "source": [
    "a.find_path('e', 'd')"
   ]
  },
  {
   "cell_type": "markdown",
   "id": "08ade510-f5c3-462d-8d0e-3c8494f2924a",
   "metadata": {},
   "source": [
    "-----------------------"
   ]
  },
  {
   "cell_type": "markdown",
   "id": "48a61662-6d0f-4e32-84bf-5161e1af8016",
   "metadata": {
    "tags": []
   },
   "source": [
    "# Task 5"
   ]
  },
  {
   "cell_type": "markdown",
   "id": "33abfb33-9c67-45a9-a209-91577470785a",
   "metadata": {
    "tags": []
   },
   "source": [
    "_**Optimal paths between the nodes**_"
   ]
  },
  {
   "cell_type": "markdown",
   "id": "a0844299-e58e-44b2-9352-d8a8b3eb63a9",
   "metadata": {},
   "source": [
    "-----------------------"
   ]
  },
  {
   "cell_type": "code",
   "execution_count": 13,
   "id": "a18c35e1-f7e7-4134-9bef-9ea2f445ba04",
   "metadata": {},
   "outputs": [],
   "source": [
    "class GraphPaths(GraphTopo):\n",
    "    # def topo_sort(self):\n",
    "    #     if not self.directed:\n",
    "    #         raise Exception(\"Undirected graph cannot be sorted topologically.\")\n",
    "    #     self._reset_hdata()\n",
    "    #     visit_times = dict()\n",
    "    #     for node in self.nodes.values():\n",
    "    #         if node.color == \"w\":\n",
    "    #             self._mark_dfs(node)\n",
    "    #     if self._has_cycles:\n",
    "    #         raise Exception(\"Graph with cycles cannot be sorted topologically.\")\n",
    "    #     for node in self.nodes.values():\n",
    "    #         visit_times[node.fin] = node\n",
    "    #     sorted_visits = sorted(visit_times.items(), reverse=True)\n",
    "    #     sorted_nodes = [tup[1] for tup in sorted_visits]\n",
    "    #     return sorted_nodes\n",
    "\n",
    "    def opt_paths(self, start_key: Any):\n",
    "        pass"
   ]
  },
  {
   "cell_type": "code",
   "execution_count": null,
   "id": "ff3cdf27-a7ad-4907-8efe-da73aa726e8e",
   "metadata": {},
   "outputs": [],
   "source": []
  },
  {
   "cell_type": "code",
   "execution_count": null,
   "id": "9e75c5f2-b1d0-4841-8c47-030653b78f16",
   "metadata": {},
   "outputs": [],
   "source": []
  },
  {
   "cell_type": "code",
   "execution_count": 14,
   "id": "00652345-d88d-4d02-bf34-c63d8e901c22",
   "metadata": {},
   "outputs": [],
   "source": [
    "class Graph(GraphPaths):\n",
    "    pass"
   ]
  },
  {
   "cell_type": "markdown",
   "id": "175c3fc5-c4f2-4461-ab95-3091ddb094bd",
   "metadata": {},
   "source": [
    "-----------------------"
   ]
  },
  {
   "cell_type": "markdown",
   "id": "b325656b-a397-497a-b9dc-0584d7977b1a",
   "metadata": {
    "tags": []
   },
   "source": [
    "# Task 6"
   ]
  },
  {
   "cell_type": "markdown",
   "id": "a5505972-9d0a-4982-9212-cf1928c9072b",
   "metadata": {
    "tags": []
   },
   "source": [
    "_**\"Missionaries and cannibals\" problem**_"
   ]
  },
  {
   "cell_type": "markdown",
   "id": "68bae7a2-39e2-4892-b6e2-53dd45aac70e",
   "metadata": {},
   "source": [
    "-----------------------"
   ]
  },
  {
   "cell_type": "code",
   "execution_count": null,
   "id": "11268e7a-5108-4547-9753-a17cb2225b03",
   "metadata": {},
   "outputs": [],
   "source": []
  },
  {
   "cell_type": "code",
   "execution_count": null,
   "id": "435371c1-9f49-4213-8890-bae33526563b",
   "metadata": {},
   "outputs": [],
   "source": []
  },
  {
   "cell_type": "markdown",
   "id": "4396b051-5a8e-4ea8-82dd-02e82e0e5472",
   "metadata": {},
   "source": [
    "-----------------------"
   ]
  },
  {
   "cell_type": "markdown",
   "id": "df73b8bd-9ed7-4601-83bd-5e6258238a4a",
   "metadata": {
    "tags": []
   },
   "source": [
    "# Task 7"
   ]
  },
  {
   "cell_type": "markdown",
   "id": "144e88f2-c93f-4c86-b851-f043842045d1",
   "metadata": {
    "tags": []
   },
   "source": [
    "_**\"Water in buckets\" problem**_"
   ]
  },
  {
   "cell_type": "markdown",
   "id": "bf66c87a-133a-4e61-800b-38693eaf4cec",
   "metadata": {},
   "source": [
    "-----------------------"
   ]
  },
  {
   "cell_type": "code",
   "execution_count": 49,
   "id": "7e89d703-b52e-457b-9ef7-b3b1b0d7e999",
   "metadata": {},
   "outputs": [],
   "source": [
    "class TwoBucketSet:\n",
    "    def __init__(self, left: int, right: int, left_max: int, right_max: int):\n",
    "        if not all(\n",
    "            map(lambda v: isinstance(v, int), [left, right, left_max, right_max])\n",
    "        ):\n",
    "            raise TypeError(\"Volumes have to be integers.\")\n",
    "        if 0 <= left <= left_max and 0 <= right <= right_max:\n",
    "            self._left = left\n",
    "            self._right = right\n",
    "            self._left_max = left_max\n",
    "            self._right_max = right_max\n",
    "        else:\n",
    "            raise Exception(\"Invalid volumes.\")\n",
    "\n",
    "    def fill_left(self) -> Optional[TwoBucketSet]:\n",
    "        if self._left != self._left_max:\n",
    "            return TwoBucketSet(\n",
    "                self._left_max, self._right, self._left_max, self._right_max\n",
    "            )\n",
    "        else:\n",
    "            return None\n",
    "\n",
    "    def fill_right(self) -> Optional[TwoBucketSet]:\n",
    "        if self._right != self._right_max:\n",
    "            return TwoBucketSet(\n",
    "                self._left, self._right_max, self._left_max, self._right_max\n",
    "            )\n",
    "        else:\n",
    "            return None\n",
    "\n",
    "    def spill_left(self) -> Optional[TwoBucketSet]:\n",
    "        if self._left != 0:\n",
    "            return TwoBucketSet(0, self._right, self._left_max, self._right_max)\n",
    "        else:\n",
    "            return None\n",
    "\n",
    "    def spill_right(self) -> Optional[TwoBucketSet]:\n",
    "        if self._right != 0:\n",
    "            return TwoBucketSet(self._left, 0, self._left_max, self._right_max)\n",
    "        else:\n",
    "            return None\n",
    "\n",
    "    def pour_to_left(self) -> Optional[TwoBucketSet]:\n",
    "        left_diff = self._left_max - self._left\n",
    "        if left_diff and self._right:\n",
    "            poured = min(left_diff, self._right)\n",
    "            new_left = self._left + poured\n",
    "            new_right = self._right - poured\n",
    "            return TwoBucketSet(new_left, new_right, self._left_max, self._right_max)\n",
    "        else:\n",
    "            return None\n",
    "\n",
    "    def pour_to_right(self) -> Optional[TwoBucketSet]:\n",
    "        right_diff = self._right_max - self._right\n",
    "        if right_diff and self._left:\n",
    "            poured = min(right_diff, self._left)\n",
    "            new_left = self._left - poured\n",
    "            new_right = self._right + poured\n",
    "            return TwoBucketSet(new_left, new_right, self._left_max, self._right_max)\n",
    "        else:\n",
    "            return None\n",
    "\n",
    "    def do_actions(self):\n",
    "        moves = [\n",
    "            self.fill_left(),\n",
    "            self.fill_right(),\n",
    "            self.spill_left(),\n",
    "            self.spill_right(),\n",
    "            self.pour_to_left(),\n",
    "            self.pour_to_right(),\n",
    "        ]\n",
    "        legal_moves = list(filter(None, moves))\n",
    "        return legal_moves\n",
    "\n",
    "    def total_vol(self) -> int:\n",
    "        return self._left + self._right\n",
    "\n",
    "    def __str__(self) -> str:\n",
    "        return \", \".join(map(str, [self._left, self._right]))\n",
    "\n",
    "    def __repr__(self) -> str:\n",
    "        return \"TwoBucketSet(({l}, {r}), of({lm}, {rm}))\".format(\n",
    "            l=str(self._left),\n",
    "            r=str(self._right),\n",
    "            lm=str(self._left_max),\n",
    "            rm=str(self._right_max),\n",
    "        )\n",
    "\n",
    "    def __eq__(self, other):\n",
    "        if type(other) is type(self):\n",
    "            condits = [\n",
    "                self._left == other._left,\n",
    "                self._right == other._right,\n",
    "                self._left_max == other._left_max,\n",
    "                self._right_max == other._right_max,\n",
    "            ]\n",
    "            return all(condits)\n",
    "        else:\n",
    "            return False\n",
    "\n",
    "    def __hash__(self):\n",
    "        return hash((self._left, self._right, self._left_max, self._right_max))"
   ]
  },
  {
   "cell_type": "code",
   "execution_count": 57,
   "id": "5ec85a54-e60e-4791-8bd4-ec8e542f3259",
   "metadata": {},
   "outputs": [],
   "source": [
    "MAX_VOL_A = 3\n",
    "MAX_VOL_B = 4\n",
    "DES_VOL = 2"
   ]
  },
  {
   "cell_type": "code",
   "execution_count": 58,
   "id": "aadedd72-37aa-4e71-8aff-eada4f784b4d",
   "metadata": {},
   "outputs": [],
   "source": [
    "def bucket_build_graph(max_vol_a, max_vol_b):\n",
    "    graph = Graph()\n",
    "    init_condit = TwoBucketSet(0, 0, max_vol_a, max_vol_b)\n",
    "    graph.add_node(init_condit)\n",
    "    def fff(curr_state):\n",
    "        new_states = curr_state.do_actions()\n",
    "        for state in new_states:\n",
    "            flag = not (state in graph.get_nodes())\n",
    "            graph.add_edge(curr_state, state, 1)\n",
    "            if flag:\n",
    "                \n",
    "                fff(state)\n",
    "            \n",
    "\n",
    "    fff(init_condit)\n",
    "    \n",
    "    return graph"
   ]
  },
  {
   "cell_type": "code",
   "execution_count": 62,
   "id": "565c5c8f-bb8e-409b-b8fb-5fba5bca117d",
   "metadata": {},
   "outputs": [
    {
     "data": {
      "text/plain": [
       "[TwoBucketSet((0, 0), of(3, 4)),\n",
       " TwoBucketSet((3, 0), of(3, 4)),\n",
       " TwoBucketSet((0, 3), of(3, 4)),\n",
       " TwoBucketSet((3, 3), of(3, 4)),\n",
       " TwoBucketSet((2, 4), of(3, 4)),\n",
       " TwoBucketSet((2, 0), of(3, 4))]"
      ]
     },
     "execution_count": 62,
     "metadata": {},
     "output_type": "execute_result"
    }
   ],
   "source": [
    "ff = bucket_build_graph(MAX_VOL_A, MAX_VOL_B)\n",
    "ff.visualize()\n",
    "\n",
    "#### FIND ALL OPTIONS FOR TOTAL 2 L (des vol) \n",
    "### Possible connections weighting as a sign of operation\n",
    "\n",
    "ff.find_path(TwoBucketSet(0,0,MAX_VOL_A, MAX_VOL_B), TwoBucketSet(2,0,MAX_VOL_A, MAX_VOL_B))"
   ]
  },
  {
   "cell_type": "markdown",
   "id": "15a5748e-e1f2-4a12-8bee-bdd7e1de6f38",
   "metadata": {},
   "source": [
    "-----------------------"
   ]
  },
  {
   "cell_type": "markdown",
   "id": "6f4fc1d4-46e6-4178-9aa5-6501d4bd8a5f",
   "metadata": {
    "tags": []
   },
   "source": [
    "# References"
   ]
  },
  {
   "cell_type": "markdown",
   "id": "78cfe863-03ea-4a39-887e-5bdddeaaa94d",
   "metadata": {},
   "source": [
    "-----------------------"
   ]
  },
  {
   "cell_type": "markdown",
   "id": "eddf232a-4010-4bf8-9434-91db13c585a8",
   "metadata": {},
   "source": [
    "<a id=\"ref1\">[1]</a> J. Szwabiński, *Wykład 10 - Grafy i podstawowe algorytmy grafowe*,  *Algorytmy i struktury danych*, p. 2-16. [accessed: 24.01.2022]. Link: http://prac.im.pwr.wroc.pl/~szwabin/assets/algo/lectures/10.pdf."
   ]
  },
  {
   "cell_type": "markdown",
   "id": "ac797673-76c5-4fe5-a335-336ea5ef5a1a",
   "metadata": {},
   "source": [
    "-----------------------"
   ]
  }
 ],
 "metadata": {
  "kernelspec": {
   "display_name": "Python 3 (ipykernel)",
   "language": "python",
   "name": "python3"
  },
  "language_info": {
   "codemirror_mode": {
    "name": "ipython",
    "version": 3
   },
   "file_extension": ".py",
   "mimetype": "text/x-python",
   "name": "python",
   "nbconvert_exporter": "python",
   "pygments_lexer": "ipython3",
   "version": "3.9.7"
  }
 },
 "nbformat": 4,
 "nbformat_minor": 5
}
